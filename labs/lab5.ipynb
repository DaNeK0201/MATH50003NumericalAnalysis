{
 "cells": [
  {
   "cell_type": "markdown",
   "metadata": {},
   "source": [
    "# MATH50003 (2024–25)\n",
    "# Lab 5: III.2 LU Factorisation and III.3 Cholesky Factorisation"
   ]
  },
  {
   "cell_type": "markdown",
   "metadata": {},
   "source": [
    "In this lab we explore using LU, PLU and Cholesky factorisations, and\n",
    "implement algorithms for computing a Cholesky factorisation. We explore\n",
    "stability properties of these different factorisations, and see that the\n",
    "Cholesky factorisation is a robust way of determining if a matrix is symmetric\n",
    "postive definite."
   ]
  },
  {
   "cell_type": "markdown",
   "metadata": {},
   "source": [
    "**Learning Outcomes**\n",
    "\n",
    "Mathematical knowledge:\n",
    "\n",
    "1. LU and PLU factorisations\n",
    "2. Cholesky and reverse Cholesky factorisations, including for banded matrices."
   ]
  },
  {
   "cell_type": "markdown",
   "metadata": {},
   "source": [
    "Coding knowledge:\n",
    "\n",
    "1. Using the `lu` and `cholesky` functions."
   ]
  },
  {
   "cell_type": "markdown",
   "metadata": {},
   "source": [
    "We load the following packages:"
   ]
  },
  {
   "cell_type": "code",
   "execution_count": 1,
   "metadata": {},
   "outputs": [],
   "source": [
    "using LinearAlgebra, Plots, Test"
   ]
  },
  {
   "cell_type": "markdown",
   "metadata": {},
   "source": [
    "### III.2 LU and PLU Factorisations"
   ]
  },
  {
   "cell_type": "markdown",
   "metadata": {},
   "source": [
    "LU, PLU and Cholesky factorisations are closely related\n",
    "matrix factorisations that reduce a square matrix to a product of\n",
    "lower and upper triangular matrices, possibly with a permutation matrix.\n",
    "We will only focus on the practical usage of LU and PLU, without digging into the\n",
    "details of implementation."
   ]
  },
  {
   "cell_type": "markdown",
   "metadata": {},
   "source": [
    "### III.2.1 LU Factorisation"
   ]
  },
  {
   "cell_type": "markdown",
   "metadata": {},
   "source": [
    "If $A ∈ 𝔽^{n × n}$ is a square matrix where $𝔽$ is a field ($ℝ$ or $ℂ$)\n",
    "then we can sometimes find lower and upper triangular matrices $L,U ∈ 𝔽^{n × n}$ such that\n",
    "$$\n",
    "A = LU.\n",
    "$$\n",
    "This is equivalent to Gaussian elimination but we will only focus on practical usage in this lab.\n",
    "This factorisation can be computed using the `lu` function, but as the default is a PLU factorisation we add a flag\n",
    "telling it not to use pivoting/permutations:"
   ]
  },
  {
   "cell_type": "code",
   "execution_count": 17,
   "metadata": {},
   "outputs": [
    {
     "data": {
      "text/plain": [
       "LU{Float64, Matrix{Float64}, Vector{Int64}}\n",
       "L factor:\n",
       "3×3 Matrix{Float64}:\n",
       " 1.0  0.0  0.0\n",
       " 2.0  1.0  0.0\n",
       " 1.0  1.5  1.0\n",
       "U factor:\n",
       "3×3 Matrix{Float64}:\n",
       " 1.0  1.0   1.0\n",
       " 0.0  2.0   6.0\n",
       " 0.0  0.0  -1.0"
      ]
     },
     "execution_count": 17,
     "metadata": {},
     "output_type": "execute_result"
    }
   ],
   "source": [
    "A = [1.0 1 1;\n",
    "     2   4 8;\n",
    "     1   4 9]\n",
    "\n",
    "L,U = lu(A, NoPivot()) # NoPivot is a flag that tells lu to not use permutations"
   ]
  },
  {
   "cell_type": "markdown",
   "metadata": {},
   "source": [
    "This matches what we derived by hand in the notes and indeed:"
   ]
  },
  {
   "cell_type": "code",
   "execution_count": 3,
   "metadata": {},
   "outputs": [
    {
     "data": {
      "text/plain": [
       "\u001b[32m\u001b[1mTest Passed\u001b[22m\u001b[39m"
      ]
     },
     "execution_count": 3,
     "metadata": {},
     "output_type": "execute_result"
    }
   ],
   "source": [
    "@test A ≈ L*U"
   ]
  },
  {
   "cell_type": "markdown",
   "metadata": {},
   "source": [
    "We can use an LU factorisation to reduce solving a linear system to inverting triangular matrices:"
   ]
  },
  {
   "cell_type": "code",
   "execution_count": 4,
   "metadata": {},
   "outputs": [
    {
     "data": {
      "text/plain": [
       "\u001b[32m\u001b[1mTest Passed\u001b[22m\u001b[39m"
      ]
     },
     "execution_count": 4,
     "metadata": {},
     "output_type": "execute_result"
    }
   ],
   "source": [
    "b = randn(3)\n",
    "c = L \\ b # computed using forward elimination (even though L is a Matrix, \\ detects it is lower triangular)\n",
    "x = U \\ c # computed using back substitution\n",
    "@test A \\ b ≈ x"
   ]
  },
  {
   "cell_type": "markdown",
   "metadata": {},
   "source": [
    "If a matrix has a zero on a pivot we know by equivalence to Gaussian elimination that an LU factorisation\n",
    "does not exist:"
   ]
  },
  {
   "cell_type": "code",
   "execution_count": 5,
   "metadata": {},
   "outputs": [
    {
     "ename": "LoadError",
     "evalue": "ZeroPivotException: factorization encountered one or more zero pivots. Consider switching to a pivoted LU factorization.",
     "output_type": "error",
     "traceback": [
      "ZeroPivotException: factorization encountered one or more zero pivots. Consider switching to a pivoted LU factorization.",
      "",
      "Stacktrace:",
      " [1] checknozeropivot",
      "   @ /Applications/Julia-1.11.app/Contents/Resources/julia/share/julia/stdlib/v1.11/LinearAlgebra/src/factorization.jl:70 [inlined]",
      " [2] _check_lu_success",
      "   @ /Applications/Julia-1.11.app/Contents/Resources/julia/share/julia/stdlib/v1.11/LinearAlgebra/src/lu.jl:82 [inlined]",
      " [3] generic_lufact!(A::Matrix{Float64}, pivot::NoPivot; check::Bool, allowsingular::Bool)",
      "   @ LinearAlgebra /Applications/Julia-1.11.app/Contents/Resources/julia/share/julia/stdlib/v1.11/LinearAlgebra/src/lu.jl:214",
      " [4] generic_lufact!",
      "   @ /Applications/Julia-1.11.app/Contents/Resources/julia/share/julia/stdlib/v1.11/LinearAlgebra/src/lu.jl:152 [inlined]",
      " [5] lu!",
      "   @ /Applications/Julia-1.11.app/Contents/Resources/julia/share/julia/stdlib/v1.11/LinearAlgebra/src/lu.jl:151 [inlined]",
      " [6] _lu",
      "   @ /Applications/Julia-1.11.app/Contents/Resources/julia/share/julia/stdlib/v1.11/LinearAlgebra/src/lu.jl:347 [inlined]",
      " [7] lu(A::Matrix{Float64}, args::NoPivot; kwargs::@Kwargs{})",
      "   @ LinearAlgebra /Applications/Julia-1.11.app/Contents/Resources/julia/share/julia/stdlib/v1.11/LinearAlgebra/src/lu.jl:341",
      " [8] lu(A::Matrix{Float64}, args::NoPivot)",
      "   @ LinearAlgebra /Applications/Julia-1.11.app/Contents/Resources/julia/share/julia/stdlib/v1.11/LinearAlgebra/src/lu.jl:341",
      " [9] top-level scope",
      "   @ In[5]:2"
     ]
    }
   ],
   "source": [
    "A[1,1] = 0\n",
    "lu(A, NoPivot()) # throws an error"
   ]
  },
  {
   "cell_type": "markdown",
   "metadata": {},
   "source": [
    "But even if it has a very small but non-zero entry we get huge errors:"
   ]
  },
  {
   "cell_type": "code",
   "execution_count": 6,
   "metadata": {},
   "outputs": [
    {
     "data": {
      "text/plain": [
       "LU{Float64, Matrix{Float64}, Vector{Int64}}\n",
       "L factor:\n",
       "3×3 Matrix{Float64}:\n",
       " 1.0     0.0  0.0\n",
       " 2.0e14  1.0  0.0\n",
       " 1.0e14  0.5  1.0\n",
       "U factor:\n",
       "3×3 Matrix{Float64}:\n",
       " 1.0e-14   1.0      1.0\n",
       " 0.0      -2.0e14  -2.0e14\n",
       " 0.0       0.0      3.0"
      ]
     },
     "execution_count": 6,
     "metadata": {},
     "output_type": "execute_result"
    }
   ],
   "source": [
    "A[1,1] = 1E-14\n",
    "L,U = lu(A, NoPivot()) # Succeeds but suddenly U is on order of 2E14!"
   ]
  },
  {
   "cell_type": "code",
   "execution_count": 7,
   "metadata": {},
   "outputs": [
    {
     "data": {
      "text/plain": [
       "0.013305328030254839"
      ]
     },
     "execution_count": 7,
     "metadata": {},
     "output_type": "execute_result"
    }
   ],
   "source": [
    "norm(A \\ b - U\\(L\\b)) # Very large error! A \\ b uses pivoting now."
   ]
  },
  {
   "cell_type": "markdown",
   "metadata": {},
   "source": [
    "**WARNING** The parantheses are important: algebra is left-associative so had we written `U\\L\\b` this would have been interpreted as\n",
    "`(U\\L) \\ b` which would have meant `inv(inv(U)*L)*b == L \\ (U*b)`."
   ]
  },
  {
   "cell_type": "markdown",
   "metadata": {},
   "source": [
    "-----"
   ]
  },
  {
   "cell_type": "markdown",
   "metadata": {},
   "source": [
    "**Problem 1** For `A` defined above, consider setting  `A[1,1] = ε` for `ε = 10.0 ^ (-k)` for `k = 0,…,14`\n",
    "with the right-hand side `b = [1,2,3]`.\n",
    "Plot, scaling the $y$-axis logarithmically, the growth rate in the error of using LU compared to `\\`.\n",
    "Make a conjecture on how the error grows as $k → ∞$.\n",
    "Hint: you can either allocate a vector of errors that is populated in a for-loop or write a simple comprehension."
   ]
  },
  {
   "cell_type": "code",
   "execution_count": 29,
   "metadata": {},
   "outputs": [
    {
     "data": {
      "image/png": "[encoded data removed]",
      "image/svg+xml": [
       "<?xml version=\"1.0\" encoding=\"utf-8\"?>\n",
       "<svg xmlns=\"http://www.w3.org/2000/svg\" xmlns:xlink=\"http://www.w3.org/1999/xlink\" width=\"600\" height=\"400\" viewBox=\"0 0 2400 1600\">\n",
       "<defs>\n",
       "  <clipPath id=\"clip610\">\n",
       "    <rect x=\"0\" y=\"0\" width=\"2400\" height=\"1600\"/>\n",
       "  </clipPath>\n",
       "</defs>\n",
       "<path clip-path=\"url(#clip610)\" d=\"M0 1600 L2400 1600 L2400 0 L0 0  Z\" fill=\"#ffffff\" fill-rule=\"evenodd\" fill-opacity=\"1\"/>\n",
       "<defs>\n",
       "  <clipPath id=\"clip611\">\n",
       "    <rect x=\"480\" y=\"0\" width=\"1681\" height=\"1600\"/>\n",
       "  </clipPath>\n",
       "</defs>\n",
       "<path clip-path=\"url(#clip610)\" d=\"M213.607 1486.45 L2352.76 1486.45 L2352.76 47.2441 L213.607 47.2441  Z\" fill=\"#ffffff\" fill-rule=\"evenodd\" fill-opacity=\"1\"/>\n",
       "<defs>\n",
       "  <clipPath id=\"clip612\">\n",
       "    <rect x=\"213\" y=\"47\" width=\"2140\" height=\"1440\"/>\n",
       "  </clipPath>\n",
       "</defs>\n",
       "<polyline clip-path=\"url(#clip612)\" style=\"stroke:#000000; stroke-linecap:round; stroke-linejoin:round; stroke-width:2; stroke-opacity:0.1; fill:none\" points=\"274.149,1486.45 274.149,47.2441 \"/>\n",
       "<polyline clip-path=\"url(#clip612)\" style=\"stroke:#000000; stroke-linecap:round; stroke-linejoin:round; stroke-width:2; stroke-opacity:0.1; fill:none\" points=\"634.518,1486.45 634.518,47.2441 \"/>\n",
       "<polyline clip-path=\"url(#clip612)\" style=\"stroke:#000000; stroke-linecap:round; stroke-linejoin:round; stroke-width:2; stroke-opacity:0.1; fill:none\" points=\"994.887,1486.45 994.887,47.2441 \"/>\n",
       "<polyline clip-path=\"url(#clip612)\" style=\"stroke:#000000; stroke-linecap:round; stroke-linejoin:round; stroke-width:2; stroke-opacity:0.1; fill:none\" points=\"1355.26,1486.45 1355.26,47.2441 \"/>\n",
       "<polyline clip-path=\"url(#clip612)\" style=\"stroke:#000000; stroke-linecap:round; stroke-linejoin:round; stroke-width:2; stroke-opacity:0.1; fill:none\" points=\"1715.62,1486.45 1715.62,47.2441 \"/>\n",
       "<polyline clip-path=\"url(#clip612)\" style=\"stroke:#000000; stroke-linecap:round; stroke-linejoin:round; stroke-width:2; stroke-opacity:0.1; fill:none\" points=\"2075.99,1486.45 2075.99,47.2441 \"/>\n",
       "<polyline clip-path=\"url(#clip612)\" style=\"stroke:#000000; stroke-linecap:round; stroke-linejoin:round; stroke-width:2; stroke-opacity:0.1; fill:none\" points=\"213.607,1406.68 2352.76,1406.68 \"/>\n",
       "<polyline clip-path=\"url(#clip612)\" style=\"stroke:#000000; stroke-linecap:round; stroke-linejoin:round; stroke-width:2; stroke-opacity:0.1; fill:none\" points=\"213.607,852.73 2352.76,852.73 \"/>\n",
       "<polyline clip-path=\"url(#clip612)\" style=\"stroke:#000000; stroke-linecap:round; stroke-linejoin:round; stroke-width:2; stroke-opacity:0.1; fill:none\" points=\"213.607,298.777 2352.76,298.777 \"/>\n",
       "<polyline clip-path=\"url(#clip610)\" style=\"stroke:#000000; stroke-linecap:round; stroke-linejoin:round; stroke-width:4; stroke-opacity:1; fill:none\" points=\"213.607,1486.45 2352.76,1486.45 \"/>\n",
       "<polyline clip-path=\"url(#clip610)\" style=\"stroke:#000000; stroke-linecap:round; stroke-linejoin:round; stroke-width:4; stroke-opacity:1; fill:none\" points=\"274.149,1486.45 274.149,1467.55 \"/>\n",
       "<polyline clip-path=\"url(#clip610)\" style=\"stroke:#000000; stroke-linecap:round; stroke-linejoin:round; stroke-width:4; stroke-opacity:1; fill:none\" points=\"634.518,1486.45 634.518,1467.55 \"/>\n",
       "<polyline clip-path=\"url(#clip610)\" style=\"stroke:#000000; stroke-linecap:round; stroke-linejoin:round; stroke-width:4; stroke-opacity:1; fill:none\" points=\"994.887,1486.45 994.887,1467.55 \"/>\n",
       "<polyline clip-path=\"url(#clip610)\" style=\"stroke:#000000; stroke-linecap:round; stroke-linejoin:round; stroke-width:4; stroke-opacity:1; fill:none\" points=\"1355.26,1486.45 1355.26,1467.55 \"/>\n",
       "<polyline clip-path=\"url(#clip610)\" style=\"stroke:#000000; stroke-linecap:round; stroke-linejoin:round; stroke-width:4; stroke-opacity:1; fill:none\" points=\"1715.62,1486.45 1715.62,1467.55 \"/>\n",
       "<polyline clip-path=\"url(#clip610)\" style=\"stroke:#000000; stroke-linecap:round; stroke-linejoin:round; stroke-width:4; stroke-opacity:1; fill:none\" points=\"2075.99,1486.45 2075.99,1467.55 \"/>\n",
       "<path clip-path=\"url(#clip610)\" d=\"M251.534 1517.37 Q247.923 1517.37 246.094 1520.93 Q244.288 1524.47 244.288 1531.6 Q244.288 1538.71 246.094 1542.27 Q247.923 1545.82 251.534 1545.82 Q255.168 1545.82 256.974 1542.27 Q258.802 1538.71 258.802 1531.6 Q258.802 1524.47 256.974 1520.93 Q255.168 1517.37 251.534 1517.37 M251.534 1513.66 Q257.344 1513.66 260.399 1518.27 Q263.478 1522.85 263.478 1531.6 Q263.478 1540.33 260.399 1544.94 Q257.344 1549.52 251.534 1549.52 Q245.724 1549.52 242.645 1544.94 Q239.589 1540.33 239.589 1531.6 Q239.589 1522.85 242.645 1518.27 Q245.724 1513.66 251.534 1513.66 Z\" fill=\"#000000\" fill-rule=\"nonzero\" fill-opacity=\"1\" /><path clip-path=\"url(#clip610)\" d=\"M271.696 1542.97 L276.58 1542.97 L276.58 1548.85 L271.696 1548.85 L271.696 1542.97 Z\" fill=\"#000000\" fill-rule=\"nonzero\" fill-opacity=\"1\" /><path clip-path=\"url(#clip610)\" d=\"M296.765 1517.37 Q293.154 1517.37 291.325 1520.93 Q289.52 1524.47 289.52 1531.6 Q289.52 1538.71 291.325 1542.27 Q293.154 1545.82 296.765 1545.82 Q300.399 1545.82 302.205 1542.27 Q304.034 1538.71 304.034 1531.6 Q304.034 1524.47 302.205 1520.93 Q300.399 1517.37 296.765 1517.37 M296.765 1513.66 Q302.575 1513.66 305.631 1518.27 Q308.709 1522.85 308.709 1531.6 Q308.709 1540.33 305.631 1544.94 Q302.575 1549.52 296.765 1549.52 Q290.955 1549.52 287.876 1544.94 Q284.821 1540.33 284.821 1531.6 Q284.821 1522.85 287.876 1518.27 Q290.955 1513.66 296.765 1513.66 Z\" fill=\"#000000\" fill-rule=\"nonzero\" fill-opacity=\"1\" /><path clip-path=\"url(#clip610)\" d=\"M606.254 1544.91 L622.574 1544.91 L622.574 1548.85 L600.629 1548.85 L600.629 1544.91 Q603.291 1542.16 607.875 1537.53 Q612.481 1532.88 613.662 1531.53 Q615.907 1529.01 616.787 1527.27 Q617.689 1525.51 617.689 1523.82 Q617.689 1521.07 615.745 1519.33 Q613.824 1517.6 610.722 1517.6 Q608.523 1517.6 606.069 1518.36 Q603.639 1519.13 600.861 1520.68 L600.861 1515.95 Q603.685 1514.82 606.139 1514.24 Q608.592 1513.66 610.629 1513.66 Q616 1513.66 619.194 1516.35 Q622.389 1519.03 622.389 1523.52 Q622.389 1525.65 621.578 1527.57 Q620.791 1529.47 618.685 1532.07 Q618.106 1532.74 615.004 1535.95 Q611.902 1539.15 606.254 1544.91 Z\" fill=\"#000000\" fill-rule=\"nonzero\" fill-opacity=\"1\" /><path clip-path=\"url(#clip610)\" d=\"M632.388 1542.97 L637.273 1542.97 L637.273 1548.85 L632.388 1548.85 L632.388 1542.97 Z\" fill=\"#000000\" fill-rule=\"nonzero\" fill-opacity=\"1\" /><path clip-path=\"url(#clip610)\" d=\"M647.504 1514.29 L665.861 1514.29 L665.861 1518.22 L651.787 1518.22 L651.787 1526.7 Q652.805 1526.35 653.824 1526.19 Q654.842 1526 655.861 1526 Q661.648 1526 665.027 1529.17 Q668.407 1532.34 668.407 1537.76 Q668.407 1543.34 664.935 1546.44 Q661.462 1549.52 655.143 1549.52 Q652.967 1549.52 650.699 1549.15 Q648.453 1548.78 646.046 1548.04 L646.046 1543.34 Q648.129 1544.47 650.351 1545.03 Q652.574 1545.58 655.05 1545.58 Q659.055 1545.58 661.393 1543.48 Q663.731 1541.37 663.731 1537.76 Q663.731 1534.15 661.393 1532.04 Q659.055 1529.94 655.05 1529.94 Q653.175 1529.94 651.3 1530.35 Q649.449 1530.77 647.504 1531.65 L647.504 1514.29 Z\" fill=\"#000000\" fill-rule=\"nonzero\" fill-opacity=\"1\" /><path clip-path=\"url(#clip610)\" d=\"M962.051 1514.29 L980.408 1514.29 L980.408 1518.22 L966.334 1518.22 L966.334 1526.7 Q967.352 1526.35 968.371 1526.19 Q969.389 1526 970.408 1526 Q976.195 1526 979.574 1529.17 Q982.954 1532.34 982.954 1537.76 Q982.954 1543.34 979.482 1546.44 Q976.01 1549.52 969.69 1549.52 Q967.514 1549.52 965.246 1549.15 Q963 1548.78 960.593 1548.04 L960.593 1543.34 Q962.676 1544.47 964.898 1545.03 Q967.121 1545.58 969.598 1545.58 Q973.602 1545.58 975.94 1543.48 Q978.278 1541.37 978.278 1537.76 Q978.278 1534.15 975.94 1532.04 Q973.602 1529.94 969.598 1529.94 Q967.723 1529.94 965.848 1530.35 Q963.996 1530.77 962.051 1531.65 L962.051 1514.29 Z\" fill=\"#000000\" fill-rule=\"nonzero\" fill-opacity=\"1\" /><path clip-path=\"url(#clip610)\" d=\"M992.167 1542.97 L997.051 1542.97 L997.051 1548.85 L992.167 1548.85 L992.167 1542.97 Z\" fill=\"#000000\" fill-rule=\"nonzero\" fill-opacity=\"1\" /><path clip-path=\"url(#clip610)\" d=\"M1017.24 1517.37 Q1013.63 1517.37 1011.8 1520.93 Q1009.99 1524.47 1009.99 1531.6 Q1009.99 1538.71 1011.8 1542.27 Q1013.63 1545.82 1017.24 1545.82 Q1020.87 1545.82 1022.68 1542.27 Q1024.5 1538.71 1024.5 1531.6 Q1024.5 1524.47 1022.68 1520.93 Q1020.87 1517.37 1017.24 1517.37 M1017.24 1513.66 Q1023.05 1513.66 1026.1 1518.27 Q1029.18 1522.85 1029.18 1531.6 Q1029.18 1540.33 1026.1 1544.94 Q1023.05 1549.52 1017.24 1549.52 Q1011.43 1549.52 1008.35 1544.94 Q1005.29 1540.33 1005.29 1531.6 Q1005.29 1522.85 1008.35 1518.27 Q1011.43 1513.66 1017.24 1513.66 Z\" fill=\"#000000\" fill-rule=\"nonzero\" fill-opacity=\"1\" /><path clip-path=\"url(#clip610)\" d=\"M1321.58 1514.29 L1343.8 1514.29 L1343.8 1516.28 L1331.25 1548.85 L1326.37 1548.85 L1338.17 1518.22 L1321.58 1518.22 L1321.58 1514.29 Z\" fill=\"#000000\" fill-rule=\"nonzero\" fill-opacity=\"1\" /><path clip-path=\"url(#clip610)\" d=\"M1352.92 1542.97 L1357.8 1542.97 L1357.8 1548.85 L1352.92 1548.85 L1352.92 1542.97 Z\" fill=\"#000000\" fill-rule=\"nonzero\" fill-opacity=\"1\" /><path clip-path=\"url(#clip610)\" d=\"M1368.03 1514.29 L1386.39 1514.29 L1386.39 1518.22 L1372.32 1518.22 L1372.32 1526.7 Q1373.33 1526.35 1374.35 1526.19 Q1375.37 1526 1376.39 1526 Q1382.18 1526 1385.56 1529.17 Q1388.94 1532.34 1388.94 1537.76 Q1388.94 1543.34 1385.46 1546.44 Q1381.99 1549.52 1375.67 1549.52 Q1373.5 1549.52 1371.23 1549.15 Q1368.98 1548.78 1366.57 1548.04 L1366.57 1543.34 Q1368.66 1544.47 1370.88 1545.03 Q1373.1 1545.58 1375.58 1545.58 Q1379.58 1545.58 1381.92 1543.48 Q1384.26 1541.37 1384.26 1537.76 Q1384.26 1534.15 1381.92 1532.04 Q1379.58 1529.94 1375.58 1529.94 Q1373.7 1529.94 1371.83 1530.35 Q1369.98 1530.77 1368.03 1531.65 L1368.03 1514.29 Z\" fill=\"#000000\" fill-rule=\"nonzero\" fill-opacity=\"1\" /><path clip-path=\"url(#clip610)\" d=\"M1667.7 1544.91 L1675.33 1544.91 L1675.33 1518.55 L1667.02 1520.21 L1667.02 1515.95 L1675.29 1514.29 L1679.96 1514.29 L1679.96 1544.91 L1687.6 1544.91 L1687.6 1548.85 L1667.7 1548.85 L1667.7 1544.91 Z\" fill=\"#000000\" fill-rule=\"nonzero\" fill-opacity=\"1\" /><path clip-path=\"url(#clip610)\" d=\"M1707.05 1517.37 Q1703.44 1517.37 1701.61 1520.93 Q1699.8 1524.47 1699.8 1531.6 Q1699.8 1538.71 1701.61 1542.27 Q1703.44 1545.82 1707.05 1545.82 Q1710.68 1545.82 1712.49 1542.27 Q1714.32 1538.71 1714.32 1531.6 Q1714.32 1524.47 1712.49 1520.93 Q1710.68 1517.37 1707.05 1517.37 M1707.05 1513.66 Q1712.86 1513.66 1715.91 1518.27 Q1718.99 1522.85 1718.99 1531.6 Q1718.99 1540.33 1715.91 1544.94 Q1712.86 1549.52 1707.05 1549.52 Q1701.24 1549.52 1698.16 1544.94 Q1695.1 1540.33 1695.1 1531.6 Q1695.1 1522.85 1698.16 1518.27 Q1701.24 1513.66 1707.05 1513.66 Z\" fill=\"#000000\" fill-rule=\"nonzero\" fill-opacity=\"1\" /><path clip-path=\"url(#clip610)\" d=\"M1727.21 1542.97 L1732.09 1542.97 L1732.09 1548.85 L1727.21 1548.85 L1727.21 1542.97 Z\" fill=\"#000000\" fill-rule=\"nonzero\" fill-opacity=\"1\" /><path clip-path=\"url(#clip610)\" d=\"M1752.28 1517.37 Q1748.67 1517.37 1746.84 1520.93 Q1745.03 1524.47 1745.03 1531.6 Q1745.03 1538.71 1746.84 1542.27 Q1748.67 1545.82 1752.28 1545.82 Q1755.91 1545.82 1757.72 1542.27 Q1759.55 1538.71 1759.55 1531.6 Q1759.55 1524.47 1757.72 1520.93 Q1755.91 1517.37 1752.28 1517.37 M1752.28 1513.66 Q1758.09 1513.66 1761.14 1518.27 Q1764.22 1522.85 1764.22 1531.6 Q1764.22 1540.33 1761.14 1544.94 Q1758.09 1549.52 1752.28 1549.52 Q1746.47 1549.52 1743.39 1544.94 Q1740.33 1540.33 1740.33 1531.6 Q1740.33 1522.85 1743.39 1518.27 Q1746.47 1513.66 1752.28 1513.66 Z\" fill=\"#000000\" fill-rule=\"nonzero\" fill-opacity=\"1\" /><path clip-path=\"url(#clip610)\" d=\"M2028.56 1544.91 L2036.2 1544.91 L2036.2 1518.55 L2027.89 1520.21 L2027.89 1515.95 L2036.16 1514.29 L2040.83 1514.29 L2040.83 1544.91 L2048.47 1544.91 L2048.47 1548.85 L2028.56 1548.85 L2028.56 1544.91 Z\" fill=\"#000000\" fill-rule=\"nonzero\" fill-opacity=\"1\" /><path clip-path=\"url(#clip610)\" d=\"M2061.94 1544.91 L2078.26 1544.91 L2078.26 1548.85 L2056.32 1548.85 L2056.32 1544.91 Q2058.98 1542.16 2063.56 1537.53 Q2068.17 1532.88 2069.35 1531.53 Q2071.59 1529.01 2072.47 1527.27 Q2073.38 1525.51 2073.38 1523.82 Q2073.38 1521.07 2071.43 1519.33 Q2069.51 1517.6 2066.41 1517.6 Q2064.21 1517.6 2061.76 1518.36 Q2059.33 1519.13 2056.55 1520.68 L2056.55 1515.95 Q2059.37 1514.82 2061.83 1514.24 Q2064.28 1513.66 2066.32 1513.66 Q2071.69 1513.66 2074.88 1516.35 Q2078.08 1519.03 2078.08 1523.52 Q2078.08 1525.65 2077.27 1527.57 Q2076.48 1529.47 2074.37 1532.07 Q2073.79 1532.74 2070.69 1535.95 Q2067.59 1539.15 2061.94 1544.91 Z\" fill=\"#000000\" fill-rule=\"nonzero\" fill-opacity=\"1\" /><path clip-path=\"url(#clip610)\" d=\"M2088.08 1542.97 L2092.96 1542.97 L2092.96 1548.85 L2088.08 1548.85 L2088.08 1542.97 Z\" fill=\"#000000\" fill-rule=\"nonzero\" fill-opacity=\"1\" /><path clip-path=\"url(#clip610)\" d=\"M2103.19 1514.29 L2121.55 1514.29 L2121.55 1518.22 L2107.47 1518.22 L2107.47 1526.7 Q2108.49 1526.35 2109.51 1526.19 Q2110.53 1526 2111.55 1526 Q2117.34 1526 2120.71 1529.17 Q2124.09 1532.34 2124.09 1537.76 Q2124.09 1543.34 2120.62 1546.44 Q2117.15 1549.52 2110.83 1549.52 Q2108.65 1549.52 2106.39 1549.15 Q2104.14 1548.78 2101.73 1548.04 L2101.73 1543.34 Q2103.82 1544.47 2106.04 1545.03 Q2108.26 1545.58 2110.74 1545.58 Q2114.74 1545.58 2117.08 1543.48 Q2119.42 1541.37 2119.42 1537.76 Q2119.42 1534.15 2117.08 1532.04 Q2114.74 1529.94 2110.74 1529.94 Q2108.86 1529.94 2106.99 1530.35 Q2105.14 1530.77 2103.19 1531.65 L2103.19 1514.29 Z\" fill=\"#000000\" fill-rule=\"nonzero\" fill-opacity=\"1\" /><polyline clip-path=\"url(#clip610)\" style=\"stroke:#000000; stroke-linecap:round; stroke-linejoin:round; stroke-width:4; stroke-opacity:1; fill:none\" points=\"213.607,1486.45 213.607,47.2441 \"/>\n",
       "<polyline clip-path=\"url(#clip610)\" style=\"stroke:#000000; stroke-linecap:round; stroke-linejoin:round; stroke-width:4; stroke-opacity:1; fill:none\" points=\"213.607,1406.68 232.505,1406.68 \"/>\n",
       "<polyline clip-path=\"url(#clip610)\" style=\"stroke:#000000; stroke-linecap:round; stroke-linejoin:round; stroke-width:4; stroke-opacity:1; fill:none\" points=\"213.607,852.73 232.505,852.73 \"/>\n",
       "<polyline clip-path=\"url(#clip610)\" style=\"stroke:#000000; stroke-linecap:round; stroke-linejoin:round; stroke-width:4; stroke-opacity:1; fill:none\" points=\"213.607,298.777 232.505,298.777 \"/>\n",
       "<path clip-path=\"url(#clip610)\" d=\"M52.4722 1426.47 L60.111 1426.47 L60.111 1400.11 L51.8009 1401.78 L51.8009 1397.52 L60.0647 1395.85 L64.7406 1395.85 L64.7406 1426.47 L72.3795 1426.47 L72.3795 1430.41 L52.4722 1430.41 L52.4722 1426.47 Z\" fill=\"#000000\" fill-rule=\"nonzero\" fill-opacity=\"1\" /><path clip-path=\"url(#clip610)\" d=\"M91.8238 1398.93 Q88.2127 1398.93 86.384 1402.49 Q84.5785 1406.03 84.5785 1413.16 Q84.5785 1420.27 86.384 1423.84 Q88.2127 1427.38 91.8238 1427.38 Q95.458 1427.38 97.2636 1423.84 Q99.0923 1420.27 99.0923 1413.16 Q99.0923 1406.03 97.2636 1402.49 Q95.458 1398.93 91.8238 1398.93 M91.8238 1395.22 Q97.6339 1395.22 100.689 1399.83 Q103.768 1404.41 103.768 1413.16 Q103.768 1421.89 100.689 1426.5 Q97.6339 1431.08 91.8238 1431.08 Q86.0136 1431.08 82.935 1426.5 Q79.8794 1421.89 79.8794 1413.16 Q79.8794 1404.41 82.935 1399.83 Q86.0136 1395.22 91.8238 1395.22 Z\" fill=\"#000000\" fill-rule=\"nonzero\" fill-opacity=\"1\" /><path clip-path=\"url(#clip610)\" d=\"M103.768 1389.33 L127.88 1389.33 L127.88 1392.52 L103.768 1392.52 L103.768 1389.33 Z\" fill=\"#000000\" fill-rule=\"nonzero\" fill-opacity=\"1\" /><path clip-path=\"url(#clip610)\" d=\"M136.738 1399.8 L142.945 1399.8 L142.945 1378.38 L136.193 1379.73 L136.193 1376.27 L142.907 1374.92 L146.706 1374.92 L146.706 1399.8 L152.913 1399.8 L152.913 1403 L136.738 1403 L136.738 1399.8 Z\" fill=\"#000000\" fill-rule=\"nonzero\" fill-opacity=\"1\" /><path clip-path=\"url(#clip610)\" d=\"M160.624 1374.92 L175.539 1374.92 L175.539 1378.12 L164.103 1378.12 L164.103 1385 Q164.931 1384.72 165.759 1384.59 Q166.586 1384.44 167.414 1384.44 Q172.116 1384.44 174.862 1387.01 Q177.607 1389.59 177.607 1393.99 Q177.607 1398.52 174.786 1401.04 Q171.965 1403.54 166.831 1403.54 Q165.063 1403.54 163.22 1403.24 Q161.395 1402.94 159.439 1402.34 L159.439 1398.52 Q161.132 1399.44 162.937 1399.9 Q164.743 1400.35 166.755 1400.35 Q170.009 1400.35 171.909 1398.64 Q173.808 1396.92 173.808 1393.99 Q173.808 1391.06 171.909 1389.34 Q170.009 1387.63 166.755 1387.63 Q165.232 1387.63 163.709 1387.97 Q162.204 1388.31 160.624 1389.03 L160.624 1374.92 Z\" fill=\"#000000\" fill-rule=\"nonzero\" fill-opacity=\"1\" /><path clip-path=\"url(#clip610)\" d=\"M51.6634 872.522 L59.3023 872.522 L59.3023 846.157 L50.9921 847.823 L50.9921 843.564 L59.256 841.897 L63.9319 841.897 L63.9319 872.522 L71.5707 872.522 L71.5707 876.457 L51.6634 876.457 L51.6634 872.522 Z\" fill=\"#000000\" fill-rule=\"nonzero\" fill-opacity=\"1\" /><path clip-path=\"url(#clip610)\" d=\"M91.0151 844.976 Q87.404 844.976 85.5753 848.541 Q83.7697 852.082 83.7697 859.212 Q83.7697 866.318 85.5753 869.883 Q87.404 873.425 91.0151 873.425 Q94.6493 873.425 96.4548 869.883 Q98.2835 866.318 98.2835 859.212 Q98.2835 852.082 96.4548 848.541 Q94.6493 844.976 91.0151 844.976 M91.0151 841.272 Q96.8252 841.272 99.8808 845.879 Q102.959 850.462 102.959 859.212 Q102.959 867.939 99.8808 872.545 Q96.8252 877.129 91.0151 877.129 Q85.2049 877.129 82.1262 872.545 Q79.0707 867.939 79.0707 859.212 Q79.0707 850.462 82.1262 845.879 Q85.2049 841.272 91.0151 841.272 Z\" fill=\"#000000\" fill-rule=\"nonzero\" fill-opacity=\"1\" /><path clip-path=\"url(#clip610)\" d=\"M102.959 835.374 L127.071 835.374 L127.071 838.571 L102.959 838.571 L102.959 835.374 Z\" fill=\"#000000\" fill-rule=\"nonzero\" fill-opacity=\"1\" /><path clip-path=\"url(#clip610)\" d=\"M135.929 845.85 L142.136 845.85 L142.136 824.428 L135.384 825.782 L135.384 822.321 L142.098 820.967 L145.898 820.967 L145.898 845.85 L152.104 845.85 L152.104 849.047 L135.929 849.047 L135.929 845.85 Z\" fill=\"#000000\" fill-rule=\"nonzero\" fill-opacity=\"1\" /><path clip-path=\"url(#clip610)\" d=\"M167.903 823.468 Q164.969 823.468 163.483 826.365 Q162.016 829.242 162.016 835.035 Q162.016 840.809 163.483 843.705 Q164.969 846.583 167.903 846.583 Q170.855 846.583 172.322 843.705 Q173.808 840.809 173.808 835.035 Q173.808 829.242 172.322 826.365 Q170.855 823.468 167.903 823.468 M167.903 820.459 Q172.623 820.459 175.106 824.202 Q177.607 827.926 177.607 835.035 Q177.607 842.126 175.106 845.868 Q172.623 849.592 167.903 849.592 Q163.182 849.592 160.68 845.868 Q158.198 842.126 158.198 835.035 Q158.198 827.926 160.68 824.202 Q163.182 820.459 167.903 820.459 Z\" fill=\"#000000\" fill-rule=\"nonzero\" fill-opacity=\"1\" /><path clip-path=\"url(#clip610)\" d=\"M76.9787 318.57 L84.6175 318.57 L84.6175 292.204 L76.3074 293.871 L76.3074 289.611 L84.5712 287.945 L89.2471 287.945 L89.2471 318.57 L96.886 318.57 L96.886 322.505 L76.9787 322.505 L76.9787 318.57 Z\" fill=\"#000000\" fill-rule=\"nonzero\" fill-opacity=\"1\" /><path clip-path=\"url(#clip610)\" d=\"M116.33 291.023 Q112.719 291.023 110.891 294.588 Q109.085 298.13 109.085 305.259 Q109.085 312.366 110.891 315.931 Q112.719 319.472 116.33 319.472 Q119.965 319.472 121.77 315.931 Q123.599 312.366 123.599 305.259 Q123.599 298.13 121.77 294.588 Q119.965 291.023 116.33 291.023 M116.33 287.32 Q122.14 287.32 125.196 291.926 Q128.275 296.51 128.275 305.259 Q128.275 313.986 125.196 318.593 Q122.14 323.176 116.33 323.176 Q110.52 323.176 107.441 318.593 Q104.386 313.986 104.386 305.259 Q104.386 296.51 107.441 291.926 Q110.52 287.32 116.33 287.32 Z\" fill=\"#000000\" fill-rule=\"nonzero\" fill-opacity=\"1\" /><path clip-path=\"url(#clip610)\" d=\"M128.275 281.421 L152.386 281.421 L152.386 284.618 L128.275 284.618 L128.275 281.421 Z\" fill=\"#000000\" fill-rule=\"nonzero\" fill-opacity=\"1\" /><path clip-path=\"url(#clip610)\" d=\"M160.624 267.014 L175.539 267.014 L175.539 270.212 L164.103 270.212 L164.103 277.095 Q164.931 276.813 165.759 276.682 Q166.586 276.531 167.414 276.531 Q172.116 276.531 174.862 279.108 Q177.607 281.684 177.607 286.085 Q177.607 290.618 174.786 293.138 Q171.965 295.64 166.831 295.64 Q165.063 295.64 163.22 295.339 Q161.395 295.038 159.439 294.436 L159.439 290.618 Q161.132 291.54 162.937 291.991 Q164.743 292.442 166.755 292.442 Q170.009 292.442 171.909 290.731 Q173.808 289.019 173.808 286.085 Q173.808 283.151 171.909 281.44 Q170.009 279.728 166.755 279.728 Q165.232 279.728 163.709 280.067 Q162.204 280.405 160.624 281.12 L160.624 267.014 Z\" fill=\"#000000\" fill-rule=\"nonzero\" fill-opacity=\"1\" /><polyline clip-path=\"url(#clip612)\" style=\"stroke:#009af9; stroke-linecap:round; stroke-linejoin:round; stroke-width:4; stroke-opacity:1; fill:none\" points=\"418.297,1445.72 562.444,1308.8 706.592,1137.4 850.739,1051.81 994.887,980.211 1139.03,823.989 1283.18,764.625 1427.33,616.51 1571.48,529.86 1715.62,529.513 1859.77,314.626 2003.92,170.093 2148.07,87.9763 2292.21,87.9763 \"/>\n",
       "<path clip-path=\"url(#clip610)\" d=\"M2015.11 198.898 L2281.45 198.898 L2281.45 95.2176 L2015.11 95.2176  Z\" fill=\"#ffffff\" fill-rule=\"evenodd\" fill-opacity=\"1\"/>\n",
       "<polyline clip-path=\"url(#clip610)\" style=\"stroke:#000000; stroke-linecap:round; stroke-linejoin:round; stroke-width:4; stroke-opacity:1; fill:none\" points=\"2015.11,198.898 2281.45,198.898 2281.45,95.2176 2015.11,95.2176 2015.11,198.898 \"/>\n",
       "<polyline clip-path=\"url(#clip610)\" style=\"stroke:#009af9; stroke-linecap:round; stroke-linejoin:round; stroke-width:4; stroke-opacity:1; fill:none\" points=\"2038.87,147.058 2181.48,147.058 \"/>\n",
       "<path clip-path=\"url(#clip610)\" d=\"M2219.09 166.745 Q2217.29 171.375 2215.58 172.787 Q2213.86 174.199 2210.99 174.199 L2207.59 174.199 L2207.59 170.634 L2210.09 170.634 Q2211.85 170.634 2212.82 169.8 Q2213.79 168.967 2214.97 165.865 L2215.74 163.921 L2205.25 138.412 L2209.77 138.412 L2217.87 158.689 L2225.97 138.412 L2230.48 138.412 L2219.09 166.745 Z\" fill=\"#000000\" fill-rule=\"nonzero\" fill-opacity=\"1\" /><path clip-path=\"url(#clip610)\" d=\"M2237.78 160.402 L2245.41 160.402 L2245.41 134.037 L2237.1 135.703 L2237.1 131.444 L2245.37 129.778 L2250.04 129.778 L2250.04 160.402 L2257.68 160.402 L2257.68 164.338 L2237.78 164.338 L2237.78 160.402 Z\" fill=\"#000000\" fill-rule=\"nonzero\" fill-opacity=\"1\" /></svg>\n"
      ],
      "text/html": [
       "<?xml version=\"1.0\" encoding=\"utf-8\"?>\n",
       "<svg xmlns=\"http://www.w3.org/2000/svg\" xmlns:xlink=\"http://www.w3.org/1999/xlink\" width=\"600\" height=\"400\" viewBox=\"0 0 2400 1600\">\n",
       "<defs>\n",
       "  <clipPath id=\"clip660\">\n",
       "    <rect x=\"0\" y=\"0\" width=\"2400\" height=\"1600\"/>\n",
       "  </clipPath>\n",
       "</defs>\n",
       "<path clip-path=\"url(#clip660)\" d=\"M0 1600 L2400 1600 L2400 0 L0 0  Z\" fill=\"#ffffff\" fill-rule=\"evenodd\" fill-opacity=\"1\"/>\n",
       "<defs>\n",
       "  <clipPath id=\"clip661\">\n",
       "    <rect x=\"480\" y=\"0\" width=\"1681\" height=\"1600\"/>\n",
       "  </clipPath>\n",
       "</defs>\n",
       "<path clip-path=\"url(#clip660)\" d=\"M213.607 1486.45 L2352.76 1486.45 L2352.76 47.2441 L213.607 47.2441  Z\" fill=\"#ffffff\" fill-rule=\"evenodd\" fill-opacity=\"1\"/>\n",
       "<defs>\n",
       "  <clipPath id=\"clip662\">\n",
       "    <rect x=\"213\" y=\"47\" width=\"2140\" height=\"1440\"/>\n",
       "  </clipPath>\n",
       "</defs>\n",
       "<polyline clip-path=\"url(#clip662)\" style=\"stroke:#000000; stroke-linecap:round; stroke-linejoin:round; stroke-width:2; stroke-opacity:0.1; fill:none\" points=\"274.149,1486.45 274.149,47.2441 \"/>\n",
       "<polyline clip-path=\"url(#clip662)\" style=\"stroke:#000000; stroke-linecap:round; stroke-linejoin:round; stroke-width:2; stroke-opacity:0.1; fill:none\" points=\"634.518,1486.45 634.518,47.2441 \"/>\n",
       "<polyline clip-path=\"url(#clip662)\" style=\"stroke:#000000; stroke-linecap:round; stroke-linejoin:round; stroke-width:2; stroke-opacity:0.1; fill:none\" points=\"994.887,1486.45 994.887,47.2441 \"/>\n",
       "<polyline clip-path=\"url(#clip662)\" style=\"stroke:#000000; stroke-linecap:round; stroke-linejoin:round; stroke-width:2; stroke-opacity:0.1; fill:none\" points=\"1355.26,1486.45 1355.26,47.2441 \"/>\n",
       "<polyline clip-path=\"url(#clip662)\" style=\"stroke:#000000; stroke-linecap:round; stroke-linejoin:round; stroke-width:2; stroke-opacity:0.1; fill:none\" points=\"1715.62,1486.45 1715.62,47.2441 \"/>\n",
       "<polyline clip-path=\"url(#clip662)\" style=\"stroke:#000000; stroke-linecap:round; stroke-linejoin:round; stroke-width:2; stroke-opacity:0.1; fill:none\" points=\"2075.99,1486.45 2075.99,47.2441 \"/>\n",
       "<polyline clip-path=\"url(#clip662)\" style=\"stroke:#000000; stroke-linecap:round; stroke-linejoin:round; stroke-width:2; stroke-opacity:0.1; fill:none\" points=\"213.607,1406.68 2352.76,1406.68 \"/>\n",
       "<polyline clip-path=\"url(#clip662)\" style=\"stroke:#000000; stroke-linecap:round; stroke-linejoin:round; stroke-width:2; stroke-opacity:0.1; fill:none\" points=\"213.607,852.73 2352.76,852.73 \"/>\n",
       "<polyline clip-path=\"url(#clip662)\" style=\"stroke:#000000; stroke-linecap:round; stroke-linejoin:round; stroke-width:2; stroke-opacity:0.1; fill:none\" points=\"213.607,298.777 2352.76,298.777 \"/>\n",
       "<polyline clip-path=\"url(#clip660)\" style=\"stroke:#000000; stroke-linecap:round; stroke-linejoin:round; stroke-width:4; stroke-opacity:1; fill:none\" points=\"213.607,1486.45 2352.76,1486.45 \"/>\n",
       "<polyline clip-path=\"url(#clip660)\" style=\"stroke:#000000; stroke-linecap:round; stroke-linejoin:round; stroke-width:4; stroke-opacity:1; fill:none\" points=\"274.149,1486.45 274.149,1467.55 \"/>\n",
       "<polyline clip-path=\"url(#clip660)\" style=\"stroke:#000000; stroke-linecap:round; stroke-linejoin:round; stroke-width:4; stroke-opacity:1; fill:none\" points=\"634.518,1486.45 634.518,1467.55 \"/>\n",
       "<polyline clip-path=\"url(#clip660)\" style=\"stroke:#000000; stroke-linecap:round; stroke-linejoin:round; stroke-width:4; stroke-opacity:1; fill:none\" points=\"994.887,1486.45 994.887,1467.55 \"/>\n",
       "<polyline clip-path=\"url(#clip660)\" style=\"stroke:#000000; stroke-linecap:round; stroke-linejoin:round; stroke-width:4; stroke-opacity:1; fill:none\" points=\"1355.26,1486.45 1355.26,1467.55 \"/>\n",
       "<polyline clip-path=\"url(#clip660)\" style=\"stroke:#000000; stroke-linecap:round; stroke-linejoin:round; stroke-width:4; stroke-opacity:1; fill:none\" points=\"1715.62,1486.45 1715.62,1467.55 \"/>\n",
       "<polyline clip-path=\"url(#clip660)\" style=\"stroke:#000000; stroke-linecap:round; stroke-linejoin:round; stroke-width:4; stroke-opacity:1; fill:none\" points=\"2075.99,1486.45 2075.99,1467.55 \"/>\n",
       "<path clip-path=\"url(#clip660)\" d=\"M251.534 1517.37 Q247.923 1517.37 246.094 1520.93 Q244.288 1524.47 244.288 1531.6 Q244.288 1538.71 246.094 1542.27 Q247.923 1545.82 251.534 1545.82 Q255.168 1545.82 256.974 1542.27 Q258.802 1538.71 258.802 1531.6 Q258.802 1524.47 256.974 1520.93 Q255.168 1517.37 251.534 1517.37 M251.534 1513.66 Q257.344 1513.66 260.399 1518.27 Q263.478 1522.85 263.478 1531.6 Q263.478 1540.33 260.399 1544.94 Q257.344 1549.52 251.534 1549.52 Q245.724 1549.52 242.645 1544.94 Q239.589 1540.33 239.589 1531.6 Q239.589 1522.85 242.645 1518.27 Q245.724 1513.66 251.534 1513.66 Z\" fill=\"#000000\" fill-rule=\"nonzero\" fill-opacity=\"1\" /><path clip-path=\"url(#clip660)\" d=\"M271.696 1542.97 L276.58 1542.97 L276.58 1548.85 L271.696 1548.85 L271.696 1542.97 Z\" fill=\"#000000\" fill-rule=\"nonzero\" fill-opacity=\"1\" /><path clip-path=\"url(#clip660)\" d=\"M296.765 1517.37 Q293.154 1517.37 291.325 1520.93 Q289.52 1524.47 289.52 1531.6 Q289.52 1538.71 291.325 1542.27 Q293.154 1545.82 296.765 1545.82 Q300.399 1545.82 302.205 1542.27 Q304.034 1538.71 304.034 1531.6 Q304.034 1524.47 302.205 1520.93 Q300.399 1517.37 296.765 1517.37 M296.765 1513.66 Q302.575 1513.66 305.631 1518.27 Q308.709 1522.85 308.709 1531.6 Q308.709 1540.33 305.631 1544.94 Q302.575 1549.52 296.765 1549.52 Q290.955 1549.52 287.876 1544.94 Q284.821 1540.33 284.821 1531.6 Q284.821 1522.85 287.876 1518.27 Q290.955 1513.66 296.765 1513.66 Z\" fill=\"#000000\" fill-rule=\"nonzero\" fill-opacity=\"1\" /><path clip-path=\"url(#clip660)\" d=\"M606.254 1544.91 L622.574 1544.91 L622.574 1548.85 L600.629 1548.85 L600.629 1544.91 Q603.291 1542.16 607.875 1537.53 Q612.481 1532.88 613.662 1531.53 Q615.907 1529.01 616.787 1527.27 Q617.689 1525.51 617.689 1523.82 Q617.689 1521.07 615.745 1519.33 Q613.824 1517.6 610.722 1517.6 Q608.523 1517.6 606.069 1518.36 Q603.639 1519.13 600.861 1520.68 L600.861 1515.95 Q603.685 1514.82 606.139 1514.24 Q608.592 1513.66 610.629 1513.66 Q616 1513.66 619.194 1516.35 Q622.389 1519.03 622.389 1523.52 Q622.389 1525.65 621.578 1527.57 Q620.791 1529.47 618.685 1532.07 Q618.106 1532.74 615.004 1535.95 Q611.902 1539.15 606.254 1544.91 Z\" fill=\"#000000\" fill-rule=\"nonzero\" fill-opacity=\"1\" /><path clip-path=\"url(#clip660)\" d=\"M632.388 1542.97 L637.273 1542.97 L637.273 1548.85 L632.388 1548.85 L632.388 1542.97 Z\" fill=\"#000000\" fill-rule=\"nonzero\" fill-opacity=\"1\" /><path clip-path=\"url(#clip660)\" d=\"M647.504 1514.29 L665.861 1514.29 L665.861 1518.22 L651.787 1518.22 L651.787 1526.7 Q652.805 1526.35 653.824 1526.19 Q654.842 1526 655.861 1526 Q661.648 1526 665.027 1529.17 Q668.407 1532.34 668.407 1537.76 Q668.407 1543.34 664.935 1546.44 Q661.462 1549.52 655.143 1549.52 Q652.967 1549.52 650.699 1549.15 Q648.453 1548.78 646.046 1548.04 L646.046 1543.34 Q648.129 1544.47 650.351 1545.03 Q652.574 1545.58 655.05 1545.58 Q659.055 1545.58 661.393 1543.48 Q663.731 1541.37 663.731 1537.76 Q663.731 1534.15 661.393 1532.04 Q659.055 1529.94 655.05 1529.94 Q653.175 1529.94 651.3 1530.35 Q649.449 1530.77 647.504 1531.65 L647.504 1514.29 Z\" fill=\"#000000\" fill-rule=\"nonzero\" fill-opacity=\"1\" /><path clip-path=\"url(#clip660)\" d=\"M962.051 1514.29 L980.408 1514.29 L980.408 1518.22 L966.334 1518.22 L966.334 1526.7 Q967.352 1526.35 968.371 1526.19 Q969.389 1526 970.408 1526 Q976.195 1526 979.574 1529.17 Q982.954 1532.34 982.954 1537.76 Q982.954 1543.34 979.482 1546.44 Q976.01 1549.52 969.69 1549.52 Q967.514 1549.52 965.246 1549.15 Q963 1548.78 960.593 1548.04 L960.593 1543.34 Q962.676 1544.47 964.898 1545.03 Q967.121 1545.58 969.598 1545.58 Q973.602 1545.58 975.94 1543.48 Q978.278 1541.37 978.278 1537.76 Q978.278 1534.15 975.94 1532.04 Q973.602 1529.94 969.598 1529.94 Q967.723 1529.94 965.848 1530.35 Q963.996 1530.77 962.051 1531.65 L962.051 1514.29 Z\" fill=\"#000000\" fill-rule=\"nonzero\" fill-opacity=\"1\" /><path clip-path=\"url(#clip660)\" d=\"M992.167 1542.97 L997.051 1542.97 L997.051 1548.85 L992.167 1548.85 L992.167 1542.97 Z\" fill=\"#000000\" fill-rule=\"nonzero\" fill-opacity=\"1\" /><path clip-path=\"url(#clip660)\" d=\"M1017.24 1517.37 Q1013.63 1517.37 1011.8 1520.93 Q1009.99 1524.47 1009.99 1531.6 Q1009.99 1538.71 1011.8 1542.27 Q1013.63 1545.82 1017.24 1545.82 Q1020.87 1545.82 1022.68 1542.27 Q1024.5 1538.71 1024.5 1531.6 Q1024.5 1524.47 1022.68 1520.93 Q1020.87 1517.37 1017.24 1517.37 M1017.24 1513.66 Q1023.05 1513.66 1026.1 1518.27 Q1029.18 1522.85 1029.18 1531.6 Q1029.18 1540.33 1026.1 1544.94 Q1023.05 1549.52 1017.24 1549.52 Q1011.43 1549.52 1008.35 1544.94 Q1005.29 1540.33 1005.29 1531.6 Q1005.29 1522.85 1008.35 1518.27 Q1011.43 1513.66 1017.24 1513.66 Z\" fill=\"#000000\" fill-rule=\"nonzero\" fill-opacity=\"1\" /><path clip-path=\"url(#clip660)\" d=\"M1321.58 1514.29 L1343.8 1514.29 L1343.8 1516.28 L1331.25 1548.85 L1326.37 1548.85 L1338.17 1518.22 L1321.58 1518.22 L1321.58 1514.29 Z\" fill=\"#000000\" fill-rule=\"nonzero\" fill-opacity=\"1\" /><path clip-path=\"url(#clip660)\" d=\"M1352.92 1542.97 L1357.8 1542.97 L1357.8 1548.85 L1352.92 1548.85 L1352.92 1542.97 Z\" fill=\"#000000\" fill-rule=\"nonzero\" fill-opacity=\"1\" /><path clip-path=\"url(#clip660)\" d=\"M1368.03 1514.29 L1386.39 1514.29 L1386.39 1518.22 L1372.32 1518.22 L1372.32 1526.7 Q1373.33 1526.35 1374.35 1526.19 Q1375.37 1526 1376.39 1526 Q1382.18 1526 1385.56 1529.17 Q1388.94 1532.34 1388.94 1537.76 Q1388.94 1543.34 1385.46 1546.44 Q1381.99 1549.52 1375.67 1549.52 Q1373.5 1549.52 1371.23 1549.15 Q1368.98 1548.78 1366.57 1548.04 L1366.57 1543.34 Q1368.66 1544.47 1370.88 1545.03 Q1373.1 1545.58 1375.58 1545.58 Q1379.58 1545.58 1381.92 1543.48 Q1384.26 1541.37 1384.26 1537.76 Q1384.26 1534.15 1381.92 1532.04 Q1379.58 1529.94 1375.58 1529.94 Q1373.7 1529.94 1371.83 1530.35 Q1369.98 1530.77 1368.03 1531.65 L1368.03 1514.29 Z\" fill=\"#000000\" fill-rule=\"nonzero\" fill-opacity=\"1\" /><path clip-path=\"url(#clip660)\" d=\"M1667.7 1544.91 L1675.33 1544.91 L1675.33 1518.55 L1667.02 1520.21 L1667.02 1515.95 L1675.29 1514.29 L1679.96 1514.29 L1679.96 1544.91 L1687.6 1544.91 L1687.6 1548.85 L1667.7 1548.85 L1667.7 1544.91 Z\" fill=\"#000000\" fill-rule=\"nonzero\" fill-opacity=\"1\" /><path clip-path=\"url(#clip660)\" d=\"M1707.05 1517.37 Q1703.44 1517.37 1701.61 1520.93 Q1699.8 1524.47 1699.8 1531.6 Q1699.8 1538.71 1701.61 1542.27 Q1703.44 1545.82 1707.05 1545.82 Q1710.68 1545.82 1712.49 1542.27 Q1714.32 1538.71 1714.32 1531.6 Q1714.32 1524.47 1712.49 1520.93 Q1710.68 1517.37 1707.05 1517.37 M1707.05 1513.66 Q1712.86 1513.66 1715.91 1518.27 Q1718.99 1522.85 1718.99 1531.6 Q1718.99 1540.33 1715.91 1544.94 Q1712.86 1549.52 1707.05 1549.52 Q1701.24 1549.52 1698.16 1544.94 Q1695.1 1540.33 1695.1 1531.6 Q1695.1 1522.85 1698.16 1518.27 Q1701.24 1513.66 1707.05 1513.66 Z\" fill=\"#000000\" fill-rule=\"nonzero\" fill-opacity=\"1\" /><path clip-path=\"url(#clip660)\" d=\"M1727.21 1542.97 L1732.09 1542.97 L1732.09 1548.85 L1727.21 1548.85 L1727.21 1542.97 Z\" fill=\"#000000\" fill-rule=\"nonzero\" fill-opacity=\"1\" /><path clip-path=\"url(#clip660)\" d=\"M1752.28 1517.37 Q1748.67 1517.37 1746.84 1520.93 Q1745.03 1524.47 1745.03 1531.6 Q1745.03 1538.71 1746.84 1542.27 Q1748.67 1545.82 1752.28 1545.82 Q1755.91 1545.82 1757.72 1542.27 Q1759.55 1538.71 1759.55 1531.6 Q1759.55 1524.47 1757.72 1520.93 Q1755.91 1517.37 1752.28 1517.37 M1752.28 1513.66 Q1758.09 1513.66 1761.14 1518.27 Q1764.22 1522.85 1764.22 1531.6 Q1764.22 1540.33 1761.14 1544.94 Q1758.09 1549.52 1752.28 1549.52 Q1746.47 1549.52 1743.39 1544.94 Q1740.33 1540.33 1740.33 1531.6 Q1740.33 1522.85 1743.39 1518.27 Q1746.47 1513.66 1752.28 1513.66 Z\" fill=\"#000000\" fill-rule=\"nonzero\" fill-opacity=\"1\" /><path clip-path=\"url(#clip660)\" d=\"M2028.56 1544.91 L2036.2 1544.91 L2036.2 1518.55 L2027.89 1520.21 L2027.89 1515.95 L2036.16 1514.29 L2040.83 1514.29 L2040.83 1544.91 L2048.47 1544.91 L2048.47 1548.85 L2028.56 1548.85 L2028.56 1544.91 Z\" fill=\"#000000\" fill-rule=\"nonzero\" fill-opacity=\"1\" /><path clip-path=\"url(#clip660)\" d=\"M2061.94 1544.91 L2078.26 1544.91 L2078.26 1548.85 L2056.32 1548.85 L2056.32 1544.91 Q2058.98 1542.16 2063.56 1537.53 Q2068.17 1532.88 2069.35 1531.53 Q2071.59 1529.01 2072.47 1527.27 Q2073.38 1525.51 2073.38 1523.82 Q2073.38 1521.07 2071.43 1519.33 Q2069.51 1517.6 2066.41 1517.6 Q2064.21 1517.6 2061.76 1518.36 Q2059.33 1519.13 2056.55 1520.68 L2056.55 1515.95 Q2059.37 1514.82 2061.83 1514.24 Q2064.28 1513.66 2066.32 1513.66 Q2071.69 1513.66 2074.88 1516.35 Q2078.08 1519.03 2078.08 1523.52 Q2078.08 1525.65 2077.27 1527.57 Q2076.48 1529.47 2074.37 1532.07 Q2073.79 1532.74 2070.69 1535.95 Q2067.59 1539.15 2061.94 1544.91 Z\" fill=\"#000000\" fill-rule=\"nonzero\" fill-opacity=\"1\" /><path clip-path=\"url(#clip660)\" d=\"M2088.08 1542.97 L2092.96 1542.97 L2092.96 1548.85 L2088.08 1548.85 L2088.08 1542.97 Z\" fill=\"#000000\" fill-rule=\"nonzero\" fill-opacity=\"1\" /><path clip-path=\"url(#clip660)\" d=\"M2103.19 1514.29 L2121.55 1514.29 L2121.55 1518.22 L2107.47 1518.22 L2107.47 1526.7 Q2108.49 1526.35 2109.51 1526.19 Q2110.53 1526 2111.55 1526 Q2117.34 1526 2120.71 1529.17 Q2124.09 1532.34 2124.09 1537.76 Q2124.09 1543.34 2120.62 1546.44 Q2117.15 1549.52 2110.83 1549.52 Q2108.65 1549.52 2106.39 1549.15 Q2104.14 1548.78 2101.73 1548.04 L2101.73 1543.34 Q2103.82 1544.47 2106.04 1545.03 Q2108.26 1545.58 2110.74 1545.58 Q2114.74 1545.58 2117.08 1543.48 Q2119.42 1541.37 2119.42 1537.76 Q2119.42 1534.15 2117.08 1532.04 Q2114.74 1529.94 2110.74 1529.94 Q2108.86 1529.94 2106.99 1530.35 Q2105.14 1530.77 2103.19 1531.65 L2103.19 1514.29 Z\" fill=\"#000000\" fill-rule=\"nonzero\" fill-opacity=\"1\" /><polyline clip-path=\"url(#clip660)\" style=\"stroke:#000000; stroke-linecap:round; stroke-linejoin:round; stroke-width:4; stroke-opacity:1; fill:none\" points=\"213.607,1486.45 213.607,47.2441 \"/>\n",
       "<polyline clip-path=\"url(#clip660)\" style=\"stroke:#000000; stroke-linecap:round; stroke-linejoin:round; stroke-width:4; stroke-opacity:1; fill:none\" points=\"213.607,1406.68 232.505,1406.68 \"/>\n",
       "<polyline clip-path=\"url(#clip660)\" style=\"stroke:#000000; stroke-linecap:round; stroke-linejoin:round; stroke-width:4; stroke-opacity:1; fill:none\" points=\"213.607,852.73 232.505,852.73 \"/>\n",
       "<polyline clip-path=\"url(#clip660)\" style=\"stroke:#000000; stroke-linecap:round; stroke-linejoin:round; stroke-width:4; stroke-opacity:1; fill:none\" points=\"213.607,298.777 232.505,298.777 \"/>\n",
       "<path clip-path=\"url(#clip660)\" d=\"M52.4722 1426.47 L60.111 1426.47 L60.111 1400.11 L51.8009 1401.78 L51.8009 1397.52 L60.0647 1395.85 L64.7406 1395.85 L64.7406 1426.47 L72.3795 1426.47 L72.3795 1430.41 L52.4722 1430.41 L52.4722 1426.47 Z\" fill=\"#000000\" fill-rule=\"nonzero\" fill-opacity=\"1\" /><path clip-path=\"url(#clip660)\" d=\"M91.8238 1398.93 Q88.2127 1398.93 86.384 1402.49 Q84.5785 1406.03 84.5785 1413.16 Q84.5785 1420.27 86.384 1423.84 Q88.2127 1427.38 91.8238 1427.38 Q95.458 1427.38 97.2636 1423.84 Q99.0923 1420.27 99.0923 1413.16 Q99.0923 1406.03 97.2636 1402.49 Q95.458 1398.93 91.8238 1398.93 M91.8238 1395.22 Q97.6339 1395.22 100.689 1399.83 Q103.768 1404.41 103.768 1413.16 Q103.768 1421.89 100.689 1426.5 Q97.6339 1431.08 91.8238 1431.08 Q86.0136 1431.08 82.935 1426.5 Q79.8794 1421.89 79.8794 1413.16 Q79.8794 1404.41 82.935 1399.83 Q86.0136 1395.22 91.8238 1395.22 Z\" fill=\"#000000\" fill-rule=\"nonzero\" fill-opacity=\"1\" /><path clip-path=\"url(#clip660)\" d=\"M103.768 1389.33 L127.88 1389.33 L127.88 1392.52 L103.768 1392.52 L103.768 1389.33 Z\" fill=\"#000000\" fill-rule=\"nonzero\" fill-opacity=\"1\" /><path clip-path=\"url(#clip660)\" d=\"M136.738 1399.8 L142.945 1399.8 L142.945 1378.38 L136.193 1379.73 L136.193 1376.27 L142.907 1374.92 L146.706 1374.92 L146.706 1399.8 L152.913 1399.8 L152.913 1403 L136.738 1403 L136.738 1399.8 Z\" fill=\"#000000\" fill-rule=\"nonzero\" fill-opacity=\"1\" /><path clip-path=\"url(#clip660)\" d=\"M160.624 1374.92 L175.539 1374.92 L175.539 1378.12 L164.103 1378.12 L164.103 1385 Q164.931 1384.72 165.759 1384.59 Q166.586 1384.44 167.414 1384.44 Q172.116 1384.44 174.862 1387.01 Q177.607 1389.59 177.607 1393.99 Q177.607 1398.52 174.786 1401.04 Q171.965 1403.54 166.831 1403.54 Q165.063 1403.54 163.22 1403.24 Q161.395 1402.94 159.439 1402.34 L159.439 1398.52 Q161.132 1399.44 162.937 1399.9 Q164.743 1400.35 166.755 1400.35 Q170.009 1400.35 171.909 1398.64 Q173.808 1396.92 173.808 1393.99 Q173.808 1391.06 171.909 1389.34 Q170.009 1387.63 166.755 1387.63 Q165.232 1387.63 163.709 1387.97 Q162.204 1388.31 160.624 1389.03 L160.624 1374.92 Z\" fill=\"#000000\" fill-rule=\"nonzero\" fill-opacity=\"1\" /><path clip-path=\"url(#clip660)\" d=\"M51.6634 872.522 L59.3023 872.522 L59.3023 846.157 L50.9921 847.823 L50.9921 843.564 L59.256 841.897 L63.9319 841.897 L63.9319 872.522 L71.5707 872.522 L71.5707 876.457 L51.6634 876.457 L51.6634 872.522 Z\" fill=\"#000000\" fill-rule=\"nonzero\" fill-opacity=\"1\" /><path clip-path=\"url(#clip660)\" d=\"M91.0151 844.976 Q87.404 844.976 85.5753 848.541 Q83.7697 852.082 83.7697 859.212 Q83.7697 866.318 85.5753 869.883 Q87.404 873.425 91.0151 873.425 Q94.6493 873.425 96.4548 869.883 Q98.2835 866.318 98.2835 859.212 Q98.2835 852.082 96.4548 848.541 Q94.6493 844.976 91.0151 844.976 M91.0151 841.272 Q96.8252 841.272 99.8808 845.879 Q102.959 850.462 102.959 859.212 Q102.959 867.939 99.8808 872.545 Q96.8252 877.129 91.0151 877.129 Q85.2049 877.129 82.1262 872.545 Q79.0707 867.939 79.0707 859.212 Q79.0707 850.462 82.1262 845.879 Q85.2049 841.272 91.0151 841.272 Z\" fill=\"#000000\" fill-rule=\"nonzero\" fill-opacity=\"1\" /><path clip-path=\"url(#clip660)\" d=\"M102.959 835.374 L127.071 835.374 L127.071 838.571 L102.959 838.571 L102.959 835.374 Z\" fill=\"#000000\" fill-rule=\"nonzero\" fill-opacity=\"1\" /><path clip-path=\"url(#clip660)\" d=\"M135.929 845.85 L142.136 845.85 L142.136 824.428 L135.384 825.782 L135.384 822.321 L142.098 820.967 L145.898 820.967 L145.898 845.85 L152.104 845.85 L152.104 849.047 L135.929 849.047 L135.929 845.85 Z\" fill=\"#000000\" fill-rule=\"nonzero\" fill-opacity=\"1\" /><path clip-path=\"url(#clip660)\" d=\"M167.903 823.468 Q164.969 823.468 163.483 826.365 Q162.016 829.242 162.016 835.035 Q162.016 840.809 163.483 843.705 Q164.969 846.583 167.903 846.583 Q170.855 846.583 172.322 843.705 Q173.808 840.809 173.808 835.035 Q173.808 829.242 172.322 826.365 Q170.855 823.468 167.903 823.468 M167.903 820.459 Q172.623 820.459 175.106 824.202 Q177.607 827.926 177.607 835.035 Q177.607 842.126 175.106 845.868 Q172.623 849.592 167.903 849.592 Q163.182 849.592 160.68 845.868 Q158.198 842.126 158.198 835.035 Q158.198 827.926 160.68 824.202 Q163.182 820.459 167.903 820.459 Z\" fill=\"#000000\" fill-rule=\"nonzero\" fill-opacity=\"1\" /><path clip-path=\"url(#clip660)\" d=\"M76.9787 318.57 L84.6175 318.57 L84.6175 292.204 L76.3074 293.871 L76.3074 289.611 L84.5712 287.945 L89.2471 287.945 L89.2471 318.57 L96.886 318.57 L96.886 322.505 L76.9787 322.505 L76.9787 318.57 Z\" fill=\"#000000\" fill-rule=\"nonzero\" fill-opacity=\"1\" /><path clip-path=\"url(#clip660)\" d=\"M116.33 291.023 Q112.719 291.023 110.891 294.588 Q109.085 298.13 109.085 305.259 Q109.085 312.366 110.891 315.931 Q112.719 319.472 116.33 319.472 Q119.965 319.472 121.77 315.931 Q123.599 312.366 123.599 305.259 Q123.599 298.13 121.77 294.588 Q119.965 291.023 116.33 291.023 M116.33 287.32 Q122.14 287.32 125.196 291.926 Q128.275 296.51 128.275 305.259 Q128.275 313.986 125.196 318.593 Q122.14 323.176 116.33 323.176 Q110.52 323.176 107.441 318.593 Q104.386 313.986 104.386 305.259 Q104.386 296.51 107.441 291.926 Q110.52 287.32 116.33 287.32 Z\" fill=\"#000000\" fill-rule=\"nonzero\" fill-opacity=\"1\" /><path clip-path=\"url(#clip660)\" d=\"M128.275 281.421 L152.386 281.421 L152.386 284.618 L128.275 284.618 L128.275 281.421 Z\" fill=\"#000000\" fill-rule=\"nonzero\" fill-opacity=\"1\" /><path clip-path=\"url(#clip660)\" d=\"M160.624 267.014 L175.539 267.014 L175.539 270.212 L164.103 270.212 L164.103 277.095 Q164.931 276.813 165.759 276.682 Q166.586 276.531 167.414 276.531 Q172.116 276.531 174.862 279.108 Q177.607 281.684 177.607 286.085 Q177.607 290.618 174.786 293.138 Q171.965 295.64 166.831 295.64 Q165.063 295.64 163.22 295.339 Q161.395 295.038 159.439 294.436 L159.439 290.618 Q161.132 291.54 162.937 291.991 Q164.743 292.442 166.755 292.442 Q170.009 292.442 171.909 290.731 Q173.808 289.019 173.808 286.085 Q173.808 283.151 171.909 281.44 Q170.009 279.728 166.755 279.728 Q165.232 279.728 163.709 280.067 Q162.204 280.405 160.624 281.12 L160.624 267.014 Z\" fill=\"#000000\" fill-rule=\"nonzero\" fill-opacity=\"1\" /><polyline clip-path=\"url(#clip662)\" style=\"stroke:#009af9; stroke-linecap:round; stroke-linejoin:round; stroke-width:4; stroke-opacity:1; fill:none\" points=\"418.297,1445.72 562.444,1308.8 706.592,1137.4 850.739,1051.81 994.887,980.211 1139.03,823.989 1283.18,764.625 1427.33,616.51 1571.48,529.86 1715.62,529.513 1859.77,314.626 2003.92,170.093 2148.07,87.9763 2292.21,87.9763 \"/>\n",
       "<path clip-path=\"url(#clip660)\" d=\"M2015.11 198.898 L2281.45 198.898 L2281.45 95.2176 L2015.11 95.2176  Z\" fill=\"#ffffff\" fill-rule=\"evenodd\" fill-opacity=\"1\"/>\n",
       "<polyline clip-path=\"url(#clip660)\" style=\"stroke:#000000; stroke-linecap:round; stroke-linejoin:round; stroke-width:4; stroke-opacity:1; fill:none\" points=\"2015.11,198.898 2281.45,198.898 2281.45,95.2176 2015.11,95.2176 2015.11,198.898 \"/>\n",
       "<polyline clip-path=\"url(#clip660)\" style=\"stroke:#009af9; stroke-linecap:round; stroke-linejoin:round; stroke-width:4; stroke-opacity:1; fill:none\" points=\"2038.87,147.058 2181.48,147.058 \"/>\n",
       "<path clip-path=\"url(#clip660)\" d=\"M2219.09 166.745 Q2217.29 171.375 2215.58 172.787 Q2213.86 174.199 2210.99 174.199 L2207.59 174.199 L2207.59 170.634 L2210.09 170.634 Q2211.85 170.634 2212.82 169.8 Q2213.79 168.967 2214.97 165.865 L2215.74 163.921 L2205.25 138.412 L2209.77 138.412 L2217.87 158.689 L2225.97 138.412 L2230.48 138.412 L2219.09 166.745 Z\" fill=\"#000000\" fill-rule=\"nonzero\" fill-opacity=\"1\" /><path clip-path=\"url(#clip660)\" d=\"M2237.78 160.402 L2245.41 160.402 L2245.41 134.037 L2237.1 135.703 L2237.1 131.444 L2245.37 129.778 L2250.04 129.778 L2250.04 160.402 L2257.68 160.402 L2257.68 164.338 L2237.78 164.338 L2237.78 160.402 Z\" fill=\"#000000\" fill-rule=\"nonzero\" fill-opacity=\"1\" /></svg>\n"
      ]
     },
     "execution_count": 29,
     "metadata": {},
     "output_type": "execute_result"
    }
   ],
   "source": [
    "# TODO: Do a log-log plot for A with its 1,1 entry set to different ε and guess the growth rate.\n",
    "b = [1, 2, 3]\n",
    "delta = [10.0^(-i) for i in 0:14]\n",
    "errors = zeros(Float64, 15)\n",
    "for i in 1:15\n",
    "    A[1, 1] = delta[i]\n",
    "    L, U = lu(A, NoPivot())\n",
    "    errors[i] = norm(A \\ b - U\\(L\\b))\n",
    "end\n",
    "\n",
    "nanabs(x) = (x == 0 ? NaN : abs(x))\n",
    "plot(0:14, nanabs.(errors), yscale=:log10)"
   ]
  },
  {
   "cell_type": "markdown",
   "metadata": {},
   "source": [
    "-----"
   ]
  },
  {
   "cell_type": "markdown",
   "metadata": {},
   "source": [
    "## III.2.2 PLU Factorisation"
   ]
  },
  {
   "cell_type": "markdown",
   "metadata": {},
   "source": [
    "In general it is necessary to use pivoting, a feature you have seen\n",
    "in Gaussian elimination but as Problem 1 demonstrates we need to do so even if we do not encounter\n",
    "a zero. This corresponds to a factorisation of the form\n",
    "$$\n",
    " A = P^⊤LU\n",
    "$$\n",
    "where $P$ is a permutation matrix, $L$ is lower triangular and $U$ is upper triangular.\n",
    "We compute this as follows, printing out the permutation:"
   ]
  },
  {
   "cell_type": "code",
   "execution_count": 30,
   "metadata": {},
   "outputs": [
    {
     "data": {
      "text/plain": [
       "3-element Vector{Int64}:\n",
       " 2\n",
       " 3\n",
       " 1"
      ]
     },
     "execution_count": 30,
     "metadata": {},
     "output_type": "execute_result"
    }
   ],
   "source": [
    "A = [0.1 1 1;\n",
    "     2   4 8;\n",
    "     1   4 9]\n",
    "\n",
    "L,U,σ = lu(A)\n",
    "σ"
   ]
  },
  {
   "cell_type": "markdown",
   "metadata": {},
   "source": [
    "The permutation matrix is encoded as a vector $σ$. More precisely, we have\n",
    "$$\n",
    "    P 𝐯 = 𝐯[σ]\n",
    "$$\n",
    "Thus we can solve a linear system by  first permuting the entries of the right-hand side:"
   ]
  },
  {
   "cell_type": "code",
   "execution_count": 31,
   "metadata": {},
   "outputs": [
    {
     "data": {
      "text/plain": [
       "3-element Vector{Int64}:\n",
       " 11\n",
       " 12\n",
       " 10"
      ]
     },
     "execution_count": 31,
     "metadata": {},
     "output_type": "execute_result"
    }
   ],
   "source": [
    "b = [10,11,12]\n",
    "b̃ = b[σ] # permute the entries to [b[2],b[3],b[1]]"
   ]
  },
  {
   "cell_type": "markdown",
   "metadata": {},
   "source": [
    "And then inverting $L$ and $U$ as before:"
   ]
  },
  {
   "cell_type": "code",
   "execution_count": 32,
   "metadata": {},
   "outputs": [
    {
     "data": {
      "text/plain": [
       "\u001b[32m\u001b[1mTest Passed\u001b[22m\u001b[39m"
      ]
     },
     "execution_count": 32,
     "metadata": {},
     "output_type": "execute_result"
    }
   ],
   "source": [
    "c = L \\ b̃ # invert L with forward substitution\n",
    "x = U \\ c # invert U with back substitution\n",
    "\n",
    "@test x == A \\ b # \\ also use PLU to do the solve so these exactly equal"
   ]
  },
  {
   "cell_type": "markdown",
   "metadata": {},
   "source": [
    "Note in the following problems we will see that PLU is _usually_ stable but not always.\n",
    "Fortunately the set of matrices where it fails to be accurate has extremely small measure.\n",
    "The big _open problem_ in numerical linear algebra is to turn this observation into a precise statement."
   ]
  },
  {
   "cell_type": "markdown",
   "metadata": {},
   "source": [
    "-----"
   ]
  },
  {
   "cell_type": "markdown",
   "metadata": {},
   "source": [
    "**Problem 2(a)** Complete the function  `badmatrix(n)` that returns the following $ℤ^{n × n}$ matrix:\n",
    "$$\n",
    "  B_n := \\begin{bmatrix}\n",
    "      1      &&&& 1  \\\\\n",
    "      -1 & 1       &&& 1   \\\\\n",
    "      ⋮ & ⋱ & ⋱   && ⋮    \\\\\n",
    "      -1 & ⋯ & -1 & 1 & 1 \\\\\n",
    "      -1 & ⋯ & -1 & -1 & 1\n",
    "  \\end{bmatrix}\n",
    "$$\n",
    "That is: all entries below the diagonal are $-1$ whilst the diagonal and last column are $1$."
   ]
  },
  {
   "cell_type": "code",
   "execution_count": 35,
   "metadata": {},
   "outputs": [
    {
     "data": {
      "text/plain": [
       "\u001b[32m\u001b[1mTest Passed\u001b[22m\u001b[39m"
      ]
     },
     "execution_count": 35,
     "metadata": {},
     "output_type": "execute_result"
    }
   ],
   "source": [
    "function badmatrix(n)\n",
    "    # TODO: make the \"bad matrix\" with `Int` entries defined above and return it\n",
    "    mat = zeros(Int, n, n)\n",
    "    for i in 2:n, j in 1:i-1\n",
    "        mat[i, j] = -1\n",
    "    end\n",
    "    for i in 1:n\n",
    "        mat[i, i] = 1\n",
    "        mat[i, n] = 1\n",
    "    end\n",
    "    mat\n",
    "end\n",
    "\n",
    "@test badmatrix(3) isa Matrix{Int}\n",
    "@test badmatrix(3) == [1 0 1; -1 1 1; -1 -1 1]"
   ]
  },
  {
   "cell_type": "markdown",
   "metadata": {},
   "source": [
    "**Problem 2(b)** Does `lu` use pivoting with `badmatrix(n)`? Does it use\n",
    "pivoting with a small random perturbation (created via `randn(n,n)`)?"
   ]
  },
  {
   "cell_type": "code",
   "execution_count": 44,
   "metadata": {},
   "outputs": [
    {
     "data": {
      "text/plain": [
       "10×10 Matrix{Float64}:\n",
       " 0.0  0.0  0.0  0.0  0.0  0.0  0.0  0.0  1.0  0.0\n",
       " 0.0  1.0  0.0  0.0  0.0  0.0  0.0  0.0  0.0  0.0\n",
       " 0.0  0.0  1.0  0.0  0.0  0.0  0.0  0.0  0.0  0.0\n",
       " 0.0  0.0  0.0  1.0  0.0  0.0  0.0  0.0  0.0  0.0\n",
       " 0.0  0.0  0.0  0.0  0.0  0.0  0.0  1.0  0.0  0.0\n",
       " 1.0  0.0  0.0  0.0  0.0  0.0  0.0  0.0  0.0  0.0\n",
       " 0.0  0.0  0.0  0.0  0.0  0.0  1.0  0.0  0.0  0.0\n",
       " 0.0  0.0  0.0  0.0  0.0  1.0  0.0  0.0  0.0  0.0\n",
       " 0.0  0.0  0.0  0.0  0.0  0.0  0.0  0.0  0.0  1.0\n",
       " 0.0  0.0  0.0  0.0  1.0  0.0  0.0  0.0  0.0  0.0"
      ]
     },
     "execution_count": 44,
     "metadata": {},
     "output_type": "execute_result"
    }
   ],
   "source": [
    "# TODO: Use `lu` on `badmatrix(n)` and a small perturbation to determine if it\n",
    "# is using pivoting.\n",
    "n = 10\n",
    "lu(badmatrix(n)).P # no pivoting\n",
    "perturbation = randn(n, n)\n",
    "lu(badmatrix(n) + perturbation).P # uses pivoting"
   ]
  },
  {
   "cell_type": "markdown",
   "metadata": {},
   "source": [
    "**Problem 2(c)** We can test the accuracy of a method for inverting a matrix\n",
    "by applying the matrix and seeing how different it was from the input, eg.\n",
    "computing `norm(A*(A\\b) - b)`. This would be zero if everything was done with\n",
    "exact arithmetic. Plot the norm of this error for `b = randn(n)` for `bandmatrix(n)`\n",
    "and `badmatrix(n) + 1E-15*randn(n,n)` for `n = 25, 50, 75, 100` and\n",
    "compare the observed differences in accuracy of PLU."
   ]
  },
  {
   "cell_type": "code",
   "execution_count": 50,
   "metadata": {},
   "outputs": [
    {
     "data": {
      "image/png": "[encoded data removed]",
      "image/svg+xml": [
       "<?xml version=\"1.0\" encoding=\"utf-8\"?>\n",
       "<svg xmlns=\"http://www.w3.org/2000/svg\" xmlns:xlink=\"http://www.w3.org/1999/xlink\" width=\"600\" height=\"400\" viewBox=\"0 0 2400 1600\">\n",
       "<defs>\n",
       "  <clipPath id=\"clip970\">\n",
       "    <rect x=\"0\" y=\"0\" width=\"2400\" height=\"1600\"/>\n",
       "  </clipPath>\n",
       "</defs>\n",
       "<path clip-path=\"url(#clip970)\" d=\"M0 1600 L2400 1600 L2400 0 L0 0  Z\" fill=\"#ffffff\" fill-rule=\"evenodd\" fill-opacity=\"1\"/>\n",
       "<defs>\n",
       "  <clipPath id=\"clip971\">\n",
       "    <rect x=\"480\" y=\"0\" width=\"1681\" height=\"1600\"/>\n",
       "  </clipPath>\n",
       "</defs>\n",
       "<path clip-path=\"url(#clip970)\" d=\"M213.607 1486.45 L2352.76 1486.45 L2352.76 47.2441 L213.607 47.2441  Z\" fill=\"#ffffff\" fill-rule=\"evenodd\" fill-opacity=\"1\"/>\n",
       "<defs>\n",
       "  <clipPath id=\"clip972\">\n",
       "    <rect x=\"213\" y=\"47\" width=\"2140\" height=\"1440\"/>\n",
       "  </clipPath>\n",
       "</defs>\n",
       "<polyline clip-path=\"url(#clip972)\" style=\"stroke:#000000; stroke-linecap:round; stroke-linejoin:round; stroke-width:2; stroke-opacity:0.1; fill:none\" points=\"677.762,1486.45 677.762,47.2441 \"/>\n",
       "<polyline clip-path=\"url(#clip972)\" style=\"stroke:#000000; stroke-linecap:round; stroke-linejoin:round; stroke-width:2; stroke-opacity:0.1; fill:none\" points=\"1215.91,1486.45 1215.91,47.2441 \"/>\n",
       "<polyline clip-path=\"url(#clip972)\" style=\"stroke:#000000; stroke-linecap:round; stroke-linejoin:round; stroke-width:2; stroke-opacity:0.1; fill:none\" points=\"1754.06,1486.45 1754.06,47.2441 \"/>\n",
       "<polyline clip-path=\"url(#clip972)\" style=\"stroke:#000000; stroke-linecap:round; stroke-linejoin:round; stroke-width:2; stroke-opacity:0.1; fill:none\" points=\"2292.21,1486.45 2292.21,47.2441 \"/>\n",
       "<polyline clip-path=\"url(#clip972)\" style=\"stroke:#000000; stroke-linecap:round; stroke-linejoin:round; stroke-width:2; stroke-opacity:0.1; fill:none\" points=\"213.607,1200.19 2352.76,1200.19 \"/>\n",
       "<polyline clip-path=\"url(#clip972)\" style=\"stroke:#000000; stroke-linecap:round; stroke-linejoin:round; stroke-width:2; stroke-opacity:0.1; fill:none\" points=\"213.607,805.501 2352.76,805.501 \"/>\n",
       "<polyline clip-path=\"url(#clip972)\" style=\"stroke:#000000; stroke-linecap:round; stroke-linejoin:round; stroke-width:2; stroke-opacity:0.1; fill:none\" points=\"213.607,410.812 2352.76,410.812 \"/>\n",
       "<polyline clip-path=\"url(#clip970)\" style=\"stroke:#000000; stroke-linecap:round; stroke-linejoin:round; stroke-width:4; stroke-opacity:1; fill:none\" points=\"213.607,1486.45 2352.76,1486.45 \"/>\n",
       "<polyline clip-path=\"url(#clip970)\" style=\"stroke:#000000; stroke-linecap:round; stroke-linejoin:round; stroke-width:4; stroke-opacity:1; fill:none\" points=\"677.762,1486.45 677.762,1467.55 \"/>\n",
       "<polyline clip-path=\"url(#clip970)\" style=\"stroke:#000000; stroke-linecap:round; stroke-linejoin:round; stroke-width:4; stroke-opacity:1; fill:none\" points=\"1215.91,1486.45 1215.91,1467.55 \"/>\n",
       "<polyline clip-path=\"url(#clip970)\" style=\"stroke:#000000; stroke-linecap:round; stroke-linejoin:round; stroke-width:4; stroke-opacity:1; fill:none\" points=\"1754.06,1486.45 1754.06,1467.55 \"/>\n",
       "<polyline clip-path=\"url(#clip970)\" style=\"stroke:#000000; stroke-linecap:round; stroke-linejoin:round; stroke-width:4; stroke-opacity:1; fill:none\" points=\"2292.21,1486.45 2292.21,1467.55 \"/>\n",
       "<path clip-path=\"url(#clip970)\" d=\"M665.934 1518.36 L654.128 1536.81 L665.934 1536.81 L665.934 1518.36 M664.707 1514.29 L670.586 1514.29 L670.586 1536.81 L675.517 1536.81 L675.517 1540.7 L670.586 1540.7 L670.586 1548.85 L665.934 1548.85 L665.934 1540.7 L650.332 1540.7 L650.332 1536.19 L664.707 1514.29 Z\" fill=\"#000000\" fill-rule=\"nonzero\" fill-opacity=\"1\" /><path clip-path=\"url(#clip970)\" d=\"M693.248 1517.37 Q689.637 1517.37 687.809 1520.93 Q686.003 1524.47 686.003 1531.6 Q686.003 1538.71 687.809 1542.27 Q689.637 1545.82 693.248 1545.82 Q696.883 1545.82 698.688 1542.27 Q700.517 1538.71 700.517 1531.6 Q700.517 1524.47 698.688 1520.93 Q696.883 1517.37 693.248 1517.37 M693.248 1513.66 Q699.059 1513.66 702.114 1518.27 Q705.193 1522.85 705.193 1531.6 Q705.193 1540.33 702.114 1544.94 Q699.059 1549.52 693.248 1549.52 Q687.438 1549.52 684.36 1544.94 Q681.304 1540.33 681.304 1531.6 Q681.304 1522.85 684.36 1518.27 Q687.438 1513.66 693.248 1513.66 Z\" fill=\"#000000\" fill-rule=\"nonzero\" fill-opacity=\"1\" /><path clip-path=\"url(#clip970)\" d=\"M1201.32 1529.7 Q1198.17 1529.7 1196.32 1531.86 Q1194.49 1534.01 1194.49 1537.76 Q1194.49 1541.49 1196.32 1543.66 Q1198.17 1545.82 1201.32 1545.82 Q1204.47 1545.82 1206.29 1543.66 Q1208.15 1541.49 1208.15 1537.76 Q1208.15 1534.01 1206.29 1531.86 Q1204.47 1529.7 1201.32 1529.7 M1210.6 1515.05 L1210.6 1519.31 Q1208.84 1518.48 1207.04 1518.04 Q1205.25 1517.6 1203.49 1517.6 Q1198.86 1517.6 1196.41 1520.72 Q1193.98 1523.85 1193.63 1530.17 Q1195 1528.15 1197.06 1527.09 Q1199.12 1526 1201.6 1526 Q1206.8 1526 1209.81 1529.17 Q1212.85 1532.32 1212.85 1537.76 Q1212.85 1543.08 1209.7 1546.3 Q1206.55 1549.52 1201.32 1549.52 Q1195.32 1549.52 1192.15 1544.94 Q1188.98 1540.33 1188.98 1531.6 Q1188.98 1523.41 1192.87 1518.55 Q1196.76 1513.66 1203.31 1513.66 Q1205.07 1513.66 1206.85 1514.01 Q1208.66 1514.36 1210.6 1515.05 Z\" fill=\"#000000\" fill-rule=\"nonzero\" fill-opacity=\"1\" /><path clip-path=\"url(#clip970)\" d=\"M1230.9 1517.37 Q1227.29 1517.37 1225.46 1520.93 Q1223.66 1524.47 1223.66 1531.6 Q1223.66 1538.71 1225.46 1542.27 Q1227.29 1545.82 1230.9 1545.82 Q1234.54 1545.82 1236.34 1542.27 Q1238.17 1538.71 1238.17 1531.6 Q1238.17 1524.47 1236.34 1520.93 Q1234.54 1517.37 1230.9 1517.37 M1230.9 1513.66 Q1236.71 1513.66 1239.77 1518.27 Q1242.85 1522.85 1242.85 1531.6 Q1242.85 1540.33 1239.77 1544.94 Q1236.71 1549.52 1230.9 1549.52 Q1225.09 1549.52 1222.01 1544.94 Q1218.96 1540.33 1218.96 1531.6 Q1218.96 1522.85 1222.01 1518.27 Q1225.09 1513.66 1230.9 1513.66 Z\" fill=\"#000000\" fill-rule=\"nonzero\" fill-opacity=\"1\" /><path clip-path=\"url(#clip970)\" d=\"M1738.94 1532.44 Q1735.6 1532.44 1733.68 1534.22 Q1731.78 1536 1731.78 1539.13 Q1731.78 1542.25 1733.68 1544.03 Q1735.6 1545.82 1738.94 1545.82 Q1742.27 1545.82 1744.19 1544.03 Q1746.11 1542.23 1746.11 1539.13 Q1746.11 1536 1744.19 1534.22 Q1742.29 1532.44 1738.94 1532.44 M1734.26 1530.45 Q1731.25 1529.7 1729.56 1527.64 Q1727.89 1525.58 1727.89 1522.62 Q1727.89 1518.48 1730.83 1516.07 Q1733.8 1513.66 1738.94 1513.66 Q1744.1 1513.66 1747.04 1516.07 Q1749.98 1518.48 1749.98 1522.62 Q1749.98 1525.58 1748.29 1527.64 Q1746.62 1529.7 1743.64 1530.45 Q1747.01 1531.23 1748.89 1533.52 Q1750.79 1535.82 1750.79 1539.13 Q1750.79 1544.15 1747.71 1546.83 Q1744.65 1549.52 1738.94 1549.52 Q1733.22 1549.52 1730.14 1546.83 Q1727.08 1544.15 1727.08 1539.13 Q1727.08 1535.82 1728.98 1533.52 Q1730.88 1531.23 1734.26 1530.45 M1732.55 1523.06 Q1732.55 1525.75 1734.21 1527.25 Q1735.9 1528.76 1738.94 1528.76 Q1741.95 1528.76 1743.64 1527.25 Q1745.35 1525.75 1745.35 1523.06 Q1745.35 1520.38 1743.64 1518.87 Q1741.95 1517.37 1738.94 1517.37 Q1735.9 1517.37 1734.21 1518.87 Q1732.55 1520.38 1732.55 1523.06 Z\" fill=\"#000000\" fill-rule=\"nonzero\" fill-opacity=\"1\" /><path clip-path=\"url(#clip970)\" d=\"M1769.1 1517.37 Q1765.49 1517.37 1763.66 1520.93 Q1761.85 1524.47 1761.85 1531.6 Q1761.85 1538.71 1763.66 1542.27 Q1765.49 1545.82 1769.1 1545.82 Q1772.73 1545.82 1774.54 1542.27 Q1776.37 1538.71 1776.37 1531.6 Q1776.37 1524.47 1774.54 1520.93 Q1772.73 1517.37 1769.1 1517.37 M1769.1 1513.66 Q1774.91 1513.66 1777.96 1518.27 Q1781.04 1522.85 1781.04 1531.6 Q1781.04 1540.33 1777.96 1544.94 Q1774.91 1549.52 1769.1 1549.52 Q1763.29 1549.52 1760.21 1544.94 Q1757.15 1540.33 1757.15 1531.6 Q1757.15 1522.85 1760.21 1518.27 Q1763.29 1513.66 1769.1 1513.66 Z\" fill=\"#000000\" fill-rule=\"nonzero\" fill-opacity=\"1\" /><path clip-path=\"url(#clip970)\" d=\"M2251.82 1544.91 L2259.46 1544.91 L2259.46 1518.55 L2251.15 1520.21 L2251.15 1515.95 L2259.41 1514.29 L2264.09 1514.29 L2264.09 1544.91 L2271.73 1544.91 L2271.73 1548.85 L2251.82 1548.85 L2251.82 1544.91 Z\" fill=\"#000000\" fill-rule=\"nonzero\" fill-opacity=\"1\" /><path clip-path=\"url(#clip970)\" d=\"M2291.17 1517.37 Q2287.56 1517.37 2285.73 1520.93 Q2283.93 1524.47 2283.93 1531.6 Q2283.93 1538.71 2285.73 1542.27 Q2287.56 1545.82 2291.17 1545.82 Q2294.81 1545.82 2296.61 1542.27 Q2298.44 1538.71 2298.44 1531.6 Q2298.44 1524.47 2296.61 1520.93 Q2294.81 1517.37 2291.17 1517.37 M2291.17 1513.66 Q2296.98 1513.66 2300.04 1518.27 Q2303.12 1522.85 2303.12 1531.6 Q2303.12 1540.33 2300.04 1544.94 Q2296.98 1549.52 2291.17 1549.52 Q2285.36 1549.52 2282.28 1544.94 Q2279.23 1540.33 2279.23 1531.6 Q2279.23 1522.85 2282.28 1518.27 Q2285.36 1513.66 2291.17 1513.66 Z\" fill=\"#000000\" fill-rule=\"nonzero\" fill-opacity=\"1\" /><path clip-path=\"url(#clip970)\" d=\"M2321.33 1517.37 Q2317.72 1517.37 2315.89 1520.93 Q2314.09 1524.47 2314.09 1531.6 Q2314.09 1538.71 2315.89 1542.27 Q2317.72 1545.82 2321.33 1545.82 Q2324.97 1545.82 2326.77 1542.27 Q2328.6 1538.71 2328.6 1531.6 Q2328.6 1524.47 2326.77 1520.93 Q2324.97 1517.37 2321.33 1517.37 M2321.33 1513.66 Q2327.14 1513.66 2330.2 1518.27 Q2333.28 1522.85 2333.28 1531.6 Q2333.28 1540.33 2330.2 1544.94 Q2327.14 1549.52 2321.33 1549.52 Q2315.52 1549.52 2312.45 1544.94 Q2309.39 1540.33 2309.39 1531.6 Q2309.39 1522.85 2312.45 1518.27 Q2315.52 1513.66 2321.33 1513.66 Z\" fill=\"#000000\" fill-rule=\"nonzero\" fill-opacity=\"1\" /><polyline clip-path=\"url(#clip970)\" style=\"stroke:#000000; stroke-linecap:round; stroke-linejoin:round; stroke-width:4; stroke-opacity:1; fill:none\" points=\"213.607,1486.45 213.607,47.2441 \"/>\n",
       "<polyline clip-path=\"url(#clip970)\" style=\"stroke:#000000; stroke-linecap:round; stroke-linejoin:round; stroke-width:4; stroke-opacity:1; fill:none\" points=\"213.607,1200.19 232.505,1200.19 \"/>\n",
       "<polyline clip-path=\"url(#clip970)\" style=\"stroke:#000000; stroke-linecap:round; stroke-linejoin:round; stroke-width:4; stroke-opacity:1; fill:none\" points=\"213.607,805.501 232.505,805.501 \"/>\n",
       "<polyline clip-path=\"url(#clip970)\" style=\"stroke:#000000; stroke-linecap:round; stroke-linejoin:round; stroke-width:4; stroke-opacity:1; fill:none\" points=\"213.607,410.812 232.505,410.812 \"/>\n",
       "<path clip-path=\"url(#clip970)\" d=\"M51.6634 1219.98 L59.3023 1219.98 L59.3023 1193.62 L50.9921 1195.28 L50.9921 1191.02 L59.256 1189.36 L63.9319 1189.36 L63.9319 1219.98 L71.5707 1219.98 L71.5707 1223.92 L51.6634 1223.92 L51.6634 1219.98 Z\" fill=\"#000000\" fill-rule=\"nonzero\" fill-opacity=\"1\" /><path clip-path=\"url(#clip970)\" d=\"M91.0151 1192.44 Q87.404 1192.44 85.5753 1196 Q83.7697 1199.54 83.7697 1206.67 Q83.7697 1213.78 85.5753 1217.34 Q87.404 1220.89 91.0151 1220.89 Q94.6493 1220.89 96.4548 1217.34 Q98.2835 1213.78 98.2835 1206.67 Q98.2835 1199.54 96.4548 1196 Q94.6493 1192.44 91.0151 1192.44 M91.0151 1188.73 Q96.8252 1188.73 99.8808 1193.34 Q102.959 1197.92 102.959 1206.67 Q102.959 1215.4 99.8808 1220.01 Q96.8252 1224.59 91.0151 1224.59 Q85.2049 1224.59 82.1262 1220.01 Q79.0707 1215.4 79.0707 1206.67 Q79.0707 1197.92 82.1262 1193.34 Q85.2049 1188.73 91.0151 1188.73 Z\" fill=\"#000000\" fill-rule=\"nonzero\" fill-opacity=\"1\" /><path clip-path=\"url(#clip970)\" d=\"M102.959 1182.83 L127.071 1182.83 L127.071 1186.03 L102.959 1186.03 L102.959 1182.83 Z\" fill=\"#000000\" fill-rule=\"nonzero\" fill-opacity=\"1\" /><path clip-path=\"url(#clip970)\" d=\"M135.929 1193.31 L142.136 1193.31 L142.136 1171.89 L135.384 1173.24 L135.384 1169.78 L142.098 1168.43 L145.898 1168.43 L145.898 1193.31 L152.104 1193.31 L152.104 1196.51 L135.929 1196.51 L135.929 1193.31 Z\" fill=\"#000000\" fill-rule=\"nonzero\" fill-opacity=\"1\" /><path clip-path=\"url(#clip970)\" d=\"M167.903 1170.93 Q164.969 1170.93 163.483 1173.83 Q162.016 1176.7 162.016 1182.5 Q162.016 1188.27 163.483 1191.17 Q164.969 1194.04 167.903 1194.04 Q170.855 1194.04 172.322 1191.17 Q173.808 1188.27 173.808 1182.5 Q173.808 1176.7 172.322 1173.83 Q170.855 1170.93 167.903 1170.93 M167.903 1167.92 Q172.623 1167.92 175.106 1171.66 Q177.607 1175.39 177.607 1182.5 Q177.607 1189.59 175.106 1193.33 Q172.623 1197.05 167.903 1197.05 Q163.182 1197.05 160.68 1193.33 Q158.198 1189.59 158.198 1182.5 Q158.198 1175.39 160.68 1171.66 Q163.182 1167.92 167.903 1167.92 Z\" fill=\"#000000\" fill-rule=\"nonzero\" fill-opacity=\"1\" /><path clip-path=\"url(#clip970)\" d=\"M76.9787 825.294 L84.6175 825.294 L84.6175 798.928 L76.3074 800.595 L76.3074 796.335 L84.5712 794.669 L89.2471 794.669 L89.2471 825.294 L96.886 825.294 L96.886 829.229 L76.9787 829.229 L76.9787 825.294 Z\" fill=\"#000000\" fill-rule=\"nonzero\" fill-opacity=\"1\" /><path clip-path=\"url(#clip970)\" d=\"M116.33 797.747 Q112.719 797.747 110.891 801.312 Q109.085 804.854 109.085 811.983 Q109.085 819.09 110.891 822.655 Q112.719 826.196 116.33 826.196 Q119.965 826.196 121.77 822.655 Q123.599 819.09 123.599 811.983 Q123.599 804.854 121.77 801.312 Q119.965 797.747 116.33 797.747 M116.33 794.044 Q122.14 794.044 125.196 798.65 Q128.275 803.233 128.275 811.983 Q128.275 820.71 125.196 825.317 Q122.14 829.9 116.33 829.9 Q110.52 829.9 107.441 825.317 Q104.386 820.71 104.386 811.983 Q104.386 803.233 107.441 798.65 Q110.52 794.044 116.33 794.044 Z\" fill=\"#000000\" fill-rule=\"nonzero\" fill-opacity=\"1\" /><path clip-path=\"url(#clip970)\" d=\"M128.275 788.145 L152.386 788.145 L152.386 791.342 L128.275 791.342 L128.275 788.145 Z\" fill=\"#000000\" fill-rule=\"nonzero\" fill-opacity=\"1\" /><path clip-path=\"url(#clip970)\" d=\"M160.624 773.738 L175.539 773.738 L175.539 776.936 L164.103 776.936 L164.103 783.819 Q164.931 783.537 165.759 783.406 Q166.586 783.255 167.414 783.255 Q172.116 783.255 174.862 785.832 Q177.607 788.408 177.607 792.809 Q177.607 797.342 174.786 799.862 Q171.965 802.364 166.831 802.364 Q165.063 802.364 163.22 802.063 Q161.395 801.762 159.439 801.16 L159.439 797.342 Q161.132 798.264 162.937 798.715 Q164.743 799.166 166.755 799.166 Q170.009 799.166 171.909 797.455 Q173.808 795.743 173.808 792.809 Q173.808 789.875 171.909 788.164 Q170.009 786.452 166.755 786.452 Q165.232 786.452 163.709 786.791 Q162.204 787.129 160.624 787.844 L160.624 773.738 Z\" fill=\"#000000\" fill-rule=\"nonzero\" fill-opacity=\"1\" /><path clip-path=\"url(#clip970)\" d=\"M106.902 430.605 L114.541 430.605 L114.541 404.239 L106.231 405.906 L106.231 401.646 L114.494 399.98 L119.17 399.98 L119.17 430.605 L126.809 430.605 L126.809 434.54 L106.902 434.54 L106.902 430.605 Z\" fill=\"#000000\" fill-rule=\"nonzero\" fill-opacity=\"1\" /><path clip-path=\"url(#clip970)\" d=\"M146.253 403.058 Q142.642 403.058 140.814 406.623 Q139.008 410.165 139.008 417.295 Q139.008 424.401 140.814 427.966 Q142.642 431.507 146.253 431.507 Q149.888 431.507 151.693 427.966 Q153.522 424.401 153.522 417.295 Q153.522 410.165 151.693 406.623 Q149.888 403.058 146.253 403.058 M146.253 399.355 Q152.064 399.355 155.119 403.961 Q158.198 408.545 158.198 417.295 Q158.198 426.021 155.119 430.628 Q152.064 435.211 146.253 435.211 Q140.443 435.211 137.365 430.628 Q134.309 426.021 134.309 417.295 Q134.309 408.545 137.365 403.961 Q140.443 399.355 146.253 399.355 Z\" fill=\"#000000\" fill-rule=\"nonzero\" fill-opacity=\"1\" /><path clip-path=\"url(#clip970)\" d=\"M167.903 381.551 Q164.969 381.551 163.483 384.447 Q162.016 387.325 162.016 393.118 Q162.016 398.892 163.483 401.788 Q164.969 404.666 167.903 404.666 Q170.855 404.666 172.322 401.788 Q173.808 398.892 173.808 393.118 Q173.808 387.325 172.322 384.447 Q170.855 381.551 167.903 381.551 M167.903 378.542 Q172.623 378.542 175.106 382.284 Q177.607 386.008 177.607 393.118 Q177.607 400.208 175.106 403.951 Q172.623 407.675 167.903 407.675 Q163.182 407.675 160.68 403.951 Q158.198 400.208 158.198 393.118 Q158.198 386.008 160.68 382.284 Q163.182 378.542 167.903 378.542 Z\" fill=\"#000000\" fill-rule=\"nonzero\" fill-opacity=\"1\" /><polyline clip-path=\"url(#clip972)\" style=\"stroke:#009af9; stroke-linecap:round; stroke-linejoin:round; stroke-width:4; stroke-opacity:1; fill:none\" points=\"274.149,1234.37 946.838,609.092 1619.53,362.33 2292.21,87.9763 \"/>\n",
       "<polyline clip-path=\"url(#clip972)\" style=\"stroke:#e26f46; stroke-linecap:round; stroke-linejoin:round; stroke-width:4; stroke-opacity:1; fill:none\" points=\"274.149,1438.52 946.838,1402.11 1619.53,1445.72 2292.21,1317.14 \"/>\n",
       "<path clip-path=\"url(#clip970)\" d=\"M2015.11 250.738 L2281.45 250.738 L2281.45 95.2176 L2015.11 95.2176  Z\" fill=\"#ffffff\" fill-rule=\"evenodd\" fill-opacity=\"1\"/>\n",
       "<polyline clip-path=\"url(#clip970)\" style=\"stroke:#000000; stroke-linecap:round; stroke-linejoin:round; stroke-width:4; stroke-opacity:1; fill:none\" points=\"2015.11,250.738 2281.45,250.738 2281.45,95.2176 2015.11,95.2176 2015.11,250.738 \"/>\n",
       "<polyline clip-path=\"url(#clip970)\" style=\"stroke:#009af9; stroke-linecap:round; stroke-linejoin:round; stroke-width:4; stroke-opacity:1; fill:none\" points=\"2038.87,147.058 2181.48,147.058 \"/>\n",
       "<path clip-path=\"url(#clip970)\" d=\"M2219.09 166.745 Q2217.29 171.375 2215.58 172.787 Q2213.86 174.199 2210.99 174.199 L2207.59 174.199 L2207.59 170.634 L2210.09 170.634 Q2211.85 170.634 2212.82 169.8 Q2213.79 168.967 2214.97 165.865 L2215.74 163.921 L2205.25 138.412 L2209.77 138.412 L2217.87 158.689 L2225.97 138.412 L2230.48 138.412 L2219.09 166.745 Z\" fill=\"#000000\" fill-rule=\"nonzero\" fill-opacity=\"1\" /><path clip-path=\"url(#clip970)\" d=\"M2237.78 160.402 L2245.41 160.402 L2245.41 134.037 L2237.1 135.703 L2237.1 131.444 L2245.37 129.778 L2250.04 129.778 L2250.04 160.402 L2257.68 160.402 L2257.68 164.338 L2237.78 164.338 L2237.78 160.402 Z\" fill=\"#000000\" fill-rule=\"nonzero\" fill-opacity=\"1\" /><polyline clip-path=\"url(#clip970)\" style=\"stroke:#e26f46; stroke-linecap:round; stroke-linejoin:round; stroke-width:4; stroke-opacity:1; fill:none\" points=\"2038.87,198.898 2181.48,198.898 \"/>\n",
       "<path clip-path=\"url(#clip970)\" d=\"M2219.09 218.585 Q2217.29 223.215 2215.58 224.627 Q2213.86 226.039 2210.99 226.039 L2207.59 226.039 L2207.59 222.474 L2210.09 222.474 Q2211.85 222.474 2212.82 221.64 Q2213.79 220.807 2214.97 217.705 L2215.74 215.761 L2205.25 190.252 L2209.77 190.252 L2217.87 210.529 L2225.97 190.252 L2230.48 190.252 L2219.09 218.585 Z\" fill=\"#000000\" fill-rule=\"nonzero\" fill-opacity=\"1\" /><path clip-path=\"url(#clip970)\" d=\"M2240.99 212.242 L2257.31 212.242 L2257.31 216.178 L2235.37 216.178 L2235.37 212.242 Q2238.03 209.488 2242.61 204.858 Q2247.22 200.205 2248.4 198.863 Q2250.65 196.34 2251.53 194.604 Q2252.43 192.844 2252.43 191.155 Q2252.43 188.4 2250.48 186.664 Q2248.56 184.928 2245.46 184.928 Q2243.26 184.928 2240.81 185.692 Q2238.38 186.455 2235.6 188.006 L2235.6 183.284 Q2238.42 182.15 2240.88 181.571 Q2243.33 180.993 2245.37 180.993 Q2250.74 180.993 2253.93 183.678 Q2257.13 186.363 2257.13 190.854 Q2257.13 192.983 2256.32 194.905 Q2255.53 196.803 2253.42 199.395 Q2252.84 200.067 2249.74 203.284 Q2246.64 206.479 2240.99 212.242 Z\" fill=\"#000000\" fill-rule=\"nonzero\" fill-opacity=\"1\" /></svg>\n"
      ],
      "text/html": [
       "<?xml version=\"1.0\" encoding=\"utf-8\"?>\n",
       "<svg xmlns=\"http://www.w3.org/2000/svg\" xmlns:xlink=\"http://www.w3.org/1999/xlink\" width=\"600\" height=\"400\" viewBox=\"0 0 2400 1600\">\n",
       "<defs>\n",
       "  <clipPath id=\"clip020\">\n",
       "    <rect x=\"0\" y=\"0\" width=\"2400\" height=\"1600\"/>\n",
       "  </clipPath>\n",
       "</defs>\n",
       "<path clip-path=\"url(#clip020)\" d=\"M0 1600 L2400 1600 L2400 0 L0 0  Z\" fill=\"#ffffff\" fill-rule=\"evenodd\" fill-opacity=\"1\"/>\n",
       "<defs>\n",
       "  <clipPath id=\"clip021\">\n",
       "    <rect x=\"480\" y=\"0\" width=\"1681\" height=\"1600\"/>\n",
       "  </clipPath>\n",
       "</defs>\n",
       "<path clip-path=\"url(#clip020)\" d=\"M213.607 1486.45 L2352.76 1486.45 L2352.76 47.2441 L213.607 47.2441  Z\" fill=\"#ffffff\" fill-rule=\"evenodd\" fill-opacity=\"1\"/>\n",
       "<defs>\n",
       "  <clipPath id=\"clip022\">\n",
       "    <rect x=\"213\" y=\"47\" width=\"2140\" height=\"1440\"/>\n",
       "  </clipPath>\n",
       "</defs>\n",
       "<polyline clip-path=\"url(#clip022)\" style=\"stroke:#000000; stroke-linecap:round; stroke-linejoin:round; stroke-width:2; stroke-opacity:0.1; fill:none\" points=\"677.762,1486.45 677.762,47.2441 \"/>\n",
       "<polyline clip-path=\"url(#clip022)\" style=\"stroke:#000000; stroke-linecap:round; stroke-linejoin:round; stroke-width:2; stroke-opacity:0.1; fill:none\" points=\"1215.91,1486.45 1215.91,47.2441 \"/>\n",
       "<polyline clip-path=\"url(#clip022)\" style=\"stroke:#000000; stroke-linecap:round; stroke-linejoin:round; stroke-width:2; stroke-opacity:0.1; fill:none\" points=\"1754.06,1486.45 1754.06,47.2441 \"/>\n",
       "<polyline clip-path=\"url(#clip022)\" style=\"stroke:#000000; stroke-linecap:round; stroke-linejoin:round; stroke-width:2; stroke-opacity:0.1; fill:none\" points=\"2292.21,1486.45 2292.21,47.2441 \"/>\n",
       "<polyline clip-path=\"url(#clip022)\" style=\"stroke:#000000; stroke-linecap:round; stroke-linejoin:round; stroke-width:2; stroke-opacity:0.1; fill:none\" points=\"213.607,1200.19 2352.76,1200.19 \"/>\n",
       "<polyline clip-path=\"url(#clip022)\" style=\"stroke:#000000; stroke-linecap:round; stroke-linejoin:round; stroke-width:2; stroke-opacity:0.1; fill:none\" points=\"213.607,805.501 2352.76,805.501 \"/>\n",
       "<polyline clip-path=\"url(#clip022)\" style=\"stroke:#000000; stroke-linecap:round; stroke-linejoin:round; stroke-width:2; stroke-opacity:0.1; fill:none\" points=\"213.607,410.812 2352.76,410.812 \"/>\n",
       "<polyline clip-path=\"url(#clip020)\" style=\"stroke:#000000; stroke-linecap:round; stroke-linejoin:round; stroke-width:4; stroke-opacity:1; fill:none\" points=\"213.607,1486.45 2352.76,1486.45 \"/>\n",
       "<polyline clip-path=\"url(#clip020)\" style=\"stroke:#000000; stroke-linecap:round; stroke-linejoin:round; stroke-width:4; stroke-opacity:1; fill:none\" points=\"677.762,1486.45 677.762,1467.55 \"/>\n",
       "<polyline clip-path=\"url(#clip020)\" style=\"stroke:#000000; stroke-linecap:round; stroke-linejoin:round; stroke-width:4; stroke-opacity:1; fill:none\" points=\"1215.91,1486.45 1215.91,1467.55 \"/>\n",
       "<polyline clip-path=\"url(#clip020)\" style=\"stroke:#000000; stroke-linecap:round; stroke-linejoin:round; stroke-width:4; stroke-opacity:1; fill:none\" points=\"1754.06,1486.45 1754.06,1467.55 \"/>\n",
       "<polyline clip-path=\"url(#clip020)\" style=\"stroke:#000000; stroke-linecap:round; stroke-linejoin:round; stroke-width:4; stroke-opacity:1; fill:none\" points=\"2292.21,1486.45 2292.21,1467.55 \"/>\n",
       "<path clip-path=\"url(#clip020)\" d=\"M665.934 1518.36 L654.128 1536.81 L665.934 1536.81 L665.934 1518.36 M664.707 1514.29 L670.586 1514.29 L670.586 1536.81 L675.517 1536.81 L675.517 1540.7 L670.586 1540.7 L670.586 1548.85 L665.934 1548.85 L665.934 1540.7 L650.332 1540.7 L650.332 1536.19 L664.707 1514.29 Z\" fill=\"#000000\" fill-rule=\"nonzero\" fill-opacity=\"1\" /><path clip-path=\"url(#clip020)\" d=\"M693.248 1517.37 Q689.637 1517.37 687.809 1520.93 Q686.003 1524.47 686.003 1531.6 Q686.003 1538.71 687.809 1542.27 Q689.637 1545.82 693.248 1545.82 Q696.883 1545.82 698.688 1542.27 Q700.517 1538.71 700.517 1531.6 Q700.517 1524.47 698.688 1520.93 Q696.883 1517.37 693.248 1517.37 M693.248 1513.66 Q699.059 1513.66 702.114 1518.27 Q705.193 1522.85 705.193 1531.6 Q705.193 1540.33 702.114 1544.94 Q699.059 1549.52 693.248 1549.52 Q687.438 1549.52 684.36 1544.94 Q681.304 1540.33 681.304 1531.6 Q681.304 1522.85 684.36 1518.27 Q687.438 1513.66 693.248 1513.66 Z\" fill=\"#000000\" fill-rule=\"nonzero\" fill-opacity=\"1\" /><path clip-path=\"url(#clip020)\" d=\"M1201.32 1529.7 Q1198.17 1529.7 1196.32 1531.86 Q1194.49 1534.01 1194.49 1537.76 Q1194.49 1541.49 1196.32 1543.66 Q1198.17 1545.82 1201.32 1545.82 Q1204.47 1545.82 1206.29 1543.66 Q1208.15 1541.49 1208.15 1537.76 Q1208.15 1534.01 1206.29 1531.86 Q1204.47 1529.7 1201.32 1529.7 M1210.6 1515.05 L1210.6 1519.31 Q1208.84 1518.48 1207.04 1518.04 Q1205.25 1517.6 1203.49 1517.6 Q1198.86 1517.6 1196.41 1520.72 Q1193.98 1523.85 1193.63 1530.17 Q1195 1528.15 1197.06 1527.09 Q1199.12 1526 1201.6 1526 Q1206.8 1526 1209.81 1529.17 Q1212.85 1532.32 1212.85 1537.76 Q1212.85 1543.08 1209.7 1546.3 Q1206.55 1549.52 1201.32 1549.52 Q1195.32 1549.52 1192.15 1544.94 Q1188.98 1540.33 1188.98 1531.6 Q1188.98 1523.41 1192.87 1518.55 Q1196.76 1513.66 1203.31 1513.66 Q1205.07 1513.66 1206.85 1514.01 Q1208.66 1514.36 1210.6 1515.05 Z\" fill=\"#000000\" fill-rule=\"nonzero\" fill-opacity=\"1\" /><path clip-path=\"url(#clip020)\" d=\"M1230.9 1517.37 Q1227.29 1517.37 1225.46 1520.93 Q1223.66 1524.47 1223.66 1531.6 Q1223.66 1538.71 1225.46 1542.27 Q1227.29 1545.82 1230.9 1545.82 Q1234.54 1545.82 1236.34 1542.27 Q1238.17 1538.71 1238.17 1531.6 Q1238.17 1524.47 1236.34 1520.93 Q1234.54 1517.37 1230.9 1517.37 M1230.9 1513.66 Q1236.71 1513.66 1239.77 1518.27 Q1242.85 1522.85 1242.85 1531.6 Q1242.85 1540.33 1239.77 1544.94 Q1236.71 1549.52 1230.9 1549.52 Q1225.09 1549.52 1222.01 1544.94 Q1218.96 1540.33 1218.96 1531.6 Q1218.96 1522.85 1222.01 1518.27 Q1225.09 1513.66 1230.9 1513.66 Z\" fill=\"#000000\" fill-rule=\"nonzero\" fill-opacity=\"1\" /><path clip-path=\"url(#clip020)\" d=\"M1738.94 1532.44 Q1735.6 1532.44 1733.68 1534.22 Q1731.78 1536 1731.78 1539.13 Q1731.78 1542.25 1733.68 1544.03 Q1735.6 1545.82 1738.94 1545.82 Q1742.27 1545.82 1744.19 1544.03 Q1746.11 1542.23 1746.11 1539.13 Q1746.11 1536 1744.19 1534.22 Q1742.29 1532.44 1738.94 1532.44 M1734.26 1530.45 Q1731.25 1529.7 1729.56 1527.64 Q1727.89 1525.58 1727.89 1522.62 Q1727.89 1518.48 1730.83 1516.07 Q1733.8 1513.66 1738.94 1513.66 Q1744.1 1513.66 1747.04 1516.07 Q1749.98 1518.48 1749.98 1522.62 Q1749.98 1525.58 1748.29 1527.64 Q1746.62 1529.7 1743.64 1530.45 Q1747.01 1531.23 1748.89 1533.52 Q1750.79 1535.82 1750.79 1539.13 Q1750.79 1544.15 1747.71 1546.83 Q1744.65 1549.52 1738.94 1549.52 Q1733.22 1549.52 1730.14 1546.83 Q1727.08 1544.15 1727.08 1539.13 Q1727.08 1535.82 1728.98 1533.52 Q1730.88 1531.23 1734.26 1530.45 M1732.55 1523.06 Q1732.55 1525.75 1734.21 1527.25 Q1735.9 1528.76 1738.94 1528.76 Q1741.95 1528.76 1743.64 1527.25 Q1745.35 1525.75 1745.35 1523.06 Q1745.35 1520.38 1743.64 1518.87 Q1741.95 1517.37 1738.94 1517.37 Q1735.9 1517.37 1734.21 1518.87 Q1732.55 1520.38 1732.55 1523.06 Z\" fill=\"#000000\" fill-rule=\"nonzero\" fill-opacity=\"1\" /><path clip-path=\"url(#clip020)\" d=\"M1769.1 1517.37 Q1765.49 1517.37 1763.66 1520.93 Q1761.85 1524.47 1761.85 1531.6 Q1761.85 1538.71 1763.66 1542.27 Q1765.49 1545.82 1769.1 1545.82 Q1772.73 1545.82 1774.54 1542.27 Q1776.37 1538.71 1776.37 1531.6 Q1776.37 1524.47 1774.54 1520.93 Q1772.73 1517.37 1769.1 1517.37 M1769.1 1513.66 Q1774.91 1513.66 1777.96 1518.27 Q1781.04 1522.85 1781.04 1531.6 Q1781.04 1540.33 1777.96 1544.94 Q1774.91 1549.52 1769.1 1549.52 Q1763.29 1549.52 1760.21 1544.94 Q1757.15 1540.33 1757.15 1531.6 Q1757.15 1522.85 1760.21 1518.27 Q1763.29 1513.66 1769.1 1513.66 Z\" fill=\"#000000\" fill-rule=\"nonzero\" fill-opacity=\"1\" /><path clip-path=\"url(#clip020)\" d=\"M2251.82 1544.91 L2259.46 1544.91 L2259.46 1518.55 L2251.15 1520.21 L2251.15 1515.95 L2259.41 1514.29 L2264.09 1514.29 L2264.09 1544.91 L2271.73 1544.91 L2271.73 1548.85 L2251.82 1548.85 L2251.82 1544.91 Z\" fill=\"#000000\" fill-rule=\"nonzero\" fill-opacity=\"1\" /><path clip-path=\"url(#clip020)\" d=\"M2291.17 1517.37 Q2287.56 1517.37 2285.73 1520.93 Q2283.93 1524.47 2283.93 1531.6 Q2283.93 1538.71 2285.73 1542.27 Q2287.56 1545.82 2291.17 1545.82 Q2294.81 1545.82 2296.61 1542.27 Q2298.44 1538.71 2298.44 1531.6 Q2298.44 1524.47 2296.61 1520.93 Q2294.81 1517.37 2291.17 1517.37 M2291.17 1513.66 Q2296.98 1513.66 2300.04 1518.27 Q2303.12 1522.85 2303.12 1531.6 Q2303.12 1540.33 2300.04 1544.94 Q2296.98 1549.52 2291.17 1549.52 Q2285.36 1549.52 2282.28 1544.94 Q2279.23 1540.33 2279.23 1531.6 Q2279.23 1522.85 2282.28 1518.27 Q2285.36 1513.66 2291.17 1513.66 Z\" fill=\"#000000\" fill-rule=\"nonzero\" fill-opacity=\"1\" /><path clip-path=\"url(#clip020)\" d=\"M2321.33 1517.37 Q2317.72 1517.37 2315.89 1520.93 Q2314.09 1524.47 2314.09 1531.6 Q2314.09 1538.71 2315.89 1542.27 Q2317.72 1545.82 2321.33 1545.82 Q2324.97 1545.82 2326.77 1542.27 Q2328.6 1538.71 2328.6 1531.6 Q2328.6 1524.47 2326.77 1520.93 Q2324.97 1517.37 2321.33 1517.37 M2321.33 1513.66 Q2327.14 1513.66 2330.2 1518.27 Q2333.28 1522.85 2333.28 1531.6 Q2333.28 1540.33 2330.2 1544.94 Q2327.14 1549.52 2321.33 1549.52 Q2315.52 1549.52 2312.45 1544.94 Q2309.39 1540.33 2309.39 1531.6 Q2309.39 1522.85 2312.45 1518.27 Q2315.52 1513.66 2321.33 1513.66 Z\" fill=\"#000000\" fill-rule=\"nonzero\" fill-opacity=\"1\" /><polyline clip-path=\"url(#clip020)\" style=\"stroke:#000000; stroke-linecap:round; stroke-linejoin:round; stroke-width:4; stroke-opacity:1; fill:none\" points=\"213.607,1486.45 213.607,47.2441 \"/>\n",
       "<polyline clip-path=\"url(#clip020)\" style=\"stroke:#000000; stroke-linecap:round; stroke-linejoin:round; stroke-width:4; stroke-opacity:1; fill:none\" points=\"213.607,1200.19 232.505,1200.19 \"/>\n",
       "<polyline clip-path=\"url(#clip020)\" style=\"stroke:#000000; stroke-linecap:round; stroke-linejoin:round; stroke-width:4; stroke-opacity:1; fill:none\" points=\"213.607,805.501 232.505,805.501 \"/>\n",
       "<polyline clip-path=\"url(#clip020)\" style=\"stroke:#000000; stroke-linecap:round; stroke-linejoin:round; stroke-width:4; stroke-opacity:1; fill:none\" points=\"213.607,410.812 232.505,410.812 \"/>\n",
       "<path clip-path=\"url(#clip020)\" d=\"M51.6634 1219.98 L59.3023 1219.98 L59.3023 1193.62 L50.9921 1195.28 L50.9921 1191.02 L59.256 1189.36 L63.9319 1189.36 L63.9319 1219.98 L71.5707 1219.98 L71.5707 1223.92 L51.6634 1223.92 L51.6634 1219.98 Z\" fill=\"#000000\" fill-rule=\"nonzero\" fill-opacity=\"1\" /><path clip-path=\"url(#clip020)\" d=\"M91.0151 1192.44 Q87.404 1192.44 85.5753 1196 Q83.7697 1199.54 83.7697 1206.67 Q83.7697 1213.78 85.5753 1217.34 Q87.404 1220.89 91.0151 1220.89 Q94.6493 1220.89 96.4548 1217.34 Q98.2835 1213.78 98.2835 1206.67 Q98.2835 1199.54 96.4548 1196 Q94.6493 1192.44 91.0151 1192.44 M91.0151 1188.73 Q96.8252 1188.73 99.8808 1193.34 Q102.959 1197.92 102.959 1206.67 Q102.959 1215.4 99.8808 1220.01 Q96.8252 1224.59 91.0151 1224.59 Q85.2049 1224.59 82.1262 1220.01 Q79.0707 1215.4 79.0707 1206.67 Q79.0707 1197.92 82.1262 1193.34 Q85.2049 1188.73 91.0151 1188.73 Z\" fill=\"#000000\" fill-rule=\"nonzero\" fill-opacity=\"1\" /><path clip-path=\"url(#clip020)\" d=\"M102.959 1182.83 L127.071 1182.83 L127.071 1186.03 L102.959 1186.03 L102.959 1182.83 Z\" fill=\"#000000\" fill-rule=\"nonzero\" fill-opacity=\"1\" /><path clip-path=\"url(#clip020)\" d=\"M135.929 1193.31 L142.136 1193.31 L142.136 1171.89 L135.384 1173.24 L135.384 1169.78 L142.098 1168.43 L145.898 1168.43 L145.898 1193.31 L152.104 1193.31 L152.104 1196.51 L135.929 1196.51 L135.929 1193.31 Z\" fill=\"#000000\" fill-rule=\"nonzero\" fill-opacity=\"1\" /><path clip-path=\"url(#clip020)\" d=\"M167.903 1170.93 Q164.969 1170.93 163.483 1173.83 Q162.016 1176.7 162.016 1182.5 Q162.016 1188.27 163.483 1191.17 Q164.969 1194.04 167.903 1194.04 Q170.855 1194.04 172.322 1191.17 Q173.808 1188.27 173.808 1182.5 Q173.808 1176.7 172.322 1173.83 Q170.855 1170.93 167.903 1170.93 M167.903 1167.92 Q172.623 1167.92 175.106 1171.66 Q177.607 1175.39 177.607 1182.5 Q177.607 1189.59 175.106 1193.33 Q172.623 1197.05 167.903 1197.05 Q163.182 1197.05 160.68 1193.33 Q158.198 1189.59 158.198 1182.5 Q158.198 1175.39 160.68 1171.66 Q163.182 1167.92 167.903 1167.92 Z\" fill=\"#000000\" fill-rule=\"nonzero\" fill-opacity=\"1\" /><path clip-path=\"url(#clip020)\" d=\"M76.9787 825.294 L84.6175 825.294 L84.6175 798.928 L76.3074 800.595 L76.3074 796.335 L84.5712 794.669 L89.2471 794.669 L89.2471 825.294 L96.886 825.294 L96.886 829.229 L76.9787 829.229 L76.9787 825.294 Z\" fill=\"#000000\" fill-rule=\"nonzero\" fill-opacity=\"1\" /><path clip-path=\"url(#clip020)\" d=\"M116.33 797.747 Q112.719 797.747 110.891 801.312 Q109.085 804.854 109.085 811.983 Q109.085 819.09 110.891 822.655 Q112.719 826.196 116.33 826.196 Q119.965 826.196 121.77 822.655 Q123.599 819.09 123.599 811.983 Q123.599 804.854 121.77 801.312 Q119.965 797.747 116.33 797.747 M116.33 794.044 Q122.14 794.044 125.196 798.65 Q128.275 803.233 128.275 811.983 Q128.275 820.71 125.196 825.317 Q122.14 829.9 116.33 829.9 Q110.52 829.9 107.441 825.317 Q104.386 820.71 104.386 811.983 Q104.386 803.233 107.441 798.65 Q110.52 794.044 116.33 794.044 Z\" fill=\"#000000\" fill-rule=\"nonzero\" fill-opacity=\"1\" /><path clip-path=\"url(#clip020)\" d=\"M128.275 788.145 L152.386 788.145 L152.386 791.342 L128.275 791.342 L128.275 788.145 Z\" fill=\"#000000\" fill-rule=\"nonzero\" fill-opacity=\"1\" /><path clip-path=\"url(#clip020)\" d=\"M160.624 773.738 L175.539 773.738 L175.539 776.936 L164.103 776.936 L164.103 783.819 Q164.931 783.537 165.759 783.406 Q166.586 783.255 167.414 783.255 Q172.116 783.255 174.862 785.832 Q177.607 788.408 177.607 792.809 Q177.607 797.342 174.786 799.862 Q171.965 802.364 166.831 802.364 Q165.063 802.364 163.22 802.063 Q161.395 801.762 159.439 801.16 L159.439 797.342 Q161.132 798.264 162.937 798.715 Q164.743 799.166 166.755 799.166 Q170.009 799.166 171.909 797.455 Q173.808 795.743 173.808 792.809 Q173.808 789.875 171.909 788.164 Q170.009 786.452 166.755 786.452 Q165.232 786.452 163.709 786.791 Q162.204 787.129 160.624 787.844 L160.624 773.738 Z\" fill=\"#000000\" fill-rule=\"nonzero\" fill-opacity=\"1\" /><path clip-path=\"url(#clip020)\" d=\"M106.902 430.605 L114.541 430.605 L114.541 404.239 L106.231 405.906 L106.231 401.646 L114.494 399.98 L119.17 399.98 L119.17 430.605 L126.809 430.605 L126.809 434.54 L106.902 434.54 L106.902 430.605 Z\" fill=\"#000000\" fill-rule=\"nonzero\" fill-opacity=\"1\" /><path clip-path=\"url(#clip020)\" d=\"M146.253 403.058 Q142.642 403.058 140.814 406.623 Q139.008 410.165 139.008 417.295 Q139.008 424.401 140.814 427.966 Q142.642 431.507 146.253 431.507 Q149.888 431.507 151.693 427.966 Q153.522 424.401 153.522 417.295 Q153.522 410.165 151.693 406.623 Q149.888 403.058 146.253 403.058 M146.253 399.355 Q152.064 399.355 155.119 403.961 Q158.198 408.545 158.198 417.295 Q158.198 426.021 155.119 430.628 Q152.064 435.211 146.253 435.211 Q140.443 435.211 137.365 430.628 Q134.309 426.021 134.309 417.295 Q134.309 408.545 137.365 403.961 Q140.443 399.355 146.253 399.355 Z\" fill=\"#000000\" fill-rule=\"nonzero\" fill-opacity=\"1\" /><path clip-path=\"url(#clip020)\" d=\"M167.903 381.551 Q164.969 381.551 163.483 384.447 Q162.016 387.325 162.016 393.118 Q162.016 398.892 163.483 401.788 Q164.969 404.666 167.903 404.666 Q170.855 404.666 172.322 401.788 Q173.808 398.892 173.808 393.118 Q173.808 387.325 172.322 384.447 Q170.855 381.551 167.903 381.551 M167.903 378.542 Q172.623 378.542 175.106 382.284 Q177.607 386.008 177.607 393.118 Q177.607 400.208 175.106 403.951 Q172.623 407.675 167.903 407.675 Q163.182 407.675 160.68 403.951 Q158.198 400.208 158.198 393.118 Q158.198 386.008 160.68 382.284 Q163.182 378.542 167.903 378.542 Z\" fill=\"#000000\" fill-rule=\"nonzero\" fill-opacity=\"1\" /><polyline clip-path=\"url(#clip022)\" style=\"stroke:#009af9; stroke-linecap:round; stroke-linejoin:round; stroke-width:4; stroke-opacity:1; fill:none\" points=\"274.149,1234.37 946.838,609.092 1619.53,362.33 2292.21,87.9763 \"/>\n",
       "<polyline clip-path=\"url(#clip022)\" style=\"stroke:#e26f46; stroke-linecap:round; stroke-linejoin:round; stroke-width:4; stroke-opacity:1; fill:none\" points=\"274.149,1438.52 946.838,1402.11 1619.53,1445.72 2292.21,1317.14 \"/>\n",
       "<path clip-path=\"url(#clip020)\" d=\"M2015.11 250.738 L2281.45 250.738 L2281.45 95.2176 L2015.11 95.2176  Z\" fill=\"#ffffff\" fill-rule=\"evenodd\" fill-opacity=\"1\"/>\n",
       "<polyline clip-path=\"url(#clip020)\" style=\"stroke:#000000; stroke-linecap:round; stroke-linejoin:round; stroke-width:4; stroke-opacity:1; fill:none\" points=\"2015.11,250.738 2281.45,250.738 2281.45,95.2176 2015.11,95.2176 2015.11,250.738 \"/>\n",
       "<polyline clip-path=\"url(#clip020)\" style=\"stroke:#009af9; stroke-linecap:round; stroke-linejoin:round; stroke-width:4; stroke-opacity:1; fill:none\" points=\"2038.87,147.058 2181.48,147.058 \"/>\n",
       "<path clip-path=\"url(#clip020)\" d=\"M2219.09 166.745 Q2217.29 171.375 2215.58 172.787 Q2213.86 174.199 2210.99 174.199 L2207.59 174.199 L2207.59 170.634 L2210.09 170.634 Q2211.85 170.634 2212.82 169.8 Q2213.79 168.967 2214.97 165.865 L2215.74 163.921 L2205.25 138.412 L2209.77 138.412 L2217.87 158.689 L2225.97 138.412 L2230.48 138.412 L2219.09 166.745 Z\" fill=\"#000000\" fill-rule=\"nonzero\" fill-opacity=\"1\" /><path clip-path=\"url(#clip020)\" d=\"M2237.78 160.402 L2245.41 160.402 L2245.41 134.037 L2237.1 135.703 L2237.1 131.444 L2245.37 129.778 L2250.04 129.778 L2250.04 160.402 L2257.68 160.402 L2257.68 164.338 L2237.78 164.338 L2237.78 160.402 Z\" fill=\"#000000\" fill-rule=\"nonzero\" fill-opacity=\"1\" /><polyline clip-path=\"url(#clip020)\" style=\"stroke:#e26f46; stroke-linecap:round; stroke-linejoin:round; stroke-width:4; stroke-opacity:1; fill:none\" points=\"2038.87,198.898 2181.48,198.898 \"/>\n",
       "<path clip-path=\"url(#clip020)\" d=\"M2219.09 218.585 Q2217.29 223.215 2215.58 224.627 Q2213.86 226.039 2210.99 226.039 L2207.59 226.039 L2207.59 222.474 L2210.09 222.474 Q2211.85 222.474 2212.82 221.64 Q2213.79 220.807 2214.97 217.705 L2215.74 215.761 L2205.25 190.252 L2209.77 190.252 L2217.87 210.529 L2225.97 190.252 L2230.48 190.252 L2219.09 218.585 Z\" fill=\"#000000\" fill-rule=\"nonzero\" fill-opacity=\"1\" /><path clip-path=\"url(#clip020)\" d=\"M2240.99 212.242 L2257.31 212.242 L2257.31 216.178 L2235.37 216.178 L2235.37 212.242 Q2238.03 209.488 2242.61 204.858 Q2247.22 200.205 2248.4 198.863 Q2250.65 196.34 2251.53 194.604 Q2252.43 192.844 2252.43 191.155 Q2252.43 188.4 2250.48 186.664 Q2248.56 184.928 2245.46 184.928 Q2243.26 184.928 2240.81 185.692 Q2238.38 186.455 2235.6 188.006 L2235.6 183.284 Q2238.42 182.15 2240.88 181.571 Q2243.33 180.993 2245.37 180.993 Q2250.74 180.993 2253.93 183.678 Q2257.13 186.363 2257.13 190.854 Q2257.13 192.983 2256.32 194.905 Q2255.53 196.803 2253.42 199.395 Q2252.84 200.067 2249.74 203.284 Q2246.64 206.479 2240.99 212.242 Z\" fill=\"#000000\" fill-rule=\"nonzero\" fill-opacity=\"1\" /></svg>\n"
      ]
     },
     "execution_count": 50,
     "metadata": {},
     "output_type": "execute_result"
    }
   ],
   "source": [
    "# TODO: plot the error norm(A*(A\\b) - b) for the perturbed and unperturbed badmatrix(n).\n",
    "# What do you observe?\n",
    "errors1 = []\n",
    "errors2 = []\n",
    "for n in 25:25:100\n",
    "    b = randn(n)\n",
    "    A = badmatrix(n)\n",
    "    perturbation = randn(n, n)\n",
    "    push!(errors1, norm(A * (A \\ b) - b))\n",
    "    push!(errors2, norm((A + perturbation) * ((A + perturbation) \\ b) - b))\n",
    "end\n",
    "plot(25:25:100, errors1, yscale=:log10)\n",
    "plot!(25:25:100, errors2)"
   ]
  },
  {
   "cell_type": "markdown",
   "metadata": {},
   "source": [
    "-----"
   ]
  },
  {
   "cell_type": "markdown",
   "metadata": {},
   "source": [
    "## III.3 Cholesky factorisation"
   ]
  },
  {
   "cell_type": "markdown",
   "metadata": {},
   "source": [
    "The Cholesky factorisation is a special case of LU factorisation for the case\n",
    "when a matrix is symmetric positive definite (SPD). Hidden in the proof that a Cholesky factorisation\n",
    "exists if and only if the matrix is SPD is a simple algorithm for computing it:"
   ]
  },
  {
   "cell_type": "code",
   "execution_count": 51,
   "metadata": {},
   "outputs": [
    {
     "data": {
      "text/plain": [
       "\u001b[32m\u001b[1mTest Passed\u001b[22m\u001b[39m"
      ]
     },
     "execution_count": 51,
     "metadata": {},
     "output_type": "execute_result"
    }
   ],
   "source": [
    "function mycholesky(A)\n",
    "    T = eltype(A)\n",
    "    m,n = size(A)\n",
    "    if n ≠ m\n",
    "        error(\"Matrix must be square\")\n",
    "    end\n",
    "    if A ≠ A'\n",
    "        error(\"Matrix must be symmetric\")\n",
    "    end\n",
    "\n",
    "    L = LowerTriangular(zeros(T,n,n)) # a lower triangular matrix that at the end will satisfy L'L\n",
    "    Aⱼ = copy(A)\n",
    "    for j = 1:n\n",
    "        α,𝐯 = Aⱼ[1,1],Aⱼ[2:end,1]\n",
    "        if α ≤ 0\n",
    "            error(\"Matrix is not SPD\") # this error would be a proof that the matrix is not SPD, if done rigorously\n",
    "        end\n",
    "        L[j,j] = sqrt(α)\n",
    "        L[j+1:end,j] = 𝐯/sqrt(α)\n",
    "\n",
    "        # induction part\n",
    "        K = Aⱼ[2:end,2:end] # drop first row and column of A\n",
    "        Aⱼ = K - 𝐯*𝐯'/α\n",
    "    end\n",
    "    L\n",
    "end\n",
    "\n",
    "A = Symmetric(rand(100,100) + 100I) # Symmetric takes in a matrix and produces a symmetric version using the upper-triangular part.\n",
    "L = mycholesky(A)\n",
    "@test A ≈ L*L'"
   ]
  },
  {
   "cell_type": "markdown",
   "metadata": {},
   "source": [
    "With exact arithmetic algorithm succeeds if and only if $A$ is symmetric positive definite.\n",
    "With floating point errors this is not necessarily the case. (One could run it with interval arithmetic\n",
    "but that would only prove a matrix is SPD if the algorithm succeeded, failure could be caused by\n",
    "rounding.)"
   ]
  },
  {
   "cell_type": "markdown",
   "metadata": {},
   "source": [
    "In practice one would normally use the inbuilt `cholesky` function as follows:"
   ]
  },
  {
   "cell_type": "code",
   "execution_count": 52,
   "metadata": {},
   "outputs": [
    {
     "data": {
      "text/plain": [
       "\u001b[32m\u001b[1mTest Passed\u001b[22m\u001b[39m"
      ]
     },
     "execution_count": 52,
     "metadata": {},
     "output_type": "execute_result"
    }
   ],
   "source": [
    "L̃ = cholesky(A).L\n",
    "@test L̃ ≈ L # our implementation matches (approximately) the high-performance implementation."
   ]
  },
  {
   "cell_type": "markdown",
   "metadata": {},
   "source": [
    "In the following problem we consider a Cholesky factorisation for tridiagonal matrices. Since we are assuming the\n",
    "matrix is symmetric, we will use a special type `SymTridiagonal` that captures the symmetry.\n",
    "In particular, `SymTridiagonal(dv, ev) == Tridiagonal(ev, dv, ev)`."
   ]
  },
  {
   "cell_type": "markdown",
   "metadata": {},
   "source": [
    "-----"
   ]
  },
  {
   "cell_type": "markdown",
   "metadata": {},
   "source": [
    "**Problem 3** Use `mycholesky` or `cholesky` to deduce if the following matrices are SPD.\n",
    "$$\n",
    "\\begin{bmatrix} 1 & -1  \\\\\n",
    "-1 & 3\n",
    "\\end{bmatrix}, \\begin{bmatrix} 1 & 2 & 2  \\\\\n",
    "2 & 1 & 2\\\\\n",
    "2 & 2 & 1\n",
    "\\end{bmatrix}, \\begin{bmatrix} 3 & 2 & 1  \\\\\n",
    "2 & 4 & 2\\\\\n",
    "1 & 2 & 5\n",
    "\\end{bmatrix},\n",
    "\\begin{bmatrix} 4 & 2 & 2 & 1  \\\\\n",
    "2 & 4 & 2 & 2\\\\\n",
    "2 & 2 & 4 & 2 \\\\\n",
    "1 & 2 & 2 & 4\n",
    "\\end{bmatrix}\n",
    "$$"
   ]
  },
  {
   "cell_type": "code",
   "execution_count": 64,
   "metadata": {},
   "outputs": [
    {
     "name": "stdout",
     "output_type": "stream",
     "text": [
      "[1.0 0.0; -1.0 1.4142135623730951]\n",
      "[1.7320508075688772 0.0 0.0; 1.1547005383792517 1.632993161855452 0.0; 0.5773502691896258 0.8164965809277261 2.0]\n",
      "[2.0 0.0 0.0 0.0; 1.0 1.7320508075688772 0.0 0.0; 1.0 0.5773502691896258 1.632993161855452 0.0; 0.5 0.8660254037844387 0.6123724356957945 1.620185174601965]\n"
     ]
    },
    {
     "ename": "LoadError",
     "evalue": "PosDefException: matrix is not positive definite; Factorization failed.",
     "output_type": "error",
     "traceback": [
      "PosDefException: matrix is not positive definite; Factorization failed.",
      "",
      "Stacktrace:",
      "  [1] checkpositivedefinite",
      "    @ /Applications/Julia-1.11.app/Contents/Resources/julia/share/julia/stdlib/v1.11/LinearAlgebra/src/factorization.jl:68 [inlined]",
      "  [2] #cholesky!#163",
      "    @ /Applications/Julia-1.11.app/Contents/Resources/julia/share/julia/stdlib/v1.11/LinearAlgebra/src/cholesky.jl:269 [inlined]",
      "  [3] cholesky!",
      "    @ /Applications/Julia-1.11.app/Contents/Resources/julia/share/julia/stdlib/v1.11/LinearAlgebra/src/cholesky.jl:267 [inlined]",
      "  [4] #cholesky!#164",
      "    @ /Applications/Julia-1.11.app/Contents/Resources/julia/share/julia/stdlib/v1.11/LinearAlgebra/src/cholesky.jl:301 [inlined]",
      "  [5] cholesky! (repeats 2 times)",
      "    @ /Applications/Julia-1.11.app/Contents/Resources/julia/share/julia/stdlib/v1.11/LinearAlgebra/src/cholesky.jl:295 [inlined]",
      "  [6] _cholesky",
      "    @ /Applications/Julia-1.11.app/Contents/Resources/julia/share/julia/stdlib/v1.11/LinearAlgebra/src/cholesky.jl:411 [inlined]",
      "  [7] cholesky(A::Matrix{Float64}, ::NoPivot; check::Bool)",
      "    @ LinearAlgebra /Applications/Julia-1.11.app/Contents/Resources/julia/share/julia/stdlib/v1.11/LinearAlgebra/src/cholesky.jl:401",
      "  [8] cholesky",
      "    @ /Applications/Julia-1.11.app/Contents/Resources/julia/share/julia/stdlib/v1.11/LinearAlgebra/src/cholesky.jl:401 [inlined]",
      "  [9] cholesky(A::Matrix{Float64})",
      "    @ LinearAlgebra /Applications/Julia-1.11.app/Contents/Resources/julia/share/julia/stdlib/v1.11/LinearAlgebra/src/cholesky.jl:401",
      " [10] top-level scope",
      "    @ In[64]:17"
     ]
    }
   ],
   "source": [
    "# TODO: Check if you got PS5 Q1 correct using a computer to do the Cholesky factorisation.\n",
    "A = [1.0 -1;\n",
    "     -1 3]\n",
    "println(mycholesky(A))\n",
    "A = [3.0 2 1;\n",
    "     2 4 2;\n",
    "     1 2 5]\n",
    "println(mycholesky(A))\n",
    "A = [4.0 2 2 1;\n",
    "     2 4 2 2;\n",
    "     2 2 4 2;\n",
    "     1 2 2 4]\n",
    "println(mycholesky(A))\n",
    "A = [1.0 2 2;\n",
    "     2 1 2;\n",
    "     2 2 1]\n",
    "println(cholesky(A))"
   ]
  },
  {
   "cell_type": "markdown",
   "metadata": {},
   "source": [
    "**Problem 4** Complete the following\n",
    "implementation of `mycholesky` to return a `Bidiagonal` cholesky factor in $O(n)$ operations."
   ]
  },
  {
   "cell_type": "code",
   "execution_count": null,
   "metadata": {},
   "outputs": [],
   "source": [
    "# return a Bidiagonal L such that L'L == A (up to machine precision)\n",
    "# You are allowed to change A\n",
    "function mycholesky(A::SymTridiagonal)\n",
    "    d = A.dv # diagonal entries of A\n",
    "    u = A.ev # sub/super-diagonal entries of A\n",
    "    T = float(eltype(A)) # return type, make float in case A has Ints\n",
    "    n = length(d)\n",
    "    ld = zeros(T, n) # diagonal entries of L\n",
    "    ll = zeros(T, n-1) # sub-diagonal entries of L\n",
    "\n",
    "    # TODO: populate the diagonal entries ld and the sub-diagonal entries ll\n",
    "    # of L so that L*L' ≈ A\n",
    "\n",
    "    ld[1] = sqrt(d[1])\n",
    "    ll[1] = u[1] / ld[1]\n",
    "    for i in 2:n\n",
    "        ld[i] = sqrt(d[i] - ll[i - 1]^2)\n",
    "        ll[i] = u[i] / ld[i]\n",
    "    end\n",
    "\n",
    "    Bidiagonal(ld, ll, :L)\n",
    "end\n",
    "\n",
    "n = 1000\n",
    "A = SymTridiagonal(2*ones(n),-ones(n-1))\n",
    "L = mycholesky(A)\n",
    "@test L isa Bidiagonal\n",
    "@test L*L' ≈ A"
   ]
  },
  {
   "cell_type": "markdown",
   "metadata": {},
   "source": [
    "---\n",
    "\n",
    "*This notebook was generated using [Literate.jl](https://github.com/fredrikekre/Literate.jl).*"
   ]
  }
 ],
 "metadata": {
  "kernelspec": {
   "display_name": "Julia 1.11.2",
   "language": "julia",
   "name": "julia-1.11"
  },
  "language_info": {
   "file_extension": ".jl",
   "mimetype": "application/julia",
   "name": "julia",
   "version": "1.11.2"
  }
 },
 "nbformat": 4,
 "nbformat_minor": 4
}
