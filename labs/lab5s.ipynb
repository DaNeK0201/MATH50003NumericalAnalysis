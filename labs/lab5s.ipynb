{
 "cells": [
  {
   "cell_type": "markdown",
   "metadata": {},
   "source": [
    "# MATH50003 (2024–25)\n",
    "# Lab 5: III.2 LU Factorisation and III.3 Cholesky Factorisation"
   ]
  },
  {
   "cell_type": "markdown",
   "metadata": {},
   "source": [
    "In this lab we explore using LU, PLU and Cholesky factorisations, and\n",
    "implement algorithms for computing a Cholesky factorisation. We explore\n",
    "stability properties of these different factorisations, and see that the\n",
    "Cholesky factorisation is a robust way of determining if a matrix is symmetric\n",
    "postive definite."
   ]
  },
  {
   "cell_type": "markdown",
   "metadata": {},
   "source": [
    "**Learning Outcomes**\n",
    "\n",
    "Mathematical knowledge:\n",
    "\n",
    "1. LU and PLU factorisations\n",
    "2. Cholesky and reverse Cholesky factorisations, including for banded matrices."
   ]
  },
  {
   "cell_type": "markdown",
   "metadata": {},
   "source": [
    "Coding knowledge:\n",
    "\n",
    "1. Using the `lu` and `cholesky` functions."
   ]
  },
  {
   "cell_type": "markdown",
   "metadata": {},
   "source": [
    "We load the following packages:"
   ]
  },
  {
   "cell_type": "code",
   "execution_count": 1,
   "metadata": {},
   "outputs": [],
   "source": [
    "using LinearAlgebra, Plots, Test"
   ]
  },
  {
   "cell_type": "markdown",
   "metadata": {},
   "source": [
    "### III.2 LU and PLU Factorisations"
   ]
  },
  {
   "cell_type": "markdown",
   "metadata": {},
   "source": [
    "LU, PLU and Cholesky factorisations are closely related\n",
    "matrix factorisations that reduce a square matrix to a product of\n",
    "lower and upper triangular matrices, possibly with a permutation matrix.\n",
    "We will only focus on the practical usage of LU and PLU, without digging into the\n",
    "details of implementation."
   ]
  },
  {
   "cell_type": "markdown",
   "metadata": {},
   "source": [
    "### III.2.1 LU Factorisation"
   ]
  },
  {
   "cell_type": "markdown",
   "metadata": {},
   "source": [
    "If $A ∈ 𝔽^{n × n}$ is a square matrix where $𝔽$ is a field ($ℝ$ or $ℂ$)\n",
    "then we can sometimes find lower and upper triangular matrices $L,U ∈ 𝔽^{n × n}$ such that\n",
    "$$\n",
    "A = LU.\n",
    "$$\n",
    "This is equivalent to Gaussian elimination but we will only focus on practical usage in this lab.\n",
    "This factorisation can be computed using the `lu` function, but as the default is a PLU factorisation we add a flag\n",
    "telling it not to use pivoting/permutations:"
   ]
  },
  {
   "cell_type": "code",
   "execution_count": 2,
   "metadata": {},
   "outputs": [
    {
     "data": {
      "text/plain": [
       "LU{Float64, Matrix{Float64}, Vector{Int64}}\n",
       "L factor:\n",
       "3×3 Matrix{Float64}:\n",
       " 1.0  0.0  0.0\n",
       " 2.0  1.0  0.0\n",
       " 1.0  1.5  1.0\n",
       "U factor:\n",
       "3×3 Matrix{Float64}:\n",
       " 1.0  1.0   1.0\n",
       " 0.0  2.0   6.0\n",
       " 0.0  0.0  -1.0"
      ]
     },
     "execution_count": 2,
     "metadata": {},
     "output_type": "execute_result"
    }
   ],
   "source": [
    "A = [1.0 1 1;\n",
    "     2   4 8;\n",
    "     1   4 9]\n",
    "\n",
    "L,U = lu(A, NoPivot()) # NoPivot is a flag that tells lu to not use permutations"
   ]
  },
  {
   "cell_type": "markdown",
   "metadata": {},
   "source": [
    "This matches what we derived by hand in the notes and indeed:"
   ]
  },
  {
   "cell_type": "code",
   "execution_count": 3,
   "metadata": {},
   "outputs": [
    {
     "data": {
      "text/plain": [
       "\u001b[32m\u001b[1mTest Passed\u001b[22m\u001b[39m"
      ]
     },
     "execution_count": 3,
     "metadata": {},
     "output_type": "execute_result"
    }
   ],
   "source": [
    "@test A ≈ L*U"
   ]
  },
  {
   "cell_type": "markdown",
   "metadata": {},
   "source": [
    "We can use an LU factorisation to reduce solving a linear system to inverting triangular matrices:"
   ]
  },
  {
   "cell_type": "code",
   "execution_count": 4,
   "metadata": {},
   "outputs": [
    {
     "data": {
      "text/plain": [
       "\u001b[32m\u001b[1mTest Passed\u001b[22m\u001b[39m"
      ]
     },
     "execution_count": 4,
     "metadata": {},
     "output_type": "execute_result"
    }
   ],
   "source": [
    "b = randn(3)\n",
    "c = L \\ b # computed using forward elimination (even though L is a Matrix, \\ detects it is lower triangular)\n",
    "x = U \\ c # computed using back substitution\n",
    "@test A \\ b ≈ x"
   ]
  },
  {
   "cell_type": "markdown",
   "metadata": {},
   "source": [
    "If a matrix has a zero on a pivot we know by equivalence to Gaussian elimination that an LU factorisation\n",
    "does not exist:"
   ]
  },
  {
   "cell_type": "code",
   "execution_count": 5,
   "metadata": {},
   "outputs": [
    {
     "ename": "LoadError",
     "evalue": "ZeroPivotException: factorization encountered one or more zero pivots. Consider switching to a pivoted LU factorization.",
     "output_type": "error",
     "traceback": [
      "ZeroPivotException: factorization encountered one or more zero pivots. Consider switching to a pivoted LU factorization.",
      "",
      "Stacktrace:",
      " [1] checknozeropivot",
      "   @ /Applications/Julia-1.11.app/Contents/Resources/julia/share/julia/stdlib/v1.11/LinearAlgebra/src/factorization.jl:70 [inlined]",
      " [2] _check_lu_success",
      "   @ /Applications/Julia-1.11.app/Contents/Resources/julia/share/julia/stdlib/v1.11/LinearAlgebra/src/lu.jl:82 [inlined]",
      " [3] generic_lufact!(A::Matrix{Float64}, pivot::NoPivot; check::Bool, allowsingular::Bool)",
      "   @ LinearAlgebra /Applications/Julia-1.11.app/Contents/Resources/julia/share/julia/stdlib/v1.11/LinearAlgebra/src/lu.jl:214",
      " [4] generic_lufact!",
      "   @ /Applications/Julia-1.11.app/Contents/Resources/julia/share/julia/stdlib/v1.11/LinearAlgebra/src/lu.jl:152 [inlined]",
      " [5] lu!",
      "   @ /Applications/Julia-1.11.app/Contents/Resources/julia/share/julia/stdlib/v1.11/LinearAlgebra/src/lu.jl:151 [inlined]",
      " [6] _lu",
      "   @ /Applications/Julia-1.11.app/Contents/Resources/julia/share/julia/stdlib/v1.11/LinearAlgebra/src/lu.jl:347 [inlined]",
      " [7] lu(A::Matrix{Float64}, args::NoPivot; kwargs::@Kwargs{})",
      "   @ LinearAlgebra /Applications/Julia-1.11.app/Contents/Resources/julia/share/julia/stdlib/v1.11/LinearAlgebra/src/lu.jl:341",
      " [8] lu(A::Matrix{Float64}, args::NoPivot)",
      "   @ LinearAlgebra /Applications/Julia-1.11.app/Contents/Resources/julia/share/julia/stdlib/v1.11/LinearAlgebra/src/lu.jl:341",
      " [9] top-level scope",
      "   @ In[5]:2"
     ]
    }
   ],
   "source": [
    "A[1,1] = 0\n",
    "lu(A, NoPivot()) # throws an error"
   ]
  },
  {
   "cell_type": "markdown",
   "metadata": {},
   "source": [
    "But even if it has a very small but non-zero entry we get huge errors:"
   ]
  },
  {
   "cell_type": "code",
   "execution_count": 6,
   "metadata": {},
   "outputs": [
    {
     "data": {
      "text/plain": [
       "LU{Float64, Matrix{Float64}, Vector{Int64}}\n",
       "L factor:\n",
       "3×3 Matrix{Float64}:\n",
       " 1.0     0.0  0.0\n",
       " 2.0e14  1.0  0.0\n",
       " 1.0e14  0.5  1.0\n",
       "U factor:\n",
       "3×3 Matrix{Float64}:\n",
       " 1.0e-14   1.0      1.0\n",
       " 0.0      -2.0e14  -2.0e14\n",
       " 0.0       0.0      3.0"
      ]
     },
     "execution_count": 6,
     "metadata": {},
     "output_type": "execute_result"
    }
   ],
   "source": [
    "A[1,1] = 1E-14\n",
    "L,U = lu(A, NoPivot()) # Succeeds but suddenly U is on order of 2E14!"
   ]
  },
  {
   "cell_type": "code",
   "execution_count": 7,
   "metadata": {},
   "outputs": [
    {
     "data": {
      "text/plain": [
       "0.0046688974905500615"
      ]
     },
     "execution_count": 7,
     "metadata": {},
     "output_type": "execute_result"
    }
   ],
   "source": [
    "norm(A \\ b - U\\(L\\b)) # Very large error! A \\ b uses pivoting now."
   ]
  },
  {
   "cell_type": "markdown",
   "metadata": {},
   "source": [
    "**WARNING** The parantheses are important: algebra is left-associative so had we written `U\\L\\b` this would have been interpreted as\n",
    "`(U\\L) \\ b` which would have meant `inv(inv(U)*L)*b == L \\ (U*b)`."
   ]
  },
  {
   "cell_type": "markdown",
   "metadata": {},
   "source": [
    "-----"
   ]
  },
  {
   "cell_type": "markdown",
   "metadata": {},
   "source": [
    "**Problem 1** For `A` defined above, consider setting  `A[1,1] = ε` for `ε = 10.0 ^ (-k)` for `k = 0,…,14`\n",
    "with the right-hand side `b = [1,2,3]`.\n",
    "Plot, scaling the $y$-axis logarithmically, the growth rate in the error of using LU compared to `\\`.\n",
    "Make a conjecture on how the error grows as $k → ∞$.\n",
    "Hint: you can either allocate a vector of errors that is populated in a for-loop or write a simple comprehension."
   ]
  },
  {
   "cell_type": "code",
   "execution_count": 9,
   "metadata": {},
   "outputs": [
    {
     "data": {
      "image/png": "[encoded data removed]",
      "image/svg+xml": [
       "<?xml version=\"1.0\" encoding=\"utf-8\"?>\n",
       "<svg xmlns=\"http://www.w3.org/2000/svg\" xmlns:xlink=\"http://www.w3.org/1999/xlink\" width=\"600\" height=\"400\" viewBox=\"0 0 2400 1600\">\n",
       "<defs>\n",
       "  <clipPath id=\"clip130\">\n",
       "    <rect x=\"0\" y=\"0\" width=\"2400\" height=\"1600\"/>\n",
       "  </clipPath>\n",
       "</defs>\n",
       "<path clip-path=\"url(#clip130)\" d=\"M0 1600 L2400 1600 L2400 0 L0 0  Z\" fill=\"#ffffff\" fill-rule=\"evenodd\" fill-opacity=\"1\"/>\n",
       "<defs>\n",
       "  <clipPath id=\"clip131\">\n",
       "    <rect x=\"480\" y=\"0\" width=\"1681\" height=\"1600\"/>\n",
       "  </clipPath>\n",
       "</defs>\n",
       "<path clip-path=\"url(#clip130)\" d=\"M214.002 1486.45 L2352.76 1486.45 L2352.76 47.2441 L214.002 47.2441  Z\" fill=\"#ffffff\" fill-rule=\"evenodd\" fill-opacity=\"1\"/>\n",
       "<defs>\n",
       "  <clipPath id=\"clip132\">\n",
       "    <rect x=\"214\" y=\"47\" width=\"2140\" height=\"1440\"/>\n",
       "  </clipPath>\n",
       "</defs>\n",
       "<polyline clip-path=\"url(#clip132)\" style=\"stroke:#000000; stroke-linecap:round; stroke-linejoin:round; stroke-width:2; stroke-opacity:0.1; fill:none\" points=\"274.533,1486.45 274.533,47.2441 \"/>\n",
       "<polyline clip-path=\"url(#clip132)\" style=\"stroke:#000000; stroke-linecap:round; stroke-linejoin:round; stroke-width:2; stroke-opacity:0.1; fill:none\" points=\"418.654,1486.45 418.654,47.2441 \"/>\n",
       "<polyline clip-path=\"url(#clip132)\" style=\"stroke:#000000; stroke-linecap:round; stroke-linejoin:round; stroke-width:2; stroke-opacity:0.1; fill:none\" points=\"562.775,1486.45 562.775,47.2441 \"/>\n",
       "<polyline clip-path=\"url(#clip132)\" style=\"stroke:#000000; stroke-linecap:round; stroke-linejoin:round; stroke-width:2; stroke-opacity:0.1; fill:none\" points=\"706.896,1486.45 706.896,47.2441 \"/>\n",
       "<polyline clip-path=\"url(#clip132)\" style=\"stroke:#000000; stroke-linecap:round; stroke-linejoin:round; stroke-width:2; stroke-opacity:0.1; fill:none\" points=\"851.017,1486.45 851.017,47.2441 \"/>\n",
       "<polyline clip-path=\"url(#clip132)\" style=\"stroke:#000000; stroke-linecap:round; stroke-linejoin:round; stroke-width:2; stroke-opacity:0.1; fill:none\" points=\"995.137,1486.45 995.137,47.2441 \"/>\n",
       "<polyline clip-path=\"url(#clip132)\" style=\"stroke:#000000; stroke-linecap:round; stroke-linejoin:round; stroke-width:2; stroke-opacity:0.1; fill:none\" points=\"1139.26,1486.45 1139.26,47.2441 \"/>\n",
       "<polyline clip-path=\"url(#clip132)\" style=\"stroke:#000000; stroke-linecap:round; stroke-linejoin:round; stroke-width:2; stroke-opacity:0.1; fill:none\" points=\"1283.38,1486.45 1283.38,47.2441 \"/>\n",
       "<polyline clip-path=\"url(#clip132)\" style=\"stroke:#000000; stroke-linecap:round; stroke-linejoin:round; stroke-width:2; stroke-opacity:0.1; fill:none\" points=\"1427.5,1486.45 1427.5,47.2441 \"/>\n",
       "<polyline clip-path=\"url(#clip132)\" style=\"stroke:#000000; stroke-linecap:round; stroke-linejoin:round; stroke-width:2; stroke-opacity:0.1; fill:none\" points=\"1571.62,1486.45 1571.62,47.2441 \"/>\n",
       "<polyline clip-path=\"url(#clip132)\" style=\"stroke:#000000; stroke-linecap:round; stroke-linejoin:round; stroke-width:2; stroke-opacity:0.1; fill:none\" points=\"1715.74,1486.45 1715.74,47.2441 \"/>\n",
       "<polyline clip-path=\"url(#clip132)\" style=\"stroke:#000000; stroke-linecap:round; stroke-linejoin:round; stroke-width:2; stroke-opacity:0.1; fill:none\" points=\"1859.86,1486.45 1859.86,47.2441 \"/>\n",
       "<polyline clip-path=\"url(#clip132)\" style=\"stroke:#000000; stroke-linecap:round; stroke-linejoin:round; stroke-width:2; stroke-opacity:0.1; fill:none\" points=\"2003.98,1486.45 2003.98,47.2441 \"/>\n",
       "<polyline clip-path=\"url(#clip132)\" style=\"stroke:#000000; stroke-linecap:round; stroke-linejoin:round; stroke-width:2; stroke-opacity:0.1; fill:none\" points=\"2148.1,1486.45 2148.1,47.2441 \"/>\n",
       "<polyline clip-path=\"url(#clip132)\" style=\"stroke:#000000; stroke-linecap:round; stroke-linejoin:round; stroke-width:2; stroke-opacity:0.1; fill:none\" points=\"2292.23,1486.45 2292.23,47.2441 \"/>\n",
       "<polyline clip-path=\"url(#clip132)\" style=\"stroke:#000000; stroke-linecap:round; stroke-linejoin:round; stroke-width:2; stroke-opacity:0.1; fill:none\" points=\"214.002,1406.68 2352.76,1406.68 \"/>\n",
       "<polyline clip-path=\"url(#clip132)\" style=\"stroke:#000000; stroke-linecap:round; stroke-linejoin:round; stroke-width:2; stroke-opacity:0.1; fill:none\" points=\"214.002,1295.89 2352.76,1295.89 \"/>\n",
       "<polyline clip-path=\"url(#clip132)\" style=\"stroke:#000000; stroke-linecap:round; stroke-linejoin:round; stroke-width:2; stroke-opacity:0.1; fill:none\" points=\"214.002,1185.1 2352.76,1185.1 \"/>\n",
       "<polyline clip-path=\"url(#clip132)\" style=\"stroke:#000000; stroke-linecap:round; stroke-linejoin:round; stroke-width:2; stroke-opacity:0.1; fill:none\" points=\"214.002,1074.31 2352.76,1074.31 \"/>\n",
       "<polyline clip-path=\"url(#clip132)\" style=\"stroke:#000000; stroke-linecap:round; stroke-linejoin:round; stroke-width:2; stroke-opacity:0.1; fill:none\" points=\"214.002,963.52 2352.76,963.52 \"/>\n",
       "<polyline clip-path=\"url(#clip132)\" style=\"stroke:#000000; stroke-linecap:round; stroke-linejoin:round; stroke-width:2; stroke-opacity:0.1; fill:none\" points=\"214.002,852.73 2352.76,852.73 \"/>\n",
       "<polyline clip-path=\"url(#clip132)\" style=\"stroke:#000000; stroke-linecap:round; stroke-linejoin:round; stroke-width:2; stroke-opacity:0.1; fill:none\" points=\"214.002,741.939 2352.76,741.939 \"/>\n",
       "<polyline clip-path=\"url(#clip132)\" style=\"stroke:#000000; stroke-linecap:round; stroke-linejoin:round; stroke-width:2; stroke-opacity:0.1; fill:none\" points=\"214.002,631.149 2352.76,631.149 \"/>\n",
       "<polyline clip-path=\"url(#clip132)\" style=\"stroke:#000000; stroke-linecap:round; stroke-linejoin:round; stroke-width:2; stroke-opacity:0.1; fill:none\" points=\"214.002,520.358 2352.76,520.358 \"/>\n",
       "<polyline clip-path=\"url(#clip132)\" style=\"stroke:#000000; stroke-linecap:round; stroke-linejoin:round; stroke-width:2; stroke-opacity:0.1; fill:none\" points=\"214.002,409.568 2352.76,409.568 \"/>\n",
       "<polyline clip-path=\"url(#clip132)\" style=\"stroke:#000000; stroke-linecap:round; stroke-linejoin:round; stroke-width:2; stroke-opacity:0.1; fill:none\" points=\"214.002,298.777 2352.76,298.777 \"/>\n",
       "<polyline clip-path=\"url(#clip132)\" style=\"stroke:#000000; stroke-linecap:round; stroke-linejoin:round; stroke-width:2; stroke-opacity:0.1; fill:none\" points=\"214.002,187.987 2352.76,187.987 \"/>\n",
       "<polyline clip-path=\"url(#clip132)\" style=\"stroke:#000000; stroke-linecap:round; stroke-linejoin:round; stroke-width:2; stroke-opacity:0.1; fill:none\" points=\"214.002,77.1961 2352.76,77.1961 \"/>\n",
       "<polyline clip-path=\"url(#clip130)\" style=\"stroke:#000000; stroke-linecap:round; stroke-linejoin:round; stroke-width:4; stroke-opacity:1; fill:none\" points=\"214.002,1486.45 2352.76,1486.45 \"/>\n",
       "<polyline clip-path=\"url(#clip130)\" style=\"stroke:#000000; stroke-linecap:round; stroke-linejoin:round; stroke-width:4; stroke-opacity:1; fill:none\" points=\"274.533,1486.45 274.533,1467.55 \"/>\n",
       "<polyline clip-path=\"url(#clip130)\" style=\"stroke:#000000; stroke-linecap:round; stroke-linejoin:round; stroke-width:4; stroke-opacity:1; fill:none\" points=\"418.654,1486.45 418.654,1467.55 \"/>\n",
       "<polyline clip-path=\"url(#clip130)\" style=\"stroke:#000000; stroke-linecap:round; stroke-linejoin:round; stroke-width:4; stroke-opacity:1; fill:none\" points=\"562.775,1486.45 562.775,1467.55 \"/>\n",
       "<polyline clip-path=\"url(#clip130)\" style=\"stroke:#000000; stroke-linecap:round; stroke-linejoin:round; stroke-width:4; stroke-opacity:1; fill:none\" points=\"706.896,1486.45 706.896,1467.55 \"/>\n",
       "<polyline clip-path=\"url(#clip130)\" style=\"stroke:#000000; stroke-linecap:round; stroke-linejoin:round; stroke-width:4; stroke-opacity:1; fill:none\" points=\"851.017,1486.45 851.017,1467.55 \"/>\n",
       "<polyline clip-path=\"url(#clip130)\" style=\"stroke:#000000; stroke-linecap:round; stroke-linejoin:round; stroke-width:4; stroke-opacity:1; fill:none\" points=\"995.137,1486.45 995.137,1467.55 \"/>\n",
       "<polyline clip-path=\"url(#clip130)\" style=\"stroke:#000000; stroke-linecap:round; stroke-linejoin:round; stroke-width:4; stroke-opacity:1; fill:none\" points=\"1139.26,1486.45 1139.26,1467.55 \"/>\n",
       "<polyline clip-path=\"url(#clip130)\" style=\"stroke:#000000; stroke-linecap:round; stroke-linejoin:round; stroke-width:4; stroke-opacity:1; fill:none\" points=\"1283.38,1486.45 1283.38,1467.55 \"/>\n",
       "<polyline clip-path=\"url(#clip130)\" style=\"stroke:#000000; stroke-linecap:round; stroke-linejoin:round; stroke-width:4; stroke-opacity:1; fill:none\" points=\"1427.5,1486.45 1427.5,1467.55 \"/>\n",
       "<polyline clip-path=\"url(#clip130)\" style=\"stroke:#000000; stroke-linecap:round; stroke-linejoin:round; stroke-width:4; stroke-opacity:1; fill:none\" points=\"1571.62,1486.45 1571.62,1467.55 \"/>\n",
       "<polyline clip-path=\"url(#clip130)\" style=\"stroke:#000000; stroke-linecap:round; stroke-linejoin:round; stroke-width:4; stroke-opacity:1; fill:none\" points=\"1715.74,1486.45 1715.74,1467.55 \"/>\n",
       "<polyline clip-path=\"url(#clip130)\" style=\"stroke:#000000; stroke-linecap:round; stroke-linejoin:round; stroke-width:4; stroke-opacity:1; fill:none\" points=\"1859.86,1486.45 1859.86,1467.55 \"/>\n",
       "<polyline clip-path=\"url(#clip130)\" style=\"stroke:#000000; stroke-linecap:round; stroke-linejoin:round; stroke-width:4; stroke-opacity:1; fill:none\" points=\"2003.98,1486.45 2003.98,1467.55 \"/>\n",
       "<polyline clip-path=\"url(#clip130)\" style=\"stroke:#000000; stroke-linecap:round; stroke-linejoin:round; stroke-width:4; stroke-opacity:1; fill:none\" points=\"2148.1,1486.45 2148.1,1467.55 \"/>\n",
       "<polyline clip-path=\"url(#clip130)\" style=\"stroke:#000000; stroke-linecap:round; stroke-linejoin:round; stroke-width:4; stroke-opacity:1; fill:none\" points=\"2292.23,1486.45 2292.23,1467.55 \"/>\n",
       "<path clip-path=\"url(#clip130)\" d=\"M274.533 1517.37 Q270.922 1517.37 269.093 1520.93 Q267.288 1524.47 267.288 1531.6 Q267.288 1538.71 269.093 1542.27 Q270.922 1545.82 274.533 1545.82 Q278.167 1545.82 279.973 1542.27 Q281.802 1538.71 281.802 1531.6 Q281.802 1524.47 279.973 1520.93 Q278.167 1517.37 274.533 1517.37 M274.533 1513.66 Q280.343 1513.66 283.399 1518.27 Q286.478 1522.85 286.478 1531.6 Q286.478 1540.33 283.399 1544.94 Q280.343 1549.52 274.533 1549.52 Q268.723 1549.52 265.644 1544.94 Q262.589 1540.33 262.589 1531.6 Q262.589 1522.85 265.644 1518.27 Q268.723 1513.66 274.533 1513.66 Z\" fill=\"#000000\" fill-rule=\"nonzero\" fill-opacity=\"1\" /><path clip-path=\"url(#clip130)\" d=\"M409.036 1544.91 L416.675 1544.91 L416.675 1518.55 L408.365 1520.21 L408.365 1515.95 L416.629 1514.29 L421.305 1514.29 L421.305 1544.91 L428.943 1544.91 L428.943 1548.85 L409.036 1548.85 L409.036 1544.91 Z\" fill=\"#000000\" fill-rule=\"nonzero\" fill-opacity=\"1\" /><path clip-path=\"url(#clip130)\" d=\"M557.428 1544.91 L573.747 1544.91 L573.747 1548.85 L551.803 1548.85 L551.803 1544.91 Q554.465 1542.16 559.048 1537.53 Q563.655 1532.88 564.835 1531.53 Q567.08 1529.01 567.96 1527.27 Q568.863 1525.51 568.863 1523.82 Q568.863 1521.07 566.918 1519.33 Q564.997 1517.6 561.895 1517.6 Q559.696 1517.6 557.243 1518.36 Q554.812 1519.13 552.034 1520.68 L552.034 1515.95 Q554.858 1514.82 557.312 1514.24 Q559.766 1513.66 561.803 1513.66 Q567.173 1513.66 570.367 1516.35 Q573.562 1519.03 573.562 1523.52 Q573.562 1525.65 572.752 1527.57 Q571.965 1529.47 569.858 1532.07 Q569.28 1532.74 566.178 1535.95 Q563.076 1539.15 557.428 1544.91 Z\" fill=\"#000000\" fill-rule=\"nonzero\" fill-opacity=\"1\" /><path clip-path=\"url(#clip130)\" d=\"M711.143 1530.21 Q714.5 1530.93 716.375 1533.2 Q718.273 1535.47 718.273 1538.8 Q718.273 1543.92 714.755 1546.72 Q711.236 1549.52 704.755 1549.52 Q702.579 1549.52 700.264 1549.08 Q697.972 1548.66 695.519 1547.81 L695.519 1543.29 Q697.463 1544.43 699.778 1545.01 Q702.093 1545.58 704.616 1545.58 Q709.014 1545.58 711.305 1543.85 Q713.62 1542.11 713.62 1538.8 Q713.62 1535.75 711.467 1534.03 Q709.338 1532.3 705.518 1532.3 L701.491 1532.3 L701.491 1528.45 L705.704 1528.45 Q709.153 1528.45 710.981 1527.09 Q712.81 1525.7 712.81 1523.11 Q712.81 1520.45 710.912 1519.03 Q709.037 1517.6 705.518 1517.6 Q703.597 1517.6 701.398 1518.01 Q699.199 1518.43 696.56 1519.31 L696.56 1515.14 Q699.222 1514.4 701.537 1514.03 Q703.875 1513.66 705.935 1513.66 Q711.259 1513.66 714.361 1516.09 Q717.463 1518.5 717.463 1522.62 Q717.463 1525.49 715.819 1527.48 Q714.176 1529.45 711.143 1530.21 Z\" fill=\"#000000\" fill-rule=\"nonzero\" fill-opacity=\"1\" /><path clip-path=\"url(#clip130)\" d=\"M854.026 1518.36 L842.22 1536.81 L854.026 1536.81 L854.026 1518.36 M852.799 1514.29 L858.679 1514.29 L858.679 1536.81 L863.609 1536.81 L863.609 1540.7 L858.679 1540.7 L858.679 1548.85 L854.026 1548.85 L854.026 1540.7 L838.424 1540.7 L838.424 1536.19 L852.799 1514.29 Z\" fill=\"#000000\" fill-rule=\"nonzero\" fill-opacity=\"1\" /><path clip-path=\"url(#clip130)\" d=\"M985.415 1514.29 L1003.77 1514.29 L1003.77 1518.22 L989.698 1518.22 L989.698 1526.7 Q990.716 1526.35 991.735 1526.19 Q992.753 1526 993.772 1526 Q999.559 1526 1002.94 1529.17 Q1006.32 1532.34 1006.32 1537.76 Q1006.32 1543.34 1002.85 1546.44 Q999.374 1549.52 993.054 1549.52 Q990.878 1549.52 988.61 1549.15 Q986.364 1548.78 983.957 1548.04 L983.957 1543.34 Q986.04 1544.47 988.263 1545.03 Q990.485 1545.58 992.962 1545.58 Q996.966 1545.58 999.304 1543.48 Q1001.64 1541.37 1001.64 1537.76 Q1001.64 1534.15 999.304 1532.04 Q996.966 1529.94 992.962 1529.94 Q991.087 1529.94 989.212 1530.35 Q987.36 1530.77 985.415 1531.65 L985.415 1514.29 Z\" fill=\"#000000\" fill-rule=\"nonzero\" fill-opacity=\"1\" /><path clip-path=\"url(#clip130)\" d=\"M1139.66 1529.7 Q1136.52 1529.7 1134.66 1531.86 Q1132.83 1534.01 1132.83 1537.76 Q1132.83 1541.49 1134.66 1543.66 Q1136.52 1545.82 1139.66 1545.82 Q1142.81 1545.82 1144.64 1543.66 Q1146.49 1541.49 1146.49 1537.76 Q1146.49 1534.01 1144.64 1531.86 Q1142.81 1529.7 1139.66 1529.7 M1148.95 1515.05 L1148.95 1519.31 Q1147.19 1518.48 1145.38 1518.04 Q1143.6 1517.6 1141.84 1517.6 Q1137.21 1517.6 1134.76 1520.72 Q1132.33 1523.85 1131.98 1530.17 Q1133.34 1528.15 1135.4 1527.09 Q1137.46 1526 1139.94 1526 Q1145.15 1526 1148.16 1529.17 Q1151.19 1532.32 1151.19 1537.76 Q1151.19 1543.08 1148.04 1546.3 Q1144.89 1549.52 1139.66 1549.52 Q1133.67 1549.52 1130.5 1544.94 Q1127.33 1540.33 1127.33 1531.6 Q1127.33 1523.41 1131.21 1518.55 Q1135.1 1513.66 1141.65 1513.66 Q1143.41 1513.66 1145.2 1514.01 Q1147 1514.36 1148.95 1515.05 Z\" fill=\"#000000\" fill-rule=\"nonzero\" fill-opacity=\"1\" /><path clip-path=\"url(#clip130)\" d=\"M1272.27 1514.29 L1294.49 1514.29 L1294.49 1516.28 L1281.94 1548.85 L1277.06 1548.85 L1288.87 1518.22 L1272.27 1518.22 L1272.27 1514.29 Z\" fill=\"#000000\" fill-rule=\"nonzero\" fill-opacity=\"1\" /><path clip-path=\"url(#clip130)\" d=\"M1427.5 1532.44 Q1424.17 1532.44 1422.25 1534.22 Q1420.35 1536 1420.35 1539.13 Q1420.35 1542.25 1422.25 1544.03 Q1424.17 1545.82 1427.5 1545.82 Q1430.83 1545.82 1432.75 1544.03 Q1434.68 1542.23 1434.68 1539.13 Q1434.68 1536 1432.75 1534.22 Q1430.86 1532.44 1427.5 1532.44 M1422.82 1530.45 Q1419.81 1529.7 1418.13 1527.64 Q1416.46 1525.58 1416.46 1522.62 Q1416.46 1518.48 1419.4 1516.07 Q1422.36 1513.66 1427.5 1513.66 Q1432.66 1513.66 1435.6 1516.07 Q1438.54 1518.48 1438.54 1522.62 Q1438.54 1525.58 1436.85 1527.64 Q1435.19 1529.7 1432.2 1530.45 Q1435.58 1531.23 1437.45 1533.52 Q1439.35 1535.82 1439.35 1539.13 Q1439.35 1544.15 1436.27 1546.83 Q1433.22 1549.52 1427.5 1549.52 Q1421.78 1549.52 1418.7 1546.83 Q1415.65 1544.15 1415.65 1539.13 Q1415.65 1535.82 1417.55 1533.52 Q1419.44 1531.23 1422.82 1530.45 M1421.11 1523.06 Q1421.11 1525.75 1422.78 1527.25 Q1424.47 1528.76 1427.5 1528.76 Q1430.51 1528.76 1432.2 1527.25 Q1433.91 1525.75 1433.91 1523.06 Q1433.91 1520.38 1432.2 1518.87 Q1430.51 1517.37 1427.5 1517.37 Q1424.47 1517.37 1422.78 1518.87 Q1421.11 1520.38 1421.11 1523.06 Z\" fill=\"#000000\" fill-rule=\"nonzero\" fill-opacity=\"1\" /><path clip-path=\"url(#clip130)\" d=\"M1561.92 1548.13 L1561.92 1543.87 Q1563.68 1544.7 1565.49 1545.14 Q1567.29 1545.58 1569.03 1545.58 Q1573.66 1545.58 1576.09 1542.48 Q1578.54 1539.36 1578.89 1533.01 Q1577.55 1535.01 1575.49 1536.07 Q1573.43 1537.13 1570.93 1537.13 Q1565.74 1537.13 1562.71 1534.01 Q1559.7 1530.86 1559.7 1525.42 Q1559.7 1520.1 1562.85 1516.88 Q1566 1513.66 1571.23 1513.66 Q1577.22 1513.66 1580.37 1518.27 Q1583.54 1522.85 1583.54 1531.6 Q1583.54 1539.77 1579.65 1544.66 Q1575.79 1549.52 1569.24 1549.52 Q1567.48 1549.52 1565.67 1549.17 Q1563.87 1548.82 1561.92 1548.13 M1571.23 1533.48 Q1574.38 1533.48 1576.2 1531.32 Q1578.06 1529.17 1578.06 1525.42 Q1578.06 1521.7 1576.2 1519.54 Q1574.38 1517.37 1571.23 1517.37 Q1568.08 1517.37 1566.23 1519.54 Q1564.4 1521.7 1564.4 1525.42 Q1564.4 1529.17 1566.23 1531.32 Q1568.08 1533.48 1571.23 1533.48 Z\" fill=\"#000000\" fill-rule=\"nonzero\" fill-opacity=\"1\" /><path clip-path=\"url(#clip130)\" d=\"M1690.43 1544.91 L1698.07 1544.91 L1698.07 1518.55 L1689.76 1520.21 L1689.76 1515.95 L1698.02 1514.29 L1702.7 1514.29 L1702.7 1544.91 L1710.34 1544.91 L1710.34 1548.85 L1690.43 1548.85 L1690.43 1544.91 Z\" fill=\"#000000\" fill-rule=\"nonzero\" fill-opacity=\"1\" /><path clip-path=\"url(#clip130)\" d=\"M1729.78 1517.37 Q1726.17 1517.37 1724.34 1520.93 Q1722.54 1524.47 1722.54 1531.6 Q1722.54 1538.71 1724.34 1542.27 Q1726.17 1545.82 1729.78 1545.82 Q1733.42 1545.82 1735.22 1542.27 Q1737.05 1538.71 1737.05 1531.6 Q1737.05 1524.47 1735.22 1520.93 Q1733.42 1517.37 1729.78 1517.37 M1729.78 1513.66 Q1735.59 1513.66 1738.65 1518.27 Q1741.73 1522.85 1741.73 1531.6 Q1741.73 1540.33 1738.65 1544.94 Q1735.59 1549.52 1729.78 1549.52 Q1723.97 1549.52 1720.89 1544.94 Q1717.84 1540.33 1717.84 1531.6 Q1717.84 1522.85 1720.89 1518.27 Q1723.97 1513.66 1729.78 1513.66 Z\" fill=\"#000000\" fill-rule=\"nonzero\" fill-opacity=\"1\" /><path clip-path=\"url(#clip130)\" d=\"M1835.16 1544.91 L1842.8 1544.91 L1842.8 1518.55 L1834.49 1520.21 L1834.49 1515.95 L1842.76 1514.29 L1847.43 1514.29 L1847.43 1544.91 L1855.07 1544.91 L1855.07 1548.85 L1835.16 1548.85 L1835.16 1544.91 Z\" fill=\"#000000\" fill-rule=\"nonzero\" fill-opacity=\"1\" /><path clip-path=\"url(#clip130)\" d=\"M1865.33 1544.91 L1872.96 1544.91 L1872.96 1518.55 L1864.65 1520.21 L1864.65 1515.95 L1872.92 1514.29 L1877.59 1514.29 L1877.59 1544.91 L1885.23 1544.91 L1885.23 1548.85 L1865.33 1548.85 L1865.33 1544.91 Z\" fill=\"#000000\" fill-rule=\"nonzero\" fill-opacity=\"1\" /><path clip-path=\"url(#clip130)\" d=\"M1979.47 1544.91 L1987.11 1544.91 L1987.11 1518.55 L1978.8 1520.21 L1978.8 1515.95 L1987.06 1514.29 L1991.74 1514.29 L1991.74 1544.91 L1999.38 1544.91 L1999.38 1548.85 L1979.47 1548.85 L1979.47 1544.91 Z\" fill=\"#000000\" fill-rule=\"nonzero\" fill-opacity=\"1\" /><path clip-path=\"url(#clip130)\" d=\"M2012.85 1544.91 L2029.17 1544.91 L2029.17 1548.85 L2007.22 1548.85 L2007.22 1544.91 Q2009.89 1542.16 2014.47 1537.53 Q2019.08 1532.88 2020.26 1531.53 Q2022.5 1529.01 2023.38 1527.27 Q2024.28 1525.51 2024.28 1523.82 Q2024.28 1521.07 2022.34 1519.33 Q2020.42 1517.6 2017.32 1517.6 Q2015.12 1517.6 2012.66 1518.36 Q2010.23 1519.13 2007.46 1520.68 L2007.46 1515.95 Q2010.28 1514.82 2012.73 1514.24 Q2015.19 1513.66 2017.22 1513.66 Q2022.59 1513.66 2025.79 1516.35 Q2028.98 1519.03 2028.98 1523.52 Q2028.98 1525.65 2028.17 1527.57 Q2027.39 1529.47 2025.28 1532.07 Q2024.7 1532.74 2021.6 1535.95 Q2018.5 1539.15 2012.85 1544.91 Z\" fill=\"#000000\" fill-rule=\"nonzero\" fill-opacity=\"1\" /><path clip-path=\"url(#clip130)\" d=\"M2123.12 1544.91 L2130.75 1544.91 L2130.75 1518.55 L2122.44 1520.21 L2122.44 1515.95 L2130.71 1514.29 L2135.38 1514.29 L2135.38 1544.91 L2143.02 1544.91 L2143.02 1548.85 L2123.12 1548.85 L2123.12 1544.91 Z\" fill=\"#000000\" fill-rule=\"nonzero\" fill-opacity=\"1\" /><path clip-path=\"url(#clip130)\" d=\"M2166.63 1530.21 Q2169.99 1530.93 2171.87 1533.2 Q2173.76 1535.47 2173.76 1538.8 Q2173.76 1543.92 2170.25 1546.72 Q2166.73 1549.52 2160.25 1549.52 Q2158.07 1549.52 2155.75 1549.08 Q2153.46 1548.66 2151.01 1547.81 L2151.01 1543.29 Q2152.95 1544.43 2155.27 1545.01 Q2157.58 1545.58 2160.11 1545.58 Q2164.5 1545.58 2166.8 1543.85 Q2169.11 1542.11 2169.11 1538.8 Q2169.11 1535.75 2166.96 1534.03 Q2164.83 1532.3 2161.01 1532.3 L2156.98 1532.3 L2156.98 1528.45 L2161.19 1528.45 Q2164.64 1528.45 2166.47 1527.09 Q2168.3 1525.7 2168.3 1523.11 Q2168.3 1520.45 2166.4 1519.03 Q2164.53 1517.6 2161.01 1517.6 Q2159.09 1517.6 2156.89 1518.01 Q2154.69 1518.43 2152.05 1519.31 L2152.05 1515.14 Q2154.71 1514.4 2157.03 1514.03 Q2159.37 1513.66 2161.43 1513.66 Q2166.75 1513.66 2169.85 1516.09 Q2172.95 1518.5 2172.95 1522.62 Q2172.95 1525.49 2171.31 1527.48 Q2169.67 1529.45 2166.63 1530.21 Z\" fill=\"#000000\" fill-rule=\"nonzero\" fill-opacity=\"1\" /><path clip-path=\"url(#clip130)\" d=\"M2266.67 1544.91 L2274.31 1544.91 L2274.31 1518.55 L2266 1520.21 L2266 1515.95 L2274.26 1514.29 L2278.94 1514.29 L2278.94 1544.91 L2286.58 1544.91 L2286.58 1548.85 L2266.67 1548.85 L2266.67 1544.91 Z\" fill=\"#000000\" fill-rule=\"nonzero\" fill-opacity=\"1\" /><path clip-path=\"url(#clip130)\" d=\"M2308.87 1518.36 L2297.06 1536.81 L2308.87 1536.81 L2308.87 1518.36 M2307.64 1514.29 L2313.52 1514.29 L2313.52 1536.81 L2318.45 1536.81 L2318.45 1540.7 L2313.52 1540.7 L2313.52 1548.85 L2308.87 1548.85 L2308.87 1540.7 L2293.27 1540.7 L2293.27 1536.19 L2307.64 1514.29 Z\" fill=\"#000000\" fill-rule=\"nonzero\" fill-opacity=\"1\" /><polyline clip-path=\"url(#clip130)\" style=\"stroke:#000000; stroke-linecap:round; stroke-linejoin:round; stroke-width:4; stroke-opacity:1; fill:none\" points=\"214.002,1486.45 214.002,47.2441 \"/>\n",
       "<polyline clip-path=\"url(#clip130)\" style=\"stroke:#000000; stroke-linecap:round; stroke-linejoin:round; stroke-width:4; stroke-opacity:1; fill:none\" points=\"214.002,1406.68 232.9,1406.68 \"/>\n",
       "<polyline clip-path=\"url(#clip130)\" style=\"stroke:#000000; stroke-linecap:round; stroke-linejoin:round; stroke-width:4; stroke-opacity:1; fill:none\" points=\"214.002,1295.89 232.9,1295.89 \"/>\n",
       "<polyline clip-path=\"url(#clip130)\" style=\"stroke:#000000; stroke-linecap:round; stroke-linejoin:round; stroke-width:4; stroke-opacity:1; fill:none\" points=\"214.002,1185.1 232.9,1185.1 \"/>\n",
       "<polyline clip-path=\"url(#clip130)\" style=\"stroke:#000000; stroke-linecap:round; stroke-linejoin:round; stroke-width:4; stroke-opacity:1; fill:none\" points=\"214.002,1074.31 232.9,1074.31 \"/>\n",
       "<polyline clip-path=\"url(#clip130)\" style=\"stroke:#000000; stroke-linecap:round; stroke-linejoin:round; stroke-width:4; stroke-opacity:1; fill:none\" points=\"214.002,963.52 232.9,963.52 \"/>\n",
       "<polyline clip-path=\"url(#clip130)\" style=\"stroke:#000000; stroke-linecap:round; stroke-linejoin:round; stroke-width:4; stroke-opacity:1; fill:none\" points=\"214.002,852.73 232.9,852.73 \"/>\n",
       "<polyline clip-path=\"url(#clip130)\" style=\"stroke:#000000; stroke-linecap:round; stroke-linejoin:round; stroke-width:4; stroke-opacity:1; fill:none\" points=\"214.002,741.939 232.9,741.939 \"/>\n",
       "<polyline clip-path=\"url(#clip130)\" style=\"stroke:#000000; stroke-linecap:round; stroke-linejoin:round; stroke-width:4; stroke-opacity:1; fill:none\" points=\"214.002,631.149 232.9,631.149 \"/>\n",
       "<polyline clip-path=\"url(#clip130)\" style=\"stroke:#000000; stroke-linecap:round; stroke-linejoin:round; stroke-width:4; stroke-opacity:1; fill:none\" points=\"214.002,520.358 232.9,520.358 \"/>\n",
       "<polyline clip-path=\"url(#clip130)\" style=\"stroke:#000000; stroke-linecap:round; stroke-linejoin:round; stroke-width:4; stroke-opacity:1; fill:none\" points=\"214.002,409.568 232.9,409.568 \"/>\n",
       "<polyline clip-path=\"url(#clip130)\" style=\"stroke:#000000; stroke-linecap:round; stroke-linejoin:round; stroke-width:4; stroke-opacity:1; fill:none\" points=\"214.002,298.777 232.9,298.777 \"/>\n",
       "<polyline clip-path=\"url(#clip130)\" style=\"stroke:#000000; stroke-linecap:round; stroke-linejoin:round; stroke-width:4; stroke-opacity:1; fill:none\" points=\"214.002,187.987 232.9,187.987 \"/>\n",
       "<polyline clip-path=\"url(#clip130)\" style=\"stroke:#000000; stroke-linecap:round; stroke-linejoin:round; stroke-width:4; stroke-opacity:1; fill:none\" points=\"214.002,77.1961 232.9,77.1961 \"/>\n",
       "<path clip-path=\"url(#clip130)\" d=\"M52.8671 1426.47 L60.506 1426.47 L60.506 1400.11 L52.1958 1401.78 L52.1958 1397.52 L60.4597 1395.85 L65.1356 1395.85 L65.1356 1426.47 L72.7744 1426.47 L72.7744 1430.41 L52.8671 1430.41 L52.8671 1426.47 Z\" fill=\"#000000\" fill-rule=\"nonzero\" fill-opacity=\"1\" /><path clip-path=\"url(#clip130)\" d=\"M92.2188 1398.93 Q88.6077 1398.93 86.779 1402.49 Q84.9734 1406.03 84.9734 1413.16 Q84.9734 1420.27 86.779 1423.84 Q88.6077 1427.38 92.2188 1427.38 Q95.853 1427.38 97.6585 1423.84 Q99.4872 1420.27 99.4872 1413.16 Q99.4872 1406.03 97.6585 1402.49 Q95.853 1398.93 92.2188 1398.93 M92.2188 1395.22 Q98.0289 1395.22 101.084 1399.83 Q104.163 1404.41 104.163 1413.16 Q104.163 1421.89 101.084 1426.5 Q98.0289 1431.08 92.2188 1431.08 Q86.4086 1431.08 83.3299 1426.5 Q80.2744 1421.89 80.2744 1413.16 Q80.2744 1404.41 83.3299 1399.83 Q86.4086 1395.22 92.2188 1395.22 Z\" fill=\"#000000\" fill-rule=\"nonzero\" fill-opacity=\"1\" /><path clip-path=\"url(#clip130)\" d=\"M104.163 1389.33 L128.275 1389.33 L128.275 1392.52 L104.163 1392.52 L104.163 1389.33 Z\" fill=\"#000000\" fill-rule=\"nonzero\" fill-opacity=\"1\" /><path clip-path=\"url(#clip130)\" d=\"M137.133 1399.8 L143.34 1399.8 L143.34 1378.38 L136.588 1379.73 L136.588 1376.27 L143.302 1374.92 L147.101 1374.92 L147.101 1399.8 L153.308 1399.8 L153.308 1403 L137.133 1403 L137.133 1399.8 Z\" fill=\"#000000\" fill-rule=\"nonzero\" fill-opacity=\"1\" /><path clip-path=\"url(#clip130)\" d=\"M161.019 1374.92 L175.934 1374.92 L175.934 1378.12 L164.498 1378.12 L164.498 1385 Q165.326 1384.72 166.154 1384.59 Q166.981 1384.44 167.809 1384.44 Q172.511 1384.44 175.257 1387.01 Q178.002 1389.59 178.002 1393.99 Q178.002 1398.52 175.181 1401.04 Q172.36 1403.54 167.226 1403.54 Q165.458 1403.54 163.614 1403.24 Q161.79 1402.94 159.834 1402.34 L159.834 1398.52 Q161.527 1399.44 163.332 1399.9 Q165.138 1400.35 167.15 1400.35 Q170.404 1400.35 172.304 1398.64 Q174.203 1396.92 174.203 1393.99 Q174.203 1391.06 172.304 1389.34 Q170.404 1387.63 167.15 1387.63 Q165.627 1387.63 164.103 1387.97 Q162.599 1388.31 161.019 1389.03 L161.019 1374.92 Z\" fill=\"#000000\" fill-rule=\"nonzero\" fill-opacity=\"1\" /><path clip-path=\"url(#clip130)\" d=\"M51.6634 1315.68 L59.3023 1315.68 L59.3023 1289.32 L50.9921 1290.99 L50.9921 1286.73 L59.256 1285.06 L63.9319 1285.06 L63.9319 1315.68 L71.5707 1315.68 L71.5707 1319.62 L51.6634 1319.62 L51.6634 1315.68 Z\" fill=\"#000000\" fill-rule=\"nonzero\" fill-opacity=\"1\" /><path clip-path=\"url(#clip130)\" d=\"M91.0151 1288.14 Q87.404 1288.14 85.5753 1291.7 Q83.7697 1295.24 83.7697 1302.37 Q83.7697 1309.48 85.5753 1313.05 Q87.404 1316.59 91.0151 1316.59 Q94.6493 1316.59 96.4548 1313.05 Q98.2835 1309.48 98.2835 1302.37 Q98.2835 1295.24 96.4548 1291.7 Q94.6493 1288.14 91.0151 1288.14 M91.0151 1284.43 Q96.8252 1284.43 99.8808 1289.04 Q102.959 1293.62 102.959 1302.37 Q102.959 1311.1 99.8808 1315.71 Q96.8252 1320.29 91.0151 1320.29 Q85.2049 1320.29 82.1262 1315.71 Q79.0707 1311.1 79.0707 1302.37 Q79.0707 1293.62 82.1262 1289.04 Q85.2049 1284.43 91.0151 1284.43 Z\" fill=\"#000000\" fill-rule=\"nonzero\" fill-opacity=\"1\" /><path clip-path=\"url(#clip130)\" d=\"M102.959 1278.54 L127.071 1278.54 L127.071 1281.73 L102.959 1281.73 L102.959 1278.54 Z\" fill=\"#000000\" fill-rule=\"nonzero\" fill-opacity=\"1\" /><path clip-path=\"url(#clip130)\" d=\"M135.929 1289.01 L142.136 1289.01 L142.136 1267.59 L135.384 1268.94 L135.384 1265.48 L142.098 1264.13 L145.898 1264.13 L145.898 1289.01 L152.104 1289.01 L152.104 1292.21 L135.929 1292.21 L135.929 1289.01 Z\" fill=\"#000000\" fill-rule=\"nonzero\" fill-opacity=\"1\" /><path clip-path=\"url(#clip130)\" d=\"M170.216 1267.44 L160.624 1282.43 L170.216 1282.43 L170.216 1267.44 M169.219 1264.13 L173.996 1264.13 L173.996 1282.43 L178.002 1282.43 L178.002 1285.59 L173.996 1285.59 L173.996 1292.21 L170.216 1292.21 L170.216 1285.59 L157.54 1285.59 L157.54 1281.92 L169.219 1264.13 Z\" fill=\"#000000\" fill-rule=\"nonzero\" fill-opacity=\"1\" /><path clip-path=\"url(#clip130)\" d=\"M52.585 1204.89 L60.2238 1204.89 L60.2238 1178.53 L51.9137 1180.19 L51.9137 1175.94 L60.1776 1174.27 L64.8535 1174.27 L64.8535 1204.89 L72.4923 1204.89 L72.4923 1208.83 L52.585 1208.83 L52.585 1204.89 Z\" fill=\"#000000\" fill-rule=\"nonzero\" fill-opacity=\"1\" /><path clip-path=\"url(#clip130)\" d=\"M91.9366 1177.35 Q88.3255 1177.35 86.4969 1180.91 Q84.6913 1184.45 84.6913 1191.58 Q84.6913 1198.69 86.4969 1202.25 Q88.3255 1205.8 91.9366 1205.8 Q95.5709 1205.8 97.3764 1202.25 Q99.2051 1198.69 99.2051 1191.58 Q99.2051 1184.45 97.3764 1180.91 Q95.5709 1177.35 91.9366 1177.35 M91.9366 1173.64 Q97.7468 1173.64 100.802 1178.25 Q103.881 1182.83 103.881 1191.58 Q103.881 1200.31 100.802 1204.92 Q97.7468 1209.5 91.9366 1209.5 Q86.1265 1209.5 83.0478 1204.92 Q79.9923 1200.31 79.9923 1191.58 Q79.9923 1182.83 83.0478 1178.25 Q86.1265 1173.64 91.9366 1173.64 Z\" fill=\"#000000\" fill-rule=\"nonzero\" fill-opacity=\"1\" /><path clip-path=\"url(#clip130)\" d=\"M103.881 1167.75 L127.993 1167.75 L127.993 1170.94 L103.881 1170.94 L103.881 1167.75 Z\" fill=\"#000000\" fill-rule=\"nonzero\" fill-opacity=\"1\" /><path clip-path=\"url(#clip130)\" d=\"M136.851 1178.22 L143.058 1178.22 L143.058 1156.8 L136.306 1158.15 L136.306 1154.69 L143.02 1153.34 L146.819 1153.34 L146.819 1178.22 L153.026 1178.22 L153.026 1181.42 L136.851 1181.42 L136.851 1178.22 Z\" fill=\"#000000\" fill-rule=\"nonzero\" fill-opacity=\"1\" /><path clip-path=\"url(#clip130)\" d=\"M172.21 1166.28 Q174.937 1166.86 176.46 1168.7 Q178.002 1170.55 178.002 1173.26 Q178.002 1177.41 175.144 1179.69 Q172.285 1181.96 167.019 1181.96 Q165.251 1181.96 163.37 1181.61 Q161.508 1181.27 159.514 1180.57 L159.514 1176.9 Q161.094 1177.83 162.975 1178.3 Q164.856 1178.77 166.906 1178.77 Q170.479 1178.77 172.341 1177.36 Q174.222 1175.95 174.222 1173.26 Q174.222 1170.77 172.473 1169.38 Q170.743 1167.97 167.639 1167.97 L164.367 1167.97 L164.367 1164.85 L167.79 1164.85 Q170.592 1164.85 172.078 1163.74 Q173.564 1162.61 173.564 1160.5 Q173.564 1158.34 172.022 1157.19 Q170.498 1156.03 167.639 1156.03 Q166.078 1156.03 164.292 1156.37 Q162.505 1156.7 160.361 1157.42 L160.361 1154.03 Q162.524 1153.43 164.404 1153.13 Q166.304 1152.83 167.978 1152.83 Q172.304 1152.83 174.824 1154.81 Q177.344 1156.76 177.344 1160.11 Q177.344 1162.44 176.009 1164.06 Q174.673 1165.66 172.21 1166.28 Z\" fill=\"#000000\" fill-rule=\"nonzero\" fill-opacity=\"1\" /><path clip-path=\"url(#clip130)\" d=\"M53.3561 1094.1 L60.995 1094.1 L60.995 1067.74 L52.6848 1069.4 L52.6848 1065.14 L60.9487 1063.48 L65.6246 1063.48 L65.6246 1094.1 L73.2634 1094.1 L73.2634 1098.04 L53.3561 1098.04 L53.3561 1094.1 Z\" fill=\"#000000\" fill-rule=\"nonzero\" fill-opacity=\"1\" /><path clip-path=\"url(#clip130)\" d=\"M92.7078 1066.56 Q89.0967 1066.56 87.268 1070.12 Q85.4624 1073.66 85.4624 1080.79 Q85.4624 1087.9 87.268 1091.46 Q89.0967 1095.01 92.7078 1095.01 Q96.342 1095.01 98.1475 1091.46 Q99.9762 1087.9 99.9762 1080.79 Q99.9762 1073.66 98.1475 1070.12 Q96.342 1066.56 92.7078 1066.56 M92.7078 1062.85 Q98.5179 1062.85 101.573 1067.46 Q104.652 1072.04 104.652 1080.79 Q104.652 1089.52 101.573 1094.13 Q98.5179 1098.71 92.7078 1098.71 Q86.8976 1098.71 83.8189 1094.13 Q80.7634 1089.52 80.7634 1080.79 Q80.7634 1072.04 83.8189 1067.46 Q86.8976 1062.85 92.7078 1062.85 Z\" fill=\"#000000\" fill-rule=\"nonzero\" fill-opacity=\"1\" /><path clip-path=\"url(#clip130)\" d=\"M104.652 1056.95 L128.764 1056.95 L128.764 1060.15 L104.652 1060.15 L104.652 1056.95 Z\" fill=\"#000000\" fill-rule=\"nonzero\" fill-opacity=\"1\" /><path clip-path=\"url(#clip130)\" d=\"M137.622 1067.43 L143.829 1067.43 L143.829 1046.01 L137.077 1047.36 L137.077 1043.9 L143.791 1042.55 L147.59 1042.55 L147.59 1067.43 L153.797 1067.43 L153.797 1070.63 L137.622 1070.63 L137.622 1067.43 Z\" fill=\"#000000\" fill-rule=\"nonzero\" fill-opacity=\"1\" /><path clip-path=\"url(#clip130)\" d=\"M164.743 1067.43 L178.002 1067.43 L178.002 1070.63 L160.173 1070.63 L160.173 1067.43 Q162.336 1065.19 166.06 1061.43 Q169.802 1057.65 170.761 1056.56 Q172.586 1054.51 173.3 1053.1 Q174.034 1051.67 174.034 1050.3 Q174.034 1048.06 172.454 1046.65 Q170.893 1045.24 168.373 1045.24 Q166.586 1045.24 164.593 1045.86 Q162.618 1046.48 160.361 1047.74 L160.361 1043.9 Q162.655 1042.98 164.649 1042.51 Q166.643 1042.04 168.298 1042.04 Q172.661 1042.04 175.257 1044.22 Q177.852 1046.4 177.852 1050.05 Q177.852 1051.78 177.194 1053.34 Q176.554 1054.89 174.843 1056.99 Q174.373 1057.54 171.852 1060.15 Q169.332 1062.75 164.743 1067.43 Z\" fill=\"#000000\" fill-rule=\"nonzero\" fill-opacity=\"1\" /><path clip-path=\"url(#clip130)\" d=\"M53.0552 983.313 L60.694 983.313 L60.694 956.947 L52.3839 958.614 L52.3839 954.354 L60.6477 952.688 L65.3236 952.688 L65.3236 983.313 L72.9625 983.313 L72.9625 987.248 L53.0552 987.248 L53.0552 983.313 Z\" fill=\"#000000\" fill-rule=\"nonzero\" fill-opacity=\"1\" /><path clip-path=\"url(#clip130)\" d=\"M92.4068 955.766 Q88.7957 955.766 86.967 959.331 Q85.1615 962.873 85.1615 970.003 Q85.1615 977.109 86.967 980.674 Q88.7957 984.215 92.4068 984.215 Q96.0411 984.215 97.8466 980.674 Q99.6753 977.109 99.6753 970.003 Q99.6753 962.873 97.8466 959.331 Q96.0411 955.766 92.4068 955.766 M92.4068 952.063 Q98.217 952.063 101.273 956.669 Q104.351 961.253 104.351 970.003 Q104.351 978.729 101.273 983.336 Q98.217 987.919 92.4068 987.919 Q86.5967 987.919 83.518 983.336 Q80.4625 978.729 80.4625 970.003 Q80.4625 961.253 83.518 956.669 Q86.5967 952.063 92.4068 952.063 Z\" fill=\"#000000\" fill-rule=\"nonzero\" fill-opacity=\"1\" /><path clip-path=\"url(#clip130)\" d=\"M104.351 946.164 L128.463 946.164 L128.463 949.361 L104.351 949.361 L104.351 946.164 Z\" fill=\"#000000\" fill-rule=\"nonzero\" fill-opacity=\"1\" /><path clip-path=\"url(#clip130)\" d=\"M137.321 956.64 L143.528 956.64 L143.528 935.218 L136.776 936.572 L136.776 933.112 L143.49 931.757 L147.289 931.757 L147.289 956.64 L153.496 956.64 L153.496 959.837 L137.321 959.837 L137.321 956.64 Z\" fill=\"#000000\" fill-rule=\"nonzero\" fill-opacity=\"1\" /><path clip-path=\"url(#clip130)\" d=\"M161.828 956.64 L168.034 956.64 L168.034 935.218 L161.282 936.572 L161.282 933.112 L167.997 931.757 L171.796 931.757 L171.796 956.64 L178.002 956.64 L178.002 959.837 L161.828 959.837 L161.828 956.64 Z\" fill=\"#000000\" fill-rule=\"nonzero\" fill-opacity=\"1\" /><path clip-path=\"url(#clip130)\" d=\"M52.0584 872.522 L59.6972 872.522 L59.6972 846.157 L51.3871 847.823 L51.3871 843.564 L59.6509 841.897 L64.3268 841.897 L64.3268 872.522 L71.9657 872.522 L71.9657 876.457 L52.0584 876.457 L52.0584 872.522 Z\" fill=\"#000000\" fill-rule=\"nonzero\" fill-opacity=\"1\" /><path clip-path=\"url(#clip130)\" d=\"M91.41 844.976 Q87.7989 844.976 85.9702 848.541 Q84.1647 852.082 84.1647 859.212 Q84.1647 866.318 85.9702 869.883 Q87.7989 873.425 91.41 873.425 Q95.0443 873.425 96.8498 869.883 Q98.6785 866.318 98.6785 859.212 Q98.6785 852.082 96.8498 848.541 Q95.0443 844.976 91.41 844.976 M91.41 841.272 Q97.2202 841.272 100.276 845.879 Q103.354 850.462 103.354 859.212 Q103.354 867.939 100.276 872.545 Q97.2202 877.129 91.41 877.129 Q85.5999 877.129 82.5212 872.545 Q79.4656 867.939 79.4656 859.212 Q79.4656 850.462 82.5212 845.879 Q85.5999 841.272 91.41 841.272 Z\" fill=\"#000000\" fill-rule=\"nonzero\" fill-opacity=\"1\" /><path clip-path=\"url(#clip130)\" d=\"M103.354 835.374 L127.466 835.374 L127.466 838.571 L103.354 838.571 L103.354 835.374 Z\" fill=\"#000000\" fill-rule=\"nonzero\" fill-opacity=\"1\" /><path clip-path=\"url(#clip130)\" d=\"M136.324 845.85 L142.531 845.85 L142.531 824.428 L135.779 825.782 L135.779 822.321 L142.493 820.967 L146.293 820.967 L146.293 845.85 L152.499 845.85 L152.499 849.047 L136.324 849.047 L136.324 845.85 Z\" fill=\"#000000\" fill-rule=\"nonzero\" fill-opacity=\"1\" /><path clip-path=\"url(#clip130)\" d=\"M168.298 823.468 Q165.364 823.468 163.878 826.365 Q162.411 829.242 162.411 835.035 Q162.411 840.809 163.878 843.705 Q165.364 846.583 168.298 846.583 Q171.25 846.583 172.717 843.705 Q174.203 840.809 174.203 835.035 Q174.203 829.242 172.717 826.365 Q171.25 823.468 168.298 823.468 M168.298 820.459 Q173.018 820.459 175.501 824.202 Q178.002 827.926 178.002 835.035 Q178.002 842.126 175.501 845.868 Q173.018 849.592 168.298 849.592 Q163.577 849.592 161.075 845.868 Q158.593 842.126 158.593 835.035 Q158.593 827.926 161.075 824.202 Q163.577 820.459 168.298 820.459 Z\" fill=\"#000000\" fill-rule=\"nonzero\" fill-opacity=\"1\" /><path clip-path=\"url(#clip130)\" d=\"M76.7154 761.732 L84.3542 761.732 L84.3542 735.366 L76.0441 737.033 L76.0441 732.773 L84.3079 731.107 L88.9838 731.107 L88.9838 761.732 L96.6227 761.732 L96.6227 765.667 L76.7154 765.667 L76.7154 761.732 Z\" fill=\"#000000\" fill-rule=\"nonzero\" fill-opacity=\"1\" /><path clip-path=\"url(#clip130)\" d=\"M116.067 734.185 Q112.456 734.185 110.627 737.75 Q108.822 741.292 108.822 748.421 Q108.822 755.528 110.627 759.093 Q112.456 762.634 116.067 762.634 Q119.701 762.634 121.507 759.093 Q123.335 755.528 123.335 748.421 Q123.335 741.292 121.507 737.75 Q119.701 734.185 116.067 734.185 M116.067 730.482 Q121.877 730.482 124.933 735.088 Q128.011 739.672 128.011 748.421 Q128.011 757.148 124.933 761.755 Q121.877 766.338 116.067 766.338 Q110.257 766.338 107.178 761.755 Q104.123 757.148 104.123 748.421 Q104.123 739.672 107.178 735.088 Q110.257 730.482 116.067 730.482 Z\" fill=\"#000000\" fill-rule=\"nonzero\" fill-opacity=\"1\" /><path clip-path=\"url(#clip130)\" d=\"M128.011 724.583 L152.123 724.583 L152.123 727.78 L128.011 727.78 L128.011 724.583 Z\" fill=\"#000000\" fill-rule=\"nonzero\" fill-opacity=\"1\" /><path clip-path=\"url(#clip130)\" d=\"M160.436 737.673 L160.436 734.213 Q161.865 734.89 163.332 735.247 Q164.799 735.604 166.21 735.604 Q169.972 735.604 171.946 733.084 Q173.94 730.545 174.222 725.392 Q173.131 727.009 171.457 727.874 Q169.783 728.74 167.752 728.74 Q163.539 728.74 161.075 726.201 Q158.63 723.643 158.63 719.223 Q158.63 714.897 161.188 712.283 Q163.746 709.669 167.997 709.669 Q172.868 709.669 175.426 713.411 Q178.002 717.135 178.002 724.245 Q178.002 730.884 174.843 734.852 Q171.702 738.802 166.379 738.802 Q164.95 738.802 163.483 738.52 Q162.016 738.238 160.436 737.673 M167.997 725.768 Q170.555 725.768 172.04 724.019 Q173.545 722.27 173.545 719.223 Q173.545 716.195 172.04 714.446 Q170.555 712.678 167.997 712.678 Q165.439 712.678 163.934 714.446 Q162.448 716.195 162.448 719.223 Q162.448 722.27 163.934 724.019 Q165.439 725.768 167.997 725.768 Z\" fill=\"#000000\" fill-rule=\"nonzero\" fill-opacity=\"1\" /><path clip-path=\"url(#clip130)\" d=\"M76.6401 650.941 L84.279 650.941 L84.279 624.575 L75.9688 626.242 L75.9688 621.983 L84.2327 620.316 L88.9086 620.316 L88.9086 650.941 L96.5474 650.941 L96.5474 654.876 L76.6401 654.876 L76.6401 650.941 Z\" fill=\"#000000\" fill-rule=\"nonzero\" fill-opacity=\"1\" /><path clip-path=\"url(#clip130)\" d=\"M115.992 623.395 Q112.381 623.395 110.552 626.96 Q108.746 630.501 108.746 637.631 Q108.746 644.737 110.552 648.302 Q112.381 651.844 115.992 651.844 Q119.626 651.844 121.432 648.302 Q123.26 644.737 123.26 637.631 Q123.26 630.501 121.432 626.96 Q119.626 623.395 115.992 623.395 M115.992 619.691 Q121.802 619.691 124.857 624.298 Q127.936 628.881 127.936 637.631 Q127.936 646.358 124.857 650.964 Q121.802 655.548 115.992 655.548 Q110.182 655.548 107.103 650.964 Q104.047 646.358 104.047 637.631 Q104.047 628.881 107.103 624.298 Q110.182 619.691 115.992 619.691 Z\" fill=\"#000000\" fill-rule=\"nonzero\" fill-opacity=\"1\" /><path clip-path=\"url(#clip130)\" d=\"M127.936 613.793 L152.048 613.793 L152.048 616.99 L127.936 616.99 L127.936 613.793 Z\" fill=\"#000000\" fill-rule=\"nonzero\" fill-opacity=\"1\" /><path clip-path=\"url(#clip130)\" d=\"M168.373 614.131 Q165.665 614.131 164.103 615.579 Q162.561 617.028 162.561 619.567 Q162.561 622.106 164.103 623.554 Q165.665 625.002 168.373 625.002 Q171.081 625.002 172.642 623.554 Q174.203 622.087 174.203 619.567 Q174.203 617.028 172.642 615.579 Q171.1 614.131 168.373 614.131 M164.574 612.514 Q162.129 611.912 160.756 610.238 Q159.402 608.564 159.402 606.157 Q159.402 602.79 161.79 600.834 Q164.198 598.878 168.373 598.878 Q172.567 598.878 174.956 600.834 Q177.344 602.79 177.344 606.157 Q177.344 608.564 175.971 610.238 Q174.617 611.912 172.191 612.514 Q174.937 613.153 176.46 615.015 Q178.002 616.877 178.002 619.567 Q178.002 623.648 175.501 625.83 Q173.018 628.011 168.373 628.011 Q163.727 628.011 161.226 625.83 Q158.743 623.648 158.743 619.567 Q158.743 616.877 160.286 615.015 Q161.828 613.153 164.574 612.514 M163.182 606.514 Q163.182 608.696 164.536 609.918 Q165.909 611.141 168.373 611.141 Q170.818 611.141 172.191 609.918 Q173.583 608.696 173.583 606.514 Q173.583 604.332 172.191 603.11 Q170.818 601.887 168.373 601.887 Q165.909 601.887 164.536 603.11 Q163.182 604.332 163.182 606.514 Z\" fill=\"#000000\" fill-rule=\"nonzero\" fill-opacity=\"1\" /><path clip-path=\"url(#clip130)\" d=\"M77.2984 540.151 L84.9373 540.151 L84.9373 513.785 L76.6271 515.452 L76.6271 511.192 L84.891 509.526 L89.5669 509.526 L89.5669 540.151 L97.2057 540.151 L97.2057 544.086 L77.2984 544.086 L77.2984 540.151 Z\" fill=\"#000000\" fill-rule=\"nonzero\" fill-opacity=\"1\" /><path clip-path=\"url(#clip130)\" d=\"M116.65 512.604 Q113.039 512.604 111.21 516.169 Q109.405 519.711 109.405 526.84 Q109.405 533.947 111.21 537.512 Q113.039 541.053 116.65 541.053 Q120.284 541.053 122.09 537.512 Q123.919 533.947 123.919 526.84 Q123.919 519.711 122.09 516.169 Q120.284 512.604 116.65 512.604 M116.65 508.901 Q122.46 508.901 125.516 513.507 Q128.594 518.091 128.594 526.84 Q128.594 535.567 125.516 540.174 Q122.46 544.757 116.65 544.757 Q110.84 544.757 107.761 540.174 Q104.706 535.567 104.706 526.84 Q104.706 518.091 107.761 513.507 Q110.84 508.901 116.65 508.901 Z\" fill=\"#000000\" fill-rule=\"nonzero\" fill-opacity=\"1\" /><path clip-path=\"url(#clip130)\" d=\"M128.594 503.002 L152.706 503.002 L152.706 506.199 L128.594 506.199 L128.594 503.002 Z\" fill=\"#000000\" fill-rule=\"nonzero\" fill-opacity=\"1\" /><path clip-path=\"url(#clip130)\" d=\"M159.947 488.595 L178.002 488.595 L178.002 490.213 L167.809 516.675 L163.84 516.675 L173.432 491.793 L159.947 491.793 L159.947 488.595 Z\" fill=\"#000000\" fill-rule=\"nonzero\" fill-opacity=\"1\" /><path clip-path=\"url(#clip130)\" d=\"M76.4333 429.36 L84.0721 429.36 L84.0721 402.994 L75.762 404.661 L75.762 400.402 L84.0258 398.735 L88.7017 398.735 L88.7017 429.36 L96.3406 429.36 L96.3406 433.295 L76.4333 433.295 L76.4333 429.36 Z\" fill=\"#000000\" fill-rule=\"nonzero\" fill-opacity=\"1\" /><path clip-path=\"url(#clip130)\" d=\"M115.785 401.814 Q112.174 401.814 110.345 405.379 Q108.54 408.92 108.54 416.05 Q108.54 423.156 110.345 426.721 Q112.174 430.263 115.785 430.263 Q119.419 430.263 121.225 426.721 Q123.053 423.156 123.053 416.05 Q123.053 408.92 121.225 405.379 Q119.419 401.814 115.785 401.814 M115.785 398.11 Q121.595 398.11 124.651 402.717 Q127.729 407.3 127.729 416.05 Q127.729 424.777 124.651 429.383 Q121.595 433.967 115.785 433.967 Q109.975 433.967 106.896 429.383 Q103.841 424.777 103.841 416.05 Q103.841 407.3 106.896 402.717 Q109.975 398.11 115.785 398.11 Z\" fill=\"#000000\" fill-rule=\"nonzero\" fill-opacity=\"1\" /><path clip-path=\"url(#clip130)\" d=\"M127.729 392.212 L151.841 392.212 L151.841 395.409 L127.729 395.409 L127.729 392.212 Z\" fill=\"#000000\" fill-rule=\"nonzero\" fill-opacity=\"1\" /><path clip-path=\"url(#clip130)\" d=\"M168.636 390.331 Q166.078 390.331 164.574 392.08 Q163.088 393.829 163.088 396.876 Q163.088 399.904 164.574 401.672 Q166.078 403.421 168.636 403.421 Q171.194 403.421 172.68 401.672 Q174.184 399.904 174.184 396.876 Q174.184 393.829 172.68 392.08 Q171.194 390.331 168.636 390.331 M176.178 378.425 L176.178 381.886 Q174.749 381.209 173.282 380.852 Q171.833 380.494 170.404 380.494 Q166.643 380.494 164.649 383.033 Q162.674 385.572 162.392 390.707 Q163.502 389.071 165.176 388.206 Q166.849 387.322 168.862 387.322 Q173.094 387.322 175.539 389.898 Q178.002 392.456 178.002 396.876 Q178.002 401.202 175.445 403.816 Q172.887 406.43 168.636 406.43 Q163.765 406.43 161.188 402.706 Q158.612 398.964 158.612 391.873 Q158.612 385.215 161.771 381.265 Q164.931 377.297 170.254 377.297 Q171.683 377.297 173.131 377.579 Q174.598 377.861 176.178 378.425 Z\" fill=\"#000000\" fill-rule=\"nonzero\" fill-opacity=\"1\" /><path clip-path=\"url(#clip130)\" d=\"M77.3736 318.57 L85.0125 318.57 L85.0125 292.204 L76.7023 293.871 L76.7023 289.611 L84.9662 287.945 L89.6421 287.945 L89.6421 318.57 L97.2809 318.57 L97.2809 322.505 L77.3736 322.505 L77.3736 318.57 Z\" fill=\"#000000\" fill-rule=\"nonzero\" fill-opacity=\"1\" /><path clip-path=\"url(#clip130)\" d=\"M116.725 291.023 Q113.114 291.023 111.285 294.588 Q109.48 298.13 109.48 305.259 Q109.48 312.366 111.285 315.931 Q113.114 319.472 116.725 319.472 Q120.36 319.472 122.165 315.931 Q123.994 312.366 123.994 305.259 Q123.994 298.13 122.165 294.588 Q120.36 291.023 116.725 291.023 M116.725 287.32 Q122.535 287.32 125.591 291.926 Q128.67 296.51 128.67 305.259 Q128.67 313.986 125.591 318.593 Q122.535 323.176 116.725 323.176 Q110.915 323.176 107.836 318.593 Q104.781 313.986 104.781 305.259 Q104.781 296.51 107.836 291.926 Q110.915 287.32 116.725 287.32 Z\" fill=\"#000000\" fill-rule=\"nonzero\" fill-opacity=\"1\" /><path clip-path=\"url(#clip130)\" d=\"M128.67 281.421 L152.781 281.421 L152.781 284.618 L128.67 284.618 L128.67 281.421 Z\" fill=\"#000000\" fill-rule=\"nonzero\" fill-opacity=\"1\" /><path clip-path=\"url(#clip130)\" d=\"M161.019 267.014 L175.934 267.014 L175.934 270.212 L164.498 270.212 L164.498 277.095 Q165.326 276.813 166.154 276.682 Q166.981 276.531 167.809 276.531 Q172.511 276.531 175.257 279.108 Q178.002 281.684 178.002 286.085 Q178.002 290.618 175.181 293.138 Q172.36 295.64 167.226 295.64 Q165.458 295.64 163.614 295.339 Q161.79 295.038 159.834 294.436 L159.834 290.618 Q161.527 291.54 163.332 291.991 Q165.138 292.442 167.15 292.442 Q170.404 292.442 172.304 290.731 Q174.203 289.019 174.203 286.085 Q174.203 283.151 172.304 281.44 Q170.404 279.728 167.15 279.728 Q165.627 279.728 164.103 280.067 Q162.599 280.405 161.019 281.12 L161.019 267.014 Z\" fill=\"#000000\" fill-rule=\"nonzero\" fill-opacity=\"1\" /><path clip-path=\"url(#clip130)\" d=\"M76.1699 207.779 L83.8088 207.779 L83.8088 181.413 L75.4986 183.08 L75.4986 178.821 L83.7625 177.154 L88.4384 177.154 L88.4384 207.779 L96.0772 207.779 L96.0772 211.714 L76.1699 211.714 L76.1699 207.779 Z\" fill=\"#000000\" fill-rule=\"nonzero\" fill-opacity=\"1\" /><path clip-path=\"url(#clip130)\" d=\"M115.522 180.233 Q111.91 180.233 110.082 183.798 Q108.276 187.339 108.276 194.469 Q108.276 201.575 110.082 205.14 Q111.91 208.682 115.522 208.682 Q119.156 208.682 120.961 205.14 Q122.79 201.575 122.79 194.469 Q122.79 187.339 120.961 183.798 Q119.156 180.233 115.522 180.233 M115.522 176.529 Q121.332 176.529 124.387 181.136 Q127.466 185.719 127.466 194.469 Q127.466 203.196 124.387 207.802 Q121.332 212.386 115.522 212.386 Q109.711 212.386 106.633 207.802 Q103.577 203.196 103.577 194.469 Q103.577 185.719 106.633 181.136 Q109.711 176.529 115.522 176.529 Z\" fill=\"#000000\" fill-rule=\"nonzero\" fill-opacity=\"1\" /><path clip-path=\"url(#clip130)\" d=\"M127.466 170.631 L151.578 170.631 L151.578 173.828 L127.466 173.828 L127.466 170.631 Z\" fill=\"#000000\" fill-rule=\"nonzero\" fill-opacity=\"1\" /><path clip-path=\"url(#clip130)\" d=\"M170.216 159.534 L160.624 174.524 L170.216 174.524 L170.216 159.534 M169.219 156.224 L173.996 156.224 L173.996 174.524 L178.002 174.524 L178.002 177.683 L173.996 177.683 L173.996 184.304 L170.216 184.304 L170.216 177.683 L157.54 177.683 L157.54 174.016 L169.219 156.224 Z\" fill=\"#000000\" fill-rule=\"nonzero\" fill-opacity=\"1\" /><path clip-path=\"url(#clip130)\" d=\"M77.0915 96.9885 L84.7304 96.9885 L84.7304 70.6229 L76.4202 72.2896 L76.4202 68.0304 L84.6841 66.3637 L89.36 66.3637 L89.36 96.9885 L96.9988 96.9885 L96.9988 100.924 L77.0915 100.924 L77.0915 96.9885 Z\" fill=\"#000000\" fill-rule=\"nonzero\" fill-opacity=\"1\" /><path clip-path=\"url(#clip130)\" d=\"M116.443 69.4424 Q112.832 69.4424 111.003 73.0072 Q109.198 76.5488 109.198 83.6784 Q109.198 90.7849 111.003 94.3497 Q112.832 97.8913 116.443 97.8913 Q120.077 97.8913 121.883 94.3497 Q123.712 90.7849 123.712 83.6784 Q123.712 76.5488 121.883 73.0072 Q120.077 69.4424 116.443 69.4424 M116.443 65.7387 Q122.253 65.7387 125.309 70.3452 Q128.388 74.9285 128.388 83.6784 Q128.388 92.4052 125.309 97.0117 Q122.253 101.595 116.443 101.595 Q110.633 101.595 107.554 97.0117 Q104.499 92.4052 104.499 83.6784 Q104.499 74.9285 107.554 70.3452 Q110.633 65.7387 116.443 65.7387 Z\" fill=\"#000000\" fill-rule=\"nonzero\" fill-opacity=\"1\" /><path clip-path=\"url(#clip130)\" d=\"M128.388 59.8401 L152.499 59.8401 L152.499 63.0374 L128.388 63.0374 L128.388 59.8401 Z\" fill=\"#000000\" fill-rule=\"nonzero\" fill-opacity=\"1\" /><path clip-path=\"url(#clip130)\" d=\"M172.21 58.3731 Q174.937 58.9561 176.46 60.7993 Q178.002 62.6424 178.002 65.3507 Q178.002 69.5073 175.144 71.783 Q172.285 74.0587 167.019 74.0587 Q165.251 74.0587 163.37 73.7014 Q161.508 73.3629 159.514 72.667 L159.514 68.9994 Q161.094 69.921 162.975 70.3912 Q164.856 70.8614 166.906 70.8614 Q170.479 70.8614 172.341 69.4508 Q174.222 68.0403 174.222 65.3507 Q174.222 62.8681 172.473 61.4763 Q170.743 60.0658 167.639 60.0658 L164.367 60.0658 L164.367 56.9437 L167.79 56.9437 Q170.592 56.9437 172.078 55.834 Q173.564 54.7055 173.564 52.5991 Q173.564 50.4362 172.022 49.2889 Q170.498 48.1228 167.639 48.1228 Q166.078 48.1228 164.292 48.4614 Q162.505 48.7999 160.361 49.5146 L160.361 46.1292 Q162.524 45.5274 164.404 45.2264 Q166.304 44.9255 167.978 44.9255 Q172.304 44.9255 174.824 46.9003 Q177.344 48.8563 177.344 52.2041 Q177.344 54.5363 176.009 56.1537 Q174.673 57.7524 172.21 58.3731 Z\" fill=\"#000000\" fill-rule=\"nonzero\" fill-opacity=\"1\" /><circle clip-path=\"url(#clip132)\" cx=\"418.654\" cy=\"1445.72\" r=\"14.4\" fill=\"#009af9\" fill-rule=\"evenodd\" fill-opacity=\"1\" stroke=\"#000000\" stroke-opacity=\"1\" stroke-width=\"3.2\"/>\n",
       "<circle clip-path=\"url(#clip132)\" cx=\"562.775\" cy=\"1308.8\" r=\"14.4\" fill=\"#009af9\" fill-rule=\"evenodd\" fill-opacity=\"1\" stroke=\"#000000\" stroke-opacity=\"1\" stroke-width=\"3.2\"/>\n",
       "<circle clip-path=\"url(#clip132)\" cx=\"706.896\" cy=\"1137.4\" r=\"14.4\" fill=\"#009af9\" fill-rule=\"evenodd\" fill-opacity=\"1\" stroke=\"#000000\" stroke-opacity=\"1\" stroke-width=\"3.2\"/>\n",
       "<circle clip-path=\"url(#clip132)\" cx=\"851.017\" cy=\"1051.81\" r=\"14.4\" fill=\"#009af9\" fill-rule=\"evenodd\" fill-opacity=\"1\" stroke=\"#000000\" stroke-opacity=\"1\" stroke-width=\"3.2\"/>\n",
       "<circle clip-path=\"url(#clip132)\" cx=\"995.137\" cy=\"980.211\" r=\"14.4\" fill=\"#009af9\" fill-rule=\"evenodd\" fill-opacity=\"1\" stroke=\"#000000\" stroke-opacity=\"1\" stroke-width=\"3.2\"/>\n",
       "<circle clip-path=\"url(#clip132)\" cx=\"1139.26\" cy=\"823.989\" r=\"14.4\" fill=\"#009af9\" fill-rule=\"evenodd\" fill-opacity=\"1\" stroke=\"#000000\" stroke-opacity=\"1\" stroke-width=\"3.2\"/>\n",
       "<circle clip-path=\"url(#clip132)\" cx=\"1283.38\" cy=\"764.625\" r=\"14.4\" fill=\"#009af9\" fill-rule=\"evenodd\" fill-opacity=\"1\" stroke=\"#000000\" stroke-opacity=\"1\" stroke-width=\"3.2\"/>\n",
       "<circle clip-path=\"url(#clip132)\" cx=\"1427.5\" cy=\"616.51\" r=\"14.4\" fill=\"#009af9\" fill-rule=\"evenodd\" fill-opacity=\"1\" stroke=\"#000000\" stroke-opacity=\"1\" stroke-width=\"3.2\"/>\n",
       "<circle clip-path=\"url(#clip132)\" cx=\"1571.62\" cy=\"529.86\" r=\"14.4\" fill=\"#009af9\" fill-rule=\"evenodd\" fill-opacity=\"1\" stroke=\"#000000\" stroke-opacity=\"1\" stroke-width=\"3.2\"/>\n",
       "<circle clip-path=\"url(#clip132)\" cx=\"1715.74\" cy=\"529.513\" r=\"14.4\" fill=\"#009af9\" fill-rule=\"evenodd\" fill-opacity=\"1\" stroke=\"#000000\" stroke-opacity=\"1\" stroke-width=\"3.2\"/>\n",
       "<circle clip-path=\"url(#clip132)\" cx=\"1859.86\" cy=\"314.626\" r=\"14.4\" fill=\"#009af9\" fill-rule=\"evenodd\" fill-opacity=\"1\" stroke=\"#000000\" stroke-opacity=\"1\" stroke-width=\"3.2\"/>\n",
       "<circle clip-path=\"url(#clip132)\" cx=\"2003.98\" cy=\"170.093\" r=\"14.4\" fill=\"#009af9\" fill-rule=\"evenodd\" fill-opacity=\"1\" stroke=\"#000000\" stroke-opacity=\"1\" stroke-width=\"3.2\"/>\n",
       "<circle clip-path=\"url(#clip132)\" cx=\"2148.1\" cy=\"87.9763\" r=\"14.4\" fill=\"#009af9\" fill-rule=\"evenodd\" fill-opacity=\"1\" stroke=\"#000000\" stroke-opacity=\"1\" stroke-width=\"3.2\"/>\n",
       "<circle clip-path=\"url(#clip132)\" cx=\"2292.23\" cy=\"87.9763\" r=\"14.4\" fill=\"#009af9\" fill-rule=\"evenodd\" fill-opacity=\"1\" stroke=\"#000000\" stroke-opacity=\"1\" stroke-width=\"3.2\"/>\n",
       "<path clip-path=\"url(#clip130)\" d=\"M2015.16 1438.47 L2281.46 1438.47 L2281.46 1334.79 L2015.16 1334.79  Z\" fill=\"#ffffff\" fill-rule=\"evenodd\" fill-opacity=\"1\"/>\n",
       "<polyline clip-path=\"url(#clip130)\" style=\"stroke:#000000; stroke-linecap:round; stroke-linejoin:round; stroke-width:4; stroke-opacity:1; fill:none\" points=\"2015.16,1438.47 2281.46,1438.47 2281.46,1334.79 2015.16,1334.79 2015.16,1438.47 \"/>\n",
       "<circle clip-path=\"url(#clip130)\" cx=\"2110.21\" cy=\"1386.63\" r=\"20.48\" fill=\"#009af9\" fill-rule=\"evenodd\" fill-opacity=\"1\" stroke=\"#000000\" stroke-opacity=\"1\" stroke-width=\"4.55111\"/>\n",
       "<path clip-path=\"url(#clip130)\" d=\"M2219.11 1406.32 Q2217.31 1410.95 2215.59 1412.36 Q2213.88 1413.78 2211.01 1413.78 L2207.61 1413.78 L2207.61 1410.21 L2210.11 1410.21 Q2211.87 1410.21 2212.84 1409.38 Q2213.81 1408.54 2214.99 1405.44 L2215.76 1403.5 L2205.27 1377.99 L2209.78 1377.99 L2217.89 1398.27 L2225.99 1377.99 L2230.5 1377.99 L2219.11 1406.32 Z\" fill=\"#000000\" fill-rule=\"nonzero\" fill-opacity=\"1\" /><path clip-path=\"url(#clip130)\" d=\"M2237.79 1399.98 L2245.43 1399.98 L2245.43 1373.61 L2237.12 1375.28 L2237.12 1371.02 L2245.39 1369.35 L2250.06 1369.35 L2250.06 1399.98 L2257.7 1399.98 L2257.7 1403.91 L2237.79 1403.91 L2237.79 1399.98 Z\" fill=\"#000000\" fill-rule=\"nonzero\" fill-opacity=\"1\" /></svg>\n"
      ],
      "text/html": [
       "<?xml version=\"1.0\" encoding=\"utf-8\"?>\n",
       "<svg xmlns=\"http://www.w3.org/2000/svg\" xmlns:xlink=\"http://www.w3.org/1999/xlink\" width=\"600\" height=\"400\" viewBox=\"0 0 2400 1600\">\n",
       "<defs>\n",
       "  <clipPath id=\"clip180\">\n",
       "    <rect x=\"0\" y=\"0\" width=\"2400\" height=\"1600\"/>\n",
       "  </clipPath>\n",
       "</defs>\n",
       "<path clip-path=\"url(#clip180)\" d=\"M0 1600 L2400 1600 L2400 0 L0 0  Z\" fill=\"#ffffff\" fill-rule=\"evenodd\" fill-opacity=\"1\"/>\n",
       "<defs>\n",
       "  <clipPath id=\"clip181\">\n",
       "    <rect x=\"480\" y=\"0\" width=\"1681\" height=\"1600\"/>\n",
       "  </clipPath>\n",
       "</defs>\n",
       "<path clip-path=\"url(#clip180)\" d=\"M214.002 1486.45 L2352.76 1486.45 L2352.76 47.2441 L214.002 47.2441  Z\" fill=\"#ffffff\" fill-rule=\"evenodd\" fill-opacity=\"1\"/>\n",
       "<defs>\n",
       "  <clipPath id=\"clip182\">\n",
       "    <rect x=\"214\" y=\"47\" width=\"2140\" height=\"1440\"/>\n",
       "  </clipPath>\n",
       "</defs>\n",
       "<polyline clip-path=\"url(#clip182)\" style=\"stroke:#000000; stroke-linecap:round; stroke-linejoin:round; stroke-width:2; stroke-opacity:0.1; fill:none\" points=\"274.533,1486.45 274.533,47.2441 \"/>\n",
       "<polyline clip-path=\"url(#clip182)\" style=\"stroke:#000000; stroke-linecap:round; stroke-linejoin:round; stroke-width:2; stroke-opacity:0.1; fill:none\" points=\"418.654,1486.45 418.654,47.2441 \"/>\n",
       "<polyline clip-path=\"url(#clip182)\" style=\"stroke:#000000; stroke-linecap:round; stroke-linejoin:round; stroke-width:2; stroke-opacity:0.1; fill:none\" points=\"562.775,1486.45 562.775,47.2441 \"/>\n",
       "<polyline clip-path=\"url(#clip182)\" style=\"stroke:#000000; stroke-linecap:round; stroke-linejoin:round; stroke-width:2; stroke-opacity:0.1; fill:none\" points=\"706.896,1486.45 706.896,47.2441 \"/>\n",
       "<polyline clip-path=\"url(#clip182)\" style=\"stroke:#000000; stroke-linecap:round; stroke-linejoin:round; stroke-width:2; stroke-opacity:0.1; fill:none\" points=\"851.017,1486.45 851.017,47.2441 \"/>\n",
       "<polyline clip-path=\"url(#clip182)\" style=\"stroke:#000000; stroke-linecap:round; stroke-linejoin:round; stroke-width:2; stroke-opacity:0.1; fill:none\" points=\"995.137,1486.45 995.137,47.2441 \"/>\n",
       "<polyline clip-path=\"url(#clip182)\" style=\"stroke:#000000; stroke-linecap:round; stroke-linejoin:round; stroke-width:2; stroke-opacity:0.1; fill:none\" points=\"1139.26,1486.45 1139.26,47.2441 \"/>\n",
       "<polyline clip-path=\"url(#clip182)\" style=\"stroke:#000000; stroke-linecap:round; stroke-linejoin:round; stroke-width:2; stroke-opacity:0.1; fill:none\" points=\"1283.38,1486.45 1283.38,47.2441 \"/>\n",
       "<polyline clip-path=\"url(#clip182)\" style=\"stroke:#000000; stroke-linecap:round; stroke-linejoin:round; stroke-width:2; stroke-opacity:0.1; fill:none\" points=\"1427.5,1486.45 1427.5,47.2441 \"/>\n",
       "<polyline clip-path=\"url(#clip182)\" style=\"stroke:#000000; stroke-linecap:round; stroke-linejoin:round; stroke-width:2; stroke-opacity:0.1; fill:none\" points=\"1571.62,1486.45 1571.62,47.2441 \"/>\n",
       "<polyline clip-path=\"url(#clip182)\" style=\"stroke:#000000; stroke-linecap:round; stroke-linejoin:round; stroke-width:2; stroke-opacity:0.1; fill:none\" points=\"1715.74,1486.45 1715.74,47.2441 \"/>\n",
       "<polyline clip-path=\"url(#clip182)\" style=\"stroke:#000000; stroke-linecap:round; stroke-linejoin:round; stroke-width:2; stroke-opacity:0.1; fill:none\" points=\"1859.86,1486.45 1859.86,47.2441 \"/>\n",
       "<polyline clip-path=\"url(#clip182)\" style=\"stroke:#000000; stroke-linecap:round; stroke-linejoin:round; stroke-width:2; stroke-opacity:0.1; fill:none\" points=\"2003.98,1486.45 2003.98,47.2441 \"/>\n",
       "<polyline clip-path=\"url(#clip182)\" style=\"stroke:#000000; stroke-linecap:round; stroke-linejoin:round; stroke-width:2; stroke-opacity:0.1; fill:none\" points=\"2148.1,1486.45 2148.1,47.2441 \"/>\n",
       "<polyline clip-path=\"url(#clip182)\" style=\"stroke:#000000; stroke-linecap:round; stroke-linejoin:round; stroke-width:2; stroke-opacity:0.1; fill:none\" points=\"2292.23,1486.45 2292.23,47.2441 \"/>\n",
       "<polyline clip-path=\"url(#clip182)\" style=\"stroke:#000000; stroke-linecap:round; stroke-linejoin:round; stroke-width:2; stroke-opacity:0.1; fill:none\" points=\"214.002,1406.68 2352.76,1406.68 \"/>\n",
       "<polyline clip-path=\"url(#clip182)\" style=\"stroke:#000000; stroke-linecap:round; stroke-linejoin:round; stroke-width:2; stroke-opacity:0.1; fill:none\" points=\"214.002,1295.89 2352.76,1295.89 \"/>\n",
       "<polyline clip-path=\"url(#clip182)\" style=\"stroke:#000000; stroke-linecap:round; stroke-linejoin:round; stroke-width:2; stroke-opacity:0.1; fill:none\" points=\"214.002,1185.1 2352.76,1185.1 \"/>\n",
       "<polyline clip-path=\"url(#clip182)\" style=\"stroke:#000000; stroke-linecap:round; stroke-linejoin:round; stroke-width:2; stroke-opacity:0.1; fill:none\" points=\"214.002,1074.31 2352.76,1074.31 \"/>\n",
       "<polyline clip-path=\"url(#clip182)\" style=\"stroke:#000000; stroke-linecap:round; stroke-linejoin:round; stroke-width:2; stroke-opacity:0.1; fill:none\" points=\"214.002,963.52 2352.76,963.52 \"/>\n",
       "<polyline clip-path=\"url(#clip182)\" style=\"stroke:#000000; stroke-linecap:round; stroke-linejoin:round; stroke-width:2; stroke-opacity:0.1; fill:none\" points=\"214.002,852.73 2352.76,852.73 \"/>\n",
       "<polyline clip-path=\"url(#clip182)\" style=\"stroke:#000000; stroke-linecap:round; stroke-linejoin:round; stroke-width:2; stroke-opacity:0.1; fill:none\" points=\"214.002,741.939 2352.76,741.939 \"/>\n",
       "<polyline clip-path=\"url(#clip182)\" style=\"stroke:#000000; stroke-linecap:round; stroke-linejoin:round; stroke-width:2; stroke-opacity:0.1; fill:none\" points=\"214.002,631.149 2352.76,631.149 \"/>\n",
       "<polyline clip-path=\"url(#clip182)\" style=\"stroke:#000000; stroke-linecap:round; stroke-linejoin:round; stroke-width:2; stroke-opacity:0.1; fill:none\" points=\"214.002,520.358 2352.76,520.358 \"/>\n",
       "<polyline clip-path=\"url(#clip182)\" style=\"stroke:#000000; stroke-linecap:round; stroke-linejoin:round; stroke-width:2; stroke-opacity:0.1; fill:none\" points=\"214.002,409.568 2352.76,409.568 \"/>\n",
       "<polyline clip-path=\"url(#clip182)\" style=\"stroke:#000000; stroke-linecap:round; stroke-linejoin:round; stroke-width:2; stroke-opacity:0.1; fill:none\" points=\"214.002,298.777 2352.76,298.777 \"/>\n",
       "<polyline clip-path=\"url(#clip182)\" style=\"stroke:#000000; stroke-linecap:round; stroke-linejoin:round; stroke-width:2; stroke-opacity:0.1; fill:none\" points=\"214.002,187.987 2352.76,187.987 \"/>\n",
       "<polyline clip-path=\"url(#clip182)\" style=\"stroke:#000000; stroke-linecap:round; stroke-linejoin:round; stroke-width:2; stroke-opacity:0.1; fill:none\" points=\"214.002,77.1961 2352.76,77.1961 \"/>\n",
       "<polyline clip-path=\"url(#clip180)\" style=\"stroke:#000000; stroke-linecap:round; stroke-linejoin:round; stroke-width:4; stroke-opacity:1; fill:none\" points=\"214.002,1486.45 2352.76,1486.45 \"/>\n",
       "<polyline clip-path=\"url(#clip180)\" style=\"stroke:#000000; stroke-linecap:round; stroke-linejoin:round; stroke-width:4; stroke-opacity:1; fill:none\" points=\"274.533,1486.45 274.533,1467.55 \"/>\n",
       "<polyline clip-path=\"url(#clip180)\" style=\"stroke:#000000; stroke-linecap:round; stroke-linejoin:round; stroke-width:4; stroke-opacity:1; fill:none\" points=\"418.654,1486.45 418.654,1467.55 \"/>\n",
       "<polyline clip-path=\"url(#clip180)\" style=\"stroke:#000000; stroke-linecap:round; stroke-linejoin:round; stroke-width:4; stroke-opacity:1; fill:none\" points=\"562.775,1486.45 562.775,1467.55 \"/>\n",
       "<polyline clip-path=\"url(#clip180)\" style=\"stroke:#000000; stroke-linecap:round; stroke-linejoin:round; stroke-width:4; stroke-opacity:1; fill:none\" points=\"706.896,1486.45 706.896,1467.55 \"/>\n",
       "<polyline clip-path=\"url(#clip180)\" style=\"stroke:#000000; stroke-linecap:round; stroke-linejoin:round; stroke-width:4; stroke-opacity:1; fill:none\" points=\"851.017,1486.45 851.017,1467.55 \"/>\n",
       "<polyline clip-path=\"url(#clip180)\" style=\"stroke:#000000; stroke-linecap:round; stroke-linejoin:round; stroke-width:4; stroke-opacity:1; fill:none\" points=\"995.137,1486.45 995.137,1467.55 \"/>\n",
       "<polyline clip-path=\"url(#clip180)\" style=\"stroke:#000000; stroke-linecap:round; stroke-linejoin:round; stroke-width:4; stroke-opacity:1; fill:none\" points=\"1139.26,1486.45 1139.26,1467.55 \"/>\n",
       "<polyline clip-path=\"url(#clip180)\" style=\"stroke:#000000; stroke-linecap:round; stroke-linejoin:round; stroke-width:4; stroke-opacity:1; fill:none\" points=\"1283.38,1486.45 1283.38,1467.55 \"/>\n",
       "<polyline clip-path=\"url(#clip180)\" style=\"stroke:#000000; stroke-linecap:round; stroke-linejoin:round; stroke-width:4; stroke-opacity:1; fill:none\" points=\"1427.5,1486.45 1427.5,1467.55 \"/>\n",
       "<polyline clip-path=\"url(#clip180)\" style=\"stroke:#000000; stroke-linecap:round; stroke-linejoin:round; stroke-width:4; stroke-opacity:1; fill:none\" points=\"1571.62,1486.45 1571.62,1467.55 \"/>\n",
       "<polyline clip-path=\"url(#clip180)\" style=\"stroke:#000000; stroke-linecap:round; stroke-linejoin:round; stroke-width:4; stroke-opacity:1; fill:none\" points=\"1715.74,1486.45 1715.74,1467.55 \"/>\n",
       "<polyline clip-path=\"url(#clip180)\" style=\"stroke:#000000; stroke-linecap:round; stroke-linejoin:round; stroke-width:4; stroke-opacity:1; fill:none\" points=\"1859.86,1486.45 1859.86,1467.55 \"/>\n",
       "<polyline clip-path=\"url(#clip180)\" style=\"stroke:#000000; stroke-linecap:round; stroke-linejoin:round; stroke-width:4; stroke-opacity:1; fill:none\" points=\"2003.98,1486.45 2003.98,1467.55 \"/>\n",
       "<polyline clip-path=\"url(#clip180)\" style=\"stroke:#000000; stroke-linecap:round; stroke-linejoin:round; stroke-width:4; stroke-opacity:1; fill:none\" points=\"2148.1,1486.45 2148.1,1467.55 \"/>\n",
       "<polyline clip-path=\"url(#clip180)\" style=\"stroke:#000000; stroke-linecap:round; stroke-linejoin:round; stroke-width:4; stroke-opacity:1; fill:none\" points=\"2292.23,1486.45 2292.23,1467.55 \"/>\n",
       "<path clip-path=\"url(#clip180)\" d=\"M274.533 1517.37 Q270.922 1517.37 269.093 1520.93 Q267.288 1524.47 267.288 1531.6 Q267.288 1538.71 269.093 1542.27 Q270.922 1545.82 274.533 1545.82 Q278.167 1545.82 279.973 1542.27 Q281.802 1538.71 281.802 1531.6 Q281.802 1524.47 279.973 1520.93 Q278.167 1517.37 274.533 1517.37 M274.533 1513.66 Q280.343 1513.66 283.399 1518.27 Q286.478 1522.85 286.478 1531.6 Q286.478 1540.33 283.399 1544.94 Q280.343 1549.52 274.533 1549.52 Q268.723 1549.52 265.644 1544.94 Q262.589 1540.33 262.589 1531.6 Q262.589 1522.85 265.644 1518.27 Q268.723 1513.66 274.533 1513.66 Z\" fill=\"#000000\" fill-rule=\"nonzero\" fill-opacity=\"1\" /><path clip-path=\"url(#clip180)\" d=\"M409.036 1544.91 L416.675 1544.91 L416.675 1518.55 L408.365 1520.21 L408.365 1515.95 L416.629 1514.29 L421.305 1514.29 L421.305 1544.91 L428.943 1544.91 L428.943 1548.85 L409.036 1548.85 L409.036 1544.91 Z\" fill=\"#000000\" fill-rule=\"nonzero\" fill-opacity=\"1\" /><path clip-path=\"url(#clip180)\" d=\"M557.428 1544.91 L573.747 1544.91 L573.747 1548.85 L551.803 1548.85 L551.803 1544.91 Q554.465 1542.16 559.048 1537.53 Q563.655 1532.88 564.835 1531.53 Q567.08 1529.01 567.96 1527.27 Q568.863 1525.51 568.863 1523.82 Q568.863 1521.07 566.918 1519.33 Q564.997 1517.6 561.895 1517.6 Q559.696 1517.6 557.243 1518.36 Q554.812 1519.13 552.034 1520.68 L552.034 1515.95 Q554.858 1514.82 557.312 1514.24 Q559.766 1513.66 561.803 1513.66 Q567.173 1513.66 570.367 1516.35 Q573.562 1519.03 573.562 1523.52 Q573.562 1525.65 572.752 1527.57 Q571.965 1529.47 569.858 1532.07 Q569.28 1532.74 566.178 1535.95 Q563.076 1539.15 557.428 1544.91 Z\" fill=\"#000000\" fill-rule=\"nonzero\" fill-opacity=\"1\" /><path clip-path=\"url(#clip180)\" d=\"M711.143 1530.21 Q714.5 1530.93 716.375 1533.2 Q718.273 1535.47 718.273 1538.8 Q718.273 1543.92 714.755 1546.72 Q711.236 1549.52 704.755 1549.52 Q702.579 1549.52 700.264 1549.08 Q697.972 1548.66 695.519 1547.81 L695.519 1543.29 Q697.463 1544.43 699.778 1545.01 Q702.093 1545.58 704.616 1545.58 Q709.014 1545.58 711.305 1543.85 Q713.62 1542.11 713.62 1538.8 Q713.62 1535.75 711.467 1534.03 Q709.338 1532.3 705.518 1532.3 L701.491 1532.3 L701.491 1528.45 L705.704 1528.45 Q709.153 1528.45 710.981 1527.09 Q712.81 1525.7 712.81 1523.11 Q712.81 1520.45 710.912 1519.03 Q709.037 1517.6 705.518 1517.6 Q703.597 1517.6 701.398 1518.01 Q699.199 1518.43 696.56 1519.31 L696.56 1515.14 Q699.222 1514.4 701.537 1514.03 Q703.875 1513.66 705.935 1513.66 Q711.259 1513.66 714.361 1516.09 Q717.463 1518.5 717.463 1522.62 Q717.463 1525.49 715.819 1527.48 Q714.176 1529.45 711.143 1530.21 Z\" fill=\"#000000\" fill-rule=\"nonzero\" fill-opacity=\"1\" /><path clip-path=\"url(#clip180)\" d=\"M854.026 1518.36 L842.22 1536.81 L854.026 1536.81 L854.026 1518.36 M852.799 1514.29 L858.679 1514.29 L858.679 1536.81 L863.609 1536.81 L863.609 1540.7 L858.679 1540.7 L858.679 1548.85 L854.026 1548.85 L854.026 1540.7 L838.424 1540.7 L838.424 1536.19 L852.799 1514.29 Z\" fill=\"#000000\" fill-rule=\"nonzero\" fill-opacity=\"1\" /><path clip-path=\"url(#clip180)\" d=\"M985.415 1514.29 L1003.77 1514.29 L1003.77 1518.22 L989.698 1518.22 L989.698 1526.7 Q990.716 1526.35 991.735 1526.19 Q992.753 1526 993.772 1526 Q999.559 1526 1002.94 1529.17 Q1006.32 1532.34 1006.32 1537.76 Q1006.32 1543.34 1002.85 1546.44 Q999.374 1549.52 993.054 1549.52 Q990.878 1549.52 988.61 1549.15 Q986.364 1548.78 983.957 1548.04 L983.957 1543.34 Q986.04 1544.47 988.263 1545.03 Q990.485 1545.58 992.962 1545.58 Q996.966 1545.58 999.304 1543.48 Q1001.64 1541.37 1001.64 1537.76 Q1001.64 1534.15 999.304 1532.04 Q996.966 1529.94 992.962 1529.94 Q991.087 1529.94 989.212 1530.35 Q987.36 1530.77 985.415 1531.65 L985.415 1514.29 Z\" fill=\"#000000\" fill-rule=\"nonzero\" fill-opacity=\"1\" /><path clip-path=\"url(#clip180)\" d=\"M1139.66 1529.7 Q1136.52 1529.7 1134.66 1531.86 Q1132.83 1534.01 1132.83 1537.76 Q1132.83 1541.49 1134.66 1543.66 Q1136.52 1545.82 1139.66 1545.82 Q1142.81 1545.82 1144.64 1543.66 Q1146.49 1541.49 1146.49 1537.76 Q1146.49 1534.01 1144.64 1531.86 Q1142.81 1529.7 1139.66 1529.7 M1148.95 1515.05 L1148.95 1519.31 Q1147.19 1518.48 1145.38 1518.04 Q1143.6 1517.6 1141.84 1517.6 Q1137.21 1517.6 1134.76 1520.72 Q1132.33 1523.85 1131.98 1530.17 Q1133.34 1528.15 1135.4 1527.09 Q1137.46 1526 1139.94 1526 Q1145.15 1526 1148.16 1529.17 Q1151.19 1532.32 1151.19 1537.76 Q1151.19 1543.08 1148.04 1546.3 Q1144.89 1549.52 1139.66 1549.52 Q1133.67 1549.52 1130.5 1544.94 Q1127.33 1540.33 1127.33 1531.6 Q1127.33 1523.41 1131.21 1518.55 Q1135.1 1513.66 1141.65 1513.66 Q1143.41 1513.66 1145.2 1514.01 Q1147 1514.36 1148.95 1515.05 Z\" fill=\"#000000\" fill-rule=\"nonzero\" fill-opacity=\"1\" /><path clip-path=\"url(#clip180)\" d=\"M1272.27 1514.29 L1294.49 1514.29 L1294.49 1516.28 L1281.94 1548.85 L1277.06 1548.85 L1288.87 1518.22 L1272.27 1518.22 L1272.27 1514.29 Z\" fill=\"#000000\" fill-rule=\"nonzero\" fill-opacity=\"1\" /><path clip-path=\"url(#clip180)\" d=\"M1427.5 1532.44 Q1424.17 1532.44 1422.25 1534.22 Q1420.35 1536 1420.35 1539.13 Q1420.35 1542.25 1422.25 1544.03 Q1424.17 1545.82 1427.5 1545.82 Q1430.83 1545.82 1432.75 1544.03 Q1434.68 1542.23 1434.68 1539.13 Q1434.68 1536 1432.75 1534.22 Q1430.86 1532.44 1427.5 1532.44 M1422.82 1530.45 Q1419.81 1529.7 1418.13 1527.64 Q1416.46 1525.58 1416.46 1522.62 Q1416.46 1518.48 1419.4 1516.07 Q1422.36 1513.66 1427.5 1513.66 Q1432.66 1513.66 1435.6 1516.07 Q1438.54 1518.48 1438.54 1522.62 Q1438.54 1525.58 1436.85 1527.64 Q1435.19 1529.7 1432.2 1530.45 Q1435.58 1531.23 1437.45 1533.52 Q1439.35 1535.82 1439.35 1539.13 Q1439.35 1544.15 1436.27 1546.83 Q1433.22 1549.52 1427.5 1549.52 Q1421.78 1549.52 1418.7 1546.83 Q1415.65 1544.15 1415.65 1539.13 Q1415.65 1535.82 1417.55 1533.52 Q1419.44 1531.23 1422.82 1530.45 M1421.11 1523.06 Q1421.11 1525.75 1422.78 1527.25 Q1424.47 1528.76 1427.5 1528.76 Q1430.51 1528.76 1432.2 1527.25 Q1433.91 1525.75 1433.91 1523.06 Q1433.91 1520.38 1432.2 1518.87 Q1430.51 1517.37 1427.5 1517.37 Q1424.47 1517.37 1422.78 1518.87 Q1421.11 1520.38 1421.11 1523.06 Z\" fill=\"#000000\" fill-rule=\"nonzero\" fill-opacity=\"1\" /><path clip-path=\"url(#clip180)\" d=\"M1561.92 1548.13 L1561.92 1543.87 Q1563.68 1544.7 1565.49 1545.14 Q1567.29 1545.58 1569.03 1545.58 Q1573.66 1545.58 1576.09 1542.48 Q1578.54 1539.36 1578.89 1533.01 Q1577.55 1535.01 1575.49 1536.07 Q1573.43 1537.13 1570.93 1537.13 Q1565.74 1537.13 1562.71 1534.01 Q1559.7 1530.86 1559.7 1525.42 Q1559.7 1520.1 1562.85 1516.88 Q1566 1513.66 1571.23 1513.66 Q1577.22 1513.66 1580.37 1518.27 Q1583.54 1522.85 1583.54 1531.6 Q1583.54 1539.77 1579.65 1544.66 Q1575.79 1549.52 1569.24 1549.52 Q1567.48 1549.52 1565.67 1549.17 Q1563.87 1548.82 1561.92 1548.13 M1571.23 1533.48 Q1574.38 1533.48 1576.2 1531.32 Q1578.06 1529.17 1578.06 1525.42 Q1578.06 1521.7 1576.2 1519.54 Q1574.38 1517.37 1571.23 1517.37 Q1568.08 1517.37 1566.23 1519.54 Q1564.4 1521.7 1564.4 1525.42 Q1564.4 1529.17 1566.23 1531.32 Q1568.08 1533.48 1571.23 1533.48 Z\" fill=\"#000000\" fill-rule=\"nonzero\" fill-opacity=\"1\" /><path clip-path=\"url(#clip180)\" d=\"M1690.43 1544.91 L1698.07 1544.91 L1698.07 1518.55 L1689.76 1520.21 L1689.76 1515.95 L1698.02 1514.29 L1702.7 1514.29 L1702.7 1544.91 L1710.34 1544.91 L1710.34 1548.85 L1690.43 1548.85 L1690.43 1544.91 Z\" fill=\"#000000\" fill-rule=\"nonzero\" fill-opacity=\"1\" /><path clip-path=\"url(#clip180)\" d=\"M1729.78 1517.37 Q1726.17 1517.37 1724.34 1520.93 Q1722.54 1524.47 1722.54 1531.6 Q1722.54 1538.71 1724.34 1542.27 Q1726.17 1545.82 1729.78 1545.82 Q1733.42 1545.82 1735.22 1542.27 Q1737.05 1538.71 1737.05 1531.6 Q1737.05 1524.47 1735.22 1520.93 Q1733.42 1517.37 1729.78 1517.37 M1729.78 1513.66 Q1735.59 1513.66 1738.65 1518.27 Q1741.73 1522.85 1741.73 1531.6 Q1741.73 1540.33 1738.65 1544.94 Q1735.59 1549.52 1729.78 1549.52 Q1723.97 1549.52 1720.89 1544.94 Q1717.84 1540.33 1717.84 1531.6 Q1717.84 1522.85 1720.89 1518.27 Q1723.97 1513.66 1729.78 1513.66 Z\" fill=\"#000000\" fill-rule=\"nonzero\" fill-opacity=\"1\" /><path clip-path=\"url(#clip180)\" d=\"M1835.16 1544.91 L1842.8 1544.91 L1842.8 1518.55 L1834.49 1520.21 L1834.49 1515.95 L1842.76 1514.29 L1847.43 1514.29 L1847.43 1544.91 L1855.07 1544.91 L1855.07 1548.85 L1835.16 1548.85 L1835.16 1544.91 Z\" fill=\"#000000\" fill-rule=\"nonzero\" fill-opacity=\"1\" /><path clip-path=\"url(#clip180)\" d=\"M1865.33 1544.91 L1872.96 1544.91 L1872.96 1518.55 L1864.65 1520.21 L1864.65 1515.95 L1872.92 1514.29 L1877.59 1514.29 L1877.59 1544.91 L1885.23 1544.91 L1885.23 1548.85 L1865.33 1548.85 L1865.33 1544.91 Z\" fill=\"#000000\" fill-rule=\"nonzero\" fill-opacity=\"1\" /><path clip-path=\"url(#clip180)\" d=\"M1979.47 1544.91 L1987.11 1544.91 L1987.11 1518.55 L1978.8 1520.21 L1978.8 1515.95 L1987.06 1514.29 L1991.74 1514.29 L1991.74 1544.91 L1999.38 1544.91 L1999.38 1548.85 L1979.47 1548.85 L1979.47 1544.91 Z\" fill=\"#000000\" fill-rule=\"nonzero\" fill-opacity=\"1\" /><path clip-path=\"url(#clip180)\" d=\"M2012.85 1544.91 L2029.17 1544.91 L2029.17 1548.85 L2007.22 1548.85 L2007.22 1544.91 Q2009.89 1542.16 2014.47 1537.53 Q2019.08 1532.88 2020.26 1531.53 Q2022.5 1529.01 2023.38 1527.27 Q2024.28 1525.51 2024.28 1523.82 Q2024.28 1521.07 2022.34 1519.33 Q2020.42 1517.6 2017.32 1517.6 Q2015.12 1517.6 2012.66 1518.36 Q2010.23 1519.13 2007.46 1520.68 L2007.46 1515.95 Q2010.28 1514.82 2012.73 1514.24 Q2015.19 1513.66 2017.22 1513.66 Q2022.59 1513.66 2025.79 1516.35 Q2028.98 1519.03 2028.98 1523.52 Q2028.98 1525.65 2028.17 1527.57 Q2027.39 1529.47 2025.28 1532.07 Q2024.7 1532.74 2021.6 1535.95 Q2018.5 1539.15 2012.85 1544.91 Z\" fill=\"#000000\" fill-rule=\"nonzero\" fill-opacity=\"1\" /><path clip-path=\"url(#clip180)\" d=\"M2123.12 1544.91 L2130.75 1544.91 L2130.75 1518.55 L2122.44 1520.21 L2122.44 1515.95 L2130.71 1514.29 L2135.38 1514.29 L2135.38 1544.91 L2143.02 1544.91 L2143.02 1548.85 L2123.12 1548.85 L2123.12 1544.91 Z\" fill=\"#000000\" fill-rule=\"nonzero\" fill-opacity=\"1\" /><path clip-path=\"url(#clip180)\" d=\"M2166.63 1530.21 Q2169.99 1530.93 2171.87 1533.2 Q2173.76 1535.47 2173.76 1538.8 Q2173.76 1543.92 2170.25 1546.72 Q2166.73 1549.52 2160.25 1549.52 Q2158.07 1549.52 2155.75 1549.08 Q2153.46 1548.66 2151.01 1547.81 L2151.01 1543.29 Q2152.95 1544.43 2155.27 1545.01 Q2157.58 1545.58 2160.11 1545.58 Q2164.5 1545.58 2166.8 1543.85 Q2169.11 1542.11 2169.11 1538.8 Q2169.11 1535.75 2166.96 1534.03 Q2164.83 1532.3 2161.01 1532.3 L2156.98 1532.3 L2156.98 1528.45 L2161.19 1528.45 Q2164.64 1528.45 2166.47 1527.09 Q2168.3 1525.7 2168.3 1523.11 Q2168.3 1520.45 2166.4 1519.03 Q2164.53 1517.6 2161.01 1517.6 Q2159.09 1517.6 2156.89 1518.01 Q2154.69 1518.43 2152.05 1519.31 L2152.05 1515.14 Q2154.71 1514.4 2157.03 1514.03 Q2159.37 1513.66 2161.43 1513.66 Q2166.75 1513.66 2169.85 1516.09 Q2172.95 1518.5 2172.95 1522.62 Q2172.95 1525.49 2171.31 1527.48 Q2169.67 1529.45 2166.63 1530.21 Z\" fill=\"#000000\" fill-rule=\"nonzero\" fill-opacity=\"1\" /><path clip-path=\"url(#clip180)\" d=\"M2266.67 1544.91 L2274.31 1544.91 L2274.31 1518.55 L2266 1520.21 L2266 1515.95 L2274.26 1514.29 L2278.94 1514.29 L2278.94 1544.91 L2286.58 1544.91 L2286.58 1548.85 L2266.67 1548.85 L2266.67 1544.91 Z\" fill=\"#000000\" fill-rule=\"nonzero\" fill-opacity=\"1\" /><path clip-path=\"url(#clip180)\" d=\"M2308.87 1518.36 L2297.06 1536.81 L2308.87 1536.81 L2308.87 1518.36 M2307.64 1514.29 L2313.52 1514.29 L2313.52 1536.81 L2318.45 1536.81 L2318.45 1540.7 L2313.52 1540.7 L2313.52 1548.85 L2308.87 1548.85 L2308.87 1540.7 L2293.27 1540.7 L2293.27 1536.19 L2307.64 1514.29 Z\" fill=\"#000000\" fill-rule=\"nonzero\" fill-opacity=\"1\" /><polyline clip-path=\"url(#clip180)\" style=\"stroke:#000000; stroke-linecap:round; stroke-linejoin:round; stroke-width:4; stroke-opacity:1; fill:none\" points=\"214.002,1486.45 214.002,47.2441 \"/>\n",
       "<polyline clip-path=\"url(#clip180)\" style=\"stroke:#000000; stroke-linecap:round; stroke-linejoin:round; stroke-width:4; stroke-opacity:1; fill:none\" points=\"214.002,1406.68 232.9,1406.68 \"/>\n",
       "<polyline clip-path=\"url(#clip180)\" style=\"stroke:#000000; stroke-linecap:round; stroke-linejoin:round; stroke-width:4; stroke-opacity:1; fill:none\" points=\"214.002,1295.89 232.9,1295.89 \"/>\n",
       "<polyline clip-path=\"url(#clip180)\" style=\"stroke:#000000; stroke-linecap:round; stroke-linejoin:round; stroke-width:4; stroke-opacity:1; fill:none\" points=\"214.002,1185.1 232.9,1185.1 \"/>\n",
       "<polyline clip-path=\"url(#clip180)\" style=\"stroke:#000000; stroke-linecap:round; stroke-linejoin:round; stroke-width:4; stroke-opacity:1; fill:none\" points=\"214.002,1074.31 232.9,1074.31 \"/>\n",
       "<polyline clip-path=\"url(#clip180)\" style=\"stroke:#000000; stroke-linecap:round; stroke-linejoin:round; stroke-width:4; stroke-opacity:1; fill:none\" points=\"214.002,963.52 232.9,963.52 \"/>\n",
       "<polyline clip-path=\"url(#clip180)\" style=\"stroke:#000000; stroke-linecap:round; stroke-linejoin:round; stroke-width:4; stroke-opacity:1; fill:none\" points=\"214.002,852.73 232.9,852.73 \"/>\n",
       "<polyline clip-path=\"url(#clip180)\" style=\"stroke:#000000; stroke-linecap:round; stroke-linejoin:round; stroke-width:4; stroke-opacity:1; fill:none\" points=\"214.002,741.939 232.9,741.939 \"/>\n",
       "<polyline clip-path=\"url(#clip180)\" style=\"stroke:#000000; stroke-linecap:round; stroke-linejoin:round; stroke-width:4; stroke-opacity:1; fill:none\" points=\"214.002,631.149 232.9,631.149 \"/>\n",
       "<polyline clip-path=\"url(#clip180)\" style=\"stroke:#000000; stroke-linecap:round; stroke-linejoin:round; stroke-width:4; stroke-opacity:1; fill:none\" points=\"214.002,520.358 232.9,520.358 \"/>\n",
       "<polyline clip-path=\"url(#clip180)\" style=\"stroke:#000000; stroke-linecap:round; stroke-linejoin:round; stroke-width:4; stroke-opacity:1; fill:none\" points=\"214.002,409.568 232.9,409.568 \"/>\n",
       "<polyline clip-path=\"url(#clip180)\" style=\"stroke:#000000; stroke-linecap:round; stroke-linejoin:round; stroke-width:4; stroke-opacity:1; fill:none\" points=\"214.002,298.777 232.9,298.777 \"/>\n",
       "<polyline clip-path=\"url(#clip180)\" style=\"stroke:#000000; stroke-linecap:round; stroke-linejoin:round; stroke-width:4; stroke-opacity:1; fill:none\" points=\"214.002,187.987 232.9,187.987 \"/>\n",
       "<polyline clip-path=\"url(#clip180)\" style=\"stroke:#000000; stroke-linecap:round; stroke-linejoin:round; stroke-width:4; stroke-opacity:1; fill:none\" points=\"214.002,77.1961 232.9,77.1961 \"/>\n",
       "<path clip-path=\"url(#clip180)\" d=\"M52.8671 1426.47 L60.506 1426.47 L60.506 1400.11 L52.1958 1401.78 L52.1958 1397.52 L60.4597 1395.85 L65.1356 1395.85 L65.1356 1426.47 L72.7744 1426.47 L72.7744 1430.41 L52.8671 1430.41 L52.8671 1426.47 Z\" fill=\"#000000\" fill-rule=\"nonzero\" fill-opacity=\"1\" /><path clip-path=\"url(#clip180)\" d=\"M92.2188 1398.93 Q88.6077 1398.93 86.779 1402.49 Q84.9734 1406.03 84.9734 1413.16 Q84.9734 1420.27 86.779 1423.84 Q88.6077 1427.38 92.2188 1427.38 Q95.853 1427.38 97.6585 1423.84 Q99.4872 1420.27 99.4872 1413.16 Q99.4872 1406.03 97.6585 1402.49 Q95.853 1398.93 92.2188 1398.93 M92.2188 1395.22 Q98.0289 1395.22 101.084 1399.83 Q104.163 1404.41 104.163 1413.16 Q104.163 1421.89 101.084 1426.5 Q98.0289 1431.08 92.2188 1431.08 Q86.4086 1431.08 83.3299 1426.5 Q80.2744 1421.89 80.2744 1413.16 Q80.2744 1404.41 83.3299 1399.83 Q86.4086 1395.22 92.2188 1395.22 Z\" fill=\"#000000\" fill-rule=\"nonzero\" fill-opacity=\"1\" /><path clip-path=\"url(#clip180)\" d=\"M104.163 1389.33 L128.275 1389.33 L128.275 1392.52 L104.163 1392.52 L104.163 1389.33 Z\" fill=\"#000000\" fill-rule=\"nonzero\" fill-opacity=\"1\" /><path clip-path=\"url(#clip180)\" d=\"M137.133 1399.8 L143.34 1399.8 L143.34 1378.38 L136.588 1379.73 L136.588 1376.27 L143.302 1374.92 L147.101 1374.92 L147.101 1399.8 L153.308 1399.8 L153.308 1403 L137.133 1403 L137.133 1399.8 Z\" fill=\"#000000\" fill-rule=\"nonzero\" fill-opacity=\"1\" /><path clip-path=\"url(#clip180)\" d=\"M161.019 1374.92 L175.934 1374.92 L175.934 1378.12 L164.498 1378.12 L164.498 1385 Q165.326 1384.72 166.154 1384.59 Q166.981 1384.44 167.809 1384.44 Q172.511 1384.44 175.257 1387.01 Q178.002 1389.59 178.002 1393.99 Q178.002 1398.52 175.181 1401.04 Q172.36 1403.54 167.226 1403.54 Q165.458 1403.54 163.614 1403.24 Q161.79 1402.94 159.834 1402.34 L159.834 1398.52 Q161.527 1399.44 163.332 1399.9 Q165.138 1400.35 167.15 1400.35 Q170.404 1400.35 172.304 1398.64 Q174.203 1396.92 174.203 1393.99 Q174.203 1391.06 172.304 1389.34 Q170.404 1387.63 167.15 1387.63 Q165.627 1387.63 164.103 1387.97 Q162.599 1388.31 161.019 1389.03 L161.019 1374.92 Z\" fill=\"#000000\" fill-rule=\"nonzero\" fill-opacity=\"1\" /><path clip-path=\"url(#clip180)\" d=\"M51.6634 1315.68 L59.3023 1315.68 L59.3023 1289.32 L50.9921 1290.99 L50.9921 1286.73 L59.256 1285.06 L63.9319 1285.06 L63.9319 1315.68 L71.5707 1315.68 L71.5707 1319.62 L51.6634 1319.62 L51.6634 1315.68 Z\" fill=\"#000000\" fill-rule=\"nonzero\" fill-opacity=\"1\" /><path clip-path=\"url(#clip180)\" d=\"M91.0151 1288.14 Q87.404 1288.14 85.5753 1291.7 Q83.7697 1295.24 83.7697 1302.37 Q83.7697 1309.48 85.5753 1313.05 Q87.404 1316.59 91.0151 1316.59 Q94.6493 1316.59 96.4548 1313.05 Q98.2835 1309.48 98.2835 1302.37 Q98.2835 1295.24 96.4548 1291.7 Q94.6493 1288.14 91.0151 1288.14 M91.0151 1284.43 Q96.8252 1284.43 99.8808 1289.04 Q102.959 1293.62 102.959 1302.37 Q102.959 1311.1 99.8808 1315.71 Q96.8252 1320.29 91.0151 1320.29 Q85.2049 1320.29 82.1262 1315.71 Q79.0707 1311.1 79.0707 1302.37 Q79.0707 1293.62 82.1262 1289.04 Q85.2049 1284.43 91.0151 1284.43 Z\" fill=\"#000000\" fill-rule=\"nonzero\" fill-opacity=\"1\" /><path clip-path=\"url(#clip180)\" d=\"M102.959 1278.54 L127.071 1278.54 L127.071 1281.73 L102.959 1281.73 L102.959 1278.54 Z\" fill=\"#000000\" fill-rule=\"nonzero\" fill-opacity=\"1\" /><path clip-path=\"url(#clip180)\" d=\"M135.929 1289.01 L142.136 1289.01 L142.136 1267.59 L135.384 1268.94 L135.384 1265.48 L142.098 1264.13 L145.898 1264.13 L145.898 1289.01 L152.104 1289.01 L152.104 1292.21 L135.929 1292.21 L135.929 1289.01 Z\" fill=\"#000000\" fill-rule=\"nonzero\" fill-opacity=\"1\" /><path clip-path=\"url(#clip180)\" d=\"M170.216 1267.44 L160.624 1282.43 L170.216 1282.43 L170.216 1267.44 M169.219 1264.13 L173.996 1264.13 L173.996 1282.43 L178.002 1282.43 L178.002 1285.59 L173.996 1285.59 L173.996 1292.21 L170.216 1292.21 L170.216 1285.59 L157.54 1285.59 L157.54 1281.92 L169.219 1264.13 Z\" fill=\"#000000\" fill-rule=\"nonzero\" fill-opacity=\"1\" /><path clip-path=\"url(#clip180)\" d=\"M52.585 1204.89 L60.2238 1204.89 L60.2238 1178.53 L51.9137 1180.19 L51.9137 1175.94 L60.1776 1174.27 L64.8535 1174.27 L64.8535 1204.89 L72.4923 1204.89 L72.4923 1208.83 L52.585 1208.83 L52.585 1204.89 Z\" fill=\"#000000\" fill-rule=\"nonzero\" fill-opacity=\"1\" /><path clip-path=\"url(#clip180)\" d=\"M91.9366 1177.35 Q88.3255 1177.35 86.4969 1180.91 Q84.6913 1184.45 84.6913 1191.58 Q84.6913 1198.69 86.4969 1202.25 Q88.3255 1205.8 91.9366 1205.8 Q95.5709 1205.8 97.3764 1202.25 Q99.2051 1198.69 99.2051 1191.58 Q99.2051 1184.45 97.3764 1180.91 Q95.5709 1177.35 91.9366 1177.35 M91.9366 1173.64 Q97.7468 1173.64 100.802 1178.25 Q103.881 1182.83 103.881 1191.58 Q103.881 1200.31 100.802 1204.92 Q97.7468 1209.5 91.9366 1209.5 Q86.1265 1209.5 83.0478 1204.92 Q79.9923 1200.31 79.9923 1191.58 Q79.9923 1182.83 83.0478 1178.25 Q86.1265 1173.64 91.9366 1173.64 Z\" fill=\"#000000\" fill-rule=\"nonzero\" fill-opacity=\"1\" /><path clip-path=\"url(#clip180)\" d=\"M103.881 1167.75 L127.993 1167.75 L127.993 1170.94 L103.881 1170.94 L103.881 1167.75 Z\" fill=\"#000000\" fill-rule=\"nonzero\" fill-opacity=\"1\" /><path clip-path=\"url(#clip180)\" d=\"M136.851 1178.22 L143.058 1178.22 L143.058 1156.8 L136.306 1158.15 L136.306 1154.69 L143.02 1153.34 L146.819 1153.34 L146.819 1178.22 L153.026 1178.22 L153.026 1181.42 L136.851 1181.42 L136.851 1178.22 Z\" fill=\"#000000\" fill-rule=\"nonzero\" fill-opacity=\"1\" /><path clip-path=\"url(#clip180)\" d=\"M172.21 1166.28 Q174.937 1166.86 176.46 1168.7 Q178.002 1170.55 178.002 1173.26 Q178.002 1177.41 175.144 1179.69 Q172.285 1181.96 167.019 1181.96 Q165.251 1181.96 163.37 1181.61 Q161.508 1181.27 159.514 1180.57 L159.514 1176.9 Q161.094 1177.83 162.975 1178.3 Q164.856 1178.77 166.906 1178.77 Q170.479 1178.77 172.341 1177.36 Q174.222 1175.95 174.222 1173.26 Q174.222 1170.77 172.473 1169.38 Q170.743 1167.97 167.639 1167.97 L164.367 1167.97 L164.367 1164.85 L167.79 1164.85 Q170.592 1164.85 172.078 1163.74 Q173.564 1162.61 173.564 1160.5 Q173.564 1158.34 172.022 1157.19 Q170.498 1156.03 167.639 1156.03 Q166.078 1156.03 164.292 1156.37 Q162.505 1156.7 160.361 1157.42 L160.361 1154.03 Q162.524 1153.43 164.404 1153.13 Q166.304 1152.83 167.978 1152.83 Q172.304 1152.83 174.824 1154.81 Q177.344 1156.76 177.344 1160.11 Q177.344 1162.44 176.009 1164.06 Q174.673 1165.66 172.21 1166.28 Z\" fill=\"#000000\" fill-rule=\"nonzero\" fill-opacity=\"1\" /><path clip-path=\"url(#clip180)\" d=\"M53.3561 1094.1 L60.995 1094.1 L60.995 1067.74 L52.6848 1069.4 L52.6848 1065.14 L60.9487 1063.48 L65.6246 1063.48 L65.6246 1094.1 L73.2634 1094.1 L73.2634 1098.04 L53.3561 1098.04 L53.3561 1094.1 Z\" fill=\"#000000\" fill-rule=\"nonzero\" fill-opacity=\"1\" /><path clip-path=\"url(#clip180)\" d=\"M92.7078 1066.56 Q89.0967 1066.56 87.268 1070.12 Q85.4624 1073.66 85.4624 1080.79 Q85.4624 1087.9 87.268 1091.46 Q89.0967 1095.01 92.7078 1095.01 Q96.342 1095.01 98.1475 1091.46 Q99.9762 1087.9 99.9762 1080.79 Q99.9762 1073.66 98.1475 1070.12 Q96.342 1066.56 92.7078 1066.56 M92.7078 1062.85 Q98.5179 1062.85 101.573 1067.46 Q104.652 1072.04 104.652 1080.79 Q104.652 1089.52 101.573 1094.13 Q98.5179 1098.71 92.7078 1098.71 Q86.8976 1098.71 83.8189 1094.13 Q80.7634 1089.52 80.7634 1080.79 Q80.7634 1072.04 83.8189 1067.46 Q86.8976 1062.85 92.7078 1062.85 Z\" fill=\"#000000\" fill-rule=\"nonzero\" fill-opacity=\"1\" /><path clip-path=\"url(#clip180)\" d=\"M104.652 1056.95 L128.764 1056.95 L128.764 1060.15 L104.652 1060.15 L104.652 1056.95 Z\" fill=\"#000000\" fill-rule=\"nonzero\" fill-opacity=\"1\" /><path clip-path=\"url(#clip180)\" d=\"M137.622 1067.43 L143.829 1067.43 L143.829 1046.01 L137.077 1047.36 L137.077 1043.9 L143.791 1042.55 L147.59 1042.55 L147.59 1067.43 L153.797 1067.43 L153.797 1070.63 L137.622 1070.63 L137.622 1067.43 Z\" fill=\"#000000\" fill-rule=\"nonzero\" fill-opacity=\"1\" /><path clip-path=\"url(#clip180)\" d=\"M164.743 1067.43 L178.002 1067.43 L178.002 1070.63 L160.173 1070.63 L160.173 1067.43 Q162.336 1065.19 166.06 1061.43 Q169.802 1057.65 170.761 1056.56 Q172.586 1054.51 173.3 1053.1 Q174.034 1051.67 174.034 1050.3 Q174.034 1048.06 172.454 1046.65 Q170.893 1045.24 168.373 1045.24 Q166.586 1045.24 164.593 1045.86 Q162.618 1046.48 160.361 1047.74 L160.361 1043.9 Q162.655 1042.98 164.649 1042.51 Q166.643 1042.04 168.298 1042.04 Q172.661 1042.04 175.257 1044.22 Q177.852 1046.4 177.852 1050.05 Q177.852 1051.78 177.194 1053.34 Q176.554 1054.89 174.843 1056.99 Q174.373 1057.54 171.852 1060.15 Q169.332 1062.75 164.743 1067.43 Z\" fill=\"#000000\" fill-rule=\"nonzero\" fill-opacity=\"1\" /><path clip-path=\"url(#clip180)\" d=\"M53.0552 983.313 L60.694 983.313 L60.694 956.947 L52.3839 958.614 L52.3839 954.354 L60.6477 952.688 L65.3236 952.688 L65.3236 983.313 L72.9625 983.313 L72.9625 987.248 L53.0552 987.248 L53.0552 983.313 Z\" fill=\"#000000\" fill-rule=\"nonzero\" fill-opacity=\"1\" /><path clip-path=\"url(#clip180)\" d=\"M92.4068 955.766 Q88.7957 955.766 86.967 959.331 Q85.1615 962.873 85.1615 970.003 Q85.1615 977.109 86.967 980.674 Q88.7957 984.215 92.4068 984.215 Q96.0411 984.215 97.8466 980.674 Q99.6753 977.109 99.6753 970.003 Q99.6753 962.873 97.8466 959.331 Q96.0411 955.766 92.4068 955.766 M92.4068 952.063 Q98.217 952.063 101.273 956.669 Q104.351 961.253 104.351 970.003 Q104.351 978.729 101.273 983.336 Q98.217 987.919 92.4068 987.919 Q86.5967 987.919 83.518 983.336 Q80.4625 978.729 80.4625 970.003 Q80.4625 961.253 83.518 956.669 Q86.5967 952.063 92.4068 952.063 Z\" fill=\"#000000\" fill-rule=\"nonzero\" fill-opacity=\"1\" /><path clip-path=\"url(#clip180)\" d=\"M104.351 946.164 L128.463 946.164 L128.463 949.361 L104.351 949.361 L104.351 946.164 Z\" fill=\"#000000\" fill-rule=\"nonzero\" fill-opacity=\"1\" /><path clip-path=\"url(#clip180)\" d=\"M137.321 956.64 L143.528 956.64 L143.528 935.218 L136.776 936.572 L136.776 933.112 L143.49 931.757 L147.289 931.757 L147.289 956.64 L153.496 956.64 L153.496 959.837 L137.321 959.837 L137.321 956.64 Z\" fill=\"#000000\" fill-rule=\"nonzero\" fill-opacity=\"1\" /><path clip-path=\"url(#clip180)\" d=\"M161.828 956.64 L168.034 956.64 L168.034 935.218 L161.282 936.572 L161.282 933.112 L167.997 931.757 L171.796 931.757 L171.796 956.64 L178.002 956.64 L178.002 959.837 L161.828 959.837 L161.828 956.64 Z\" fill=\"#000000\" fill-rule=\"nonzero\" fill-opacity=\"1\" /><path clip-path=\"url(#clip180)\" d=\"M52.0584 872.522 L59.6972 872.522 L59.6972 846.157 L51.3871 847.823 L51.3871 843.564 L59.6509 841.897 L64.3268 841.897 L64.3268 872.522 L71.9657 872.522 L71.9657 876.457 L52.0584 876.457 L52.0584 872.522 Z\" fill=\"#000000\" fill-rule=\"nonzero\" fill-opacity=\"1\" /><path clip-path=\"url(#clip180)\" d=\"M91.41 844.976 Q87.7989 844.976 85.9702 848.541 Q84.1647 852.082 84.1647 859.212 Q84.1647 866.318 85.9702 869.883 Q87.7989 873.425 91.41 873.425 Q95.0443 873.425 96.8498 869.883 Q98.6785 866.318 98.6785 859.212 Q98.6785 852.082 96.8498 848.541 Q95.0443 844.976 91.41 844.976 M91.41 841.272 Q97.2202 841.272 100.276 845.879 Q103.354 850.462 103.354 859.212 Q103.354 867.939 100.276 872.545 Q97.2202 877.129 91.41 877.129 Q85.5999 877.129 82.5212 872.545 Q79.4656 867.939 79.4656 859.212 Q79.4656 850.462 82.5212 845.879 Q85.5999 841.272 91.41 841.272 Z\" fill=\"#000000\" fill-rule=\"nonzero\" fill-opacity=\"1\" /><path clip-path=\"url(#clip180)\" d=\"M103.354 835.374 L127.466 835.374 L127.466 838.571 L103.354 838.571 L103.354 835.374 Z\" fill=\"#000000\" fill-rule=\"nonzero\" fill-opacity=\"1\" /><path clip-path=\"url(#clip180)\" d=\"M136.324 845.85 L142.531 845.85 L142.531 824.428 L135.779 825.782 L135.779 822.321 L142.493 820.967 L146.293 820.967 L146.293 845.85 L152.499 845.85 L152.499 849.047 L136.324 849.047 L136.324 845.85 Z\" fill=\"#000000\" fill-rule=\"nonzero\" fill-opacity=\"1\" /><path clip-path=\"url(#clip180)\" d=\"M168.298 823.468 Q165.364 823.468 163.878 826.365 Q162.411 829.242 162.411 835.035 Q162.411 840.809 163.878 843.705 Q165.364 846.583 168.298 846.583 Q171.25 846.583 172.717 843.705 Q174.203 840.809 174.203 835.035 Q174.203 829.242 172.717 826.365 Q171.25 823.468 168.298 823.468 M168.298 820.459 Q173.018 820.459 175.501 824.202 Q178.002 827.926 178.002 835.035 Q178.002 842.126 175.501 845.868 Q173.018 849.592 168.298 849.592 Q163.577 849.592 161.075 845.868 Q158.593 842.126 158.593 835.035 Q158.593 827.926 161.075 824.202 Q163.577 820.459 168.298 820.459 Z\" fill=\"#000000\" fill-rule=\"nonzero\" fill-opacity=\"1\" /><path clip-path=\"url(#clip180)\" d=\"M76.7154 761.732 L84.3542 761.732 L84.3542 735.366 L76.0441 737.033 L76.0441 732.773 L84.3079 731.107 L88.9838 731.107 L88.9838 761.732 L96.6227 761.732 L96.6227 765.667 L76.7154 765.667 L76.7154 761.732 Z\" fill=\"#000000\" fill-rule=\"nonzero\" fill-opacity=\"1\" /><path clip-path=\"url(#clip180)\" d=\"M116.067 734.185 Q112.456 734.185 110.627 737.75 Q108.822 741.292 108.822 748.421 Q108.822 755.528 110.627 759.093 Q112.456 762.634 116.067 762.634 Q119.701 762.634 121.507 759.093 Q123.335 755.528 123.335 748.421 Q123.335 741.292 121.507 737.75 Q119.701 734.185 116.067 734.185 M116.067 730.482 Q121.877 730.482 124.933 735.088 Q128.011 739.672 128.011 748.421 Q128.011 757.148 124.933 761.755 Q121.877 766.338 116.067 766.338 Q110.257 766.338 107.178 761.755 Q104.123 757.148 104.123 748.421 Q104.123 739.672 107.178 735.088 Q110.257 730.482 116.067 730.482 Z\" fill=\"#000000\" fill-rule=\"nonzero\" fill-opacity=\"1\" /><path clip-path=\"url(#clip180)\" d=\"M128.011 724.583 L152.123 724.583 L152.123 727.78 L128.011 727.78 L128.011 724.583 Z\" fill=\"#000000\" fill-rule=\"nonzero\" fill-opacity=\"1\" /><path clip-path=\"url(#clip180)\" d=\"M160.436 737.673 L160.436 734.213 Q161.865 734.89 163.332 735.247 Q164.799 735.604 166.21 735.604 Q169.972 735.604 171.946 733.084 Q173.94 730.545 174.222 725.392 Q173.131 727.009 171.457 727.874 Q169.783 728.74 167.752 728.74 Q163.539 728.74 161.075 726.201 Q158.63 723.643 158.63 719.223 Q158.63 714.897 161.188 712.283 Q163.746 709.669 167.997 709.669 Q172.868 709.669 175.426 713.411 Q178.002 717.135 178.002 724.245 Q178.002 730.884 174.843 734.852 Q171.702 738.802 166.379 738.802 Q164.95 738.802 163.483 738.52 Q162.016 738.238 160.436 737.673 M167.997 725.768 Q170.555 725.768 172.04 724.019 Q173.545 722.27 173.545 719.223 Q173.545 716.195 172.04 714.446 Q170.555 712.678 167.997 712.678 Q165.439 712.678 163.934 714.446 Q162.448 716.195 162.448 719.223 Q162.448 722.27 163.934 724.019 Q165.439 725.768 167.997 725.768 Z\" fill=\"#000000\" fill-rule=\"nonzero\" fill-opacity=\"1\" /><path clip-path=\"url(#clip180)\" d=\"M76.6401 650.941 L84.279 650.941 L84.279 624.575 L75.9688 626.242 L75.9688 621.983 L84.2327 620.316 L88.9086 620.316 L88.9086 650.941 L96.5474 650.941 L96.5474 654.876 L76.6401 654.876 L76.6401 650.941 Z\" fill=\"#000000\" fill-rule=\"nonzero\" fill-opacity=\"1\" /><path clip-path=\"url(#clip180)\" d=\"M115.992 623.395 Q112.381 623.395 110.552 626.96 Q108.746 630.501 108.746 637.631 Q108.746 644.737 110.552 648.302 Q112.381 651.844 115.992 651.844 Q119.626 651.844 121.432 648.302 Q123.26 644.737 123.26 637.631 Q123.26 630.501 121.432 626.96 Q119.626 623.395 115.992 623.395 M115.992 619.691 Q121.802 619.691 124.857 624.298 Q127.936 628.881 127.936 637.631 Q127.936 646.358 124.857 650.964 Q121.802 655.548 115.992 655.548 Q110.182 655.548 107.103 650.964 Q104.047 646.358 104.047 637.631 Q104.047 628.881 107.103 624.298 Q110.182 619.691 115.992 619.691 Z\" fill=\"#000000\" fill-rule=\"nonzero\" fill-opacity=\"1\" /><path clip-path=\"url(#clip180)\" d=\"M127.936 613.793 L152.048 613.793 L152.048 616.99 L127.936 616.99 L127.936 613.793 Z\" fill=\"#000000\" fill-rule=\"nonzero\" fill-opacity=\"1\" /><path clip-path=\"url(#clip180)\" d=\"M168.373 614.131 Q165.665 614.131 164.103 615.579 Q162.561 617.028 162.561 619.567 Q162.561 622.106 164.103 623.554 Q165.665 625.002 168.373 625.002 Q171.081 625.002 172.642 623.554 Q174.203 622.087 174.203 619.567 Q174.203 617.028 172.642 615.579 Q171.1 614.131 168.373 614.131 M164.574 612.514 Q162.129 611.912 160.756 610.238 Q159.402 608.564 159.402 606.157 Q159.402 602.79 161.79 600.834 Q164.198 598.878 168.373 598.878 Q172.567 598.878 174.956 600.834 Q177.344 602.79 177.344 606.157 Q177.344 608.564 175.971 610.238 Q174.617 611.912 172.191 612.514 Q174.937 613.153 176.46 615.015 Q178.002 616.877 178.002 619.567 Q178.002 623.648 175.501 625.83 Q173.018 628.011 168.373 628.011 Q163.727 628.011 161.226 625.83 Q158.743 623.648 158.743 619.567 Q158.743 616.877 160.286 615.015 Q161.828 613.153 164.574 612.514 M163.182 606.514 Q163.182 608.696 164.536 609.918 Q165.909 611.141 168.373 611.141 Q170.818 611.141 172.191 609.918 Q173.583 608.696 173.583 606.514 Q173.583 604.332 172.191 603.11 Q170.818 601.887 168.373 601.887 Q165.909 601.887 164.536 603.11 Q163.182 604.332 163.182 606.514 Z\" fill=\"#000000\" fill-rule=\"nonzero\" fill-opacity=\"1\" /><path clip-path=\"url(#clip180)\" d=\"M77.2984 540.151 L84.9373 540.151 L84.9373 513.785 L76.6271 515.452 L76.6271 511.192 L84.891 509.526 L89.5669 509.526 L89.5669 540.151 L97.2057 540.151 L97.2057 544.086 L77.2984 544.086 L77.2984 540.151 Z\" fill=\"#000000\" fill-rule=\"nonzero\" fill-opacity=\"1\" /><path clip-path=\"url(#clip180)\" d=\"M116.65 512.604 Q113.039 512.604 111.21 516.169 Q109.405 519.711 109.405 526.84 Q109.405 533.947 111.21 537.512 Q113.039 541.053 116.65 541.053 Q120.284 541.053 122.09 537.512 Q123.919 533.947 123.919 526.84 Q123.919 519.711 122.09 516.169 Q120.284 512.604 116.65 512.604 M116.65 508.901 Q122.46 508.901 125.516 513.507 Q128.594 518.091 128.594 526.84 Q128.594 535.567 125.516 540.174 Q122.46 544.757 116.65 544.757 Q110.84 544.757 107.761 540.174 Q104.706 535.567 104.706 526.84 Q104.706 518.091 107.761 513.507 Q110.84 508.901 116.65 508.901 Z\" fill=\"#000000\" fill-rule=\"nonzero\" fill-opacity=\"1\" /><path clip-path=\"url(#clip180)\" d=\"M128.594 503.002 L152.706 503.002 L152.706 506.199 L128.594 506.199 L128.594 503.002 Z\" fill=\"#000000\" fill-rule=\"nonzero\" fill-opacity=\"1\" /><path clip-path=\"url(#clip180)\" d=\"M159.947 488.595 L178.002 488.595 L178.002 490.213 L167.809 516.675 L163.84 516.675 L173.432 491.793 L159.947 491.793 L159.947 488.595 Z\" fill=\"#000000\" fill-rule=\"nonzero\" fill-opacity=\"1\" /><path clip-path=\"url(#clip180)\" d=\"M76.4333 429.36 L84.0721 429.36 L84.0721 402.994 L75.762 404.661 L75.762 400.402 L84.0258 398.735 L88.7017 398.735 L88.7017 429.36 L96.3406 429.36 L96.3406 433.295 L76.4333 433.295 L76.4333 429.36 Z\" fill=\"#000000\" fill-rule=\"nonzero\" fill-opacity=\"1\" /><path clip-path=\"url(#clip180)\" d=\"M115.785 401.814 Q112.174 401.814 110.345 405.379 Q108.54 408.92 108.54 416.05 Q108.54 423.156 110.345 426.721 Q112.174 430.263 115.785 430.263 Q119.419 430.263 121.225 426.721 Q123.053 423.156 123.053 416.05 Q123.053 408.92 121.225 405.379 Q119.419 401.814 115.785 401.814 M115.785 398.11 Q121.595 398.11 124.651 402.717 Q127.729 407.3 127.729 416.05 Q127.729 424.777 124.651 429.383 Q121.595 433.967 115.785 433.967 Q109.975 433.967 106.896 429.383 Q103.841 424.777 103.841 416.05 Q103.841 407.3 106.896 402.717 Q109.975 398.11 115.785 398.11 Z\" fill=\"#000000\" fill-rule=\"nonzero\" fill-opacity=\"1\" /><path clip-path=\"url(#clip180)\" d=\"M127.729 392.212 L151.841 392.212 L151.841 395.409 L127.729 395.409 L127.729 392.212 Z\" fill=\"#000000\" fill-rule=\"nonzero\" fill-opacity=\"1\" /><path clip-path=\"url(#clip180)\" d=\"M168.636 390.331 Q166.078 390.331 164.574 392.08 Q163.088 393.829 163.088 396.876 Q163.088 399.904 164.574 401.672 Q166.078 403.421 168.636 403.421 Q171.194 403.421 172.68 401.672 Q174.184 399.904 174.184 396.876 Q174.184 393.829 172.68 392.08 Q171.194 390.331 168.636 390.331 M176.178 378.425 L176.178 381.886 Q174.749 381.209 173.282 380.852 Q171.833 380.494 170.404 380.494 Q166.643 380.494 164.649 383.033 Q162.674 385.572 162.392 390.707 Q163.502 389.071 165.176 388.206 Q166.849 387.322 168.862 387.322 Q173.094 387.322 175.539 389.898 Q178.002 392.456 178.002 396.876 Q178.002 401.202 175.445 403.816 Q172.887 406.43 168.636 406.43 Q163.765 406.43 161.188 402.706 Q158.612 398.964 158.612 391.873 Q158.612 385.215 161.771 381.265 Q164.931 377.297 170.254 377.297 Q171.683 377.297 173.131 377.579 Q174.598 377.861 176.178 378.425 Z\" fill=\"#000000\" fill-rule=\"nonzero\" fill-opacity=\"1\" /><path clip-path=\"url(#clip180)\" d=\"M77.3736 318.57 L85.0125 318.57 L85.0125 292.204 L76.7023 293.871 L76.7023 289.611 L84.9662 287.945 L89.6421 287.945 L89.6421 318.57 L97.2809 318.57 L97.2809 322.505 L77.3736 322.505 L77.3736 318.57 Z\" fill=\"#000000\" fill-rule=\"nonzero\" fill-opacity=\"1\" /><path clip-path=\"url(#clip180)\" d=\"M116.725 291.023 Q113.114 291.023 111.285 294.588 Q109.48 298.13 109.48 305.259 Q109.48 312.366 111.285 315.931 Q113.114 319.472 116.725 319.472 Q120.36 319.472 122.165 315.931 Q123.994 312.366 123.994 305.259 Q123.994 298.13 122.165 294.588 Q120.36 291.023 116.725 291.023 M116.725 287.32 Q122.535 287.32 125.591 291.926 Q128.67 296.51 128.67 305.259 Q128.67 313.986 125.591 318.593 Q122.535 323.176 116.725 323.176 Q110.915 323.176 107.836 318.593 Q104.781 313.986 104.781 305.259 Q104.781 296.51 107.836 291.926 Q110.915 287.32 116.725 287.32 Z\" fill=\"#000000\" fill-rule=\"nonzero\" fill-opacity=\"1\" /><path clip-path=\"url(#clip180)\" d=\"M128.67 281.421 L152.781 281.421 L152.781 284.618 L128.67 284.618 L128.67 281.421 Z\" fill=\"#000000\" fill-rule=\"nonzero\" fill-opacity=\"1\" /><path clip-path=\"url(#clip180)\" d=\"M161.019 267.014 L175.934 267.014 L175.934 270.212 L164.498 270.212 L164.498 277.095 Q165.326 276.813 166.154 276.682 Q166.981 276.531 167.809 276.531 Q172.511 276.531 175.257 279.108 Q178.002 281.684 178.002 286.085 Q178.002 290.618 175.181 293.138 Q172.36 295.64 167.226 295.64 Q165.458 295.64 163.614 295.339 Q161.79 295.038 159.834 294.436 L159.834 290.618 Q161.527 291.54 163.332 291.991 Q165.138 292.442 167.15 292.442 Q170.404 292.442 172.304 290.731 Q174.203 289.019 174.203 286.085 Q174.203 283.151 172.304 281.44 Q170.404 279.728 167.15 279.728 Q165.627 279.728 164.103 280.067 Q162.599 280.405 161.019 281.12 L161.019 267.014 Z\" fill=\"#000000\" fill-rule=\"nonzero\" fill-opacity=\"1\" /><path clip-path=\"url(#clip180)\" d=\"M76.1699 207.779 L83.8088 207.779 L83.8088 181.413 L75.4986 183.08 L75.4986 178.821 L83.7625 177.154 L88.4384 177.154 L88.4384 207.779 L96.0772 207.779 L96.0772 211.714 L76.1699 211.714 L76.1699 207.779 Z\" fill=\"#000000\" fill-rule=\"nonzero\" fill-opacity=\"1\" /><path clip-path=\"url(#clip180)\" d=\"M115.522 180.233 Q111.91 180.233 110.082 183.798 Q108.276 187.339 108.276 194.469 Q108.276 201.575 110.082 205.14 Q111.91 208.682 115.522 208.682 Q119.156 208.682 120.961 205.14 Q122.79 201.575 122.79 194.469 Q122.79 187.339 120.961 183.798 Q119.156 180.233 115.522 180.233 M115.522 176.529 Q121.332 176.529 124.387 181.136 Q127.466 185.719 127.466 194.469 Q127.466 203.196 124.387 207.802 Q121.332 212.386 115.522 212.386 Q109.711 212.386 106.633 207.802 Q103.577 203.196 103.577 194.469 Q103.577 185.719 106.633 181.136 Q109.711 176.529 115.522 176.529 Z\" fill=\"#000000\" fill-rule=\"nonzero\" fill-opacity=\"1\" /><path clip-path=\"url(#clip180)\" d=\"M127.466 170.631 L151.578 170.631 L151.578 173.828 L127.466 173.828 L127.466 170.631 Z\" fill=\"#000000\" fill-rule=\"nonzero\" fill-opacity=\"1\" /><path clip-path=\"url(#clip180)\" d=\"M170.216 159.534 L160.624 174.524 L170.216 174.524 L170.216 159.534 M169.219 156.224 L173.996 156.224 L173.996 174.524 L178.002 174.524 L178.002 177.683 L173.996 177.683 L173.996 184.304 L170.216 184.304 L170.216 177.683 L157.54 177.683 L157.54 174.016 L169.219 156.224 Z\" fill=\"#000000\" fill-rule=\"nonzero\" fill-opacity=\"1\" /><path clip-path=\"url(#clip180)\" d=\"M77.0915 96.9885 L84.7304 96.9885 L84.7304 70.6229 L76.4202 72.2896 L76.4202 68.0304 L84.6841 66.3637 L89.36 66.3637 L89.36 96.9885 L96.9988 96.9885 L96.9988 100.924 L77.0915 100.924 L77.0915 96.9885 Z\" fill=\"#000000\" fill-rule=\"nonzero\" fill-opacity=\"1\" /><path clip-path=\"url(#clip180)\" d=\"M116.443 69.4424 Q112.832 69.4424 111.003 73.0072 Q109.198 76.5488 109.198 83.6784 Q109.198 90.7849 111.003 94.3497 Q112.832 97.8913 116.443 97.8913 Q120.077 97.8913 121.883 94.3497 Q123.712 90.7849 123.712 83.6784 Q123.712 76.5488 121.883 73.0072 Q120.077 69.4424 116.443 69.4424 M116.443 65.7387 Q122.253 65.7387 125.309 70.3452 Q128.388 74.9285 128.388 83.6784 Q128.388 92.4052 125.309 97.0117 Q122.253 101.595 116.443 101.595 Q110.633 101.595 107.554 97.0117 Q104.499 92.4052 104.499 83.6784 Q104.499 74.9285 107.554 70.3452 Q110.633 65.7387 116.443 65.7387 Z\" fill=\"#000000\" fill-rule=\"nonzero\" fill-opacity=\"1\" /><path clip-path=\"url(#clip180)\" d=\"M128.388 59.8401 L152.499 59.8401 L152.499 63.0374 L128.388 63.0374 L128.388 59.8401 Z\" fill=\"#000000\" fill-rule=\"nonzero\" fill-opacity=\"1\" /><path clip-path=\"url(#clip180)\" d=\"M172.21 58.3731 Q174.937 58.9561 176.46 60.7993 Q178.002 62.6424 178.002 65.3507 Q178.002 69.5073 175.144 71.783 Q172.285 74.0587 167.019 74.0587 Q165.251 74.0587 163.37 73.7014 Q161.508 73.3629 159.514 72.667 L159.514 68.9994 Q161.094 69.921 162.975 70.3912 Q164.856 70.8614 166.906 70.8614 Q170.479 70.8614 172.341 69.4508 Q174.222 68.0403 174.222 65.3507 Q174.222 62.8681 172.473 61.4763 Q170.743 60.0658 167.639 60.0658 L164.367 60.0658 L164.367 56.9437 L167.79 56.9437 Q170.592 56.9437 172.078 55.834 Q173.564 54.7055 173.564 52.5991 Q173.564 50.4362 172.022 49.2889 Q170.498 48.1228 167.639 48.1228 Q166.078 48.1228 164.292 48.4614 Q162.505 48.7999 160.361 49.5146 L160.361 46.1292 Q162.524 45.5274 164.404 45.2264 Q166.304 44.9255 167.978 44.9255 Q172.304 44.9255 174.824 46.9003 Q177.344 48.8563 177.344 52.2041 Q177.344 54.5363 176.009 56.1537 Q174.673 57.7524 172.21 58.3731 Z\" fill=\"#000000\" fill-rule=\"nonzero\" fill-opacity=\"1\" /><circle clip-path=\"url(#clip182)\" cx=\"418.654\" cy=\"1445.72\" r=\"14.4\" fill=\"#009af9\" fill-rule=\"evenodd\" fill-opacity=\"1\" stroke=\"#000000\" stroke-opacity=\"1\" stroke-width=\"3.2\"/>\n",
       "<circle clip-path=\"url(#clip182)\" cx=\"562.775\" cy=\"1308.8\" r=\"14.4\" fill=\"#009af9\" fill-rule=\"evenodd\" fill-opacity=\"1\" stroke=\"#000000\" stroke-opacity=\"1\" stroke-width=\"3.2\"/>\n",
       "<circle clip-path=\"url(#clip182)\" cx=\"706.896\" cy=\"1137.4\" r=\"14.4\" fill=\"#009af9\" fill-rule=\"evenodd\" fill-opacity=\"1\" stroke=\"#000000\" stroke-opacity=\"1\" stroke-width=\"3.2\"/>\n",
       "<circle clip-path=\"url(#clip182)\" cx=\"851.017\" cy=\"1051.81\" r=\"14.4\" fill=\"#009af9\" fill-rule=\"evenodd\" fill-opacity=\"1\" stroke=\"#000000\" stroke-opacity=\"1\" stroke-width=\"3.2\"/>\n",
       "<circle clip-path=\"url(#clip182)\" cx=\"995.137\" cy=\"980.211\" r=\"14.4\" fill=\"#009af9\" fill-rule=\"evenodd\" fill-opacity=\"1\" stroke=\"#000000\" stroke-opacity=\"1\" stroke-width=\"3.2\"/>\n",
       "<circle clip-path=\"url(#clip182)\" cx=\"1139.26\" cy=\"823.989\" r=\"14.4\" fill=\"#009af9\" fill-rule=\"evenodd\" fill-opacity=\"1\" stroke=\"#000000\" stroke-opacity=\"1\" stroke-width=\"3.2\"/>\n",
       "<circle clip-path=\"url(#clip182)\" cx=\"1283.38\" cy=\"764.625\" r=\"14.4\" fill=\"#009af9\" fill-rule=\"evenodd\" fill-opacity=\"1\" stroke=\"#000000\" stroke-opacity=\"1\" stroke-width=\"3.2\"/>\n",
       "<circle clip-path=\"url(#clip182)\" cx=\"1427.5\" cy=\"616.51\" r=\"14.4\" fill=\"#009af9\" fill-rule=\"evenodd\" fill-opacity=\"1\" stroke=\"#000000\" stroke-opacity=\"1\" stroke-width=\"3.2\"/>\n",
       "<circle clip-path=\"url(#clip182)\" cx=\"1571.62\" cy=\"529.86\" r=\"14.4\" fill=\"#009af9\" fill-rule=\"evenodd\" fill-opacity=\"1\" stroke=\"#000000\" stroke-opacity=\"1\" stroke-width=\"3.2\"/>\n",
       "<circle clip-path=\"url(#clip182)\" cx=\"1715.74\" cy=\"529.513\" r=\"14.4\" fill=\"#009af9\" fill-rule=\"evenodd\" fill-opacity=\"1\" stroke=\"#000000\" stroke-opacity=\"1\" stroke-width=\"3.2\"/>\n",
       "<circle clip-path=\"url(#clip182)\" cx=\"1859.86\" cy=\"314.626\" r=\"14.4\" fill=\"#009af9\" fill-rule=\"evenodd\" fill-opacity=\"1\" stroke=\"#000000\" stroke-opacity=\"1\" stroke-width=\"3.2\"/>\n",
       "<circle clip-path=\"url(#clip182)\" cx=\"2003.98\" cy=\"170.093\" r=\"14.4\" fill=\"#009af9\" fill-rule=\"evenodd\" fill-opacity=\"1\" stroke=\"#000000\" stroke-opacity=\"1\" stroke-width=\"3.2\"/>\n",
       "<circle clip-path=\"url(#clip182)\" cx=\"2148.1\" cy=\"87.9763\" r=\"14.4\" fill=\"#009af9\" fill-rule=\"evenodd\" fill-opacity=\"1\" stroke=\"#000000\" stroke-opacity=\"1\" stroke-width=\"3.2\"/>\n",
       "<circle clip-path=\"url(#clip182)\" cx=\"2292.23\" cy=\"87.9763\" r=\"14.4\" fill=\"#009af9\" fill-rule=\"evenodd\" fill-opacity=\"1\" stroke=\"#000000\" stroke-opacity=\"1\" stroke-width=\"3.2\"/>\n",
       "<path clip-path=\"url(#clip180)\" d=\"M2015.16 1438.47 L2281.46 1438.47 L2281.46 1334.79 L2015.16 1334.79  Z\" fill=\"#ffffff\" fill-rule=\"evenodd\" fill-opacity=\"1\"/>\n",
       "<polyline clip-path=\"url(#clip180)\" style=\"stroke:#000000; stroke-linecap:round; stroke-linejoin:round; stroke-width:4; stroke-opacity:1; fill:none\" points=\"2015.16,1438.47 2281.46,1438.47 2281.46,1334.79 2015.16,1334.79 2015.16,1438.47 \"/>\n",
       "<circle clip-path=\"url(#clip180)\" cx=\"2110.21\" cy=\"1386.63\" r=\"20.48\" fill=\"#009af9\" fill-rule=\"evenodd\" fill-opacity=\"1\" stroke=\"#000000\" stroke-opacity=\"1\" stroke-width=\"4.55111\"/>\n",
       "<path clip-path=\"url(#clip180)\" d=\"M2219.11 1406.32 Q2217.31 1410.95 2215.59 1412.36 Q2213.88 1413.78 2211.01 1413.78 L2207.61 1413.78 L2207.61 1410.21 L2210.11 1410.21 Q2211.87 1410.21 2212.84 1409.38 Q2213.81 1408.54 2214.99 1405.44 L2215.76 1403.5 L2205.27 1377.99 L2209.78 1377.99 L2217.89 1398.27 L2225.99 1377.99 L2230.5 1377.99 L2219.11 1406.32 Z\" fill=\"#000000\" fill-rule=\"nonzero\" fill-opacity=\"1\" /><path clip-path=\"url(#clip180)\" d=\"M2237.79 1399.98 L2245.43 1399.98 L2245.43 1373.61 L2237.12 1375.28 L2237.12 1371.02 L2245.39 1369.35 L2250.06 1369.35 L2250.06 1399.98 L2257.7 1399.98 L2257.7 1403.91 L2237.79 1403.91 L2237.79 1399.98 Z\" fill=\"#000000\" fill-rule=\"nonzero\" fill-opacity=\"1\" /></svg>\n"
      ]
     },
     "execution_count": 9,
     "metadata": {},
     "output_type": "execute_result"
    }
   ],
   "source": [
    "# TODO: Do a log-log plot for A with its 1,1 entry set to different ε and guess the growth rate.\n",
    "# SOLUTION\n",
    "\n",
    "A = [1.0 1 1;\n",
    "     2   4 8;\n",
    "     1   4 9]\n",
    "\n",
    "b = [1,2,3]\n",
    "\n",
    "\n",
    "n = 15\n",
    "errs = zeros(n)\n",
    "for k = 1:n\n",
    "    A[1,1] = 10.0 ^ (1-k)\n",
    "    L,U = lu(A, NoPivot())\n",
    "    errs[k] = norm(A\\b - U \\ (L \\ b))\n",
    "end\n",
    "\n",
    "nanabs(x) = x == 0 ? NaN : abs(x)\n",
    "scatter(0:n-1, nanabs.(errs); yscale=:log10, xticks = 0:15, yticks= 10.0 .^ (-16:0), legend=:bottomright)\n",
    "# The error grows exponentially, roughly like 10^k\n",
    "\n",
    "# END"
   ]
  },
  {
   "cell_type": "markdown",
   "metadata": {},
   "source": [
    "-----"
   ]
  },
  {
   "cell_type": "markdown",
   "metadata": {},
   "source": [
    "## III.2.2 PLU Factorisation"
   ]
  },
  {
   "cell_type": "markdown",
   "metadata": {},
   "source": [
    "In general it is necessary to use pivoting, a feature you have seen\n",
    "in Gaussian elimination but as Problem 1 demonstrates we need to do so even if we do not encounter\n",
    "a zero. This corresponds to a factorisation of the form\n",
    "$$\n",
    " A = P^⊤LU\n",
    "$$\n",
    "where $P$ is a permutation matrix, $L$ is lower triangular and $U$ is upper triangular.\n",
    "We compute this as follows, printing out the permutation:"
   ]
  },
  {
   "cell_type": "code",
   "execution_count": 10,
   "metadata": {},
   "outputs": [
    {
     "data": {
      "text/plain": [
       "3-element Vector{Int64}:\n",
       " 2\n",
       " 3\n",
       " 1"
      ]
     },
     "execution_count": 10,
     "metadata": {},
     "output_type": "execute_result"
    }
   ],
   "source": [
    "A = [0.1 1 1;\n",
    "     2   4 8;\n",
    "     1   4 9]\n",
    "\n",
    "L,U,σ = lu(A)\n",
    "σ"
   ]
  },
  {
   "cell_type": "markdown",
   "metadata": {},
   "source": [
    "The permutation matrix is encoded as a vector $σ$. More precisely, we have\n",
    "$$\n",
    "    P 𝐯 = 𝐯[σ]\n",
    "$$\n",
    "Thus we can solve a linear system by  first permuting the entries of the right-hand side:"
   ]
  },
  {
   "cell_type": "code",
   "execution_count": 11,
   "metadata": {},
   "outputs": [
    {
     "data": {
      "text/plain": [
       "3-element Vector{Int64}:\n",
       " 11\n",
       " 12\n",
       " 10"
      ]
     },
     "execution_count": 11,
     "metadata": {},
     "output_type": "execute_result"
    }
   ],
   "source": [
    "b = [10,11,12]\n",
    "b̃ = b[σ] # permute the entries to [b[2],b[3],b[1]]"
   ]
  },
  {
   "cell_type": "markdown",
   "metadata": {},
   "source": [
    "And then inverting $L$ and $U$ as before:"
   ]
  },
  {
   "cell_type": "code",
   "execution_count": 12,
   "metadata": {},
   "outputs": [
    {
     "data": {
      "text/plain": [
       "\u001b[32m\u001b[1mTest Passed\u001b[22m\u001b[39m"
      ]
     },
     "execution_count": 12,
     "metadata": {},
     "output_type": "execute_result"
    }
   ],
   "source": [
    "c = L \\ b̃ # invert L with forward substitution\n",
    "x = U \\ c # invert U with back substitution\n",
    "\n",
    "@test x == A \\ b # \\ also use PLU to do the solve so these exactly equal"
   ]
  },
  {
   "cell_type": "markdown",
   "metadata": {},
   "source": [
    "Note in the following problems we will see that PLU is _usually_ stable but not always.\n",
    "Fortunately the set of matrices where it fails to be accurate has extremely small measure.\n",
    "The big _open problem_ in numerical linear algebra is to turn this observation into a precise statement."
   ]
  },
  {
   "cell_type": "markdown",
   "metadata": {},
   "source": [
    "-----"
   ]
  },
  {
   "cell_type": "markdown",
   "metadata": {},
   "source": [
    "**Problem 2(a)** Complete the function  `badmatrix(n)` that returns the following $ℤ^{n × n}$ matrix:\n",
    "$$\n",
    "  B_n := \\begin{bmatrix}\n",
    "      1      &&&& 1  \\\\\n",
    "      -1 & 1       &&& 1   \\\\\n",
    "      ⋮ & ⋱ & ⋱   && ⋮    \\\\\n",
    "      -1 & ⋯ & -1 & 1 & 1 \\\\\n",
    "      -1 & ⋯ & -1 & -1 & 1\n",
    "  \\end{bmatrix}\n",
    "$$\n",
    "That is: all entries below the diagonal are $-1$ whilst the diagonal and last column are $1$."
   ]
  },
  {
   "cell_type": "code",
   "execution_count": 13,
   "metadata": {},
   "outputs": [
    {
     "data": {
      "text/plain": [
       "\u001b[32m\u001b[1mTest Passed\u001b[22m\u001b[39m"
      ]
     },
     "execution_count": 13,
     "metadata": {},
     "output_type": "execute_result"
    }
   ],
   "source": [
    "function badmatrix(n)\n",
    "    # TODO: make the \"bad matrix\" with `Int` entries defined above and return it\n",
    "    # SOLUTION\n",
    "    A = zeros(Int, n, n)\n",
    "    for k = 1:n\n",
    "        A[k,n] = 1\n",
    "    end\n",
    "    for j = 1:n-1\n",
    "        A[j,j] = 1\n",
    "        for k = j+1:n\n",
    "            A[k,j] = -1\n",
    "        end\n",
    "    end\n",
    "    A\n",
    "    # END\n",
    "end\n",
    "\n",
    "@test badmatrix(3) isa Matrix{Int}\n",
    "@test badmatrix(3) == [1 0 1; -1 1 1; -1 -1 1]"
   ]
  },
  {
   "cell_type": "markdown",
   "metadata": {},
   "source": [
    "**Problem 2(b)** Does `lu` use pivoting with `badmatrix(n)`? Does it use\n",
    "pivoting with a small random perturbation (created via `randn(n,n)`)?"
   ]
  },
  {
   "cell_type": "code",
   "execution_count": 14,
   "metadata": {},
   "outputs": [
    {
     "data": {
      "text/plain": [
       "5-element Vector{Int64}:\n",
       " 3\n",
       " 2\n",
       " 4\n",
       " 5\n",
       " 1"
      ]
     },
     "execution_count": 14,
     "metadata": {},
     "output_type": "execute_result"
    }
   ],
   "source": [
    "# TODO: Use `lu` on `badmatrix(n)` and a small perturbation to determine if it\n",
    "# is using pivoting.\n",
    "\n",
    "# SOLUTION\n",
    "lu(badmatrix(5)).p # == 1:5, that is no pivoting has occurred\n",
    "lu(badmatrix(5) + eps()randn(5,5)).p # ≠ 1:5, we have pivoted\n",
    "# END"
   ]
  },
  {
   "cell_type": "markdown",
   "metadata": {},
   "source": [
    "**Problem 2(c)** We can test the accuracy of a method for inverting a matrix\n",
    "by applying the matrix and seeing how different it was from the input, eg.\n",
    "computing `norm(A*(A\\b) - b)`. This would be zero if everything was done with\n",
    "exact arithmetic. Plot the norm of this error for `b = randn(n)` for `bandmatrix(n)`\n",
    "and `badmatrix(n) + 1E-15*randn(n,n)` for `n = 25, 50, 75, 100` and\n",
    "compare the observed differences in accuracy of PLU."
   ]
  },
  {
   "cell_type": "code",
   "execution_count": 16,
   "metadata": {},
   "outputs": [
    {
     "data": {
      "image/png": "[encoded data removed]",
      "image/svg+xml": [
       "<?xml version=\"1.0\" encoding=\"utf-8\"?>\n",
       "<svg xmlns=\"http://www.w3.org/2000/svg\" xmlns:xlink=\"http://www.w3.org/1999/xlink\" width=\"600\" height=\"400\" viewBox=\"0 0 2400 1600\">\n",
       "<defs>\n",
       "  <clipPath id=\"clip310\">\n",
       "    <rect x=\"0\" y=\"0\" width=\"2400\" height=\"1600\"/>\n",
       "  </clipPath>\n",
       "</defs>\n",
       "<path clip-path=\"url(#clip310)\" d=\"M0 1600 L2400 1600 L2400 0 L0 0  Z\" fill=\"#ffffff\" fill-rule=\"evenodd\" fill-opacity=\"1\"/>\n",
       "<defs>\n",
       "  <clipPath id=\"clip311\">\n",
       "    <rect x=\"480\" y=\"0\" width=\"1681\" height=\"1600\"/>\n",
       "  </clipPath>\n",
       "</defs>\n",
       "<path clip-path=\"url(#clip310)\" d=\"M213.607 1486.45 L2352.76 1486.45 L2352.76 47.2441 L213.607 47.2441  Z\" fill=\"#ffffff\" fill-rule=\"evenodd\" fill-opacity=\"1\"/>\n",
       "<defs>\n",
       "  <clipPath id=\"clip312\">\n",
       "    <rect x=\"213\" y=\"47\" width=\"2140\" height=\"1440\"/>\n",
       "  </clipPath>\n",
       "</defs>\n",
       "<polyline clip-path=\"url(#clip312)\" style=\"stroke:#000000; stroke-linecap:round; stroke-linejoin:round; stroke-width:2; stroke-opacity:0.1; fill:none\" points=\"677.762,1486.45 677.762,47.2441 \"/>\n",
       "<polyline clip-path=\"url(#clip312)\" style=\"stroke:#000000; stroke-linecap:round; stroke-linejoin:round; stroke-width:2; stroke-opacity:0.1; fill:none\" points=\"1215.91,1486.45 1215.91,47.2441 \"/>\n",
       "<polyline clip-path=\"url(#clip312)\" style=\"stroke:#000000; stroke-linecap:round; stroke-linejoin:round; stroke-width:2; stroke-opacity:0.1; fill:none\" points=\"1754.06,1486.45 1754.06,47.2441 \"/>\n",
       "<polyline clip-path=\"url(#clip312)\" style=\"stroke:#000000; stroke-linecap:round; stroke-linejoin:round; stroke-width:2; stroke-opacity:0.1; fill:none\" points=\"2292.21,1486.45 2292.21,47.2441 \"/>\n",
       "<polyline clip-path=\"url(#clip312)\" style=\"stroke:#000000; stroke-linecap:round; stroke-linejoin:round; stroke-width:2; stroke-opacity:0.1; fill:none\" points=\"213.607,1057.37 2352.76,1057.37 \"/>\n",
       "<polyline clip-path=\"url(#clip312)\" style=\"stroke:#000000; stroke-linecap:round; stroke-linejoin:round; stroke-width:2; stroke-opacity:0.1; fill:none\" points=\"213.607,623.651 2352.76,623.651 \"/>\n",
       "<polyline clip-path=\"url(#clip312)\" style=\"stroke:#000000; stroke-linecap:round; stroke-linejoin:round; stroke-width:2; stroke-opacity:0.1; fill:none\" points=\"213.607,189.931 2352.76,189.931 \"/>\n",
       "<polyline clip-path=\"url(#clip310)\" style=\"stroke:#000000; stroke-linecap:round; stroke-linejoin:round; stroke-width:4; stroke-opacity:1; fill:none\" points=\"213.607,1486.45 2352.76,1486.45 \"/>\n",
       "<polyline clip-path=\"url(#clip310)\" style=\"stroke:#000000; stroke-linecap:round; stroke-linejoin:round; stroke-width:4; stroke-opacity:1; fill:none\" points=\"677.762,1486.45 677.762,1467.55 \"/>\n",
       "<polyline clip-path=\"url(#clip310)\" style=\"stroke:#000000; stroke-linecap:round; stroke-linejoin:round; stroke-width:4; stroke-opacity:1; fill:none\" points=\"1215.91,1486.45 1215.91,1467.55 \"/>\n",
       "<polyline clip-path=\"url(#clip310)\" style=\"stroke:#000000; stroke-linecap:round; stroke-linejoin:round; stroke-width:4; stroke-opacity:1; fill:none\" points=\"1754.06,1486.45 1754.06,1467.55 \"/>\n",
       "<polyline clip-path=\"url(#clip310)\" style=\"stroke:#000000; stroke-linecap:round; stroke-linejoin:round; stroke-width:4; stroke-opacity:1; fill:none\" points=\"2292.21,1486.45 2292.21,1467.55 \"/>\n",
       "<path clip-path=\"url(#clip310)\" d=\"M665.934 1518.36 L654.128 1536.81 L665.934 1536.81 L665.934 1518.36 M664.707 1514.29 L670.586 1514.29 L670.586 1536.81 L675.517 1536.81 L675.517 1540.7 L670.586 1540.7 L670.586 1548.85 L665.934 1548.85 L665.934 1540.7 L650.332 1540.7 L650.332 1536.19 L664.707 1514.29 Z\" fill=\"#000000\" fill-rule=\"nonzero\" fill-opacity=\"1\" /><path clip-path=\"url(#clip310)\" d=\"M693.248 1517.37 Q689.637 1517.37 687.809 1520.93 Q686.003 1524.47 686.003 1531.6 Q686.003 1538.71 687.809 1542.27 Q689.637 1545.82 693.248 1545.82 Q696.883 1545.82 698.688 1542.27 Q700.517 1538.71 700.517 1531.6 Q700.517 1524.47 698.688 1520.93 Q696.883 1517.37 693.248 1517.37 M693.248 1513.66 Q699.059 1513.66 702.114 1518.27 Q705.193 1522.85 705.193 1531.6 Q705.193 1540.33 702.114 1544.94 Q699.059 1549.52 693.248 1549.52 Q687.438 1549.52 684.36 1544.94 Q681.304 1540.33 681.304 1531.6 Q681.304 1522.85 684.36 1518.27 Q687.438 1513.66 693.248 1513.66 Z\" fill=\"#000000\" fill-rule=\"nonzero\" fill-opacity=\"1\" /><path clip-path=\"url(#clip310)\" d=\"M1201.32 1529.7 Q1198.17 1529.7 1196.32 1531.86 Q1194.49 1534.01 1194.49 1537.76 Q1194.49 1541.49 1196.32 1543.66 Q1198.17 1545.82 1201.32 1545.82 Q1204.47 1545.82 1206.29 1543.66 Q1208.15 1541.49 1208.15 1537.76 Q1208.15 1534.01 1206.29 1531.86 Q1204.47 1529.7 1201.32 1529.7 M1210.6 1515.05 L1210.6 1519.31 Q1208.84 1518.48 1207.04 1518.04 Q1205.25 1517.6 1203.49 1517.6 Q1198.86 1517.6 1196.41 1520.72 Q1193.98 1523.85 1193.63 1530.17 Q1195 1528.15 1197.06 1527.09 Q1199.12 1526 1201.6 1526 Q1206.8 1526 1209.81 1529.17 Q1212.85 1532.32 1212.85 1537.76 Q1212.85 1543.08 1209.7 1546.3 Q1206.55 1549.52 1201.32 1549.52 Q1195.32 1549.52 1192.15 1544.94 Q1188.98 1540.33 1188.98 1531.6 Q1188.98 1523.41 1192.87 1518.55 Q1196.76 1513.66 1203.31 1513.66 Q1205.07 1513.66 1206.85 1514.01 Q1208.66 1514.36 1210.6 1515.05 Z\" fill=\"#000000\" fill-rule=\"nonzero\" fill-opacity=\"1\" /><path clip-path=\"url(#clip310)\" d=\"M1230.9 1517.37 Q1227.29 1517.37 1225.46 1520.93 Q1223.66 1524.47 1223.66 1531.6 Q1223.66 1538.71 1225.46 1542.27 Q1227.29 1545.82 1230.9 1545.82 Q1234.54 1545.82 1236.34 1542.27 Q1238.17 1538.71 1238.17 1531.6 Q1238.17 1524.47 1236.34 1520.93 Q1234.54 1517.37 1230.9 1517.37 M1230.9 1513.66 Q1236.71 1513.66 1239.77 1518.27 Q1242.85 1522.85 1242.85 1531.6 Q1242.85 1540.33 1239.77 1544.94 Q1236.71 1549.52 1230.9 1549.52 Q1225.09 1549.52 1222.01 1544.94 Q1218.96 1540.33 1218.96 1531.6 Q1218.96 1522.85 1222.01 1518.27 Q1225.09 1513.66 1230.9 1513.66 Z\" fill=\"#000000\" fill-rule=\"nonzero\" fill-opacity=\"1\" /><path clip-path=\"url(#clip310)\" d=\"M1738.94 1532.44 Q1735.6 1532.44 1733.68 1534.22 Q1731.78 1536 1731.78 1539.13 Q1731.78 1542.25 1733.68 1544.03 Q1735.6 1545.82 1738.94 1545.82 Q1742.27 1545.82 1744.19 1544.03 Q1746.11 1542.23 1746.11 1539.13 Q1746.11 1536 1744.19 1534.22 Q1742.29 1532.44 1738.94 1532.44 M1734.26 1530.45 Q1731.25 1529.7 1729.56 1527.64 Q1727.89 1525.58 1727.89 1522.62 Q1727.89 1518.48 1730.83 1516.07 Q1733.8 1513.66 1738.94 1513.66 Q1744.1 1513.66 1747.04 1516.07 Q1749.98 1518.48 1749.98 1522.62 Q1749.98 1525.58 1748.29 1527.64 Q1746.62 1529.7 1743.64 1530.45 Q1747.01 1531.23 1748.89 1533.52 Q1750.79 1535.82 1750.79 1539.13 Q1750.79 1544.15 1747.71 1546.83 Q1744.65 1549.52 1738.94 1549.52 Q1733.22 1549.52 1730.14 1546.83 Q1727.08 1544.15 1727.08 1539.13 Q1727.08 1535.82 1728.98 1533.52 Q1730.88 1531.23 1734.26 1530.45 M1732.55 1523.06 Q1732.55 1525.75 1734.21 1527.25 Q1735.9 1528.76 1738.94 1528.76 Q1741.95 1528.76 1743.64 1527.25 Q1745.35 1525.75 1745.35 1523.06 Q1745.35 1520.38 1743.64 1518.87 Q1741.95 1517.37 1738.94 1517.37 Q1735.9 1517.37 1734.21 1518.87 Q1732.55 1520.38 1732.55 1523.06 Z\" fill=\"#000000\" fill-rule=\"nonzero\" fill-opacity=\"1\" /><path clip-path=\"url(#clip310)\" d=\"M1769.1 1517.37 Q1765.49 1517.37 1763.66 1520.93 Q1761.85 1524.47 1761.85 1531.6 Q1761.85 1538.71 1763.66 1542.27 Q1765.49 1545.82 1769.1 1545.82 Q1772.73 1545.82 1774.54 1542.27 Q1776.37 1538.71 1776.37 1531.6 Q1776.37 1524.47 1774.54 1520.93 Q1772.73 1517.37 1769.1 1517.37 M1769.1 1513.66 Q1774.91 1513.66 1777.96 1518.27 Q1781.04 1522.85 1781.04 1531.6 Q1781.04 1540.33 1777.96 1544.94 Q1774.91 1549.52 1769.1 1549.52 Q1763.29 1549.52 1760.21 1544.94 Q1757.15 1540.33 1757.15 1531.6 Q1757.15 1522.85 1760.21 1518.27 Q1763.29 1513.66 1769.1 1513.66 Z\" fill=\"#000000\" fill-rule=\"nonzero\" fill-opacity=\"1\" /><path clip-path=\"url(#clip310)\" d=\"M2251.82 1544.91 L2259.46 1544.91 L2259.46 1518.55 L2251.15 1520.21 L2251.15 1515.95 L2259.41 1514.29 L2264.09 1514.29 L2264.09 1544.91 L2271.73 1544.91 L2271.73 1548.85 L2251.82 1548.85 L2251.82 1544.91 Z\" fill=\"#000000\" fill-rule=\"nonzero\" fill-opacity=\"1\" /><path clip-path=\"url(#clip310)\" d=\"M2291.17 1517.37 Q2287.56 1517.37 2285.73 1520.93 Q2283.93 1524.47 2283.93 1531.6 Q2283.93 1538.71 2285.73 1542.27 Q2287.56 1545.82 2291.17 1545.82 Q2294.81 1545.82 2296.61 1542.27 Q2298.44 1538.71 2298.44 1531.6 Q2298.44 1524.47 2296.61 1520.93 Q2294.81 1517.37 2291.17 1517.37 M2291.17 1513.66 Q2296.98 1513.66 2300.04 1518.27 Q2303.12 1522.85 2303.12 1531.6 Q2303.12 1540.33 2300.04 1544.94 Q2296.98 1549.52 2291.17 1549.52 Q2285.36 1549.52 2282.28 1544.94 Q2279.23 1540.33 2279.23 1531.6 Q2279.23 1522.85 2282.28 1518.27 Q2285.36 1513.66 2291.17 1513.66 Z\" fill=\"#000000\" fill-rule=\"nonzero\" fill-opacity=\"1\" /><path clip-path=\"url(#clip310)\" d=\"M2321.33 1517.37 Q2317.72 1517.37 2315.89 1520.93 Q2314.09 1524.47 2314.09 1531.6 Q2314.09 1538.71 2315.89 1542.27 Q2317.72 1545.82 2321.33 1545.82 Q2324.97 1545.82 2326.77 1542.27 Q2328.6 1538.71 2328.6 1531.6 Q2328.6 1524.47 2326.77 1520.93 Q2324.97 1517.37 2321.33 1517.37 M2321.33 1513.66 Q2327.14 1513.66 2330.2 1518.27 Q2333.28 1522.85 2333.28 1531.6 Q2333.28 1540.33 2330.2 1544.94 Q2327.14 1549.52 2321.33 1549.52 Q2315.52 1549.52 2312.45 1544.94 Q2309.39 1540.33 2309.39 1531.6 Q2309.39 1522.85 2312.45 1518.27 Q2315.52 1513.66 2321.33 1513.66 Z\" fill=\"#000000\" fill-rule=\"nonzero\" fill-opacity=\"1\" /><polyline clip-path=\"url(#clip310)\" style=\"stroke:#000000; stroke-linecap:round; stroke-linejoin:round; stroke-width:4; stroke-opacity:1; fill:none\" points=\"213.607,1486.45 213.607,47.2441 \"/>\n",
       "<polyline clip-path=\"url(#clip310)\" style=\"stroke:#000000; stroke-linecap:round; stroke-linejoin:round; stroke-width:4; stroke-opacity:1; fill:none\" points=\"213.607,1057.37 232.505,1057.37 \"/>\n",
       "<polyline clip-path=\"url(#clip310)\" style=\"stroke:#000000; stroke-linecap:round; stroke-linejoin:round; stroke-width:4; stroke-opacity:1; fill:none\" points=\"213.607,623.651 232.505,623.651 \"/>\n",
       "<polyline clip-path=\"url(#clip310)\" style=\"stroke:#000000; stroke-linecap:round; stroke-linejoin:round; stroke-width:4; stroke-opacity:1; fill:none\" points=\"213.607,189.931 232.505,189.931 \"/>\n",
       "<path clip-path=\"url(#clip310)\" d=\"M51.6634 1077.16 L59.3023 1077.16 L59.3023 1050.8 L50.9921 1052.46 L50.9921 1048.21 L59.256 1046.54 L63.9319 1046.54 L63.9319 1077.16 L71.5707 1077.16 L71.5707 1081.1 L51.6634 1081.1 L51.6634 1077.16 Z\" fill=\"#000000\" fill-rule=\"nonzero\" fill-opacity=\"1\" /><path clip-path=\"url(#clip310)\" d=\"M91.0151 1049.62 Q87.404 1049.62 85.5753 1053.18 Q83.7697 1056.72 83.7697 1063.85 Q83.7697 1070.96 85.5753 1074.52 Q87.404 1078.07 91.0151 1078.07 Q94.6493 1078.07 96.4548 1074.52 Q98.2835 1070.96 98.2835 1063.85 Q98.2835 1056.72 96.4548 1053.18 Q94.6493 1049.62 91.0151 1049.62 M91.0151 1045.91 Q96.8252 1045.91 99.8808 1050.52 Q102.959 1055.1 102.959 1063.85 Q102.959 1072.58 99.8808 1077.19 Q96.8252 1081.77 91.0151 1081.77 Q85.2049 1081.77 82.1262 1077.19 Q79.0707 1072.58 79.0707 1063.85 Q79.0707 1055.1 82.1262 1050.52 Q85.2049 1045.91 91.0151 1045.91 Z\" fill=\"#000000\" fill-rule=\"nonzero\" fill-opacity=\"1\" /><path clip-path=\"url(#clip310)\" d=\"M102.959 1040.01 L127.071 1040.01 L127.071 1043.21 L102.959 1043.21 L102.959 1040.01 Z\" fill=\"#000000\" fill-rule=\"nonzero\" fill-opacity=\"1\" /><path clip-path=\"url(#clip310)\" d=\"M135.929 1050.49 L142.136 1050.49 L142.136 1029.07 L135.384 1030.42 L135.384 1026.96 L142.098 1025.61 L145.898 1025.61 L145.898 1050.49 L152.104 1050.49 L152.104 1053.69 L135.929 1053.69 L135.929 1050.49 Z\" fill=\"#000000\" fill-rule=\"nonzero\" fill-opacity=\"1\" /><path clip-path=\"url(#clip310)\" d=\"M167.903 1028.11 Q164.969 1028.11 163.483 1031.01 Q162.016 1033.88 162.016 1039.68 Q162.016 1045.45 163.483 1048.35 Q164.969 1051.22 167.903 1051.22 Q170.855 1051.22 172.322 1048.35 Q173.808 1045.45 173.808 1039.68 Q173.808 1033.88 172.322 1031.01 Q170.855 1028.11 167.903 1028.11 M167.903 1025.1 Q172.623 1025.1 175.106 1028.84 Q177.607 1032.57 177.607 1039.68 Q177.607 1046.77 175.106 1050.51 Q172.623 1054.23 167.903 1054.23 Q163.182 1054.23 160.68 1050.51 Q158.198 1046.77 158.198 1039.68 Q158.198 1032.57 160.68 1028.84 Q163.182 1025.1 167.903 1025.1 Z\" fill=\"#000000\" fill-rule=\"nonzero\" fill-opacity=\"1\" /><path clip-path=\"url(#clip310)\" d=\"M76.9787 643.443 L84.6175 643.443 L84.6175 617.078 L76.3074 618.745 L76.3074 614.485 L84.5712 612.819 L89.2471 612.819 L89.2471 643.443 L96.886 643.443 L96.886 647.379 L76.9787 647.379 L76.9787 643.443 Z\" fill=\"#000000\" fill-rule=\"nonzero\" fill-opacity=\"1\" /><path clip-path=\"url(#clip310)\" d=\"M116.33 615.897 Q112.719 615.897 110.891 619.462 Q109.085 623.004 109.085 630.133 Q109.085 637.24 110.891 640.805 Q112.719 644.346 116.33 644.346 Q119.965 644.346 121.77 640.805 Q123.599 637.24 123.599 630.133 Q123.599 623.004 121.77 619.462 Q119.965 615.897 116.33 615.897 M116.33 612.194 Q122.14 612.194 125.196 616.8 Q128.275 621.383 128.275 630.133 Q128.275 638.86 125.196 643.467 Q122.14 648.05 116.33 648.05 Q110.52 648.05 107.441 643.467 Q104.386 638.86 104.386 630.133 Q104.386 621.383 107.441 616.8 Q110.52 612.194 116.33 612.194 Z\" fill=\"#000000\" fill-rule=\"nonzero\" fill-opacity=\"1\" /><path clip-path=\"url(#clip310)\" d=\"M128.275 606.295 L152.386 606.295 L152.386 609.492 L128.275 609.492 L128.275 606.295 Z\" fill=\"#000000\" fill-rule=\"nonzero\" fill-opacity=\"1\" /><path clip-path=\"url(#clip310)\" d=\"M160.624 591.888 L175.539 591.888 L175.539 595.086 L164.103 595.086 L164.103 601.969 Q164.931 601.687 165.759 601.555 Q166.586 601.405 167.414 601.405 Q172.116 601.405 174.862 603.982 Q177.607 606.558 177.607 610.959 Q177.607 615.492 174.786 618.012 Q171.965 620.514 166.831 620.514 Q165.063 620.514 163.22 620.213 Q161.395 619.912 159.439 619.31 L159.439 615.492 Q161.132 616.414 162.937 616.865 Q164.743 617.316 166.755 617.316 Q170.009 617.316 171.909 615.605 Q173.808 613.893 173.808 610.959 Q173.808 608.025 171.909 606.314 Q170.009 604.602 166.755 604.602 Q165.232 604.602 163.709 604.941 Q162.204 605.279 160.624 605.994 L160.624 591.888 Z\" fill=\"#000000\" fill-rule=\"nonzero\" fill-opacity=\"1\" /><path clip-path=\"url(#clip310)\" d=\"M106.902 209.724 L114.541 209.724 L114.541 183.358 L106.231 185.025 L106.231 180.765 L114.494 179.099 L119.17 179.099 L119.17 209.724 L126.809 209.724 L126.809 213.659 L106.902 213.659 L106.902 209.724 Z\" fill=\"#000000\" fill-rule=\"nonzero\" fill-opacity=\"1\" /><path clip-path=\"url(#clip310)\" d=\"M146.253 182.177 Q142.642 182.177 140.814 185.742 Q139.008 189.284 139.008 196.414 Q139.008 203.52 140.814 207.085 Q142.642 210.626 146.253 210.626 Q149.888 210.626 151.693 207.085 Q153.522 203.52 153.522 196.414 Q153.522 189.284 151.693 185.742 Q149.888 182.177 146.253 182.177 M146.253 178.474 Q152.064 178.474 155.119 183.08 Q158.198 187.664 158.198 196.414 Q158.198 205.14 155.119 209.747 Q152.064 214.33 146.253 214.33 Q140.443 214.33 137.365 209.747 Q134.309 205.14 134.309 196.414 Q134.309 187.664 137.365 183.08 Q140.443 178.474 146.253 178.474 Z\" fill=\"#000000\" fill-rule=\"nonzero\" fill-opacity=\"1\" /><path clip-path=\"url(#clip310)\" d=\"M167.903 160.67 Q164.969 160.67 163.483 163.566 Q162.016 166.444 162.016 172.237 Q162.016 178.011 163.483 180.907 Q164.969 183.785 167.903 183.785 Q170.855 183.785 172.322 180.907 Q173.808 178.011 173.808 172.237 Q173.808 166.444 172.322 163.566 Q170.855 160.67 167.903 160.67 M167.903 157.661 Q172.623 157.661 175.106 161.403 Q177.607 165.127 177.607 172.237 Q177.607 179.327 175.106 183.07 Q172.623 186.794 167.903 186.794 Q163.182 186.794 160.68 183.07 Q158.198 179.327 158.198 172.237 Q158.198 165.127 160.68 161.403 Q163.182 157.661 167.903 157.661 Z\" fill=\"#000000\" fill-rule=\"nonzero\" fill-opacity=\"1\" /><polyline clip-path=\"url(#clip312)\" style=\"stroke:#009af9; stroke-linecap:round; stroke-linejoin:round; stroke-width:4; stroke-opacity:1; fill:none\" points=\"274.149,1027.04 946.838,364.932 1619.53,87.9763 2292.21,114.763 \"/>\n",
       "<polyline clip-path=\"url(#clip312)\" style=\"stroke:#e26f46; stroke-linecap:round; stroke-linejoin:round; stroke-width:4; stroke-opacity:1; fill:none\" points=\"274.149,1445.72 946.838,1435.38 1619.53,1400.54 2292.21,1403.09 \"/>\n",
       "<path clip-path=\"url(#clip310)\" d=\"M1839.92 250.738 L2281.45 250.738 L2281.45 95.2176 L1839.92 95.2176  Z\" fill=\"#ffffff\" fill-rule=\"evenodd\" fill-opacity=\"1\"/>\n",
       "<polyline clip-path=\"url(#clip310)\" style=\"stroke:#000000; stroke-linecap:round; stroke-linejoin:round; stroke-width:4; stroke-opacity:1; fill:none\" points=\"1839.92,250.738 2281.45,250.738 2281.45,95.2176 1839.92,95.2176 1839.92,250.738 \"/>\n",
       "<polyline clip-path=\"url(#clip310)\" style=\"stroke:#009af9; stroke-linecap:round; stroke-linejoin:round; stroke-width:4; stroke-opacity:1; fill:none\" points=\"1863.69,147.058 2006.3,147.058 \"/>\n",
       "<path clip-path=\"url(#clip310)\" d=\"M2048.84 151.398 Q2048.84 146.699 2046.9 144.037 Q2044.98 141.352 2041.6 141.352 Q2038.22 141.352 2036.27 144.037 Q2034.35 146.699 2034.35 151.398 Q2034.35 156.097 2036.27 158.782 Q2038.22 161.444 2041.6 161.444 Q2044.98 161.444 2046.9 158.782 Q2048.84 156.097 2048.84 151.398 M2034.35 142.347 Q2035.69 140.032 2037.73 138.921 Q2039.79 137.787 2042.64 137.787 Q2047.36 137.787 2050.3 141.537 Q2053.26 145.287 2053.26 151.398 Q2053.26 157.509 2050.3 161.259 Q2047.36 165.009 2042.64 165.009 Q2039.79 165.009 2037.73 163.898 Q2035.69 162.763 2034.35 160.449 L2034.35 164.338 L2030.07 164.338 L2030.07 128.319 L2034.35 128.319 L2034.35 142.347 Z\" fill=\"#000000\" fill-rule=\"nonzero\" fill-opacity=\"1\" /><path clip-path=\"url(#clip310)\" d=\"M2072.1 151.305 Q2066.94 151.305 2064.95 152.486 Q2062.96 153.666 2062.96 156.514 Q2062.96 158.782 2064.44 160.125 Q2065.95 161.444 2068.52 161.444 Q2072.06 161.444 2074.19 158.944 Q2076.34 156.421 2076.34 152.254 L2076.34 151.305 L2072.1 151.305 M2080.6 149.546 L2080.6 164.338 L2076.34 164.338 L2076.34 160.402 Q2074.88 162.763 2072.71 163.898 Q2070.53 165.009 2067.38 165.009 Q2063.4 165.009 2061.04 162.787 Q2058.7 160.541 2058.7 156.791 Q2058.7 152.416 2061.62 150.194 Q2064.56 147.972 2070.37 147.972 L2076.34 147.972 L2076.34 147.555 Q2076.34 144.615 2074.4 143.018 Q2072.48 141.398 2068.98 141.398 Q2066.76 141.398 2064.65 141.93 Q2062.54 142.463 2060.6 143.527 L2060.6 139.592 Q2062.94 138.69 2065.14 138.25 Q2067.34 137.787 2069.42 137.787 Q2075.04 137.787 2077.82 140.703 Q2080.6 143.62 2080.6 149.546 Z\" fill=\"#000000\" fill-rule=\"nonzero\" fill-opacity=\"1\" /><path clip-path=\"url(#clip310)\" d=\"M2106.43 142.347 L2106.43 128.319 L2110.69 128.319 L2110.69 164.338 L2106.43 164.338 L2106.43 160.449 Q2105.09 162.763 2103.03 163.898 Q2100.99 165.009 2098.12 165.009 Q2093.42 165.009 2090.46 161.259 Q2087.52 157.509 2087.52 151.398 Q2087.52 145.287 2090.46 141.537 Q2093.42 137.787 2098.12 137.787 Q2100.99 137.787 2103.03 138.921 Q2105.09 140.032 2106.43 142.347 M2091.92 151.398 Q2091.92 156.097 2093.84 158.782 Q2095.79 161.444 2099.16 161.444 Q2102.54 161.444 2104.49 158.782 Q2106.43 156.097 2106.43 151.398 Q2106.43 146.699 2104.49 144.037 Q2102.54 141.352 2099.16 141.352 Q2095.79 141.352 2093.84 144.037 Q2091.92 146.699 2091.92 151.398 Z\" fill=\"#000000\" fill-rule=\"nonzero\" fill-opacity=\"1\" /><polyline clip-path=\"url(#clip310)\" style=\"stroke:#e26f46; stroke-linecap:round; stroke-linejoin:round; stroke-width:4; stroke-opacity:1; fill:none\" points=\"1863.69,198.898 2006.3,198.898 \"/>\n",
       "<path clip-path=\"url(#clip310)\" d=\"M2034.35 212.289 L2034.35 226.039 L2030.07 226.039 L2030.07 190.252 L2034.35 190.252 L2034.35 194.187 Q2035.69 191.872 2037.73 190.761 Q2039.79 189.627 2042.64 189.627 Q2047.36 189.627 2050.3 193.377 Q2053.26 197.127 2053.26 203.238 Q2053.26 209.349 2050.3 213.099 Q2047.36 216.849 2042.64 216.849 Q2039.79 216.849 2037.73 215.738 Q2035.69 214.603 2034.35 212.289 M2048.84 203.238 Q2048.84 198.539 2046.9 195.877 Q2044.98 193.192 2041.6 193.192 Q2038.22 193.192 2036.27 195.877 Q2034.35 198.539 2034.35 203.238 Q2034.35 207.937 2036.27 210.622 Q2038.22 213.284 2041.6 213.284 Q2044.98 213.284 2046.9 210.622 Q2048.84 207.937 2048.84 203.238 Z\" fill=\"#000000\" fill-rule=\"nonzero\" fill-opacity=\"1\" /><path clip-path=\"url(#clip310)\" d=\"M2082.5 202.15 L2082.5 204.233 L2062.92 204.233 Q2063.19 208.631 2065.55 210.946 Q2067.94 213.238 2072.17 213.238 Q2074.63 213.238 2076.92 212.636 Q2079.23 212.034 2081.5 210.83 L2081.5 214.858 Q2079.21 215.83 2076.8 216.34 Q2074.4 216.849 2071.92 216.849 Q2065.72 216.849 2062.08 213.238 Q2058.47 209.627 2058.47 203.469 Q2058.47 197.104 2061.9 193.377 Q2065.35 189.627 2071.18 189.627 Q2076.41 189.627 2079.44 193.006 Q2082.5 196.363 2082.5 202.15 M2078.24 200.9 Q2078.19 197.405 2076.27 195.321 Q2074.37 193.238 2071.23 193.238 Q2067.66 193.238 2065.51 195.252 Q2063.38 197.266 2063.05 200.923 L2078.24 200.9 Z\" fill=\"#000000\" fill-rule=\"nonzero\" fill-opacity=\"1\" /><path clip-path=\"url(#clip310)\" d=\"M2104.51 194.233 Q2103.79 193.817 2102.94 193.631 Q2102.1 193.423 2101.09 193.423 Q2097.48 193.423 2095.53 195.784 Q2093.61 198.122 2093.61 202.52 L2093.61 216.178 L2089.33 216.178 L2089.33 190.252 L2093.61 190.252 L2093.61 194.28 Q2094.95 191.918 2097.1 190.784 Q2099.26 189.627 2102.34 189.627 Q2102.78 189.627 2103.31 189.696 Q2103.84 189.743 2104.49 189.858 L2104.51 194.233 Z\" fill=\"#000000\" fill-rule=\"nonzero\" fill-opacity=\"1\" /><path clip-path=\"url(#clip310)\" d=\"M2113.19 182.891 L2113.19 190.252 L2121.97 190.252 L2121.97 193.562 L2113.19 193.562 L2113.19 207.636 Q2113.19 210.807 2114.05 211.71 Q2114.93 212.613 2117.59 212.613 L2121.97 212.613 L2121.97 216.178 L2117.59 216.178 Q2112.66 216.178 2110.79 214.349 Q2108.91 212.497 2108.91 207.636 L2108.91 193.562 L2105.79 193.562 L2105.79 190.252 L2108.91 190.252 L2108.91 182.891 L2113.19 182.891 Z\" fill=\"#000000\" fill-rule=\"nonzero\" fill-opacity=\"1\" /><path clip-path=\"url(#clip310)\" d=\"M2127.13 205.946 L2127.13 190.252 L2131.39 190.252 L2131.39 205.784 Q2131.39 209.465 2132.82 211.316 Q2134.26 213.145 2137.13 213.145 Q2140.58 213.145 2142.57 210.946 Q2144.58 208.747 2144.58 204.951 L2144.58 190.252 L2148.84 190.252 L2148.84 216.178 L2144.58 216.178 L2144.58 212.196 Q2143.03 214.557 2140.97 215.715 Q2138.93 216.849 2136.22 216.849 Q2131.76 216.849 2129.44 214.071 Q2127.13 211.293 2127.13 205.946 M2137.85 189.627 L2137.85 189.627 Z\" fill=\"#000000\" fill-rule=\"nonzero\" fill-opacity=\"1\" /><path clip-path=\"url(#clip310)\" d=\"M2172.64 194.233 Q2171.92 193.817 2171.06 193.631 Q2170.23 193.423 2169.21 193.423 Q2165.6 193.423 2163.66 195.784 Q2161.73 198.122 2161.73 202.52 L2161.73 216.178 L2157.45 216.178 L2157.45 190.252 L2161.73 190.252 L2161.73 194.28 Q2163.08 191.918 2165.23 190.784 Q2167.38 189.627 2170.46 189.627 Q2170.9 189.627 2171.43 189.696 Q2171.97 189.743 2172.61 189.858 L2172.64 194.233 Z\" fill=\"#000000\" fill-rule=\"nonzero\" fill-opacity=\"1\" /><path clip-path=\"url(#clip310)\" d=\"M2195.72 203.238 Q2195.72 198.539 2193.77 195.877 Q2191.85 193.192 2188.47 193.192 Q2185.09 193.192 2183.15 195.877 Q2181.22 198.539 2181.22 203.238 Q2181.22 207.937 2183.15 210.622 Q2185.09 213.284 2188.47 213.284 Q2191.85 213.284 2193.77 210.622 Q2195.72 207.937 2195.72 203.238 M2181.22 194.187 Q2182.57 191.872 2184.6 190.761 Q2186.66 189.627 2189.51 189.627 Q2194.23 189.627 2197.17 193.377 Q2200.14 197.127 2200.14 203.238 Q2200.14 209.349 2197.17 213.099 Q2194.23 216.849 2189.51 216.849 Q2186.66 216.849 2184.6 215.738 Q2182.57 214.603 2181.22 212.289 L2181.22 216.178 L2176.94 216.178 L2176.94 180.159 L2181.22 180.159 L2181.22 194.187 Z\" fill=\"#000000\" fill-rule=\"nonzero\" fill-opacity=\"1\" /><path clip-path=\"url(#clip310)\" d=\"M2229.37 202.15 L2229.37 204.233 L2209.79 204.233 Q2210.07 208.631 2212.43 210.946 Q2214.81 213.238 2219.05 213.238 Q2221.5 213.238 2223.79 212.636 Q2226.11 212.034 2228.38 210.83 L2228.38 214.858 Q2226.09 215.83 2223.68 216.34 Q2221.27 216.849 2218.79 216.849 Q2212.59 216.849 2208.96 213.238 Q2205.34 209.627 2205.34 203.469 Q2205.34 197.104 2208.77 193.377 Q2212.22 189.627 2218.05 189.627 Q2223.28 189.627 2226.32 193.006 Q2229.37 196.363 2229.37 202.15 M2225.11 200.9 Q2225.07 197.405 2223.15 195.321 Q2221.25 193.238 2218.1 193.238 Q2214.53 193.238 2212.38 195.252 Q2210.25 197.266 2209.93 200.923 L2225.11 200.9 Z\" fill=\"#000000\" fill-rule=\"nonzero\" fill-opacity=\"1\" /><path clip-path=\"url(#clip310)\" d=\"M2253.42 194.187 L2253.42 180.159 L2257.68 180.159 L2257.68 216.178 L2253.42 216.178 L2253.42 212.289 Q2252.08 214.603 2250.02 215.738 Q2247.98 216.849 2245.11 216.849 Q2240.41 216.849 2237.45 213.099 Q2234.51 209.349 2234.51 203.238 Q2234.51 197.127 2237.45 193.377 Q2240.41 189.627 2245.11 189.627 Q2247.98 189.627 2250.02 190.761 Q2252.08 191.872 2253.42 194.187 M2238.91 203.238 Q2238.91 207.937 2240.83 210.622 Q2242.78 213.284 2246.15 213.284 Q2249.53 213.284 2251.48 210.622 Q2253.42 207.937 2253.42 203.238 Q2253.42 198.539 2251.48 195.877 Q2249.53 193.192 2246.15 193.192 Q2242.78 193.192 2240.83 195.877 Q2238.91 198.539 2238.91 203.238 Z\" fill=\"#000000\" fill-rule=\"nonzero\" fill-opacity=\"1\" /></svg>\n"
      ],
      "text/html": [
       "<?xml version=\"1.0\" encoding=\"utf-8\"?>\n",
       "<svg xmlns=\"http://www.w3.org/2000/svg\" xmlns:xlink=\"http://www.w3.org/1999/xlink\" width=\"600\" height=\"400\" viewBox=\"0 0 2400 1600\">\n",
       "<defs>\n",
       "  <clipPath id=\"clip360\">\n",
       "    <rect x=\"0\" y=\"0\" width=\"2400\" height=\"1600\"/>\n",
       "  </clipPath>\n",
       "</defs>\n",
       "<path clip-path=\"url(#clip360)\" d=\"M0 1600 L2400 1600 L2400 0 L0 0  Z\" fill=\"#ffffff\" fill-rule=\"evenodd\" fill-opacity=\"1\"/>\n",
       "<defs>\n",
       "  <clipPath id=\"clip361\">\n",
       "    <rect x=\"480\" y=\"0\" width=\"1681\" height=\"1600\"/>\n",
       "  </clipPath>\n",
       "</defs>\n",
       "<path clip-path=\"url(#clip360)\" d=\"M213.607 1486.45 L2352.76 1486.45 L2352.76 47.2441 L213.607 47.2441  Z\" fill=\"#ffffff\" fill-rule=\"evenodd\" fill-opacity=\"1\"/>\n",
       "<defs>\n",
       "  <clipPath id=\"clip362\">\n",
       "    <rect x=\"213\" y=\"47\" width=\"2140\" height=\"1440\"/>\n",
       "  </clipPath>\n",
       "</defs>\n",
       "<polyline clip-path=\"url(#clip362)\" style=\"stroke:#000000; stroke-linecap:round; stroke-linejoin:round; stroke-width:2; stroke-opacity:0.1; fill:none\" points=\"677.762,1486.45 677.762,47.2441 \"/>\n",
       "<polyline clip-path=\"url(#clip362)\" style=\"stroke:#000000; stroke-linecap:round; stroke-linejoin:round; stroke-width:2; stroke-opacity:0.1; fill:none\" points=\"1215.91,1486.45 1215.91,47.2441 \"/>\n",
       "<polyline clip-path=\"url(#clip362)\" style=\"stroke:#000000; stroke-linecap:round; stroke-linejoin:round; stroke-width:2; stroke-opacity:0.1; fill:none\" points=\"1754.06,1486.45 1754.06,47.2441 \"/>\n",
       "<polyline clip-path=\"url(#clip362)\" style=\"stroke:#000000; stroke-linecap:round; stroke-linejoin:round; stroke-width:2; stroke-opacity:0.1; fill:none\" points=\"2292.21,1486.45 2292.21,47.2441 \"/>\n",
       "<polyline clip-path=\"url(#clip362)\" style=\"stroke:#000000; stroke-linecap:round; stroke-linejoin:round; stroke-width:2; stroke-opacity:0.1; fill:none\" points=\"213.607,1057.37 2352.76,1057.37 \"/>\n",
       "<polyline clip-path=\"url(#clip362)\" style=\"stroke:#000000; stroke-linecap:round; stroke-linejoin:round; stroke-width:2; stroke-opacity:0.1; fill:none\" points=\"213.607,623.651 2352.76,623.651 \"/>\n",
       "<polyline clip-path=\"url(#clip362)\" style=\"stroke:#000000; stroke-linecap:round; stroke-linejoin:round; stroke-width:2; stroke-opacity:0.1; fill:none\" points=\"213.607,189.931 2352.76,189.931 \"/>\n",
       "<polyline clip-path=\"url(#clip360)\" style=\"stroke:#000000; stroke-linecap:round; stroke-linejoin:round; stroke-width:4; stroke-opacity:1; fill:none\" points=\"213.607,1486.45 2352.76,1486.45 \"/>\n",
       "<polyline clip-path=\"url(#clip360)\" style=\"stroke:#000000; stroke-linecap:round; stroke-linejoin:round; stroke-width:4; stroke-opacity:1; fill:none\" points=\"677.762,1486.45 677.762,1467.55 \"/>\n",
       "<polyline clip-path=\"url(#clip360)\" style=\"stroke:#000000; stroke-linecap:round; stroke-linejoin:round; stroke-width:4; stroke-opacity:1; fill:none\" points=\"1215.91,1486.45 1215.91,1467.55 \"/>\n",
       "<polyline clip-path=\"url(#clip360)\" style=\"stroke:#000000; stroke-linecap:round; stroke-linejoin:round; stroke-width:4; stroke-opacity:1; fill:none\" points=\"1754.06,1486.45 1754.06,1467.55 \"/>\n",
       "<polyline clip-path=\"url(#clip360)\" style=\"stroke:#000000; stroke-linecap:round; stroke-linejoin:round; stroke-width:4; stroke-opacity:1; fill:none\" points=\"2292.21,1486.45 2292.21,1467.55 \"/>\n",
       "<path clip-path=\"url(#clip360)\" d=\"M665.934 1518.36 L654.128 1536.81 L665.934 1536.81 L665.934 1518.36 M664.707 1514.29 L670.586 1514.29 L670.586 1536.81 L675.517 1536.81 L675.517 1540.7 L670.586 1540.7 L670.586 1548.85 L665.934 1548.85 L665.934 1540.7 L650.332 1540.7 L650.332 1536.19 L664.707 1514.29 Z\" fill=\"#000000\" fill-rule=\"nonzero\" fill-opacity=\"1\" /><path clip-path=\"url(#clip360)\" d=\"M693.248 1517.37 Q689.637 1517.37 687.809 1520.93 Q686.003 1524.47 686.003 1531.6 Q686.003 1538.71 687.809 1542.27 Q689.637 1545.82 693.248 1545.82 Q696.883 1545.82 698.688 1542.27 Q700.517 1538.71 700.517 1531.6 Q700.517 1524.47 698.688 1520.93 Q696.883 1517.37 693.248 1517.37 M693.248 1513.66 Q699.059 1513.66 702.114 1518.27 Q705.193 1522.85 705.193 1531.6 Q705.193 1540.33 702.114 1544.94 Q699.059 1549.52 693.248 1549.52 Q687.438 1549.52 684.36 1544.94 Q681.304 1540.33 681.304 1531.6 Q681.304 1522.85 684.36 1518.27 Q687.438 1513.66 693.248 1513.66 Z\" fill=\"#000000\" fill-rule=\"nonzero\" fill-opacity=\"1\" /><path clip-path=\"url(#clip360)\" d=\"M1201.32 1529.7 Q1198.17 1529.7 1196.32 1531.86 Q1194.49 1534.01 1194.49 1537.76 Q1194.49 1541.49 1196.32 1543.66 Q1198.17 1545.82 1201.32 1545.82 Q1204.47 1545.82 1206.29 1543.66 Q1208.15 1541.49 1208.15 1537.76 Q1208.15 1534.01 1206.29 1531.86 Q1204.47 1529.7 1201.32 1529.7 M1210.6 1515.05 L1210.6 1519.31 Q1208.84 1518.48 1207.04 1518.04 Q1205.25 1517.6 1203.49 1517.6 Q1198.86 1517.6 1196.41 1520.72 Q1193.98 1523.85 1193.63 1530.17 Q1195 1528.15 1197.06 1527.09 Q1199.12 1526 1201.6 1526 Q1206.8 1526 1209.81 1529.17 Q1212.85 1532.32 1212.85 1537.76 Q1212.85 1543.08 1209.7 1546.3 Q1206.55 1549.52 1201.32 1549.52 Q1195.32 1549.52 1192.15 1544.94 Q1188.98 1540.33 1188.98 1531.6 Q1188.98 1523.41 1192.87 1518.55 Q1196.76 1513.66 1203.31 1513.66 Q1205.07 1513.66 1206.85 1514.01 Q1208.66 1514.36 1210.6 1515.05 Z\" fill=\"#000000\" fill-rule=\"nonzero\" fill-opacity=\"1\" /><path clip-path=\"url(#clip360)\" d=\"M1230.9 1517.37 Q1227.29 1517.37 1225.46 1520.93 Q1223.66 1524.47 1223.66 1531.6 Q1223.66 1538.71 1225.46 1542.27 Q1227.29 1545.82 1230.9 1545.82 Q1234.54 1545.82 1236.34 1542.27 Q1238.17 1538.71 1238.17 1531.6 Q1238.17 1524.47 1236.34 1520.93 Q1234.54 1517.37 1230.9 1517.37 M1230.9 1513.66 Q1236.71 1513.66 1239.77 1518.27 Q1242.85 1522.85 1242.85 1531.6 Q1242.85 1540.33 1239.77 1544.94 Q1236.71 1549.52 1230.9 1549.52 Q1225.09 1549.52 1222.01 1544.94 Q1218.96 1540.33 1218.96 1531.6 Q1218.96 1522.85 1222.01 1518.27 Q1225.09 1513.66 1230.9 1513.66 Z\" fill=\"#000000\" fill-rule=\"nonzero\" fill-opacity=\"1\" /><path clip-path=\"url(#clip360)\" d=\"M1738.94 1532.44 Q1735.6 1532.44 1733.68 1534.22 Q1731.78 1536 1731.78 1539.13 Q1731.78 1542.25 1733.68 1544.03 Q1735.6 1545.82 1738.94 1545.82 Q1742.27 1545.82 1744.19 1544.03 Q1746.11 1542.23 1746.11 1539.13 Q1746.11 1536 1744.19 1534.22 Q1742.29 1532.44 1738.94 1532.44 M1734.26 1530.45 Q1731.25 1529.7 1729.56 1527.64 Q1727.89 1525.58 1727.89 1522.62 Q1727.89 1518.48 1730.83 1516.07 Q1733.8 1513.66 1738.94 1513.66 Q1744.1 1513.66 1747.04 1516.07 Q1749.98 1518.48 1749.98 1522.62 Q1749.98 1525.58 1748.29 1527.64 Q1746.62 1529.7 1743.64 1530.45 Q1747.01 1531.23 1748.89 1533.52 Q1750.79 1535.82 1750.79 1539.13 Q1750.79 1544.15 1747.71 1546.83 Q1744.65 1549.52 1738.94 1549.52 Q1733.22 1549.52 1730.14 1546.83 Q1727.08 1544.15 1727.08 1539.13 Q1727.08 1535.82 1728.98 1533.52 Q1730.88 1531.23 1734.26 1530.45 M1732.55 1523.06 Q1732.55 1525.75 1734.21 1527.25 Q1735.9 1528.76 1738.94 1528.76 Q1741.95 1528.76 1743.64 1527.25 Q1745.35 1525.75 1745.35 1523.06 Q1745.35 1520.38 1743.64 1518.87 Q1741.95 1517.37 1738.94 1517.37 Q1735.9 1517.37 1734.21 1518.87 Q1732.55 1520.38 1732.55 1523.06 Z\" fill=\"#000000\" fill-rule=\"nonzero\" fill-opacity=\"1\" /><path clip-path=\"url(#clip360)\" d=\"M1769.1 1517.37 Q1765.49 1517.37 1763.66 1520.93 Q1761.85 1524.47 1761.85 1531.6 Q1761.85 1538.71 1763.66 1542.27 Q1765.49 1545.82 1769.1 1545.82 Q1772.73 1545.82 1774.54 1542.27 Q1776.37 1538.71 1776.37 1531.6 Q1776.37 1524.47 1774.54 1520.93 Q1772.73 1517.37 1769.1 1517.37 M1769.1 1513.66 Q1774.91 1513.66 1777.96 1518.27 Q1781.04 1522.85 1781.04 1531.6 Q1781.04 1540.33 1777.96 1544.94 Q1774.91 1549.52 1769.1 1549.52 Q1763.29 1549.52 1760.21 1544.94 Q1757.15 1540.33 1757.15 1531.6 Q1757.15 1522.85 1760.21 1518.27 Q1763.29 1513.66 1769.1 1513.66 Z\" fill=\"#000000\" fill-rule=\"nonzero\" fill-opacity=\"1\" /><path clip-path=\"url(#clip360)\" d=\"M2251.82 1544.91 L2259.46 1544.91 L2259.46 1518.55 L2251.15 1520.21 L2251.15 1515.95 L2259.41 1514.29 L2264.09 1514.29 L2264.09 1544.91 L2271.73 1544.91 L2271.73 1548.85 L2251.82 1548.85 L2251.82 1544.91 Z\" fill=\"#000000\" fill-rule=\"nonzero\" fill-opacity=\"1\" /><path clip-path=\"url(#clip360)\" d=\"M2291.17 1517.37 Q2287.56 1517.37 2285.73 1520.93 Q2283.93 1524.47 2283.93 1531.6 Q2283.93 1538.71 2285.73 1542.27 Q2287.56 1545.82 2291.17 1545.82 Q2294.81 1545.82 2296.61 1542.27 Q2298.44 1538.71 2298.44 1531.6 Q2298.44 1524.47 2296.61 1520.93 Q2294.81 1517.37 2291.17 1517.37 M2291.17 1513.66 Q2296.98 1513.66 2300.04 1518.27 Q2303.12 1522.85 2303.12 1531.6 Q2303.12 1540.33 2300.04 1544.94 Q2296.98 1549.52 2291.17 1549.52 Q2285.36 1549.52 2282.28 1544.94 Q2279.23 1540.33 2279.23 1531.6 Q2279.23 1522.85 2282.28 1518.27 Q2285.36 1513.66 2291.17 1513.66 Z\" fill=\"#000000\" fill-rule=\"nonzero\" fill-opacity=\"1\" /><path clip-path=\"url(#clip360)\" d=\"M2321.33 1517.37 Q2317.72 1517.37 2315.89 1520.93 Q2314.09 1524.47 2314.09 1531.6 Q2314.09 1538.71 2315.89 1542.27 Q2317.72 1545.82 2321.33 1545.82 Q2324.97 1545.82 2326.77 1542.27 Q2328.6 1538.71 2328.6 1531.6 Q2328.6 1524.47 2326.77 1520.93 Q2324.97 1517.37 2321.33 1517.37 M2321.33 1513.66 Q2327.14 1513.66 2330.2 1518.27 Q2333.28 1522.85 2333.28 1531.6 Q2333.28 1540.33 2330.2 1544.94 Q2327.14 1549.52 2321.33 1549.52 Q2315.52 1549.52 2312.45 1544.94 Q2309.39 1540.33 2309.39 1531.6 Q2309.39 1522.85 2312.45 1518.27 Q2315.52 1513.66 2321.33 1513.66 Z\" fill=\"#000000\" fill-rule=\"nonzero\" fill-opacity=\"1\" /><polyline clip-path=\"url(#clip360)\" style=\"stroke:#000000; stroke-linecap:round; stroke-linejoin:round; stroke-width:4; stroke-opacity:1; fill:none\" points=\"213.607,1486.45 213.607,47.2441 \"/>\n",
       "<polyline clip-path=\"url(#clip360)\" style=\"stroke:#000000; stroke-linecap:round; stroke-linejoin:round; stroke-width:4; stroke-opacity:1; fill:none\" points=\"213.607,1057.37 232.505,1057.37 \"/>\n",
       "<polyline clip-path=\"url(#clip360)\" style=\"stroke:#000000; stroke-linecap:round; stroke-linejoin:round; stroke-width:4; stroke-opacity:1; fill:none\" points=\"213.607,623.651 232.505,623.651 \"/>\n",
       "<polyline clip-path=\"url(#clip360)\" style=\"stroke:#000000; stroke-linecap:round; stroke-linejoin:round; stroke-width:4; stroke-opacity:1; fill:none\" points=\"213.607,189.931 232.505,189.931 \"/>\n",
       "<path clip-path=\"url(#clip360)\" d=\"M51.6634 1077.16 L59.3023 1077.16 L59.3023 1050.8 L50.9921 1052.46 L50.9921 1048.21 L59.256 1046.54 L63.9319 1046.54 L63.9319 1077.16 L71.5707 1077.16 L71.5707 1081.1 L51.6634 1081.1 L51.6634 1077.16 Z\" fill=\"#000000\" fill-rule=\"nonzero\" fill-opacity=\"1\" /><path clip-path=\"url(#clip360)\" d=\"M91.0151 1049.62 Q87.404 1049.62 85.5753 1053.18 Q83.7697 1056.72 83.7697 1063.85 Q83.7697 1070.96 85.5753 1074.52 Q87.404 1078.07 91.0151 1078.07 Q94.6493 1078.07 96.4548 1074.52 Q98.2835 1070.96 98.2835 1063.85 Q98.2835 1056.72 96.4548 1053.18 Q94.6493 1049.62 91.0151 1049.62 M91.0151 1045.91 Q96.8252 1045.91 99.8808 1050.52 Q102.959 1055.1 102.959 1063.85 Q102.959 1072.58 99.8808 1077.19 Q96.8252 1081.77 91.0151 1081.77 Q85.2049 1081.77 82.1262 1077.19 Q79.0707 1072.58 79.0707 1063.85 Q79.0707 1055.1 82.1262 1050.52 Q85.2049 1045.91 91.0151 1045.91 Z\" fill=\"#000000\" fill-rule=\"nonzero\" fill-opacity=\"1\" /><path clip-path=\"url(#clip360)\" d=\"M102.959 1040.01 L127.071 1040.01 L127.071 1043.21 L102.959 1043.21 L102.959 1040.01 Z\" fill=\"#000000\" fill-rule=\"nonzero\" fill-opacity=\"1\" /><path clip-path=\"url(#clip360)\" d=\"M135.929 1050.49 L142.136 1050.49 L142.136 1029.07 L135.384 1030.42 L135.384 1026.96 L142.098 1025.61 L145.898 1025.61 L145.898 1050.49 L152.104 1050.49 L152.104 1053.69 L135.929 1053.69 L135.929 1050.49 Z\" fill=\"#000000\" fill-rule=\"nonzero\" fill-opacity=\"1\" /><path clip-path=\"url(#clip360)\" d=\"M167.903 1028.11 Q164.969 1028.11 163.483 1031.01 Q162.016 1033.88 162.016 1039.68 Q162.016 1045.45 163.483 1048.35 Q164.969 1051.22 167.903 1051.22 Q170.855 1051.22 172.322 1048.35 Q173.808 1045.45 173.808 1039.68 Q173.808 1033.88 172.322 1031.01 Q170.855 1028.11 167.903 1028.11 M167.903 1025.1 Q172.623 1025.1 175.106 1028.84 Q177.607 1032.57 177.607 1039.68 Q177.607 1046.77 175.106 1050.51 Q172.623 1054.23 167.903 1054.23 Q163.182 1054.23 160.68 1050.51 Q158.198 1046.77 158.198 1039.68 Q158.198 1032.57 160.68 1028.84 Q163.182 1025.1 167.903 1025.1 Z\" fill=\"#000000\" fill-rule=\"nonzero\" fill-opacity=\"1\" /><path clip-path=\"url(#clip360)\" d=\"M76.9787 643.443 L84.6175 643.443 L84.6175 617.078 L76.3074 618.745 L76.3074 614.485 L84.5712 612.819 L89.2471 612.819 L89.2471 643.443 L96.886 643.443 L96.886 647.379 L76.9787 647.379 L76.9787 643.443 Z\" fill=\"#000000\" fill-rule=\"nonzero\" fill-opacity=\"1\" /><path clip-path=\"url(#clip360)\" d=\"M116.33 615.897 Q112.719 615.897 110.891 619.462 Q109.085 623.004 109.085 630.133 Q109.085 637.24 110.891 640.805 Q112.719 644.346 116.33 644.346 Q119.965 644.346 121.77 640.805 Q123.599 637.24 123.599 630.133 Q123.599 623.004 121.77 619.462 Q119.965 615.897 116.33 615.897 M116.33 612.194 Q122.14 612.194 125.196 616.8 Q128.275 621.383 128.275 630.133 Q128.275 638.86 125.196 643.467 Q122.14 648.05 116.33 648.05 Q110.52 648.05 107.441 643.467 Q104.386 638.86 104.386 630.133 Q104.386 621.383 107.441 616.8 Q110.52 612.194 116.33 612.194 Z\" fill=\"#000000\" fill-rule=\"nonzero\" fill-opacity=\"1\" /><path clip-path=\"url(#clip360)\" d=\"M128.275 606.295 L152.386 606.295 L152.386 609.492 L128.275 609.492 L128.275 606.295 Z\" fill=\"#000000\" fill-rule=\"nonzero\" fill-opacity=\"1\" /><path clip-path=\"url(#clip360)\" d=\"M160.624 591.888 L175.539 591.888 L175.539 595.086 L164.103 595.086 L164.103 601.969 Q164.931 601.687 165.759 601.555 Q166.586 601.405 167.414 601.405 Q172.116 601.405 174.862 603.982 Q177.607 606.558 177.607 610.959 Q177.607 615.492 174.786 618.012 Q171.965 620.514 166.831 620.514 Q165.063 620.514 163.22 620.213 Q161.395 619.912 159.439 619.31 L159.439 615.492 Q161.132 616.414 162.937 616.865 Q164.743 617.316 166.755 617.316 Q170.009 617.316 171.909 615.605 Q173.808 613.893 173.808 610.959 Q173.808 608.025 171.909 606.314 Q170.009 604.602 166.755 604.602 Q165.232 604.602 163.709 604.941 Q162.204 605.279 160.624 605.994 L160.624 591.888 Z\" fill=\"#000000\" fill-rule=\"nonzero\" fill-opacity=\"1\" /><path clip-path=\"url(#clip360)\" d=\"M106.902 209.724 L114.541 209.724 L114.541 183.358 L106.231 185.025 L106.231 180.765 L114.494 179.099 L119.17 179.099 L119.17 209.724 L126.809 209.724 L126.809 213.659 L106.902 213.659 L106.902 209.724 Z\" fill=\"#000000\" fill-rule=\"nonzero\" fill-opacity=\"1\" /><path clip-path=\"url(#clip360)\" d=\"M146.253 182.177 Q142.642 182.177 140.814 185.742 Q139.008 189.284 139.008 196.414 Q139.008 203.52 140.814 207.085 Q142.642 210.626 146.253 210.626 Q149.888 210.626 151.693 207.085 Q153.522 203.52 153.522 196.414 Q153.522 189.284 151.693 185.742 Q149.888 182.177 146.253 182.177 M146.253 178.474 Q152.064 178.474 155.119 183.08 Q158.198 187.664 158.198 196.414 Q158.198 205.14 155.119 209.747 Q152.064 214.33 146.253 214.33 Q140.443 214.33 137.365 209.747 Q134.309 205.14 134.309 196.414 Q134.309 187.664 137.365 183.08 Q140.443 178.474 146.253 178.474 Z\" fill=\"#000000\" fill-rule=\"nonzero\" fill-opacity=\"1\" /><path clip-path=\"url(#clip360)\" d=\"M167.903 160.67 Q164.969 160.67 163.483 163.566 Q162.016 166.444 162.016 172.237 Q162.016 178.011 163.483 180.907 Q164.969 183.785 167.903 183.785 Q170.855 183.785 172.322 180.907 Q173.808 178.011 173.808 172.237 Q173.808 166.444 172.322 163.566 Q170.855 160.67 167.903 160.67 M167.903 157.661 Q172.623 157.661 175.106 161.403 Q177.607 165.127 177.607 172.237 Q177.607 179.327 175.106 183.07 Q172.623 186.794 167.903 186.794 Q163.182 186.794 160.68 183.07 Q158.198 179.327 158.198 172.237 Q158.198 165.127 160.68 161.403 Q163.182 157.661 167.903 157.661 Z\" fill=\"#000000\" fill-rule=\"nonzero\" fill-opacity=\"1\" /><polyline clip-path=\"url(#clip362)\" style=\"stroke:#009af9; stroke-linecap:round; stroke-linejoin:round; stroke-width:4; stroke-opacity:1; fill:none\" points=\"274.149,1027.04 946.838,364.932 1619.53,87.9763 2292.21,114.763 \"/>\n",
       "<polyline clip-path=\"url(#clip362)\" style=\"stroke:#e26f46; stroke-linecap:round; stroke-linejoin:round; stroke-width:4; stroke-opacity:1; fill:none\" points=\"274.149,1445.72 946.838,1435.38 1619.53,1400.54 2292.21,1403.09 \"/>\n",
       "<path clip-path=\"url(#clip360)\" d=\"M1839.92 250.738 L2281.45 250.738 L2281.45 95.2176 L1839.92 95.2176  Z\" fill=\"#ffffff\" fill-rule=\"evenodd\" fill-opacity=\"1\"/>\n",
       "<polyline clip-path=\"url(#clip360)\" style=\"stroke:#000000; stroke-linecap:round; stroke-linejoin:round; stroke-width:4; stroke-opacity:1; fill:none\" points=\"1839.92,250.738 2281.45,250.738 2281.45,95.2176 1839.92,95.2176 1839.92,250.738 \"/>\n",
       "<polyline clip-path=\"url(#clip360)\" style=\"stroke:#009af9; stroke-linecap:round; stroke-linejoin:round; stroke-width:4; stroke-opacity:1; fill:none\" points=\"1863.69,147.058 2006.3,147.058 \"/>\n",
       "<path clip-path=\"url(#clip360)\" d=\"M2048.84 151.398 Q2048.84 146.699 2046.9 144.037 Q2044.98 141.352 2041.6 141.352 Q2038.22 141.352 2036.27 144.037 Q2034.35 146.699 2034.35 151.398 Q2034.35 156.097 2036.27 158.782 Q2038.22 161.444 2041.6 161.444 Q2044.98 161.444 2046.9 158.782 Q2048.84 156.097 2048.84 151.398 M2034.35 142.347 Q2035.69 140.032 2037.73 138.921 Q2039.79 137.787 2042.64 137.787 Q2047.36 137.787 2050.3 141.537 Q2053.26 145.287 2053.26 151.398 Q2053.26 157.509 2050.3 161.259 Q2047.36 165.009 2042.64 165.009 Q2039.79 165.009 2037.73 163.898 Q2035.69 162.763 2034.35 160.449 L2034.35 164.338 L2030.07 164.338 L2030.07 128.319 L2034.35 128.319 L2034.35 142.347 Z\" fill=\"#000000\" fill-rule=\"nonzero\" fill-opacity=\"1\" /><path clip-path=\"url(#clip360)\" d=\"M2072.1 151.305 Q2066.94 151.305 2064.95 152.486 Q2062.96 153.666 2062.96 156.514 Q2062.96 158.782 2064.44 160.125 Q2065.95 161.444 2068.52 161.444 Q2072.06 161.444 2074.19 158.944 Q2076.34 156.421 2076.34 152.254 L2076.34 151.305 L2072.1 151.305 M2080.6 149.546 L2080.6 164.338 L2076.34 164.338 L2076.34 160.402 Q2074.88 162.763 2072.71 163.898 Q2070.53 165.009 2067.38 165.009 Q2063.4 165.009 2061.04 162.787 Q2058.7 160.541 2058.7 156.791 Q2058.7 152.416 2061.62 150.194 Q2064.56 147.972 2070.37 147.972 L2076.34 147.972 L2076.34 147.555 Q2076.34 144.615 2074.4 143.018 Q2072.48 141.398 2068.98 141.398 Q2066.76 141.398 2064.65 141.93 Q2062.54 142.463 2060.6 143.527 L2060.6 139.592 Q2062.94 138.69 2065.14 138.25 Q2067.34 137.787 2069.42 137.787 Q2075.04 137.787 2077.82 140.703 Q2080.6 143.62 2080.6 149.546 Z\" fill=\"#000000\" fill-rule=\"nonzero\" fill-opacity=\"1\" /><path clip-path=\"url(#clip360)\" d=\"M2106.43 142.347 L2106.43 128.319 L2110.69 128.319 L2110.69 164.338 L2106.43 164.338 L2106.43 160.449 Q2105.09 162.763 2103.03 163.898 Q2100.99 165.009 2098.12 165.009 Q2093.42 165.009 2090.46 161.259 Q2087.52 157.509 2087.52 151.398 Q2087.52 145.287 2090.46 141.537 Q2093.42 137.787 2098.12 137.787 Q2100.99 137.787 2103.03 138.921 Q2105.09 140.032 2106.43 142.347 M2091.92 151.398 Q2091.92 156.097 2093.84 158.782 Q2095.79 161.444 2099.16 161.444 Q2102.54 161.444 2104.49 158.782 Q2106.43 156.097 2106.43 151.398 Q2106.43 146.699 2104.49 144.037 Q2102.54 141.352 2099.16 141.352 Q2095.79 141.352 2093.84 144.037 Q2091.92 146.699 2091.92 151.398 Z\" fill=\"#000000\" fill-rule=\"nonzero\" fill-opacity=\"1\" /><polyline clip-path=\"url(#clip360)\" style=\"stroke:#e26f46; stroke-linecap:round; stroke-linejoin:round; stroke-width:4; stroke-opacity:1; fill:none\" points=\"1863.69,198.898 2006.3,198.898 \"/>\n",
       "<path clip-path=\"url(#clip360)\" d=\"M2034.35 212.289 L2034.35 226.039 L2030.07 226.039 L2030.07 190.252 L2034.35 190.252 L2034.35 194.187 Q2035.69 191.872 2037.73 190.761 Q2039.79 189.627 2042.64 189.627 Q2047.36 189.627 2050.3 193.377 Q2053.26 197.127 2053.26 203.238 Q2053.26 209.349 2050.3 213.099 Q2047.36 216.849 2042.64 216.849 Q2039.79 216.849 2037.73 215.738 Q2035.69 214.603 2034.35 212.289 M2048.84 203.238 Q2048.84 198.539 2046.9 195.877 Q2044.98 193.192 2041.6 193.192 Q2038.22 193.192 2036.27 195.877 Q2034.35 198.539 2034.35 203.238 Q2034.35 207.937 2036.27 210.622 Q2038.22 213.284 2041.6 213.284 Q2044.98 213.284 2046.9 210.622 Q2048.84 207.937 2048.84 203.238 Z\" fill=\"#000000\" fill-rule=\"nonzero\" fill-opacity=\"1\" /><path clip-path=\"url(#clip360)\" d=\"M2082.5 202.15 L2082.5 204.233 L2062.92 204.233 Q2063.19 208.631 2065.55 210.946 Q2067.94 213.238 2072.17 213.238 Q2074.63 213.238 2076.92 212.636 Q2079.23 212.034 2081.5 210.83 L2081.5 214.858 Q2079.21 215.83 2076.8 216.34 Q2074.4 216.849 2071.92 216.849 Q2065.72 216.849 2062.08 213.238 Q2058.47 209.627 2058.47 203.469 Q2058.47 197.104 2061.9 193.377 Q2065.35 189.627 2071.18 189.627 Q2076.41 189.627 2079.44 193.006 Q2082.5 196.363 2082.5 202.15 M2078.24 200.9 Q2078.19 197.405 2076.27 195.321 Q2074.37 193.238 2071.23 193.238 Q2067.66 193.238 2065.51 195.252 Q2063.38 197.266 2063.05 200.923 L2078.24 200.9 Z\" fill=\"#000000\" fill-rule=\"nonzero\" fill-opacity=\"1\" /><path clip-path=\"url(#clip360)\" d=\"M2104.51 194.233 Q2103.79 193.817 2102.94 193.631 Q2102.1 193.423 2101.09 193.423 Q2097.48 193.423 2095.53 195.784 Q2093.61 198.122 2093.61 202.52 L2093.61 216.178 L2089.33 216.178 L2089.33 190.252 L2093.61 190.252 L2093.61 194.28 Q2094.95 191.918 2097.1 190.784 Q2099.26 189.627 2102.34 189.627 Q2102.78 189.627 2103.31 189.696 Q2103.84 189.743 2104.49 189.858 L2104.51 194.233 Z\" fill=\"#000000\" fill-rule=\"nonzero\" fill-opacity=\"1\" /><path clip-path=\"url(#clip360)\" d=\"M2113.19 182.891 L2113.19 190.252 L2121.97 190.252 L2121.97 193.562 L2113.19 193.562 L2113.19 207.636 Q2113.19 210.807 2114.05 211.71 Q2114.93 212.613 2117.59 212.613 L2121.97 212.613 L2121.97 216.178 L2117.59 216.178 Q2112.66 216.178 2110.79 214.349 Q2108.91 212.497 2108.91 207.636 L2108.91 193.562 L2105.79 193.562 L2105.79 190.252 L2108.91 190.252 L2108.91 182.891 L2113.19 182.891 Z\" fill=\"#000000\" fill-rule=\"nonzero\" fill-opacity=\"1\" /><path clip-path=\"url(#clip360)\" d=\"M2127.13 205.946 L2127.13 190.252 L2131.39 190.252 L2131.39 205.784 Q2131.39 209.465 2132.82 211.316 Q2134.26 213.145 2137.13 213.145 Q2140.58 213.145 2142.57 210.946 Q2144.58 208.747 2144.58 204.951 L2144.58 190.252 L2148.84 190.252 L2148.84 216.178 L2144.58 216.178 L2144.58 212.196 Q2143.03 214.557 2140.97 215.715 Q2138.93 216.849 2136.22 216.849 Q2131.76 216.849 2129.44 214.071 Q2127.13 211.293 2127.13 205.946 M2137.85 189.627 L2137.85 189.627 Z\" fill=\"#000000\" fill-rule=\"nonzero\" fill-opacity=\"1\" /><path clip-path=\"url(#clip360)\" d=\"M2172.64 194.233 Q2171.92 193.817 2171.06 193.631 Q2170.23 193.423 2169.21 193.423 Q2165.6 193.423 2163.66 195.784 Q2161.73 198.122 2161.73 202.52 L2161.73 216.178 L2157.45 216.178 L2157.45 190.252 L2161.73 190.252 L2161.73 194.28 Q2163.08 191.918 2165.23 190.784 Q2167.38 189.627 2170.46 189.627 Q2170.9 189.627 2171.43 189.696 Q2171.97 189.743 2172.61 189.858 L2172.64 194.233 Z\" fill=\"#000000\" fill-rule=\"nonzero\" fill-opacity=\"1\" /><path clip-path=\"url(#clip360)\" d=\"M2195.72 203.238 Q2195.72 198.539 2193.77 195.877 Q2191.85 193.192 2188.47 193.192 Q2185.09 193.192 2183.15 195.877 Q2181.22 198.539 2181.22 203.238 Q2181.22 207.937 2183.15 210.622 Q2185.09 213.284 2188.47 213.284 Q2191.85 213.284 2193.77 210.622 Q2195.72 207.937 2195.72 203.238 M2181.22 194.187 Q2182.57 191.872 2184.6 190.761 Q2186.66 189.627 2189.51 189.627 Q2194.23 189.627 2197.17 193.377 Q2200.14 197.127 2200.14 203.238 Q2200.14 209.349 2197.17 213.099 Q2194.23 216.849 2189.51 216.849 Q2186.66 216.849 2184.6 215.738 Q2182.57 214.603 2181.22 212.289 L2181.22 216.178 L2176.94 216.178 L2176.94 180.159 L2181.22 180.159 L2181.22 194.187 Z\" fill=\"#000000\" fill-rule=\"nonzero\" fill-opacity=\"1\" /><path clip-path=\"url(#clip360)\" d=\"M2229.37 202.15 L2229.37 204.233 L2209.79 204.233 Q2210.07 208.631 2212.43 210.946 Q2214.81 213.238 2219.05 213.238 Q2221.5 213.238 2223.79 212.636 Q2226.11 212.034 2228.38 210.83 L2228.38 214.858 Q2226.09 215.83 2223.68 216.34 Q2221.27 216.849 2218.79 216.849 Q2212.59 216.849 2208.96 213.238 Q2205.34 209.627 2205.34 203.469 Q2205.34 197.104 2208.77 193.377 Q2212.22 189.627 2218.05 189.627 Q2223.28 189.627 2226.32 193.006 Q2229.37 196.363 2229.37 202.15 M2225.11 200.9 Q2225.07 197.405 2223.15 195.321 Q2221.25 193.238 2218.1 193.238 Q2214.53 193.238 2212.38 195.252 Q2210.25 197.266 2209.93 200.923 L2225.11 200.9 Z\" fill=\"#000000\" fill-rule=\"nonzero\" fill-opacity=\"1\" /><path clip-path=\"url(#clip360)\" d=\"M2253.42 194.187 L2253.42 180.159 L2257.68 180.159 L2257.68 216.178 L2253.42 216.178 L2253.42 212.289 Q2252.08 214.603 2250.02 215.738 Q2247.98 216.849 2245.11 216.849 Q2240.41 216.849 2237.45 213.099 Q2234.51 209.349 2234.51 203.238 Q2234.51 197.127 2237.45 193.377 Q2240.41 189.627 2245.11 189.627 Q2247.98 189.627 2250.02 190.761 Q2252.08 191.872 2253.42 194.187 M2238.91 203.238 Q2238.91 207.937 2240.83 210.622 Q2242.78 213.284 2246.15 213.284 Q2249.53 213.284 2251.48 210.622 Q2253.42 207.937 2253.42 203.238 Q2253.42 198.539 2251.48 195.877 Q2249.53 193.192 2246.15 193.192 Q2242.78 193.192 2240.83 195.877 Q2238.91 198.539 2238.91 203.238 Z\" fill=\"#000000\" fill-rule=\"nonzero\" fill-opacity=\"1\" /></svg>\n"
      ]
     },
     "execution_count": 16,
     "metadata": {},
     "output_type": "execute_result"
    }
   ],
   "source": [
    "# TODO: plot the error norm(A*(A\\b) - b) for the perturbed and unperturbed badmatrix(n).\n",
    "# What do you observe?\n",
    "# SOLUTION\n",
    "baderrs = zeros(4)\n",
    "perterrs = zeros(4)\n",
    "\n",
    "for k = 1:4\n",
    "    n = 25k\n",
    "    b = randn(n)\n",
    "    A = badmatrix(n)\n",
    "    Ã = A + 1E-15*randn(n,n)\n",
    "    baderrs[k] = norm(A * (A \\ b) - b)\n",
    "    perterrs[k] = norm(Ã * (Ã \\ b) - b)\n",
    "end\n",
    "\n",
    "plot(25:25:100, baderrs; label=\"bad\", yscale=:log10)\n",
    "plot!(25:25:100, perterrs; label=\"perturbed\")\n",
    "\n",
    "# The perturbation errors stay very small, whilst the unperturbed\n",
    "# errors blow up.\n",
    "# END"
   ]
  },
  {
   "cell_type": "markdown",
   "metadata": {},
   "source": [
    "-----"
   ]
  },
  {
   "cell_type": "markdown",
   "metadata": {},
   "source": [
    "## III.3 Cholesky factorisation"
   ]
  },
  {
   "cell_type": "markdown",
   "metadata": {},
   "source": [
    "The Cholesky factorisation is a special case of LU factorisation for the case\n",
    "when a matrix is symmetric positive definite (SPD). Hidden in the proof that a Cholesky factorisation\n",
    "exists if and only if the matrix is SPD is a simple algorithm for computing it:"
   ]
  },
  {
   "cell_type": "code",
   "execution_count": 1,
   "metadata": {},
   "outputs": [
    {
     "ename": "LoadError",
     "evalue": "UndefVarError: `Symmetric` not defined in `Main`\nSuggestion: check for spelling errors or missing imports.\nHint: a global variable of this name may be made accessible by importing LinearAlgebra in the current active module Main",
     "output_type": "error",
     "traceback": [
      "UndefVarError: `Symmetric` not defined in `Main`\nSuggestion: check for spelling errors or missing imports.\nHint: a global variable of this name may be made accessible by importing LinearAlgebra in the current active module Main",
      "",
      "Stacktrace:",
      " [1] top-level scope",
      "   @ In[1]:28"
     ]
    }
   ],
   "source": [
    "function mycholesky(A)\n",
    "    T = eltype(A)\n",
    "    m,n = size(A)\n",
    "    if n ≠ m\n",
    "        error(\"Matrix must be square\")\n",
    "    end\n",
    "    if A ≠ A'\n",
    "        error(\"Matrix must be symmetric\")\n",
    "    end\n",
    "\n",
    "    L = LowerTriangular(zeros(T,n,n)) # a lower triangular matrix that at the end will satisfy L'L\n",
    "    Aⱼ = copy(A)\n",
    "    for j = 1:n\n",
    "        α,𝐯 = Aⱼ[1,1],Aⱼ[2:end,1]\n",
    "        if α ≤ 0\n",
    "            error(\"Matrix is not SPD\") # this error would be a proof that the matrix is not SPD, if done rigorously\n",
    "        end\n",
    "        L[j,j] = sqrt(α)\n",
    "        L[j+1:end,j] = 𝐯/sqrt(α)\n",
    "\n",
    "        # induction part\n",
    "        K = Aⱼ[2:end,2:end] # drop first row and column of A\n",
    "        Aⱼ = K - 𝐯*𝐯'/α\n",
    "    end\n",
    "    L\n",
    "end\n",
    "\n",
    "A = Symmetric(rand(100,100) + 100I) # Symmetric takes in a matrix and produces a symmetric version using the upper-triangular part.\n",
    "L = mycholesky(A)\n",
    "@test A ≈ L*L'"
   ]
  },
  {
   "cell_type": "markdown",
   "metadata": {},
   "source": [
    "With exact arithmetic algorithm succeeds if and only if $A$ is symmetric positive definite.\n",
    "With floating point errors this is not necessarily the case. (One could run it with interval arithmetic\n",
    "but that would only prove a matrix is SPD if the algorithm succeeded, failure could be caused by\n",
    "rounding.)"
   ]
  },
  {
   "cell_type": "markdown",
   "metadata": {},
   "source": [
    "In practice one would normally use the inbuilt `cholesky` function as follows:"
   ]
  },
  {
   "cell_type": "code",
   "execution_count": 18,
   "metadata": {},
   "outputs": [
    {
     "data": {
      "text/plain": [
       "\u001b[32m\u001b[1mTest Passed\u001b[22m\u001b[39m"
      ]
     },
     "execution_count": 18,
     "metadata": {},
     "output_type": "execute_result"
    }
   ],
   "source": [
    "L̃ = cholesky(A).L\n",
    "@test L̃ ≈ L # our implementation matches (approximately) the high-performance implementation."
   ]
  },
  {
   "cell_type": "markdown",
   "metadata": {},
   "source": [
    "In the following problem we consider a Cholesky factorisation for tridiagonal matrices. Since we are assuming the\n",
    "matrix is symmetric, we will use a special type `SymTridiagonal` that captures the symmetry.\n",
    "In particular, `SymTridiagonal(dv, ev) == Tridiagonal(ev, dv, ev)`."
   ]
  },
  {
   "cell_type": "markdown",
   "metadata": {},
   "source": [
    "-----"
   ]
  },
  {
   "cell_type": "markdown",
   "metadata": {},
   "source": [
    "**Problem 3** Use `mycholesky` or `cholesky` to deduce if the following matrices are SPD.\n",
    "$$\n",
    "\\begin{bmatrix} 1 & -1  \\\\\n",
    "-1 & 3\n",
    "\\end{bmatrix}, \\begin{bmatrix} 1 & 2 & 2  \\\\\n",
    "2 & 1 & 2\\\\\n",
    "2 & 2 & 1\n",
    "\\end{bmatrix}, \\begin{bmatrix} 3 & 2 & 1  \\\\\n",
    "2 & 4 & 2\\\\\n",
    "1 & 2 & 5\n",
    "\\end{bmatrix},\n",
    "\\begin{bmatrix} 4 & 2 & 2 & 1  \\\\\n",
    "2 & 4 & 2 & 2\\\\\n",
    "2 & 2 & 4 & 2 \\\\\n",
    "1 & 2 & 2 & 4\n",
    "\\end{bmatrix}\n",
    "$$"
   ]
  },
  {
   "cell_type": "code",
   "execution_count": 19,
   "metadata": {},
   "outputs": [
    {
     "ename": "LoadError",
     "evalue": "PosDefException: matrix is not positive definite; Factorization failed.",
     "output_type": "error",
     "traceback": [
      "PosDefException: matrix is not positive definite; Factorization failed.",
      "",
      "Stacktrace:",
      "  [1] checkpositivedefinite",
      "    @ /Applications/Julia-1.11.app/Contents/Resources/julia/share/julia/stdlib/v1.11/LinearAlgebra/src/factorization.jl:68 [inlined]",
      "  [2] #cholesky!#163",
      "    @ /Applications/Julia-1.11.app/Contents/Resources/julia/share/julia/stdlib/v1.11/LinearAlgebra/src/cholesky.jl:269 [inlined]",
      "  [3] cholesky!",
      "    @ /Applications/Julia-1.11.app/Contents/Resources/julia/share/julia/stdlib/v1.11/LinearAlgebra/src/cholesky.jl:267 [inlined]",
      "  [4] #cholesky!#164",
      "    @ /Applications/Julia-1.11.app/Contents/Resources/julia/share/julia/stdlib/v1.11/LinearAlgebra/src/cholesky.jl:301 [inlined]",
      "  [5] cholesky! (repeats 2 times)",
      "    @ /Applications/Julia-1.11.app/Contents/Resources/julia/share/julia/stdlib/v1.11/LinearAlgebra/src/cholesky.jl:295 [inlined]",
      "  [6] _cholesky",
      "    @ /Applications/Julia-1.11.app/Contents/Resources/julia/share/julia/stdlib/v1.11/LinearAlgebra/src/cholesky.jl:411 [inlined]",
      "  [7] cholesky(A::Matrix{Int64}, ::NoPivot; check::Bool)",
      "    @ LinearAlgebra /Applications/Julia-1.11.app/Contents/Resources/julia/share/julia/stdlib/v1.11/LinearAlgebra/src/cholesky.jl:401",
      "  [8] cholesky",
      "    @ /Applications/Julia-1.11.app/Contents/Resources/julia/share/julia/stdlib/v1.11/LinearAlgebra/src/cholesky.jl:401 [inlined]",
      "  [9] cholesky(A::Matrix{Int64})",
      "    @ LinearAlgebra /Applications/Julia-1.11.app/Contents/Resources/julia/share/julia/stdlib/v1.11/LinearAlgebra/src/cholesky.jl:401",
      " [10] top-level scope",
      "    @ In[19]:4"
     ]
    }
   ],
   "source": [
    "# TODO: Check if you got PS5 Q1 correct using a computer to do the Cholesky factorisation.\n",
    "# SOLUTION\n",
    "cholesky([1 -1; -1 3]) # succeeds so is SPD\n",
    "cholesky([1 2 2; 2 1 2; 2 2 1]) # throws an error so not SPD\n",
    "cholesky([3 2 1; 2 4 2; 1 2 5]) # succeeds so is SPD\n",
    "cholesky([4 2 2 1; 2 4 2 2; 2 2 4 2; 1 2 2 4]) # succeeds so is SPD\n",
    "# END"
   ]
  },
  {
   "cell_type": "markdown",
   "metadata": {},
   "source": [
    "**Problem 4** Complete the following\n",
    "implementation of `mycholesky` to return a `Bidiagonal` cholesky factor in $O(n)$ operations."
   ]
  },
  {
   "cell_type": "code",
   "execution_count": 18,
   "metadata": {},
   "outputs": [
    {
     "data": {
      "text/plain": [
       "\u001b[32m\u001b[1mTest Passed\u001b[22m\u001b[39m"
      ]
     },
     "metadata": {},
     "output_type": "display_data"
    }
   ],
   "source": [
    "# return a Bidiagonal L such that L'L == A (up to machine precision)\n",
    "# You are allowed to change A\n",
    "function mycholesky(A::SymTridiagonal)\n",
    "    d = A.dv # diagonal entries of A\n",
    "    u = A.ev # sub/super-diagonal entries of A\n",
    "    T = float(eltype(A)) # return type, make float in case A has Ints\n",
    "    n = length(d)\n",
    "    ld = zeros(T, n) # diagonal entries of L\n",
    "    ll = zeros(T, n-1) # sub-diagonal entries of L\n",
    "\n",
    "    # TODO: populate the diagonal entries ld and the sub-diagonal entries ll\n",
    "    # of L so that L*L' ≈ A\n",
    "    # SOLUTION\n",
    "    ld[1] = sqrt(d[1])\n",
    "    for k = 1:n-1\n",
    "        ll[k] = u[k]/ld[k]\n",
    "        ld[k+1] = sqrt(d[k+1]-ll[k]^2)\n",
    "    end\n",
    "    # END\n",
    "\n",
    "    Bidiagonal(ld, ll, :L)\n",
    "end\n",
    "\n",
    "n = 1000\n",
    "A = SymTridiagonal(2*ones(n),-ones(n-1))\n",
    "L = mycholesky(A)\n",
    "@test L isa Bidiagonal\n",
    "@test L*L' ≈ A"
   ]
  },
  {
   "cell_type": "markdown",
   "metadata": {},
   "source": [
    "---\n",
    "\n",
    "*This notebook was generated using [Literate.jl](https://github.com/fredrikekre/Literate.jl).*"
   ]
  }
 ],
 "metadata": {
  "kernelspec": {
   "display_name": "Julia 1.11.2",
   "language": "julia",
   "name": "julia-1.11"
  },
  "language_info": {
   "file_extension": ".jl",
   "mimetype": "application/julia",
   "name": "julia",
   "version": "1.11.2"
  }
 },
 "nbformat": 4,
 "nbformat_minor": 4
}
