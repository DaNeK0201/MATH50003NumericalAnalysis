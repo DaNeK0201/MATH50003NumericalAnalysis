{
 "cells": [
  {
   "cell_type": "markdown",
   "metadata": {},
   "source": [
    "# MATH50003 Numerical Analysis (2022–2023)\n",
    "# Computer-based Exam"
   ]
  },
  {
   "cell_type": "markdown",
   "metadata": {},
   "source": [
    "Instructions for uploading and downloading:"
   ]
  },
  {
   "cell_type": "markdown",
   "metadata": {},
   "source": [
    "1. Rename the file to include your CID.\n",
    "2. You have 15 mins to download the exam beginning at 12:00 on 17 March.\n",
    "2. You have 1 hour to complete the exam beginning at 12:15 on 17 March.\n",
    "3. Deadline is 13:30 on 17 March to upload the completed Jupyter notebook (`.ipynb`) to Blackboard.\n",
    "Please inform an invigilator if you experience difficulty.\n",
    "5. Once uploaded, re-download the file before the final submission time to confirm it is correct.\n",
    "You are allowed to upload additional submissions but only the last valid upload before 13:15 will be used\n",
    "unless permission is given by an invigilator to upload late.\n",
    "6. If uploading via Blackboard fails you may e-mail the UG Office after consulting with\n",
    "an invigilator: maths.exams@imperial.ac.uk"
   ]
  },
  {
   "cell_type": "markdown",
   "metadata": {},
   "source": [
    "Instructions for the exam:"
   ]
  },
  {
   "cell_type": "markdown",
   "metadata": {},
   "source": [
    "1. For each problem, replace the `# TODO` to complete the question.\n",
    "The unit tests are provided to help you test your answers.\n",
    "3. Problems are marked A/B/C to indicate difficulty (\"A\" being most difficult).\n",
    "Partial credit will be awarded for reasonable attempts even if the tests\n",
    "are not passed. A and B questions are worth 12 marks while C questions are worth 10 marks.\n",
    "3. If you have technical queries please email s.olver@imperial.ac.uk. Any other queries\n",
    "should be discussed with an invigilator or sent to the UG Office: maths.exams@imperial.ac.uk\n",
    "4. You may use existing code from anywhere\n",
    "but you are **REQUIRED** to cite the source if it is not part of the module material,\n",
    "by including a weblink in a comment.\n",
    "5. You **MUST NOT** ask for help online or\n",
    "communicate with others within or outside the module.\n",
    "Failure to follow these rules will be considered misconduct.\n",
    "6. You **MUST NOT** use handwritten notes but may use provided paper.\n",
    "7. **NO USAGE of AI tools** such as ChatGPT or GitHub Co-Pilot."
   ]
  },
  {
   "cell_type": "markdown",
   "metadata": {},
   "source": [
    "You should **ONLY USE** the following packages:"
   ]
  },
  {
   "cell_type": "code",
   "execution_count": 37,
   "metadata": {},
   "outputs": [],
   "source": [
    "using LinearAlgebra, SetRounding, Test"
   ]
  },
  {
   "cell_type": "markdown",
   "metadata": {},
   "source": [
    "**WARNING** It may be necessary to restart the kernel if issues arise. Remember to reload the packages\n",
    "when you do so."
   ]
  },
  {
   "cell_type": "markdown",
   "metadata": {},
   "source": [
    "## I.1 Integers"
   ]
  },
  {
   "cell_type": "markdown",
   "metadata": {},
   "source": [
    "**Problem 1 (C)** Complete the following function that returns an 8-bit signed integer whose bits are `11111110`."
   ]
  },
  {
   "cell_type": "code",
   "execution_count": 38,
   "metadata": {},
   "outputs": [
    {
     "data": {
      "text/plain": [
       "\u001b[32m\u001b[1mTest Passed\u001b[22m\u001b[39m"
      ]
     },
     "execution_count": 38,
     "metadata": {},
     "output_type": "execute_result"
    }
   ],
   "source": [
    "function bits11111110()\n",
    "    # TODO: return an `Int8` whose bits are all 11111110\n",
    "    reinterpret(Int8, 0b11111110)\n",
    "end\n",
    "\n",
    "@test bits11111110() isa Int8\n",
    "@test bitstring(bits11111110()) == \"11111110\""
   ]
  },
  {
   "cell_type": "markdown",
   "metadata": {},
   "source": [
    "## I.2 Reals"
   ]
  },
  {
   "cell_type": "markdown",
   "metadata": {},
   "source": [
    "**Problem 2 (A)**\n",
    "An alternative to interval arithmetic is ball arithmetic, which represents an interval by a centre $x$\n",
    "and a neighbourhood bounded by $b$, that is, it represents the interval $A = \\{x + δ : |δ| ≤ b \\} = [x-b,x+b]$\n",
    "by storing $x$ and $b$.\n",
    "Complete the following implementation of ball arithmetic (`+` and `*`)\n",
    "where the centre arithmetic is the default round-to-nearest\n",
    "floating point arithmetic but the returned bounds are determined to be rigorously correct, and sharp so that the tests pass.\n",
    "You may assume numbers are in the normalised range and should use the following bound for rounding (which is\n",
    "a slight variant of the \"round bound\"):\n",
    "$x = {\\rm fl}(x) + δ_a$ where $|δ_a| ≤ |{\\rm fl}(x)| ϵ_{\\rm m}/2$.\n",
    "Hint: Recall that `eps()` returns $ϵ_{\\rm m}$. Use `setrounding` to ensure that the bounds are rounded up appropriately.\n",
    "To deduce the bound for addition one would want to deduce the bounds by writing\n",
    "$$\n",
    "(x + δ_x) + (y + δ_y) = {\\rm fl}(x+y) + δ_a + δ_x + δ_y\n",
    "$$\n",
    "where the bounds on the errors are rounded up."
   ]
  },
  {
   "cell_type": "code",
   "execution_count": 43,
   "metadata": {},
   "outputs": [
    {
     "name": "stdout",
     "output_type": "stream",
     "text": [
      "7.677078247070334e-56.639133687258437e-16"
     ]
    },
    {
     "data": {
      "text/plain": [
       "\u001b[32m\u001b[1mTest Passed\u001b[22m\u001b[39m"
      ]
     },
     "execution_count": 43,
     "metadata": {},
     "output_type": "execute_result"
    }
   ],
   "source": [
    "struct Ball\n",
    "    x::Float64\n",
    "    b::Float64 # bound on the neighbourhood |δ| ≤ b\n",
    "end\n",
    "\n",
    "import Base: +, *\n",
    "\n",
    "function +(A::Ball, B::Ball)\n",
    "    # TODO: Return a Ball whose centre is `A.x + B.x` (computed with default rounding)\n",
    "    # and whose neighbourhood size precisely equals the bound from rounding the centre\n",
    "    # plus the sum of `A.b + B.b` rounded up.\n",
    "    result = A.x + B.x\n",
    "    err = A.b + B.b + abs(result) * eps() / 2\n",
    "    Ball(result, err)\n",
    "end\n",
    "\n",
    "function *(A::Ball, B::Ball)\n",
    "    # TODO: Return a Ball whose centre is `A.x * B.x` (computed with default rounding)\n",
    "    # where the neighbourhood is deduced from the neighbourhoods of the inputs alongside the\n",
    "    # error in rounding `A.x * B.x`.\n",
    "    result = A.x * B.x\n",
    "    err = setrounding(Float64, RoundUp) do\n",
    "        A.b * abs(B.x) + B.b * abs(A.x) + A.b * B.b + abs(result) * eps() / 2\n",
    "    end\n",
    "    print(err)\n",
    "    Ball(result, err)\n",
    "end\n",
    "\n",
    "\n",
    "\n",
    "@test Ball(2.0^(-5), 2.0^(-10)) + Ball(2.0^(-4), 2.0^(-11)) == Ball(2.0^(-5) + 2.0^(-4), 0.0014648437500000104)\n",
    "@test Ball(2.0^(-5), 2.0^(-10)) * Ball(2.0^(-4), 2.0^(-11)) == Ball(2.0^(-5) * 2.0^(-4), 7.677078247070334e-5)\n",
    "@test (Ball(1.1,0.0) + Ball(1.2,0.0)) * Ball(1.3, 0.0) == Ball((1.1+1.2)*1.3, 6.639133687258437e-16)"
   ]
  },
  {
   "cell_type": "markdown",
   "metadata": {},
   "source": [
    "## I.3 Divided Differences"
   ]
  },
  {
   "cell_type": "markdown",
   "metadata": {},
   "source": [
    "**Problem 3 (C)** Use central differences\n",
    "with an appropriately chosen $h$ to approximate the second derivative of\n",
    "$$\n",
    "f(x) = \\cos(x^2)\n",
    "$$\n",
    "at $x = 0.1$ to 5 digits accuracy. Note you are not required to choose a \"quasi-optimal\"\n",
    "value for $h$, as long as your choice achieves 5 digits of accuracy."
   ]
  },
  {
   "cell_type": "code",
   "execution_count": 44,
   "metadata": {},
   "outputs": [
    {
     "data": {
      "text/plain": [
       "\u001b[32m\u001b[1mTest Passed\u001b[22m\u001b[39m"
      ]
     },
     "execution_count": 44,
     "metadata": {},
     "output_type": "execute_result"
    }
   ],
   "source": [
    "function fd(x)\n",
    "    # TODO: implement a central-difference rule\n",
    "    # to approximate f'(x)\n",
    "    # for f(x) = cos(x^2)\n",
    "    # with step-size h chosen to get sufficient accuracy\n",
    "    h = 1/1000\n",
    "    f = x -> cos(x^2)\n",
    "    (f(x + h) - f(x - h)) / 2h\n",
    "\n",
    "end\n",
    "\n",
    "\n",
    "@test abs(fd(0.1) + 2*0.1*sin(0.1^2)) ≤ 1E-5"
   ]
  },
  {
   "cell_type": "markdown",
   "metadata": {},
   "source": [
    "## I.4 Dual Numbers"
   ]
  },
  {
   "cell_type": "markdown",
   "metadata": {},
   "source": [
    "**Problem 4 (B)** Implement powers of dual numbers to a float $(a+bε)^c$ and\n",
    "to a dual number $(a+bε)^{c+dε}$, in a way that is consistent with a \"dual-extension\",\n",
    "e.g. if $f(x) = x^{3/2}$ or $f(x) = x^x$ then we want to define the power function so that\n",
    "in both cases $f(a + bϵ) = f(a) + bf'(a)ϵ$.\n",
    "Hint: for the second part recall $x^y = \\exp(y \\log x)$ which reduces the problem\n",
    "to single-argument functions where the \"dual-extension\" is easy to define."
   ]
  },
  {
   "cell_type": "code",
   "execution_count": 45,
   "metadata": {},
   "outputs": [
    {
     "data": {
      "text/plain": [
       "\u001b[32m\u001b[1mTest Passed\u001b[22m\u001b[39m"
      ]
     },
     "execution_count": 45,
     "metadata": {},
     "output_type": "execute_result"
    }
   ],
   "source": [
    "# Represents a + b*ε\n",
    "struct Dual\n",
    "    a::Float64\n",
    "    b::Float64\n",
    "end\n",
    "\n",
    "import Base: ^, *, isapprox, exp\n",
    "*(x::Dual, y::Dual) = Dual(x.a*y.a, x.a*y.b + x.b*y.a)\n",
    "isapprox(x::Dual, y::Dual) = x.a ≈ y.a && x.b ≈ y.b # used in tests\n",
    "\n",
    "function ^(x::Dual, c::Real)\n",
    "    # TODO: Implement Dual(a,b)^c returning a Dual whose b-component is consistent\n",
    "    # with differentiation.\n",
    "    Dual(x.a^c, x.b*c*x.a^(c-1))\n",
    "end\n",
    "\n",
    "@test Dual(1.0,2.0)^0.0 == Dual(1.0, 0.0)\n",
    "@test Dual(1.0,2.0)^0.5 == Dual(1.0, 1.0)\n",
    "@test Dual(1.0,2.0)^(-0.5) == Dual(1.0, -1.0)\n",
    "\n",
    "function exp(x::Dual)\n",
    "    Dual(exp(x.a), exp(x.a)*x.b)\n",
    "end\n",
    "\n",
    "function ^(x::Dual, y::Dual)\n",
    "    # TODO: Implement Dual(a,b)^Dual(c,d), returning a `Dual` in a way that is consistent with\n",
    "    # differentiation: i.e. for the function `f(x) = x^x`, `f(Dual(2,1))` should return\n",
    "    # `Dual(f(2), f′(2))` where `f′(x)` denotes the derivative of `f`.\n",
    "    a, b, c, d = x.a, x.b, y.a, y.b\n",
    "    exp(Dual(c * log(a), b * c / a + d * log(a)))\n",
    "end\n",
    "\n",
    "\n",
    "@test Dual(2.0, 1.0) ^ Dual(3.0, 1.0) ≈ Dual(8.0,8*(3/2 + log(2)))"
   ]
  },
  {
   "cell_type": "markdown",
   "metadata": {},
   "source": [
    "## II.2 Orthogonal Matrices"
   ]
  },
  {
   "cell_type": "markdown",
   "metadata": {},
   "source": [
    "**Problem 5 (A)** Complete the definition of `BidiagReflections` which supports a sequence of reflections,\n",
    "that is,\n",
    "$$\n",
    "Q = Q_{𝐯_1} ⋯ Q_{𝐯_n}\n",
    "$$\n",
    "where the vectors are stored as a matrix $V ∈ ℝ^{n × n}$ whose $j$-th column is $𝐯_j ∈ ℝ^n$, and\n",
    "$$\n",
    "Q_{𝐯_j} = I - 2 𝐯_j 𝐯_j^⊤\n",
    "$$\n",
    "is a reflection. In this case, `V` is a lower bidiagonal matrix (that is, $𝐯_j$ is zero apart from the $j$ and $(j+1)th$ entry).\n",
    "Multiplication of `Q` times a vector must take only $O(n)$ operations.\n",
    "Hint: you shouldn't use the `Reflection` type from the lab solutions as that would increase the\n",
    "cost to $O(n^2)$ operations. Note also the tests do not verify that the solution takes only $O(n)$ operations\n",
    "so do not depend on the tests passing for correctness."
   ]
  },
  {
   "cell_type": "code",
   "execution_count": 46,
   "metadata": {},
   "outputs": [
    {
     "name": "stdout",
     "output_type": "stream",
     "text": [
      "[-0.6990647465895394 -0.34656878317453715 -0.5909023276750288 -0.20501950578629452; 0.7150583752923275 -0.33881711893341193 -0.5776856830555122 -0.20043385800469263; 0.0 -0.874695969149614 0.4578940724383034 0.15887095385652836; 0.0 0.0 -0.3277906483821418 0.9447503854633852]"
     ]
    },
    {
     "data": {
      "text/plain": [
       "\u001b[32m\u001b[1mTest Passed\u001b[22m\u001b[39m"
      ]
     },
     "execution_count": 46,
     "metadata": {},
     "output_type": "execute_result"
    }
   ],
   "source": [
    "struct BidiagReflections <: AbstractMatrix{Float64}\n",
    "    V::Bidiagonal\n",
    "end\n",
    "\n",
    "import Base: size, *, getindex\n",
    "size(Q::BidiagReflections) = (size(Q.V,1), size(Q.V,1))\n",
    "\n",
    "\n",
    "function *(Q::BidiagReflections, x::AbstractVector)\n",
    "    if Q.V.uplo ≠ 'L'\n",
    "        error(\"only supports lower bidiagonal\")\n",
    "    end\n",
    "    m,n = size(Q.V) # m == n by definition of bidiag\n",
    "    for j = 1:n\n",
    "        if !(norm(Q.V[j:min(j+1,n),j]) ≈ 1)\n",
    "            error(\"Columns of Q.V must be normalised\")\n",
    "        end\n",
    "    end\n",
    "\n",
    "    # TODO: Apply Q in O(n) operations by applying\n",
    "    # the reflection corresponding to each column of Q.V to x\n",
    "    # in O(1) operations\n",
    "    \n",
    "    y = copy(x)\n",
    "    for i in n:-1:1\n",
    "        # elements i and i + 1\n",
    "        dotproduct = Q.V[i, i] * y[i]\n",
    "        if i == n\n",
    "            y[i] -= 2 * dotproduct * Q.V[i, i]\n",
    "        else \n",
    "            dotproduct += Q.V[i + 1, i] * y[i + 1]\n",
    "            y[i] -= 2 * dotproduct * Q.V[i, i]\n",
    "            y[i + 1] -= 2 * dotproduct * Q.V[i + 1, i]\n",
    "        end\n",
    "    end\n",
    "    y\n",
    "\n",
    "end\n",
    "\n",
    "function getindex(Q::BidiagReflections, k::Int, j::Int)\n",
    "    # TODO: Return Q[k,j] in O(n) operations (hint: use *)\n",
    "    n = size(Q)[1]\n",
    "    ej = zeros(eltype(Q), n)\n",
    "    ej[j] = 1\n",
    "    # note, must be careful to ensure that ej is a VECTOR\n",
    "    # not a MATRIX, otherwise * above will not be used\n",
    "    Qj = Q * ej\n",
    "    Qj[k]\n",
    "end\n",
    "\n",
    "Y = Bidiagonal(randn(4,4), :L)\n",
    "V = Y * Diagonal([1/norm(Y[:,j]) for j=1:4])\n",
    "Q = BidiagReflections(V)\n",
    "print(Q)\n",
    "@test Q ≈ (I - 2V[:,1]*V[:,1]')*(I - 2V[:,2]*V[:,2]')*(I - 2V[:,3]*V[:,3]')*(I - 2V[:,4]*V[:,4]')\n",
    "@test Q'Q ≈ I"
   ]
  },
  {
   "cell_type": "markdown",
   "metadata": {},
   "source": [
    "## II.3 QR Factorisation"
   ]
  },
  {
   "cell_type": "markdown",
   "metadata": {},
   "source": [
    "**Problem 6 (C)** Approximate $\\exp x$ by a degree $n$ polynomial by interpolating\n",
    "  when sampled at $n$ evenly spaced points in $[0,1]$,\n",
    "that is, $x_k = (k-1)/(n-1)$ for $k = 1,…,n$,\n",
    "returning the coefficients in the monomial basis."
   ]
  },
  {
   "cell_type": "code",
   "execution_count": 47,
   "metadata": {},
   "outputs": [
    {
     "data": {
      "text/plain": [
       "\u001b[32m\u001b[1mTest Passed\u001b[22m\u001b[39m"
      ]
     },
     "execution_count": 47,
     "metadata": {},
     "output_type": "execute_result"
    }
   ],
   "source": [
    "function expinterp(n)\n",
    "    # TODO: return the coefficients [c_0,…,c_{n-1}] of the polynomial\n",
    "    # c_0 + ⋯ + c_{n-1}*x^{n-1} that equals exp(x) at x_k defined above.\n",
    "    f = x -> exp(x)\n",
    "    \n",
    "    𝐱 = range(0, 1; length=n) # evenly spaced points (BAD for interpolation)\n",
    "    V =  [𝐱[j]^k for j = 1:n, k = 0:n-1] # Vandermonde matrix, also can be written as x .^ (0:n)'\n",
    "    𝐟 = f.(𝐱) # evaluate f at x[k], equivalent to [f(x[k]) for k = 1:n]\n",
    "    𝐜 = V \\ 𝐟 # invert the Vandermonde matrix and determine the coefficients\n",
    "\n",
    "end\n",
    "\n",
    "n = 22\n",
    "c = expinterp(n)\n",
    "x = 0.1\n",
    "@test c'*[x^k for k=0:n-1] ≈ exp(x)"
   ]
  },
  {
   "cell_type": "markdown",
   "metadata": {},
   "source": [
    "## II.4 PLU and Cholesky"
   ]
  },
  {
   "cell_type": "markdown",
   "metadata": {},
   "source": [
    "**Problem 7 (B)** Implement `reversecholesky(A)` that returns an upper-triangular matrix `U` such that `U*U' ≈ A`.\n",
    "You may assume the input is symmetric positive definite and has `Float64` values. You must not use the inbuilt `cholesky`\n",
    "function or in any other way reduce the problem to a standard Cholesky decomposition."
   ]
  },
  {
   "cell_type": "code",
   "execution_count": 56,
   "metadata": {},
   "outputs": [
    {
     "ename": "LoadError",
     "evalue": "ArgumentError: cannot set index in the lower triangular part (3, 2) of an UpperTriangular matrix to a nonzero value (0.7071067811865475)",
     "output_type": "error",
     "traceback": [
      "ArgumentError: cannot set index in the lower triangular part (3, 2) of an UpperTriangular matrix to a nonzero value (0.7071067811865475)",
      "",
      "Stacktrace:",
      " [1] throw_nonzeroerror(T::Type, x::Any, i::Int64, j::Int64)",
      "   @ LinearAlgebra /Applications/Julia-1.11.app/Contents/Resources/julia/share/julia/stdlib/v1.11/LinearAlgebra/src/triangular.jl:295",
      " [2] setindex!",
      "   @ /Applications/Julia-1.11.app/Contents/Resources/julia/share/julia/stdlib/v1.11/LinearAlgebra/src/triangular.jl:306 [inlined]",
      " [3] macro expansion",
      "   @ ./multidimensional.jl:981 [inlined]",
      " [4] macro expansion",
      "   @ ./cartesian.jl:64 [inlined]",
      " [5] _unsafe_setindex!(::IndexCartesian, ::UpperTriangular{Float64, Matrix{Float64}}, ::Vector{Float64}, ::Int64, ::UnitRange{Int64})",
      "   @ Base ./multidimensional.jl:979",
      " [6] _setindex!",
      "   @ ./multidimensional.jl:967 [inlined]",
      " [7] setindex!",
      "   @ ./abstractarray.jl:1413 [inlined]",
      " [8] reversecholesky(A::Matrix{Int64})",
      "   @ Main ./In[56]:27",
      " [9] top-level scope",
      "   @ In[56]:38"
     ]
    }
   ],
   "source": [
    "function reversecholesky(A)\n",
    "    T = eltype(A)\n",
    "    n,m = size(A)\n",
    "    if n ≠ m\n",
    "        error(\"Matrix must be square\")\n",
    "    end\n",
    "    if A ≠ A'\n",
    "        error(\"Matrix must be symmetric\")\n",
    "    end\n",
    "    U = UpperTriangular(zeros(n,n))\n",
    "    # TODO: populate U so that U'U ≈ A\n",
    "    \n",
    "    if n ≠ m\n",
    "        error(\"Matrix must be square\")\n",
    "    end\n",
    "    if A ≠ A'\n",
    "        error(\"Matrix must be symmetric\")\n",
    "    end\n",
    "\n",
    "    Aⱼ = copy(A)\n",
    "    for j = n:-1:1\n",
    "        α,𝐯 = Aⱼ[1,1],Aⱼ[1:j-1, j]\n",
    "        if α ≤ 0\n",
    "            error(\"Matrix is not SPD\") # this error would be a proof that the matrix is not SPD, if done rigorously\n",
    "        end\n",
    "        U[j,j] = sqrt(α)\n",
    "        U[j, 1:j-1] = 𝐯/sqrt(α)\n",
    "\n",
    "        # induction part\n",
    "        K = Aⱼ[2:end,2:end] # drop first row and column of A\n",
    "        Aⱼ = K - 𝐯*𝐯'/α\n",
    "    end\n",
    "    \n",
    "    U\n",
    "end\n",
    "\n",
    "A = [2 1 0; 1 2 1; 0 1 2]\n",
    "U = reversecholesky(A)\n",
    "@test U*U' ≈ A"
   ]
  },
  {
   "cell_type": "markdown",
   "metadata": {},
   "source": [
    "## II.6 Singular Value Decomposition"
   ]
  },
  {
   "cell_type": "markdown",
   "metadata": {},
   "source": [
    "**Problem 8 (B)** Implement `issvdfactors(U, σ, V)` which checks if the inputs satisfy the\n",
    "conditions of a SVD, permitting small errors due to round-off errors.\n",
    "Use the definition of the SVD as defined in notes/lectures, where the length of `σ` is equal to the rank of the\n",
    "corresponding matrix. Hint: when checking if a matrix `A` equals the identity matrix (up-to-roundoff errors)\n",
    "a simple way to check is that `A ≈ I` or equivalently `isapprox(A, I)`."
   ]
  },
  {
   "cell_type": "code",
   "execution_count": 49,
   "metadata": {},
   "outputs": [
    {
     "name": "stdout",
     "output_type": "stream",
     "text": [
      "\u001b[91m\u001b[1mError During Test\u001b[22m\u001b[39m at \u001b[39m\u001b[1mIn[49]:11\u001b[22m\n",
      "  Test threw exception\n",
      "  Expression: !(issvdfactors(U, [σ[1:2]; 0], V))\n",
      "  MethodError: no method matching !(::Nothing)\n",
      "  The function `!` exists, but no method is defined for this combination of argument types.\n",
      "  \n",
      "  \u001b[0mClosest candidates are:\n",
      "  \u001b[0m  !(\u001b[91m::Missing\u001b[39m)\n",
      "  \u001b[0m\u001b[90m   @\u001b[39m \u001b[90mBase\u001b[39m \u001b[90m\u001b[4mmissing.jl:101\u001b[24m\u001b[39m\n",
      "  \u001b[0m  !(\u001b[91m::Bool\u001b[39m)\n",
      "  \u001b[0m\u001b[90m   @\u001b[39m \u001b[90mBase\u001b[39m \u001b[90m\u001b[4mbool.jl:35\u001b[24m\u001b[39m\n",
      "  \u001b[0m  !(\u001b[91m::ComposedFunction{typeof(!)}\u001b[39m)\n",
      "  \u001b[0m\u001b[90m   @\u001b[39m \u001b[90mBase\u001b[39m \u001b[90m\u001b[4moperators.jl:1108\u001b[24m\u001b[39m\n",
      "  \u001b[0m  ...\n",
      "  \n",
      "  Stacktrace:\n",
      "   [1] \u001b[0m\u001b[1mmacro expansion\u001b[22m\n",
      "  \u001b[90m   @\u001b[39m \u001b[90m\u001b[4mIn[49]:11\u001b[24m\u001b[39m\u001b[90m [inlined]\u001b[39m\n",
      "   [2] \u001b[0m\u001b[1mmacro expansion\u001b[22m\n",
      "  \u001b[90m   @\u001b[39m \u001b[90m/Applications/Julia-1.11.app/Contents/Resources/julia/share/julia/stdlib/v1.11/Test/src/\u001b[39m\u001b[90m\u001b[4mTest.jl:676\u001b[24m\u001b[39m\u001b[90m [inlined]\u001b[39m\n",
      "   [3] top-level scope\n",
      "  \u001b[90m   @\u001b[39m \u001b[90m\u001b[4mIn[49]:11\u001b[24m\u001b[39m\n"
     ]
    },
    {
     "ename": "LoadError",
     "evalue": "\u001b[91mThere was an error during testing\u001b[39m",
     "output_type": "error",
     "traceback": [
      "\u001b[91mThere was an error during testing\u001b[39m",
      "",
      "Stacktrace:",
      " [1] record(ts::Test.FallbackTestSet, t::Union{Test.Error, Test.Fail})",
      "   @ Test /Applications/Julia-1.11.app/Contents/Resources/julia/share/julia/stdlib/v1.11/Test/src/Test.jl:1026",
      " [2] do_test(result::Test.ExecutionResult, orig_expr::Any)",
      "   @ Test /Applications/Julia-1.11.app/Contents/Resources/julia/share/julia/stdlib/v1.11/Test/src/Test.jl:712",
      " [3] macro expansion",
      "   @ /Applications/Julia-1.11.app/Contents/Resources/julia/share/julia/stdlib/v1.11/Test/src/Test.jl:679 [inlined]",
      " [4] top-level scope",
      "   @ In[49]:11"
     ]
    }
   ],
   "source": [
    "function issvdfactors(U::AbstractMatrix, σ::AbstractVector, V::AbstractMatrix)\n",
    "    # TODO: return `true` if the inputs are in the correct format for an SVD. Otherwise return `false`\n",
    "\n",
    "end\n",
    "\n",
    "A = [1 2 3;\n",
    "     4 5 6;\n",
    "     7 8 9]\n",
    "\n",
    "U, σ, V = svd(A)\n",
    "@test !issvdfactors(U, [σ[1:2]; 0], V)\n",
    "@test issvdfactors(U[:,1:2], σ[1:2], V[:,1:2])\n",
    "@test !issvdfactors(U[:,2:-1:1], σ[2:-1:1], V[:,2:-1:1])"
   ]
  },
  {
   "cell_type": "markdown",
   "metadata": {},
   "source": [
    "## II.7 Condition Numbers"
   ]
  },
  {
   "cell_type": "markdown",
   "metadata": {},
   "source": [
    "**Problem 9 (C)** Implement the following `matcond(A)` function that is able to compute the\n",
    "2-norm condition number of `A`. You must not use the inbuilt `cond`\n",
    "or `opnorm` functions, but may use the `svdvals` function."
   ]
  },
  {
   "cell_type": "code",
   "execution_count": 50,
   "metadata": {},
   "outputs": [
    {
     "name": "stdout",
     "output_type": "stream",
     "text": [
      "\u001b[91m\u001b[1mError During Test\u001b[22m\u001b[39m at \u001b[39m\u001b[1mIn[50]:9\u001b[22m\n",
      "  Test threw exception\n",
      "  Expression: matcond(A) ≈ 120.50662309164431\n",
      "  MethodError: no method matching isapprox(::Nothing, ::Float64)\n",
      "  The function `isapprox` exists, but no method is defined for this combination of argument types.\n",
      "  \n",
      "  \u001b[0mClosest candidates are:\n",
      "  \u001b[0m  isapprox(\u001b[91m::Missing\u001b[39m, ::Any; kwargs...)\n",
      "  \u001b[0m\u001b[90m   @\u001b[39m \u001b[90mBase\u001b[39m \u001b[90m\u001b[4mmissing.jl:90\u001b[24m\u001b[39m\n",
      "  \u001b[0m  isapprox(::Any, \u001b[91m::Missing\u001b[39m; kwargs...)\n",
      "  \u001b[0m\u001b[90m   @\u001b[39m \u001b[90mBase\u001b[39m \u001b[90m\u001b[4mmissing.jl:91\u001b[24m\u001b[39m\n",
      "  \u001b[0m  isapprox(\u001b[91m::Number\u001b[39m, ::Number; atol, rtol, nans, norm)\n",
      "  \u001b[0m\u001b[90m   @\u001b[39m \u001b[90mBase\u001b[39m \u001b[90m\u001b[4mfloatfuncs.jl:220\u001b[24m\u001b[39m\n",
      "  \u001b[0m  ...\n",
      "  \n",
      "  Stacktrace:\n",
      "   [1] \u001b[0m\u001b[1meval_test\u001b[22m\u001b[0m\u001b[1m(\u001b[22m\u001b[90mevaluated\u001b[39m::\u001b[0mExpr, \u001b[90mquoted\u001b[39m::\u001b[0mExpr, \u001b[90msource\u001b[39m::\u001b[0mLineNumberNode, \u001b[90mnegate\u001b[39m::\u001b[0mBool\u001b[0m\u001b[1m)\u001b[22m\n",
      "  \u001b[90m   @\u001b[39m \u001b[35mTest\u001b[39m \u001b[90m/Applications/Julia-1.11.app/Contents/Resources/julia/share/julia/stdlib/v1.11/Test/src/\u001b[39m\u001b[90m\u001b[4mTest.jl:362\u001b[24m\u001b[39m\n",
      "   [2] \u001b[0m\u001b[1mmacro expansion\u001b[22m\n",
      "  \u001b[90m   @\u001b[39m \u001b[90m/Applications/Julia-1.11.app/Contents/Resources/julia/share/julia/stdlib/v1.11/Test/src/\u001b[39m\u001b[90m\u001b[4mTest.jl:676\u001b[24m\u001b[39m\u001b[90m [inlined]\u001b[39m\n",
      "   [3] top-level scope\n",
      "  \u001b[90m   @\u001b[39m \u001b[90m\u001b[4mIn[50]:9\u001b[24m\u001b[39m\n"
     ]
    },
    {
     "ename": "LoadError",
     "evalue": "\u001b[91mThere was an error during testing\u001b[39m",
     "output_type": "error",
     "traceback": [
      "\u001b[91mThere was an error during testing\u001b[39m",
      "",
      "Stacktrace:",
      " [1] record(ts::Test.FallbackTestSet, t::Union{Test.Error, Test.Fail})",
      "   @ Test /Applications/Julia-1.11.app/Contents/Resources/julia/share/julia/stdlib/v1.11/Test/src/Test.jl:1026",
      " [2] do_test(result::Test.ExecutionResult, orig_expr::Any)",
      "   @ Test /Applications/Julia-1.11.app/Contents/Resources/julia/share/julia/stdlib/v1.11/Test/src/Test.jl:712",
      " [3] macro expansion",
      "   @ /Applications/Julia-1.11.app/Contents/Resources/julia/share/julia/stdlib/v1.11/Test/src/Test.jl:679 [inlined]",
      " [4] top-level scope",
      "   @ In[50]:9"
     ]
    }
   ],
   "source": [
    "function matcond(A)\n",
    "    # TODO: Use `svdvals` to return the 2-norm condition number of `A`.\n",
    "\n",
    "end\n",
    "\n",
    "A = [1 2 3;\n",
    "     4 5 6;\n",
    "     7 8 8]\n",
    "@test matcond(A) ≈ 120.50662309164431"
   ]
  },
  {
   "cell_type": "markdown",
   "metadata": {},
   "source": [
    "---\n",
    "\n",
    "*This notebook was generated using [Literate.jl](https://github.com/fredrikekre/Literate.jl).*"
   ]
  },
  {
   "cell_type": "code",
   "execution_count": null,
   "metadata": {},
   "outputs": [],
   "source": []
  },
  {
   "cell_type": "code",
   "execution_count": null,
   "metadata": {},
   "outputs": [],
   "source": []
  },
  {
   "cell_type": "code",
   "execution_count": null,
   "metadata": {},
   "outputs": [],
   "source": []
  },
  {
   "cell_type": "code",
   "execution_count": null,
   "metadata": {},
   "outputs": [],
   "source": []
  }
 ],
 "metadata": {
  "kernelspec": {
   "display_name": "Julia 1.11.2",
   "language": "julia",
   "name": "julia-1.11"
  },
  "language_info": {
   "file_extension": ".jl",
   "mimetype": "application/julia",
   "name": "julia",
   "version": "1.11.2"
  }
 },
 "nbformat": 4,
 "nbformat_minor": 4
}
