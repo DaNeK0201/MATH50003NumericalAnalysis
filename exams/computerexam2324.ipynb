{
 "cells": [
  {
   "cell_type": "markdown",
   "metadata": {},
   "source": [
    "# MATH50003 Numerical Analysis (2023–2024) Computer-based Exam"
   ]
  },
  {
   "cell_type": "markdown",
   "metadata": {},
   "source": [
    "Instructions for uploading and downloading:"
   ]
  },
  {
   "cell_type": "markdown",
   "metadata": {},
   "source": [
    "1. Rename the file to include your CID.\n",
    "2. You have 15 mins to download the exam beginning at 9:00 on 15 March. **DO NOT** write or type anything during this time.\n",
    "2. You have 1 hour to complete the exam beginning at 9:15 on 15 March. You **MUST STOP** typing at 10:15.\n",
    "3. Deadline is 10:30 on 15 March to upload the completed Jupyter notebook (`.ipynb`) to Blackboard.\n",
    "5. Once uploaded, re-download the file before the final submission time to confirm it is correct.\n",
    "You are allowed to upload additional submissions but only the last valid upload before 10:30 will be used.\n",
    "6. If uploading via Blackboard fails or please contact an invigilator."
   ]
  },
  {
   "cell_type": "markdown",
   "metadata": {},
   "source": [
    "Instructions for the exam:"
   ]
  },
  {
   "cell_type": "markdown",
   "metadata": {},
   "source": [
    "1. For each problem, replace the `# TODO` to complete the question.\n",
    "The unit tests are provided to help you test your answers, but do not guarantee that the answer is correct.\n",
    "2. Problems are marked A/B/C to indicate difficulty (\"A\" being most difficult).\n",
    "3. All questions are worth 10 marks. Partial credit will be awarded for reasonable attempts or comments outlining a solution even if the tests\n",
    "are not passed.\n",
    "3. If you have technical queries please contact an invigilator.\n",
    "4. You may use existing code from anywhere\n",
    "but you are **REQUIRED** to cite the source if it is not part of the module material,\n",
    "by including a weblink in a comment.\n",
    "5. You **MUST NOT** ask for help online or\n",
    "communicate with others within or outside the module.\n",
    "Failure to follow these rules will be considered misconduct.\n",
    "6. **NO USAGE of AI tools** such as ChatGPT or GitHub Co-Pilot.\n",
    "7. **TURN OFF notifications** on your machine. In particular, close background processes for any chat applications (iMessage, WhatsApp, WeChat)."
   ]
  },
  {
   "cell_type": "markdown",
   "metadata": {},
   "source": [
    "You should use the following packages:"
   ]
  },
  {
   "cell_type": "code",
   "execution_count": 1,
   "metadata": {},
   "outputs": [],
   "source": [
    "using LinearAlgebra, SetRounding, Test, Plots"
   ]
  },
  {
   "cell_type": "markdown",
   "metadata": {},
   "source": [
    "**WARNING** It may be necessary to restart the kernel if issues arise. Remember to reload the packages\n",
    "when you do so."
   ]
  },
  {
   "cell_type": "markdown",
   "metadata": {},
   "source": [
    "-----"
   ]
  },
  {
   "cell_type": "markdown",
   "metadata": {},
   "source": [
    "**Problem 1 (C)** Implement the mid-point rule for approximating an integral:\n",
    "$$\n",
    "\\int_0^1 f(x) {\\rm d}x ≈ {1 \\over n} \\sum_{k=1}^n f(x_{k-1/2})\n",
    "$$\n",
    "where $x_k := k/n$. By computing with various values of $n$, conjecture what the convergence rate is as $n → ∞$,\n",
    "that is, for what $λ$ is the error $O(n^{-λ})$? You may assume all numbers are `Float64`."
   ]
  },
  {
   "cell_type": "code",
   "execution_count": 9,
   "metadata": {},
   "outputs": [
    {
     "data": {
      "image/png": "[encoded data removed]",
      "image/svg+xml": [
       "<?xml version=\"1.0\" encoding=\"utf-8\"?>\n",
       "<svg xmlns=\"http://www.w3.org/2000/svg\" xmlns:xlink=\"http://www.w3.org/1999/xlink\" width=\"600\" height=\"400\" viewBox=\"0 0 2400 1600\">\n",
       "<defs>\n",
       "  <clipPath id=\"clip070\">\n",
       "    <rect x=\"0\" y=\"0\" width=\"2400\" height=\"1600\"/>\n",
       "  </clipPath>\n",
       "</defs>\n",
       "<path clip-path=\"url(#clip070)\" d=\"M0 1600 L2400 1600 L2400 0 L0 0  Z\" fill=\"#ffffff\" fill-rule=\"evenodd\" fill-opacity=\"1\"/>\n",
       "<defs>\n",
       "  <clipPath id=\"clip071\">\n",
       "    <rect x=\"480\" y=\"0\" width=\"1681\" height=\"1600\"/>\n",
       "  </clipPath>\n",
       "</defs>\n",
       "<path clip-path=\"url(#clip070)\" d=\"M188.574 1474.16 L2352.76 1474.16 L2352.76 47.2441 L188.574 47.2441  Z\" fill=\"#ffffff\" fill-rule=\"evenodd\" fill-opacity=\"1\"/>\n",
       "<defs>\n",
       "  <clipPath id=\"clip072\">\n",
       "    <rect x=\"188\" y=\"47\" width=\"2165\" height=\"1428\"/>\n",
       "  </clipPath>\n",
       "</defs>\n",
       "<polyline clip-path=\"url(#clip072)\" style=\"stroke:#000000; stroke-linecap:round; stroke-linejoin:round; stroke-width:2; stroke-opacity:0.1; fill:none\" points=\"249.825,1474.16 249.825,47.2441 \"/>\n",
       "<polyline clip-path=\"url(#clip072)\" style=\"stroke:#000000; stroke-linecap:round; stroke-linejoin:round; stroke-width:2; stroke-opacity:0.1; fill:none\" points=\"862.329,1474.16 862.329,47.2441 \"/>\n",
       "<polyline clip-path=\"url(#clip072)\" style=\"stroke:#000000; stroke-linecap:round; stroke-linejoin:round; stroke-width:2; stroke-opacity:0.1; fill:none\" points=\"1474.83,1474.16 1474.83,47.2441 \"/>\n",
       "<polyline clip-path=\"url(#clip072)\" style=\"stroke:#000000; stroke-linecap:round; stroke-linejoin:round; stroke-width:2; stroke-opacity:0.1; fill:none\" points=\"2087.34,1474.16 2087.34,47.2441 \"/>\n",
       "<polyline clip-path=\"url(#clip072)\" style=\"stroke:#000000; stroke-linecap:round; stroke-linejoin:round; stroke-width:2; stroke-opacity:0.1; fill:none\" points=\"188.574,1371.62 2352.76,1371.62 \"/>\n",
       "<polyline clip-path=\"url(#clip072)\" style=\"stroke:#000000; stroke-linecap:round; stroke-linejoin:round; stroke-width:2; stroke-opacity:0.1; fill:none\" points=\"188.574,943.621 2352.76,943.621 \"/>\n",
       "<polyline clip-path=\"url(#clip072)\" style=\"stroke:#000000; stroke-linecap:round; stroke-linejoin:round; stroke-width:2; stroke-opacity:0.1; fill:none\" points=\"188.574,515.625 2352.76,515.625 \"/>\n",
       "<polyline clip-path=\"url(#clip072)\" style=\"stroke:#000000; stroke-linecap:round; stroke-linejoin:round; stroke-width:2; stroke-opacity:0.1; fill:none\" points=\"188.574,87.6286 2352.76,87.6286 \"/>\n",
       "<polyline clip-path=\"url(#clip070)\" style=\"stroke:#000000; stroke-linecap:round; stroke-linejoin:round; stroke-width:4; stroke-opacity:1; fill:none\" points=\"188.574,1474.16 2352.76,1474.16 \"/>\n",
       "<polyline clip-path=\"url(#clip070)\" style=\"stroke:#000000; stroke-linecap:round; stroke-linejoin:round; stroke-width:4; stroke-opacity:1; fill:none\" points=\"249.825,1474.16 249.825,1455.27 \"/>\n",
       "<polyline clip-path=\"url(#clip070)\" style=\"stroke:#000000; stroke-linecap:round; stroke-linejoin:round; stroke-width:4; stroke-opacity:1; fill:none\" points=\"862.329,1474.16 862.329,1455.27 \"/>\n",
       "<polyline clip-path=\"url(#clip070)\" style=\"stroke:#000000; stroke-linecap:round; stroke-linejoin:round; stroke-width:4; stroke-opacity:1; fill:none\" points=\"1474.83,1474.16 1474.83,1455.27 \"/>\n",
       "<polyline clip-path=\"url(#clip070)\" style=\"stroke:#000000; stroke-linecap:round; stroke-linejoin:round; stroke-width:4; stroke-opacity:1; fill:none\" points=\"2087.34,1474.16 2087.34,1455.27 \"/>\n",
       "<path clip-path=\"url(#clip070)\" d=\"M196.432 1548.29 L204.071 1548.29 L204.071 1521.92 L195.761 1523.59 L195.761 1519.33 L204.025 1517.66 L208.701 1517.66 L208.701 1548.29 L216.34 1548.29 L216.34 1552.22 L196.432 1552.22 L196.432 1548.29 Z\" fill=\"#000000\" fill-rule=\"nonzero\" fill-opacity=\"1\" /><path clip-path=\"url(#clip070)\" d=\"M235.784 1520.74 Q232.173 1520.74 230.344 1524.31 Q228.539 1527.85 228.539 1534.98 Q228.539 1542.09 230.344 1545.65 Q232.173 1549.19 235.784 1549.19 Q239.418 1549.19 241.224 1545.65 Q243.053 1542.09 243.053 1534.98 Q243.053 1527.85 241.224 1524.31 Q239.418 1520.74 235.784 1520.74 M235.784 1517.04 Q241.594 1517.04 244.65 1521.65 Q247.728 1526.23 247.728 1534.98 Q247.728 1543.71 244.65 1548.31 Q241.594 1552.9 235.784 1552.9 Q229.974 1552.9 226.895 1548.31 Q223.84 1543.71 223.84 1534.98 Q223.84 1526.23 226.895 1521.65 Q229.974 1517.04 235.784 1517.04 Z\" fill=\"#000000\" fill-rule=\"nonzero\" fill-opacity=\"1\" /><path clip-path=\"url(#clip070)\" d=\"M257.433 1499.24 Q254.499 1499.24 253.013 1502.13 Q251.546 1505.01 251.546 1510.8 Q251.546 1516.58 253.013 1519.47 Q254.499 1522.35 257.433 1522.35 Q260.386 1522.35 261.853 1519.47 Q263.339 1516.58 263.339 1510.8 Q263.339 1505.01 261.853 1502.13 Q260.386 1499.24 257.433 1499.24 M257.433 1496.23 Q262.154 1496.23 264.637 1499.97 Q267.138 1503.69 267.138 1510.8 Q267.138 1517.89 264.637 1521.64 Q262.154 1525.36 257.433 1525.36 Q252.712 1525.36 250.211 1521.64 Q247.728 1517.89 247.728 1510.8 Q247.728 1503.69 250.211 1499.97 Q252.712 1496.23 257.433 1496.23 Z\" fill=\"#000000\" fill-rule=\"nonzero\" fill-opacity=\"1\" /><path clip-path=\"url(#clip070)\" d=\"M273.815 1520.04 L277.783 1520.04 L277.783 1524.81 L273.815 1524.81 L273.815 1520.04 Z\" fill=\"#000000\" fill-rule=\"nonzero\" fill-opacity=\"1\" /><path clip-path=\"url(#clip070)\" d=\"M294.184 1499.24 Q291.25 1499.24 289.764 1502.13 Q288.297 1505.01 288.297 1510.8 Q288.297 1516.58 289.764 1519.47 Q291.25 1522.35 294.184 1522.35 Q297.136 1522.35 298.603 1519.47 Q300.089 1516.58 300.089 1510.8 Q300.089 1505.01 298.603 1502.13 Q297.136 1499.24 294.184 1499.24 M294.184 1496.23 Q298.904 1496.23 301.387 1499.97 Q303.888 1503.69 303.888 1510.8 Q303.888 1517.89 301.387 1521.64 Q298.904 1525.36 294.184 1525.36 Q289.463 1525.36 286.961 1521.64 Q284.479 1517.89 284.479 1510.8 Q284.479 1503.69 286.961 1499.97 Q289.463 1496.23 294.184 1496.23 Z\" fill=\"#000000\" fill-rule=\"nonzero\" fill-opacity=\"1\" /><path clip-path=\"url(#clip070)\" d=\"M809.2 1548.29 L816.839 1548.29 L816.839 1521.92 L808.529 1523.59 L808.529 1519.33 L816.792 1517.66 L821.468 1517.66 L821.468 1548.29 L829.107 1548.29 L829.107 1552.22 L809.2 1552.22 L809.2 1548.29 Z\" fill=\"#000000\" fill-rule=\"nonzero\" fill-opacity=\"1\" /><path clip-path=\"url(#clip070)\" d=\"M848.552 1520.74 Q844.94 1520.74 843.112 1524.31 Q841.306 1527.85 841.306 1534.98 Q841.306 1542.09 843.112 1545.65 Q844.94 1549.19 848.552 1549.19 Q852.186 1549.19 853.991 1545.65 Q855.82 1542.09 855.82 1534.98 Q855.82 1527.85 853.991 1524.31 Q852.186 1520.74 848.552 1520.74 M848.552 1517.04 Q854.362 1517.04 857.417 1521.65 Q860.496 1526.23 860.496 1534.98 Q860.496 1543.71 857.417 1548.31 Q854.362 1552.9 848.552 1552.9 Q842.741 1552.9 839.663 1548.31 Q836.607 1543.71 836.607 1534.98 Q836.607 1526.23 839.663 1521.65 Q842.741 1517.04 848.552 1517.04 Z\" fill=\"#000000\" fill-rule=\"nonzero\" fill-opacity=\"1\" /><path clip-path=\"url(#clip070)\" d=\"M870.201 1499.24 Q867.267 1499.24 865.781 1502.13 Q864.314 1505.01 864.314 1510.8 Q864.314 1516.58 865.781 1519.47 Q867.267 1522.35 870.201 1522.35 Q873.154 1522.35 874.621 1519.47 Q876.106 1516.58 876.106 1510.8 Q876.106 1505.01 874.621 1502.13 Q873.154 1499.24 870.201 1499.24 M870.201 1496.23 Q874.922 1496.23 877.404 1499.97 Q879.906 1503.69 879.906 1510.8 Q879.906 1517.89 877.404 1521.64 Q874.922 1525.36 870.201 1525.36 Q865.48 1525.36 862.979 1521.64 Q860.496 1517.89 860.496 1510.8 Q860.496 1503.69 862.979 1499.97 Q865.48 1496.23 870.201 1496.23 Z\" fill=\"#000000\" fill-rule=\"nonzero\" fill-opacity=\"1\" /><path clip-path=\"url(#clip070)\" d=\"M886.582 1520.04 L890.551 1520.04 L890.551 1524.81 L886.582 1524.81 L886.582 1520.04 Z\" fill=\"#000000\" fill-rule=\"nonzero\" fill-opacity=\"1\" /><path clip-path=\"url(#clip070)\" d=\"M910.337 1509.67 Q913.064 1510.26 914.587 1512.1 Q916.129 1513.94 916.129 1516.65 Q916.129 1520.81 913.271 1523.08 Q910.412 1525.36 905.146 1525.36 Q903.378 1525.36 901.497 1525 Q899.635 1524.66 897.641 1523.97 L897.641 1520.3 Q899.221 1521.22 901.102 1521.69 Q902.983 1522.16 905.033 1522.16 Q908.606 1522.16 910.468 1520.75 Q912.349 1519.34 912.349 1516.65 Q912.349 1514.17 910.6 1512.78 Q908.87 1511.37 905.766 1511.37 L902.494 1511.37 L902.494 1508.24 L905.917 1508.24 Q908.719 1508.24 910.205 1507.13 Q911.691 1506.01 911.691 1503.9 Q911.691 1501.74 910.148 1500.59 Q908.625 1499.42 905.766 1499.42 Q904.205 1499.42 902.418 1499.76 Q900.632 1500.1 898.488 1500.82 L898.488 1497.43 Q900.651 1496.83 902.531 1496.53 Q904.431 1496.23 906.105 1496.23 Q910.431 1496.23 912.951 1498.2 Q915.471 1500.16 915.471 1503.51 Q915.471 1505.84 914.136 1507.45 Q912.8 1509.05 910.337 1509.67 Z\" fill=\"#000000\" fill-rule=\"nonzero\" fill-opacity=\"1\" /><path clip-path=\"url(#clip070)\" d=\"M1421.38 1548.29 L1429.01 1548.29 L1429.01 1521.92 L1420.7 1523.59 L1420.7 1519.33 L1428.97 1517.66 L1433.64 1517.66 L1433.64 1548.29 L1441.28 1548.29 L1441.28 1552.22 L1421.38 1552.22 L1421.38 1548.29 Z\" fill=\"#000000\" fill-rule=\"nonzero\" fill-opacity=\"1\" /><path clip-path=\"url(#clip070)\" d=\"M1460.73 1520.74 Q1457.12 1520.74 1455.29 1524.31 Q1453.48 1527.85 1453.48 1534.98 Q1453.48 1542.09 1455.29 1545.65 Q1457.12 1549.19 1460.73 1549.19 Q1464.36 1549.19 1466.17 1545.65 Q1468 1542.09 1468 1534.98 Q1468 1527.85 1466.17 1524.31 Q1464.36 1520.74 1460.73 1520.74 M1460.73 1517.04 Q1466.54 1517.04 1469.59 1521.65 Q1472.67 1526.23 1472.67 1534.98 Q1472.67 1543.71 1469.59 1548.31 Q1466.54 1552.9 1460.73 1552.9 Q1454.92 1552.9 1451.84 1548.31 Q1448.78 1543.71 1448.78 1534.98 Q1448.78 1526.23 1451.84 1521.65 Q1454.92 1517.04 1460.73 1517.04 Z\" fill=\"#000000\" fill-rule=\"nonzero\" fill-opacity=\"1\" /><path clip-path=\"url(#clip070)\" d=\"M1482.38 1499.24 Q1479.44 1499.24 1477.96 1502.13 Q1476.49 1505.01 1476.49 1510.8 Q1476.49 1516.58 1477.96 1519.47 Q1479.44 1522.35 1482.38 1522.35 Q1485.33 1522.35 1486.8 1519.47 Q1488.28 1516.58 1488.28 1510.8 Q1488.28 1505.01 1486.8 1502.13 Q1485.33 1499.24 1482.38 1499.24 M1482.38 1496.23 Q1487.1 1496.23 1489.58 1499.97 Q1492.08 1503.69 1492.08 1510.8 Q1492.08 1517.89 1489.58 1521.64 Q1487.1 1525.36 1482.38 1525.36 Q1477.66 1525.36 1475.15 1521.64 Q1472.67 1517.89 1472.67 1510.8 Q1472.67 1503.69 1475.15 1499.97 Q1477.66 1496.23 1482.38 1496.23 Z\" fill=\"#000000\" fill-rule=\"nonzero\" fill-opacity=\"1\" /><path clip-path=\"url(#clip070)\" d=\"M1498.76 1520.04 L1502.73 1520.04 L1502.73 1524.81 L1498.76 1524.81 L1498.76 1520.04 Z\" fill=\"#000000\" fill-rule=\"nonzero\" fill-opacity=\"1\" /><path clip-path=\"url(#clip070)\" d=\"M1519.6 1509.26 Q1517.04 1509.26 1515.53 1511.01 Q1514.05 1512.76 1514.05 1515.81 Q1514.05 1518.83 1515.53 1520.6 Q1517.04 1522.35 1519.6 1522.35 Q1522.15 1522.35 1523.64 1520.6 Q1525.14 1518.83 1525.14 1515.81 Q1525.14 1512.76 1523.64 1511.01 Q1522.15 1509.26 1519.6 1509.26 M1527.14 1497.35 L1527.14 1500.82 Q1525.71 1500.14 1524.24 1499.78 Q1522.79 1499.42 1521.36 1499.42 Q1517.6 1499.42 1515.61 1501.96 Q1513.63 1504.5 1513.35 1509.64 Q1514.46 1508 1516.14 1507.13 Q1517.81 1506.25 1519.82 1506.25 Q1524.05 1506.25 1526.5 1508.83 Q1528.96 1511.39 1528.96 1515.81 Q1528.96 1520.13 1526.4 1522.75 Q1523.85 1525.36 1519.6 1525.36 Q1514.73 1525.36 1512.15 1521.64 Q1509.57 1517.89 1509.57 1510.8 Q1509.57 1504.14 1512.73 1500.19 Q1515.89 1496.23 1521.21 1496.23 Q1522.64 1496.23 1524.09 1496.51 Q1525.56 1496.79 1527.14 1497.35 Z\" fill=\"#000000\" fill-rule=\"nonzero\" fill-opacity=\"1\" /><path clip-path=\"url(#clip070)\" d=\"M2034.02 1548.29 L2041.66 1548.29 L2041.66 1521.92 L2033.35 1523.59 L2033.35 1519.33 L2041.61 1517.66 L2046.29 1517.66 L2046.29 1548.29 L2053.93 1548.29 L2053.93 1552.22 L2034.02 1552.22 L2034.02 1548.29 Z\" fill=\"#000000\" fill-rule=\"nonzero\" fill-opacity=\"1\" /><path clip-path=\"url(#clip070)\" d=\"M2073.37 1520.74 Q2069.76 1520.74 2067.93 1524.31 Q2066.13 1527.85 2066.13 1534.98 Q2066.13 1542.09 2067.93 1545.65 Q2069.76 1549.19 2073.37 1549.19 Q2077.01 1549.19 2078.81 1545.65 Q2080.64 1542.09 2080.64 1534.98 Q2080.64 1527.85 2078.81 1524.31 Q2077.01 1520.74 2073.37 1520.74 M2073.37 1517.04 Q2079.18 1517.04 2082.24 1521.65 Q2085.32 1526.23 2085.32 1534.98 Q2085.32 1543.71 2082.24 1548.31 Q2079.18 1552.9 2073.37 1552.9 Q2067.56 1552.9 2064.48 1548.31 Q2061.43 1543.71 2061.43 1534.98 Q2061.43 1526.23 2064.48 1521.65 Q2067.56 1517.04 2073.37 1517.04 Z\" fill=\"#000000\" fill-rule=\"nonzero\" fill-opacity=\"1\" /><path clip-path=\"url(#clip070)\" d=\"M2095.02 1499.24 Q2092.09 1499.24 2090.6 1502.13 Q2089.13 1505.01 2089.13 1510.8 Q2089.13 1516.58 2090.6 1519.47 Q2092.09 1522.35 2095.02 1522.35 Q2097.97 1522.35 2099.44 1519.47 Q2100.93 1516.58 2100.93 1510.8 Q2100.93 1505.01 2099.44 1502.13 Q2097.97 1499.24 2095.02 1499.24 M2095.02 1496.23 Q2099.74 1496.23 2102.22 1499.97 Q2104.73 1503.69 2104.73 1510.8 Q2104.73 1517.89 2102.22 1521.64 Q2099.74 1525.36 2095.02 1525.36 Q2090.3 1525.36 2087.8 1521.64 Q2085.32 1517.89 2085.32 1510.8 Q2085.32 1503.69 2087.8 1499.97 Q2090.3 1496.23 2095.02 1496.23 Z\" fill=\"#000000\" fill-rule=\"nonzero\" fill-opacity=\"1\" /><path clip-path=\"url(#clip070)\" d=\"M2111.4 1520.04 L2115.37 1520.04 L2115.37 1524.81 L2111.4 1524.81 L2111.4 1520.04 Z\" fill=\"#000000\" fill-rule=\"nonzero\" fill-opacity=\"1\" /><path clip-path=\"url(#clip070)\" d=\"M2123.76 1524.23 L2123.76 1520.77 Q2125.19 1521.45 2126.66 1521.81 Q2128.12 1522.16 2129.53 1522.16 Q2133.29 1522.16 2135.27 1519.64 Q2137.26 1517.1 2137.55 1511.95 Q2136.45 1513.57 2134.78 1514.43 Q2133.11 1515.3 2131.08 1515.3 Q2126.86 1515.3 2124.4 1512.76 Q2121.95 1510.2 2121.95 1505.78 Q2121.95 1501.46 2124.51 1498.84 Q2127.07 1496.23 2131.32 1496.23 Q2136.19 1496.23 2138.75 1499.97 Q2141.33 1503.69 2141.33 1510.8 Q2141.33 1517.44 2138.17 1521.41 Q2135.03 1525.36 2129.7 1525.36 Q2128.27 1525.36 2126.81 1525.08 Q2125.34 1524.8 2123.76 1524.23 M2131.32 1512.33 Q2133.88 1512.33 2135.36 1510.58 Q2136.87 1508.83 2136.87 1505.78 Q2136.87 1502.75 2135.36 1501 Q2133.88 1499.24 2131.32 1499.24 Q2128.76 1499.24 2127.26 1501 Q2125.77 1502.75 2125.77 1505.78 Q2125.77 1508.83 2127.26 1510.58 Q2128.76 1512.33 2131.32 1512.33 Z\" fill=\"#000000\" fill-rule=\"nonzero\" fill-opacity=\"1\" /><polyline clip-path=\"url(#clip070)\" style=\"stroke:#000000; stroke-linecap:round; stroke-linejoin:round; stroke-width:4; stroke-opacity:1; fill:none\" points=\"188.574,1474.16 188.574,47.2441 \"/>\n",
       "<polyline clip-path=\"url(#clip070)\" style=\"stroke:#000000; stroke-linecap:round; stroke-linejoin:round; stroke-width:4; stroke-opacity:1; fill:none\" points=\"188.574,1371.62 207.472,1371.62 \"/>\n",
       "<polyline clip-path=\"url(#clip070)\" style=\"stroke:#000000; stroke-linecap:round; stroke-linejoin:round; stroke-width:4; stroke-opacity:1; fill:none\" points=\"188.574,943.621 207.472,943.621 \"/>\n",
       "<polyline clip-path=\"url(#clip070)\" style=\"stroke:#000000; stroke-linecap:round; stroke-linejoin:round; stroke-width:4; stroke-opacity:1; fill:none\" points=\"188.574,515.625 207.472,515.625 \"/>\n",
       "<polyline clip-path=\"url(#clip070)\" style=\"stroke:#000000; stroke-linecap:round; stroke-linejoin:round; stroke-width:4; stroke-opacity:1; fill:none\" points=\"188.574,87.6286 207.472,87.6286 \"/>\n",
       "<path clip-path=\"url(#clip070)\" d=\"M51.6634 1391.41 L59.3023 1391.41 L59.3023 1365.04 L50.9921 1366.71 L50.9921 1362.45 L59.256 1360.78 L63.9319 1360.78 L63.9319 1391.41 L71.5707 1391.41 L71.5707 1395.34 L51.6634 1395.34 L51.6634 1391.41 Z\" fill=\"#000000\" fill-rule=\"nonzero\" fill-opacity=\"1\" /><path clip-path=\"url(#clip070)\" d=\"M91.0151 1363.86 Q87.404 1363.86 85.5753 1367.43 Q83.7697 1370.97 83.7697 1378.1 Q83.7697 1385.21 85.5753 1388.77 Q87.404 1392.31 91.0151 1392.31 Q94.6493 1392.31 96.4548 1388.77 Q98.2835 1385.21 98.2835 1378.1 Q98.2835 1370.97 96.4548 1367.43 Q94.6493 1363.86 91.0151 1363.86 M91.0151 1360.16 Q96.8252 1360.16 99.8808 1364.77 Q102.959 1369.35 102.959 1378.1 Q102.959 1386.83 99.8808 1391.43 Q96.8252 1396.02 91.0151 1396.02 Q85.2049 1396.02 82.1262 1391.43 Q79.0707 1386.83 79.0707 1378.1 Q79.0707 1369.35 82.1262 1364.77 Q85.2049 1360.16 91.0151 1360.16 Z\" fill=\"#000000\" fill-rule=\"nonzero\" fill-opacity=\"1\" /><path clip-path=\"url(#clip070)\" d=\"M102.959 1354.26 L127.071 1354.26 L127.071 1357.46 L102.959 1357.46 L102.959 1354.26 Z\" fill=\"#000000\" fill-rule=\"nonzero\" fill-opacity=\"1\" /><path clip-path=\"url(#clip070)\" d=\"M146.782 1352.79 Q149.509 1353.38 151.032 1355.22 Q152.574 1357.06 152.574 1359.77 Q152.574 1363.93 149.716 1366.2 Q146.857 1368.48 141.591 1368.48 Q139.823 1368.48 137.942 1368.12 Q136.08 1367.78 134.086 1367.09 L134.086 1363.42 Q135.666 1364.34 137.547 1364.81 Q139.428 1365.28 141.478 1365.28 Q145.051 1365.28 146.913 1363.87 Q148.794 1362.46 148.794 1359.77 Q148.794 1357.29 147.045 1355.9 Q145.315 1354.49 142.211 1354.49 L138.939 1354.49 L138.939 1351.36 L142.362 1351.36 Q145.164 1351.36 146.65 1350.25 Q148.136 1349.13 148.136 1347.02 Q148.136 1344.86 146.593 1343.71 Q145.07 1342.54 142.211 1342.54 Q140.65 1342.54 138.863 1342.88 Q137.077 1343.22 134.933 1343.93 L134.933 1340.55 Q137.096 1339.95 138.976 1339.65 Q140.876 1339.35 142.55 1339.35 Q146.876 1339.35 149.396 1341.32 Q151.916 1343.28 151.916 1346.62 Q151.916 1348.96 150.581 1350.57 Q149.245 1352.17 146.782 1352.79 Z\" fill=\"#000000\" fill-rule=\"nonzero\" fill-opacity=\"1\" /><path clip-path=\"url(#clip070)\" d=\"M52.4345 963.413 L60.0734 963.413 L60.0734 937.047 L51.7632 938.714 L51.7632 934.455 L60.0271 932.788 L64.703 932.788 L64.703 963.413 L72.3418 963.413 L72.3418 967.348 L52.4345 967.348 L52.4345 963.413 Z\" fill=\"#000000\" fill-rule=\"nonzero\" fill-opacity=\"1\" /><path clip-path=\"url(#clip070)\" d=\"M91.7862 935.867 Q88.1751 935.867 86.3464 939.432 Q84.5408 942.973 84.5408 950.103 Q84.5408 957.209 86.3464 960.774 Q88.1751 964.316 91.7862 964.316 Q95.4204 964.316 97.226 960.774 Q99.0547 957.209 99.0547 950.103 Q99.0547 942.973 97.226 939.432 Q95.4204 935.867 91.7862 935.867 M91.7862 932.163 Q97.5963 932.163 100.652 936.77 Q103.731 941.353 103.731 950.103 Q103.731 958.83 100.652 963.436 Q97.5963 968.019 91.7862 968.019 Q85.976 968.019 82.8973 963.436 Q79.8418 958.83 79.8418 950.103 Q79.8418 941.353 82.8973 936.77 Q85.976 932.163 91.7862 932.163 Z\" fill=\"#000000\" fill-rule=\"nonzero\" fill-opacity=\"1\" /><path clip-path=\"url(#clip070)\" d=\"M103.731 926.264 L127.842 926.264 L127.842 929.462 L103.731 929.462 L103.731 926.264 Z\" fill=\"#000000\" fill-rule=\"nonzero\" fill-opacity=\"1\" /><path clip-path=\"url(#clip070)\" d=\"M139.315 936.74 L152.574 936.74 L152.574 939.938 L134.745 939.938 L134.745 936.74 Q136.907 934.502 140.631 930.741 Q144.374 926.96 145.333 925.87 Q147.158 923.819 147.872 922.409 Q148.606 920.98 148.606 919.607 Q148.606 917.368 147.026 915.958 Q145.465 914.547 142.945 914.547 Q141.158 914.547 139.164 915.168 Q137.19 915.789 134.933 917.049 L134.933 913.212 Q137.227 912.29 139.221 911.82 Q141.214 911.35 142.87 911.35 Q147.233 911.35 149.828 913.532 Q152.424 915.713 152.424 919.362 Q152.424 921.092 151.766 922.653 Q151.126 924.196 149.415 926.302 Q148.944 926.848 146.424 929.462 Q143.904 932.057 139.315 936.74 Z\" fill=\"#000000\" fill-rule=\"nonzero\" fill-opacity=\"1\" /><path clip-path=\"url(#clip070)\" d=\"M52.1336 535.417 L59.7725 535.417 L59.7725 509.051 L51.4623 510.718 L51.4623 506.459 L59.7262 504.792 L64.4021 504.792 L64.4021 535.417 L72.0409 535.417 L72.0409 539.352 L52.1336 539.352 L52.1336 535.417 Z\" fill=\"#000000\" fill-rule=\"nonzero\" fill-opacity=\"1\" /><path clip-path=\"url(#clip070)\" d=\"M91.4853 507.871 Q87.8742 507.871 86.0455 511.436 Q84.2399 514.977 84.2399 522.107 Q84.2399 529.213 86.0455 532.778 Q87.8742 536.32 91.4853 536.32 Q95.1195 536.32 96.925 532.778 Q98.7537 529.213 98.7537 522.107 Q98.7537 514.977 96.925 511.436 Q95.1195 507.871 91.4853 507.871 M91.4853 504.167 Q97.2954 504.167 100.351 508.774 Q103.43 513.357 103.43 522.107 Q103.43 530.834 100.351 535.44 Q97.2954 540.023 91.4853 540.023 Q85.6751 540.023 82.5964 535.44 Q79.5409 530.834 79.5409 522.107 Q79.5409 513.357 82.5964 508.774 Q85.6751 504.167 91.4853 504.167 Z\" fill=\"#000000\" fill-rule=\"nonzero\" fill-opacity=\"1\" /><path clip-path=\"url(#clip070)\" d=\"M103.43 498.269 L127.541 498.269 L127.541 501.466 L103.43 501.466 L103.43 498.269 Z\" fill=\"#000000\" fill-rule=\"nonzero\" fill-opacity=\"1\" /><path clip-path=\"url(#clip070)\" d=\"M136.4 508.744 L142.606 508.744 L142.606 487.322 L135.854 488.677 L135.854 485.216 L142.569 483.862 L146.368 483.862 L146.368 508.744 L152.574 508.744 L152.574 511.942 L136.4 511.942 L136.4 508.744 Z\" fill=\"#000000\" fill-rule=\"nonzero\" fill-opacity=\"1\" /><path clip-path=\"url(#clip070)\" d=\"M81.8687 107.421 L89.5075 107.421 L89.5075 81.0555 L81.1974 82.7221 L81.1974 78.4629 L89.4612 76.7962 L94.1371 76.7962 L94.1371 107.421 L101.776 107.421 L101.776 111.356 L81.8687 111.356 L81.8687 107.421 Z\" fill=\"#000000\" fill-rule=\"nonzero\" fill-opacity=\"1\" /><path clip-path=\"url(#clip070)\" d=\"M121.22 79.8749 Q117.609 79.8749 115.781 83.4397 Q113.975 86.9814 113.975 94.111 Q113.975 101.217 115.781 104.782 Q117.609 108.324 121.22 108.324 Q124.855 108.324 126.66 104.782 Q128.489 101.217 128.489 94.111 Q128.489 86.9814 126.66 83.4397 Q124.855 79.8749 121.22 79.8749 M121.22 76.1712 Q127.03 76.1712 130.086 80.7777 Q133.165 85.361 133.165 94.111 Q133.165 102.838 130.086 107.444 Q127.03 112.028 121.22 112.028 Q115.41 112.028 112.331 107.444 Q109.276 102.838 109.276 94.111 Q109.276 85.361 112.331 80.7777 Q115.41 76.1712 121.22 76.1712 Z\" fill=\"#000000\" fill-rule=\"nonzero\" fill-opacity=\"1\" /><path clip-path=\"url(#clip070)\" d=\"M142.87 58.3673 Q139.936 58.3673 138.45 61.2637 Q136.983 64.1413 136.983 69.9341 Q136.983 75.708 138.45 78.6044 Q139.936 81.482 142.87 81.482 Q145.822 81.482 147.289 78.6044 Q148.775 75.708 148.775 69.9341 Q148.775 64.1413 147.289 61.2637 Q145.822 58.3673 142.87 58.3673 M142.87 55.358 Q147.59 55.358 150.073 59.1008 Q152.574 62.8247 152.574 69.9341 Q152.574 77.0246 150.073 80.7673 Q147.59 84.4913 142.87 84.4913 Q138.149 84.4913 135.647 80.7673 Q133.165 77.0246 133.165 69.9341 Q133.165 62.8247 135.647 59.1008 Q138.149 55.358 142.87 55.358 Z\" fill=\"#000000\" fill-rule=\"nonzero\" fill-opacity=\"1\" /><polyline clip-path=\"url(#clip072)\" style=\"stroke:#009af9; stroke-linecap:round; stroke-linejoin:round; stroke-width:4; stroke-opacity:1; fill:none\" points=\"249.825,583.093 864.432,836.765 1223.95,986.748 1479.04,1093.43 1676.9,1176.26 1838.56,1243.98 1975.25,1301.24 2093.65,1350.86 2198.08,1394.62 2291.51,1433.78 \"/>\n",
       "<polyline clip-path=\"url(#clip072)\" style=\"stroke:#e26f46; stroke-linecap:round; stroke-linejoin:round; stroke-width:4; stroke-opacity:1; fill:none\" stroke-dasharray=\"16, 10\" points=\"249.825,87.6286 864.432,216.468 1223.95,291.835 1479.04,345.308 1676.9,386.785 1838.56,420.674 1975.25,449.327 2093.65,474.147 2198.08,496.041 2291.51,515.625 \"/>\n",
       "<polyline clip-path=\"url(#clip072)\" style=\"stroke:#3da44d; stroke-linecap:round; stroke-linejoin:round; stroke-width:4; stroke-opacity:1; fill:none\" stroke-dasharray=\"16, 10\" points=\"249.825,87.6286 864.432,345.308 1223.95,496.041 1479.04,602.987 1676.9,685.941 1838.56,753.72 1975.25,811.026 2093.65,860.666 2198.08,904.453 2291.51,943.621 \"/>\n",
       "<path clip-path=\"url(#clip070)\" d=\"M1952.05 302.168 L2280.62 302.168 L2280.62 94.8081 L1952.05 94.8081  Z\" fill=\"#ffffff\" fill-rule=\"evenodd\" fill-opacity=\"1\"/>\n",
       "<polyline clip-path=\"url(#clip070)\" style=\"stroke:#000000; stroke-linecap:round; stroke-linejoin:round; stroke-width:4; stroke-opacity:1; fill:none\" points=\"1952.05,302.168 2280.62,302.168 2280.62,94.8081 1952.05,94.8081 1952.05,302.168 \"/>\n",
       "<polyline clip-path=\"url(#clip070)\" style=\"stroke:#009af9; stroke-linecap:round; stroke-linejoin:round; stroke-width:4; stroke-opacity:1; fill:none\" points=\"1976.09,146.648 2120.37,146.648 \"/>\n",
       "<path clip-path=\"url(#clip070)\" d=\"M2168.45 149.9 L2168.45 151.984 L2148.86 151.984 Q2149.14 156.382 2151.5 158.697 Q2153.89 160.988 2158.12 160.988 Q2160.58 160.988 2162.87 160.386 Q2165.18 159.785 2167.45 158.581 L2167.45 162.609 Q2165.16 163.581 2162.75 164.09 Q2160.34 164.599 2157.87 164.599 Q2151.66 164.599 2148.03 160.988 Q2144.42 157.377 2144.42 151.22 Q2144.42 144.854 2147.84 141.127 Q2151.29 137.377 2157.13 137.377 Q2162.36 137.377 2165.39 140.757 Q2168.45 144.113 2168.45 149.9 M2164.19 148.65 Q2164.14 145.155 2162.22 143.072 Q2160.32 140.988 2157.17 140.988 Q2153.61 140.988 2151.45 143.002 Q2149.33 145.016 2149 148.674 L2164.19 148.65 Z\" fill=\"#000000\" fill-rule=\"nonzero\" fill-opacity=\"1\" /><path clip-path=\"url(#clip070)\" d=\"M2190.46 141.984 Q2189.74 141.567 2188.89 141.382 Q2188.05 141.174 2187.03 141.174 Q2183.42 141.174 2181.48 143.535 Q2179.56 145.873 2179.56 150.271 L2179.56 163.928 L2175.27 163.928 L2175.27 138.002 L2179.56 138.002 L2179.56 142.03 Q2180.9 139.669 2183.05 138.535 Q2185.2 137.377 2188.28 137.377 Q2188.72 137.377 2189.26 137.447 Q2189.79 137.493 2190.44 137.609 L2190.46 141.984 Z\" fill=\"#000000\" fill-rule=\"nonzero\" fill-opacity=\"1\" /><path clip-path=\"url(#clip070)\" d=\"M2209.12 141.984 Q2208.4 141.567 2207.54 141.382 Q2206.71 141.174 2205.69 141.174 Q2202.08 141.174 2200.14 143.535 Q2198.21 145.873 2198.21 150.271 L2198.21 163.928 L2193.93 163.928 L2193.93 138.002 L2198.21 138.002 L2198.21 142.03 Q2199.56 139.669 2201.71 138.535 Q2203.86 137.377 2206.94 137.377 Q2207.38 137.377 2207.91 137.447 Q2208.45 137.493 2209.09 137.609 L2209.12 141.984 Z\" fill=\"#000000\" fill-rule=\"nonzero\" fill-opacity=\"1\" /><path clip-path=\"url(#clip070)\" d=\"M2222.59 140.988 Q2219.16 140.988 2217.17 143.674 Q2215.18 146.336 2215.18 150.988 Q2215.18 155.641 2217.15 158.326 Q2219.14 160.988 2222.59 160.988 Q2225.99 160.988 2227.98 158.303 Q2229.97 155.618 2229.97 150.988 Q2229.97 146.382 2227.98 143.697 Q2225.99 140.988 2222.59 140.988 M2222.59 137.377 Q2228.14 137.377 2231.32 140.988 Q2234.49 144.6 2234.49 150.988 Q2234.49 157.354 2231.32 160.988 Q2228.14 164.599 2222.59 164.599 Q2217.01 164.599 2213.84 160.988 Q2210.69 157.354 2210.69 150.988 Q2210.69 144.6 2213.84 140.988 Q2217.01 137.377 2222.59 137.377 Z\" fill=\"#000000\" fill-rule=\"nonzero\" fill-opacity=\"1\" /><path clip-path=\"url(#clip070)\" d=\"M2256.57 141.984 Q2255.85 141.567 2255 141.382 Q2254.16 141.174 2253.14 141.174 Q2249.53 141.174 2247.59 143.535 Q2245.67 145.873 2245.67 150.271 L2245.67 163.928 L2241.38 163.928 L2241.38 138.002 L2245.67 138.002 L2245.67 142.03 Q2247.01 139.669 2249.16 138.535 Q2251.32 137.377 2254.39 137.377 Q2254.83 137.377 2255.37 137.447 Q2255.9 137.493 2256.55 137.609 L2256.57 141.984 Z\" fill=\"#000000\" fill-rule=\"nonzero\" fill-opacity=\"1\" /><polyline clip-path=\"url(#clip070)\" style=\"stroke:#e26f46; stroke-linecap:round; stroke-linejoin:round; stroke-width:4; stroke-opacity:1; fill:none\" stroke-dasharray=\"16, 10\" points=\"1976.09,198.488 2120.37,198.488 \"/>\n",
       "<path clip-path=\"url(#clip070)\" d=\"M2166.13 200.12 L2166.13 215.768 L2161.87 215.768 L2161.87 200.259 Q2161.87 196.578 2160.44 194.75 Q2159 192.921 2156.13 192.921 Q2152.68 192.921 2150.69 195.12 Q2148.7 197.319 2148.7 201.115 L2148.7 215.768 L2144.42 215.768 L2144.42 189.842 L2148.7 189.842 L2148.7 193.87 Q2150.23 191.532 2152.29 190.375 Q2154.37 189.217 2157.08 189.217 Q2161.55 189.217 2163.84 191.995 Q2166.13 194.75 2166.13 200.12 Z\" fill=\"#000000\" fill-rule=\"nonzero\" fill-opacity=\"1\" /><path clip-path=\"url(#clip070)\" d=\"M2192.29 181.208 L2204.86 194.102 L2200.2 194.102 L2190.02 184.958 L2179.83 194.102 L2175.18 194.102 L2187.75 181.208 L2192.29 181.208 Z\" fill=\"#000000\" fill-rule=\"nonzero\" fill-opacity=\"1\" /><path clip-path=\"url(#clip070)\" d=\"M2212.2 200.884 L2224.67 200.884 L2224.67 204.68 L2212.2 204.68 L2212.2 200.884 Z\" fill=\"#000000\" fill-rule=\"nonzero\" fill-opacity=\"1\" /><path clip-path=\"url(#clip070)\" d=\"M2232.87 211.833 L2240.51 211.833 L2240.51 185.467 L2232.2 187.134 L2232.2 182.875 L2240.46 181.208 L2245.13 181.208 L2245.13 211.833 L2252.77 211.833 L2252.77 215.768 L2232.87 215.768 L2232.87 211.833 Z\" fill=\"#000000\" fill-rule=\"nonzero\" fill-opacity=\"1\" /><polyline clip-path=\"url(#clip070)\" style=\"stroke:#3da44d; stroke-linecap:round; stroke-linejoin:round; stroke-width:4; stroke-opacity:1; fill:none\" stroke-dasharray=\"16, 10\" points=\"1976.09,250.328 2120.37,250.328 \"/>\n",
       "<path clip-path=\"url(#clip070)\" d=\"M2166.13 251.96 L2166.13 267.608 L2161.87 267.608 L2161.87 252.099 Q2161.87 248.418 2160.44 246.59 Q2159 244.761 2156.13 244.761 Q2152.68 244.761 2150.69 246.96 Q2148.7 249.159 2148.7 252.955 L2148.7 267.608 L2144.42 267.608 L2144.42 241.682 L2148.7 241.682 L2148.7 245.71 Q2150.23 243.372 2152.29 242.215 Q2154.37 241.057 2157.08 241.057 Q2161.55 241.057 2163.84 243.835 Q2166.13 246.59 2166.13 251.96 Z\" fill=\"#000000\" fill-rule=\"nonzero\" fill-opacity=\"1\" /><path clip-path=\"url(#clip070)\" d=\"M2192.29 233.048 L2204.86 245.942 L2200.2 245.942 L2190.02 236.798 L2179.83 245.942 L2175.18 245.942 L2187.75 233.048 L2192.29 233.048 Z\" fill=\"#000000\" fill-rule=\"nonzero\" fill-opacity=\"1\" /><path clip-path=\"url(#clip070)\" d=\"M2212.2 252.724 L2224.67 252.724 L2224.67 256.52 L2212.2 256.52 L2212.2 252.724 Z\" fill=\"#000000\" fill-rule=\"nonzero\" fill-opacity=\"1\" /><path clip-path=\"url(#clip070)\" d=\"M2236.08 263.673 L2252.4 263.673 L2252.4 267.608 L2230.46 267.608 L2230.46 263.673 Q2233.12 260.918 2237.7 256.289 Q2242.31 251.636 2243.49 250.293 Q2245.74 247.77 2246.62 246.034 Q2247.52 244.275 2247.52 242.585 Q2247.52 239.83 2245.57 238.094 Q2243.65 236.358 2240.55 236.358 Q2238.35 236.358 2235.9 237.122 Q2233.47 237.886 2230.69 239.437 L2230.69 234.715 Q2233.51 233.581 2235.97 233.002 Q2238.42 232.423 2240.46 232.423 Q2245.83 232.423 2249.02 235.108 Q2252.22 237.793 2252.22 242.284 Q2252.22 244.414 2251.41 246.335 Q2250.62 248.233 2248.51 250.826 Q2247.94 251.497 2244.83 254.715 Q2241.73 257.909 2236.08 263.673 Z\" fill=\"#000000\" fill-rule=\"nonzero\" fill-opacity=\"1\" /></svg>\n"
      ],
      "text/html": [
       "<?xml version=\"1.0\" encoding=\"utf-8\"?>\n",
       "<svg xmlns=\"http://www.w3.org/2000/svg\" xmlns:xlink=\"http://www.w3.org/1999/xlink\" width=\"600\" height=\"400\" viewBox=\"0 0 2400 1600\">\n",
       "<defs>\n",
       "  <clipPath id=\"clip120\">\n",
       "    <rect x=\"0\" y=\"0\" width=\"2400\" height=\"1600\"/>\n",
       "  </clipPath>\n",
       "</defs>\n",
       "<path clip-path=\"url(#clip120)\" d=\"M0 1600 L2400 1600 L2400 0 L0 0  Z\" fill=\"#ffffff\" fill-rule=\"evenodd\" fill-opacity=\"1\"/>\n",
       "<defs>\n",
       "  <clipPath id=\"clip121\">\n",
       "    <rect x=\"480\" y=\"0\" width=\"1681\" height=\"1600\"/>\n",
       "  </clipPath>\n",
       "</defs>\n",
       "<path clip-path=\"url(#clip120)\" d=\"M188.574 1474.16 L2352.76 1474.16 L2352.76 47.2441 L188.574 47.2441  Z\" fill=\"#ffffff\" fill-rule=\"evenodd\" fill-opacity=\"1\"/>\n",
       "<defs>\n",
       "  <clipPath id=\"clip122\">\n",
       "    <rect x=\"188\" y=\"47\" width=\"2165\" height=\"1428\"/>\n",
       "  </clipPath>\n",
       "</defs>\n",
       "<polyline clip-path=\"url(#clip122)\" style=\"stroke:#000000; stroke-linecap:round; stroke-linejoin:round; stroke-width:2; stroke-opacity:0.1; fill:none\" points=\"249.825,1474.16 249.825,47.2441 \"/>\n",
       "<polyline clip-path=\"url(#clip122)\" style=\"stroke:#000000; stroke-linecap:round; stroke-linejoin:round; stroke-width:2; stroke-opacity:0.1; fill:none\" points=\"862.329,1474.16 862.329,47.2441 \"/>\n",
       "<polyline clip-path=\"url(#clip122)\" style=\"stroke:#000000; stroke-linecap:round; stroke-linejoin:round; stroke-width:2; stroke-opacity:0.1; fill:none\" points=\"1474.83,1474.16 1474.83,47.2441 \"/>\n",
       "<polyline clip-path=\"url(#clip122)\" style=\"stroke:#000000; stroke-linecap:round; stroke-linejoin:round; stroke-width:2; stroke-opacity:0.1; fill:none\" points=\"2087.34,1474.16 2087.34,47.2441 \"/>\n",
       "<polyline clip-path=\"url(#clip122)\" style=\"stroke:#000000; stroke-linecap:round; stroke-linejoin:round; stroke-width:2; stroke-opacity:0.1; fill:none\" points=\"188.574,1371.62 2352.76,1371.62 \"/>\n",
       "<polyline clip-path=\"url(#clip122)\" style=\"stroke:#000000; stroke-linecap:round; stroke-linejoin:round; stroke-width:2; stroke-opacity:0.1; fill:none\" points=\"188.574,943.621 2352.76,943.621 \"/>\n",
       "<polyline clip-path=\"url(#clip122)\" style=\"stroke:#000000; stroke-linecap:round; stroke-linejoin:round; stroke-width:2; stroke-opacity:0.1; fill:none\" points=\"188.574,515.625 2352.76,515.625 \"/>\n",
       "<polyline clip-path=\"url(#clip122)\" style=\"stroke:#000000; stroke-linecap:round; stroke-linejoin:round; stroke-width:2; stroke-opacity:0.1; fill:none\" points=\"188.574,87.6286 2352.76,87.6286 \"/>\n",
       "<polyline clip-path=\"url(#clip120)\" style=\"stroke:#000000; stroke-linecap:round; stroke-linejoin:round; stroke-width:4; stroke-opacity:1; fill:none\" points=\"188.574,1474.16 2352.76,1474.16 \"/>\n",
       "<polyline clip-path=\"url(#clip120)\" style=\"stroke:#000000; stroke-linecap:round; stroke-linejoin:round; stroke-width:4; stroke-opacity:1; fill:none\" points=\"249.825,1474.16 249.825,1455.27 \"/>\n",
       "<polyline clip-path=\"url(#clip120)\" style=\"stroke:#000000; stroke-linecap:round; stroke-linejoin:round; stroke-width:4; stroke-opacity:1; fill:none\" points=\"862.329,1474.16 862.329,1455.27 \"/>\n",
       "<polyline clip-path=\"url(#clip120)\" style=\"stroke:#000000; stroke-linecap:round; stroke-linejoin:round; stroke-width:4; stroke-opacity:1; fill:none\" points=\"1474.83,1474.16 1474.83,1455.27 \"/>\n",
       "<polyline clip-path=\"url(#clip120)\" style=\"stroke:#000000; stroke-linecap:round; stroke-linejoin:round; stroke-width:4; stroke-opacity:1; fill:none\" points=\"2087.34,1474.16 2087.34,1455.27 \"/>\n",
       "<path clip-path=\"url(#clip120)\" d=\"M196.432 1548.29 L204.071 1548.29 L204.071 1521.92 L195.761 1523.59 L195.761 1519.33 L204.025 1517.66 L208.701 1517.66 L208.701 1548.29 L216.34 1548.29 L216.34 1552.22 L196.432 1552.22 L196.432 1548.29 Z\" fill=\"#000000\" fill-rule=\"nonzero\" fill-opacity=\"1\" /><path clip-path=\"url(#clip120)\" d=\"M235.784 1520.74 Q232.173 1520.74 230.344 1524.31 Q228.539 1527.85 228.539 1534.98 Q228.539 1542.09 230.344 1545.65 Q232.173 1549.19 235.784 1549.19 Q239.418 1549.19 241.224 1545.65 Q243.053 1542.09 243.053 1534.98 Q243.053 1527.85 241.224 1524.31 Q239.418 1520.74 235.784 1520.74 M235.784 1517.04 Q241.594 1517.04 244.65 1521.65 Q247.728 1526.23 247.728 1534.98 Q247.728 1543.71 244.65 1548.31 Q241.594 1552.9 235.784 1552.9 Q229.974 1552.9 226.895 1548.31 Q223.84 1543.71 223.84 1534.98 Q223.84 1526.23 226.895 1521.65 Q229.974 1517.04 235.784 1517.04 Z\" fill=\"#000000\" fill-rule=\"nonzero\" fill-opacity=\"1\" /><path clip-path=\"url(#clip120)\" d=\"M257.433 1499.24 Q254.499 1499.24 253.013 1502.13 Q251.546 1505.01 251.546 1510.8 Q251.546 1516.58 253.013 1519.47 Q254.499 1522.35 257.433 1522.35 Q260.386 1522.35 261.853 1519.47 Q263.339 1516.58 263.339 1510.8 Q263.339 1505.01 261.853 1502.13 Q260.386 1499.24 257.433 1499.24 M257.433 1496.23 Q262.154 1496.23 264.637 1499.97 Q267.138 1503.69 267.138 1510.8 Q267.138 1517.89 264.637 1521.64 Q262.154 1525.36 257.433 1525.36 Q252.712 1525.36 250.211 1521.64 Q247.728 1517.89 247.728 1510.8 Q247.728 1503.69 250.211 1499.97 Q252.712 1496.23 257.433 1496.23 Z\" fill=\"#000000\" fill-rule=\"nonzero\" fill-opacity=\"1\" /><path clip-path=\"url(#clip120)\" d=\"M273.815 1520.04 L277.783 1520.04 L277.783 1524.81 L273.815 1524.81 L273.815 1520.04 Z\" fill=\"#000000\" fill-rule=\"nonzero\" fill-opacity=\"1\" /><path clip-path=\"url(#clip120)\" d=\"M294.184 1499.24 Q291.25 1499.24 289.764 1502.13 Q288.297 1505.01 288.297 1510.8 Q288.297 1516.58 289.764 1519.47 Q291.25 1522.35 294.184 1522.35 Q297.136 1522.35 298.603 1519.47 Q300.089 1516.58 300.089 1510.8 Q300.089 1505.01 298.603 1502.13 Q297.136 1499.24 294.184 1499.24 M294.184 1496.23 Q298.904 1496.23 301.387 1499.97 Q303.888 1503.69 303.888 1510.8 Q303.888 1517.89 301.387 1521.64 Q298.904 1525.36 294.184 1525.36 Q289.463 1525.36 286.961 1521.64 Q284.479 1517.89 284.479 1510.8 Q284.479 1503.69 286.961 1499.97 Q289.463 1496.23 294.184 1496.23 Z\" fill=\"#000000\" fill-rule=\"nonzero\" fill-opacity=\"1\" /><path clip-path=\"url(#clip120)\" d=\"M809.2 1548.29 L816.839 1548.29 L816.839 1521.92 L808.529 1523.59 L808.529 1519.33 L816.792 1517.66 L821.468 1517.66 L821.468 1548.29 L829.107 1548.29 L829.107 1552.22 L809.2 1552.22 L809.2 1548.29 Z\" fill=\"#000000\" fill-rule=\"nonzero\" fill-opacity=\"1\" /><path clip-path=\"url(#clip120)\" d=\"M848.552 1520.74 Q844.94 1520.74 843.112 1524.31 Q841.306 1527.85 841.306 1534.98 Q841.306 1542.09 843.112 1545.65 Q844.94 1549.19 848.552 1549.19 Q852.186 1549.19 853.991 1545.65 Q855.82 1542.09 855.82 1534.98 Q855.82 1527.85 853.991 1524.31 Q852.186 1520.74 848.552 1520.74 M848.552 1517.04 Q854.362 1517.04 857.417 1521.65 Q860.496 1526.23 860.496 1534.98 Q860.496 1543.71 857.417 1548.31 Q854.362 1552.9 848.552 1552.9 Q842.741 1552.9 839.663 1548.31 Q836.607 1543.71 836.607 1534.98 Q836.607 1526.23 839.663 1521.65 Q842.741 1517.04 848.552 1517.04 Z\" fill=\"#000000\" fill-rule=\"nonzero\" fill-opacity=\"1\" /><path clip-path=\"url(#clip120)\" d=\"M870.201 1499.24 Q867.267 1499.24 865.781 1502.13 Q864.314 1505.01 864.314 1510.8 Q864.314 1516.58 865.781 1519.47 Q867.267 1522.35 870.201 1522.35 Q873.154 1522.35 874.621 1519.47 Q876.106 1516.58 876.106 1510.8 Q876.106 1505.01 874.621 1502.13 Q873.154 1499.24 870.201 1499.24 M870.201 1496.23 Q874.922 1496.23 877.404 1499.97 Q879.906 1503.69 879.906 1510.8 Q879.906 1517.89 877.404 1521.64 Q874.922 1525.36 870.201 1525.36 Q865.48 1525.36 862.979 1521.64 Q860.496 1517.89 860.496 1510.8 Q860.496 1503.69 862.979 1499.97 Q865.48 1496.23 870.201 1496.23 Z\" fill=\"#000000\" fill-rule=\"nonzero\" fill-opacity=\"1\" /><path clip-path=\"url(#clip120)\" d=\"M886.582 1520.04 L890.551 1520.04 L890.551 1524.81 L886.582 1524.81 L886.582 1520.04 Z\" fill=\"#000000\" fill-rule=\"nonzero\" fill-opacity=\"1\" /><path clip-path=\"url(#clip120)\" d=\"M910.337 1509.67 Q913.064 1510.26 914.587 1512.1 Q916.129 1513.94 916.129 1516.65 Q916.129 1520.81 913.271 1523.08 Q910.412 1525.36 905.146 1525.36 Q903.378 1525.36 901.497 1525 Q899.635 1524.66 897.641 1523.97 L897.641 1520.3 Q899.221 1521.22 901.102 1521.69 Q902.983 1522.16 905.033 1522.16 Q908.606 1522.16 910.468 1520.75 Q912.349 1519.34 912.349 1516.65 Q912.349 1514.17 910.6 1512.78 Q908.87 1511.37 905.766 1511.37 L902.494 1511.37 L902.494 1508.24 L905.917 1508.24 Q908.719 1508.24 910.205 1507.13 Q911.691 1506.01 911.691 1503.9 Q911.691 1501.74 910.148 1500.59 Q908.625 1499.42 905.766 1499.42 Q904.205 1499.42 902.418 1499.76 Q900.632 1500.1 898.488 1500.82 L898.488 1497.43 Q900.651 1496.83 902.531 1496.53 Q904.431 1496.23 906.105 1496.23 Q910.431 1496.23 912.951 1498.2 Q915.471 1500.16 915.471 1503.51 Q915.471 1505.84 914.136 1507.45 Q912.8 1509.05 910.337 1509.67 Z\" fill=\"#000000\" fill-rule=\"nonzero\" fill-opacity=\"1\" /><path clip-path=\"url(#clip120)\" d=\"M1421.38 1548.29 L1429.01 1548.29 L1429.01 1521.92 L1420.7 1523.59 L1420.7 1519.33 L1428.97 1517.66 L1433.64 1517.66 L1433.64 1548.29 L1441.28 1548.29 L1441.28 1552.22 L1421.38 1552.22 L1421.38 1548.29 Z\" fill=\"#000000\" fill-rule=\"nonzero\" fill-opacity=\"1\" /><path clip-path=\"url(#clip120)\" d=\"M1460.73 1520.74 Q1457.12 1520.74 1455.29 1524.31 Q1453.48 1527.85 1453.48 1534.98 Q1453.48 1542.09 1455.29 1545.65 Q1457.12 1549.19 1460.73 1549.19 Q1464.36 1549.19 1466.17 1545.65 Q1468 1542.09 1468 1534.98 Q1468 1527.85 1466.17 1524.31 Q1464.36 1520.74 1460.73 1520.74 M1460.73 1517.04 Q1466.54 1517.04 1469.59 1521.65 Q1472.67 1526.23 1472.67 1534.98 Q1472.67 1543.71 1469.59 1548.31 Q1466.54 1552.9 1460.73 1552.9 Q1454.92 1552.9 1451.84 1548.31 Q1448.78 1543.71 1448.78 1534.98 Q1448.78 1526.23 1451.84 1521.65 Q1454.92 1517.04 1460.73 1517.04 Z\" fill=\"#000000\" fill-rule=\"nonzero\" fill-opacity=\"1\" /><path clip-path=\"url(#clip120)\" d=\"M1482.38 1499.24 Q1479.44 1499.24 1477.96 1502.13 Q1476.49 1505.01 1476.49 1510.8 Q1476.49 1516.58 1477.96 1519.47 Q1479.44 1522.35 1482.38 1522.35 Q1485.33 1522.35 1486.8 1519.47 Q1488.28 1516.58 1488.28 1510.8 Q1488.28 1505.01 1486.8 1502.13 Q1485.33 1499.24 1482.38 1499.24 M1482.38 1496.23 Q1487.1 1496.23 1489.58 1499.97 Q1492.08 1503.69 1492.08 1510.8 Q1492.08 1517.89 1489.58 1521.64 Q1487.1 1525.36 1482.38 1525.36 Q1477.66 1525.36 1475.15 1521.64 Q1472.67 1517.89 1472.67 1510.8 Q1472.67 1503.69 1475.15 1499.97 Q1477.66 1496.23 1482.38 1496.23 Z\" fill=\"#000000\" fill-rule=\"nonzero\" fill-opacity=\"1\" /><path clip-path=\"url(#clip120)\" d=\"M1498.76 1520.04 L1502.73 1520.04 L1502.73 1524.81 L1498.76 1524.81 L1498.76 1520.04 Z\" fill=\"#000000\" fill-rule=\"nonzero\" fill-opacity=\"1\" /><path clip-path=\"url(#clip120)\" d=\"M1519.6 1509.26 Q1517.04 1509.26 1515.53 1511.01 Q1514.05 1512.76 1514.05 1515.81 Q1514.05 1518.83 1515.53 1520.6 Q1517.04 1522.35 1519.6 1522.35 Q1522.15 1522.35 1523.64 1520.6 Q1525.14 1518.83 1525.14 1515.81 Q1525.14 1512.76 1523.64 1511.01 Q1522.15 1509.26 1519.6 1509.26 M1527.14 1497.35 L1527.14 1500.82 Q1525.71 1500.14 1524.24 1499.78 Q1522.79 1499.42 1521.36 1499.42 Q1517.6 1499.42 1515.61 1501.96 Q1513.63 1504.5 1513.35 1509.64 Q1514.46 1508 1516.14 1507.13 Q1517.81 1506.25 1519.82 1506.25 Q1524.05 1506.25 1526.5 1508.83 Q1528.96 1511.39 1528.96 1515.81 Q1528.96 1520.13 1526.4 1522.75 Q1523.85 1525.36 1519.6 1525.36 Q1514.73 1525.36 1512.15 1521.64 Q1509.57 1517.89 1509.57 1510.8 Q1509.57 1504.14 1512.73 1500.19 Q1515.89 1496.23 1521.21 1496.23 Q1522.64 1496.23 1524.09 1496.51 Q1525.56 1496.79 1527.14 1497.35 Z\" fill=\"#000000\" fill-rule=\"nonzero\" fill-opacity=\"1\" /><path clip-path=\"url(#clip120)\" d=\"M2034.02 1548.29 L2041.66 1548.29 L2041.66 1521.92 L2033.35 1523.59 L2033.35 1519.33 L2041.61 1517.66 L2046.29 1517.66 L2046.29 1548.29 L2053.93 1548.29 L2053.93 1552.22 L2034.02 1552.22 L2034.02 1548.29 Z\" fill=\"#000000\" fill-rule=\"nonzero\" fill-opacity=\"1\" /><path clip-path=\"url(#clip120)\" d=\"M2073.37 1520.74 Q2069.76 1520.74 2067.93 1524.31 Q2066.13 1527.85 2066.13 1534.98 Q2066.13 1542.09 2067.93 1545.65 Q2069.76 1549.19 2073.37 1549.19 Q2077.01 1549.19 2078.81 1545.65 Q2080.64 1542.09 2080.64 1534.98 Q2080.64 1527.85 2078.81 1524.31 Q2077.01 1520.74 2073.37 1520.74 M2073.37 1517.04 Q2079.18 1517.04 2082.24 1521.65 Q2085.32 1526.23 2085.32 1534.98 Q2085.32 1543.71 2082.24 1548.31 Q2079.18 1552.9 2073.37 1552.9 Q2067.56 1552.9 2064.48 1548.31 Q2061.43 1543.71 2061.43 1534.98 Q2061.43 1526.23 2064.48 1521.65 Q2067.56 1517.04 2073.37 1517.04 Z\" fill=\"#000000\" fill-rule=\"nonzero\" fill-opacity=\"1\" /><path clip-path=\"url(#clip120)\" d=\"M2095.02 1499.24 Q2092.09 1499.24 2090.6 1502.13 Q2089.13 1505.01 2089.13 1510.8 Q2089.13 1516.58 2090.6 1519.47 Q2092.09 1522.35 2095.02 1522.35 Q2097.97 1522.35 2099.44 1519.47 Q2100.93 1516.58 2100.93 1510.8 Q2100.93 1505.01 2099.44 1502.13 Q2097.97 1499.24 2095.02 1499.24 M2095.02 1496.23 Q2099.74 1496.23 2102.22 1499.97 Q2104.73 1503.69 2104.73 1510.8 Q2104.73 1517.89 2102.22 1521.64 Q2099.74 1525.36 2095.02 1525.36 Q2090.3 1525.36 2087.8 1521.64 Q2085.32 1517.89 2085.32 1510.8 Q2085.32 1503.69 2087.8 1499.97 Q2090.3 1496.23 2095.02 1496.23 Z\" fill=\"#000000\" fill-rule=\"nonzero\" fill-opacity=\"1\" /><path clip-path=\"url(#clip120)\" d=\"M2111.4 1520.04 L2115.37 1520.04 L2115.37 1524.81 L2111.4 1524.81 L2111.4 1520.04 Z\" fill=\"#000000\" fill-rule=\"nonzero\" fill-opacity=\"1\" /><path clip-path=\"url(#clip120)\" d=\"M2123.76 1524.23 L2123.76 1520.77 Q2125.19 1521.45 2126.66 1521.81 Q2128.12 1522.16 2129.53 1522.16 Q2133.29 1522.16 2135.27 1519.64 Q2137.26 1517.1 2137.55 1511.95 Q2136.45 1513.57 2134.78 1514.43 Q2133.11 1515.3 2131.08 1515.3 Q2126.86 1515.3 2124.4 1512.76 Q2121.95 1510.2 2121.95 1505.78 Q2121.95 1501.46 2124.51 1498.84 Q2127.07 1496.23 2131.32 1496.23 Q2136.19 1496.23 2138.75 1499.97 Q2141.33 1503.69 2141.33 1510.8 Q2141.33 1517.44 2138.17 1521.41 Q2135.03 1525.36 2129.7 1525.36 Q2128.27 1525.36 2126.81 1525.08 Q2125.34 1524.8 2123.76 1524.23 M2131.32 1512.33 Q2133.88 1512.33 2135.36 1510.58 Q2136.87 1508.83 2136.87 1505.78 Q2136.87 1502.75 2135.36 1501 Q2133.88 1499.24 2131.32 1499.24 Q2128.76 1499.24 2127.26 1501 Q2125.77 1502.75 2125.77 1505.78 Q2125.77 1508.83 2127.26 1510.58 Q2128.76 1512.33 2131.32 1512.33 Z\" fill=\"#000000\" fill-rule=\"nonzero\" fill-opacity=\"1\" /><polyline clip-path=\"url(#clip120)\" style=\"stroke:#000000; stroke-linecap:round; stroke-linejoin:round; stroke-width:4; stroke-opacity:1; fill:none\" points=\"188.574,1474.16 188.574,47.2441 \"/>\n",
       "<polyline clip-path=\"url(#clip120)\" style=\"stroke:#000000; stroke-linecap:round; stroke-linejoin:round; stroke-width:4; stroke-opacity:1; fill:none\" points=\"188.574,1371.62 207.472,1371.62 \"/>\n",
       "<polyline clip-path=\"url(#clip120)\" style=\"stroke:#000000; stroke-linecap:round; stroke-linejoin:round; stroke-width:4; stroke-opacity:1; fill:none\" points=\"188.574,943.621 207.472,943.621 \"/>\n",
       "<polyline clip-path=\"url(#clip120)\" style=\"stroke:#000000; stroke-linecap:round; stroke-linejoin:round; stroke-width:4; stroke-opacity:1; fill:none\" points=\"188.574,515.625 207.472,515.625 \"/>\n",
       "<polyline clip-path=\"url(#clip120)\" style=\"stroke:#000000; stroke-linecap:round; stroke-linejoin:round; stroke-width:4; stroke-opacity:1; fill:none\" points=\"188.574,87.6286 207.472,87.6286 \"/>\n",
       "<path clip-path=\"url(#clip120)\" d=\"M51.6634 1391.41 L59.3023 1391.41 L59.3023 1365.04 L50.9921 1366.71 L50.9921 1362.45 L59.256 1360.78 L63.9319 1360.78 L63.9319 1391.41 L71.5707 1391.41 L71.5707 1395.34 L51.6634 1395.34 L51.6634 1391.41 Z\" fill=\"#000000\" fill-rule=\"nonzero\" fill-opacity=\"1\" /><path clip-path=\"url(#clip120)\" d=\"M91.0151 1363.86 Q87.404 1363.86 85.5753 1367.43 Q83.7697 1370.97 83.7697 1378.1 Q83.7697 1385.21 85.5753 1388.77 Q87.404 1392.31 91.0151 1392.31 Q94.6493 1392.31 96.4548 1388.77 Q98.2835 1385.21 98.2835 1378.1 Q98.2835 1370.97 96.4548 1367.43 Q94.6493 1363.86 91.0151 1363.86 M91.0151 1360.16 Q96.8252 1360.16 99.8808 1364.77 Q102.959 1369.35 102.959 1378.1 Q102.959 1386.83 99.8808 1391.43 Q96.8252 1396.02 91.0151 1396.02 Q85.2049 1396.02 82.1262 1391.43 Q79.0707 1386.83 79.0707 1378.1 Q79.0707 1369.35 82.1262 1364.77 Q85.2049 1360.16 91.0151 1360.16 Z\" fill=\"#000000\" fill-rule=\"nonzero\" fill-opacity=\"1\" /><path clip-path=\"url(#clip120)\" d=\"M102.959 1354.26 L127.071 1354.26 L127.071 1357.46 L102.959 1357.46 L102.959 1354.26 Z\" fill=\"#000000\" fill-rule=\"nonzero\" fill-opacity=\"1\" /><path clip-path=\"url(#clip120)\" d=\"M146.782 1352.79 Q149.509 1353.38 151.032 1355.22 Q152.574 1357.06 152.574 1359.77 Q152.574 1363.93 149.716 1366.2 Q146.857 1368.48 141.591 1368.48 Q139.823 1368.48 137.942 1368.12 Q136.08 1367.78 134.086 1367.09 L134.086 1363.42 Q135.666 1364.34 137.547 1364.81 Q139.428 1365.28 141.478 1365.28 Q145.051 1365.28 146.913 1363.87 Q148.794 1362.46 148.794 1359.77 Q148.794 1357.29 147.045 1355.9 Q145.315 1354.49 142.211 1354.49 L138.939 1354.49 L138.939 1351.36 L142.362 1351.36 Q145.164 1351.36 146.65 1350.25 Q148.136 1349.13 148.136 1347.02 Q148.136 1344.86 146.593 1343.71 Q145.07 1342.54 142.211 1342.54 Q140.65 1342.54 138.863 1342.88 Q137.077 1343.22 134.933 1343.93 L134.933 1340.55 Q137.096 1339.95 138.976 1339.65 Q140.876 1339.35 142.55 1339.35 Q146.876 1339.35 149.396 1341.32 Q151.916 1343.28 151.916 1346.62 Q151.916 1348.96 150.581 1350.57 Q149.245 1352.17 146.782 1352.79 Z\" fill=\"#000000\" fill-rule=\"nonzero\" fill-opacity=\"1\" /><path clip-path=\"url(#clip120)\" d=\"M52.4345 963.413 L60.0734 963.413 L60.0734 937.047 L51.7632 938.714 L51.7632 934.455 L60.0271 932.788 L64.703 932.788 L64.703 963.413 L72.3418 963.413 L72.3418 967.348 L52.4345 967.348 L52.4345 963.413 Z\" fill=\"#000000\" fill-rule=\"nonzero\" fill-opacity=\"1\" /><path clip-path=\"url(#clip120)\" d=\"M91.7862 935.867 Q88.1751 935.867 86.3464 939.432 Q84.5408 942.973 84.5408 950.103 Q84.5408 957.209 86.3464 960.774 Q88.1751 964.316 91.7862 964.316 Q95.4204 964.316 97.226 960.774 Q99.0547 957.209 99.0547 950.103 Q99.0547 942.973 97.226 939.432 Q95.4204 935.867 91.7862 935.867 M91.7862 932.163 Q97.5963 932.163 100.652 936.77 Q103.731 941.353 103.731 950.103 Q103.731 958.83 100.652 963.436 Q97.5963 968.019 91.7862 968.019 Q85.976 968.019 82.8973 963.436 Q79.8418 958.83 79.8418 950.103 Q79.8418 941.353 82.8973 936.77 Q85.976 932.163 91.7862 932.163 Z\" fill=\"#000000\" fill-rule=\"nonzero\" fill-opacity=\"1\" /><path clip-path=\"url(#clip120)\" d=\"M103.731 926.264 L127.842 926.264 L127.842 929.462 L103.731 929.462 L103.731 926.264 Z\" fill=\"#000000\" fill-rule=\"nonzero\" fill-opacity=\"1\" /><path clip-path=\"url(#clip120)\" d=\"M139.315 936.74 L152.574 936.74 L152.574 939.938 L134.745 939.938 L134.745 936.74 Q136.907 934.502 140.631 930.741 Q144.374 926.96 145.333 925.87 Q147.158 923.819 147.872 922.409 Q148.606 920.98 148.606 919.607 Q148.606 917.368 147.026 915.958 Q145.465 914.547 142.945 914.547 Q141.158 914.547 139.164 915.168 Q137.19 915.789 134.933 917.049 L134.933 913.212 Q137.227 912.29 139.221 911.82 Q141.214 911.35 142.87 911.35 Q147.233 911.35 149.828 913.532 Q152.424 915.713 152.424 919.362 Q152.424 921.092 151.766 922.653 Q151.126 924.196 149.415 926.302 Q148.944 926.848 146.424 929.462 Q143.904 932.057 139.315 936.74 Z\" fill=\"#000000\" fill-rule=\"nonzero\" fill-opacity=\"1\" /><path clip-path=\"url(#clip120)\" d=\"M52.1336 535.417 L59.7725 535.417 L59.7725 509.051 L51.4623 510.718 L51.4623 506.459 L59.7262 504.792 L64.4021 504.792 L64.4021 535.417 L72.0409 535.417 L72.0409 539.352 L52.1336 539.352 L52.1336 535.417 Z\" fill=\"#000000\" fill-rule=\"nonzero\" fill-opacity=\"1\" /><path clip-path=\"url(#clip120)\" d=\"M91.4853 507.871 Q87.8742 507.871 86.0455 511.436 Q84.2399 514.977 84.2399 522.107 Q84.2399 529.213 86.0455 532.778 Q87.8742 536.32 91.4853 536.32 Q95.1195 536.32 96.925 532.778 Q98.7537 529.213 98.7537 522.107 Q98.7537 514.977 96.925 511.436 Q95.1195 507.871 91.4853 507.871 M91.4853 504.167 Q97.2954 504.167 100.351 508.774 Q103.43 513.357 103.43 522.107 Q103.43 530.834 100.351 535.44 Q97.2954 540.023 91.4853 540.023 Q85.6751 540.023 82.5964 535.44 Q79.5409 530.834 79.5409 522.107 Q79.5409 513.357 82.5964 508.774 Q85.6751 504.167 91.4853 504.167 Z\" fill=\"#000000\" fill-rule=\"nonzero\" fill-opacity=\"1\" /><path clip-path=\"url(#clip120)\" d=\"M103.43 498.269 L127.541 498.269 L127.541 501.466 L103.43 501.466 L103.43 498.269 Z\" fill=\"#000000\" fill-rule=\"nonzero\" fill-opacity=\"1\" /><path clip-path=\"url(#clip120)\" d=\"M136.4 508.744 L142.606 508.744 L142.606 487.322 L135.854 488.677 L135.854 485.216 L142.569 483.862 L146.368 483.862 L146.368 508.744 L152.574 508.744 L152.574 511.942 L136.4 511.942 L136.4 508.744 Z\" fill=\"#000000\" fill-rule=\"nonzero\" fill-opacity=\"1\" /><path clip-path=\"url(#clip120)\" d=\"M81.8687 107.421 L89.5075 107.421 L89.5075 81.0555 L81.1974 82.7221 L81.1974 78.4629 L89.4612 76.7962 L94.1371 76.7962 L94.1371 107.421 L101.776 107.421 L101.776 111.356 L81.8687 111.356 L81.8687 107.421 Z\" fill=\"#000000\" fill-rule=\"nonzero\" fill-opacity=\"1\" /><path clip-path=\"url(#clip120)\" d=\"M121.22 79.8749 Q117.609 79.8749 115.781 83.4397 Q113.975 86.9814 113.975 94.111 Q113.975 101.217 115.781 104.782 Q117.609 108.324 121.22 108.324 Q124.855 108.324 126.66 104.782 Q128.489 101.217 128.489 94.111 Q128.489 86.9814 126.66 83.4397 Q124.855 79.8749 121.22 79.8749 M121.22 76.1712 Q127.03 76.1712 130.086 80.7777 Q133.165 85.361 133.165 94.111 Q133.165 102.838 130.086 107.444 Q127.03 112.028 121.22 112.028 Q115.41 112.028 112.331 107.444 Q109.276 102.838 109.276 94.111 Q109.276 85.361 112.331 80.7777 Q115.41 76.1712 121.22 76.1712 Z\" fill=\"#000000\" fill-rule=\"nonzero\" fill-opacity=\"1\" /><path clip-path=\"url(#clip120)\" d=\"M142.87 58.3673 Q139.936 58.3673 138.45 61.2637 Q136.983 64.1413 136.983 69.9341 Q136.983 75.708 138.45 78.6044 Q139.936 81.482 142.87 81.482 Q145.822 81.482 147.289 78.6044 Q148.775 75.708 148.775 69.9341 Q148.775 64.1413 147.289 61.2637 Q145.822 58.3673 142.87 58.3673 M142.87 55.358 Q147.59 55.358 150.073 59.1008 Q152.574 62.8247 152.574 69.9341 Q152.574 77.0246 150.073 80.7673 Q147.59 84.4913 142.87 84.4913 Q138.149 84.4913 135.647 80.7673 Q133.165 77.0246 133.165 69.9341 Q133.165 62.8247 135.647 59.1008 Q138.149 55.358 142.87 55.358 Z\" fill=\"#000000\" fill-rule=\"nonzero\" fill-opacity=\"1\" /><polyline clip-path=\"url(#clip122)\" style=\"stroke:#009af9; stroke-linecap:round; stroke-linejoin:round; stroke-width:4; stroke-opacity:1; fill:none\" points=\"249.825,583.093 864.432,836.765 1223.95,986.748 1479.04,1093.43 1676.9,1176.26 1838.56,1243.98 1975.25,1301.24 2093.65,1350.86 2198.08,1394.62 2291.51,1433.78 \"/>\n",
       "<polyline clip-path=\"url(#clip122)\" style=\"stroke:#e26f46; stroke-linecap:round; stroke-linejoin:round; stroke-width:4; stroke-opacity:1; fill:none\" stroke-dasharray=\"16, 10\" points=\"249.825,87.6286 864.432,216.468 1223.95,291.835 1479.04,345.308 1676.9,386.785 1838.56,420.674 1975.25,449.327 2093.65,474.147 2198.08,496.041 2291.51,515.625 \"/>\n",
       "<polyline clip-path=\"url(#clip122)\" style=\"stroke:#3da44d; stroke-linecap:round; stroke-linejoin:round; stroke-width:4; stroke-opacity:1; fill:none\" stroke-dasharray=\"16, 10\" points=\"249.825,87.6286 864.432,345.308 1223.95,496.041 1479.04,602.987 1676.9,685.941 1838.56,753.72 1975.25,811.026 2093.65,860.666 2198.08,904.453 2291.51,943.621 \"/>\n",
       "<path clip-path=\"url(#clip120)\" d=\"M1952.05 302.168 L2280.62 302.168 L2280.62 94.8081 L1952.05 94.8081  Z\" fill=\"#ffffff\" fill-rule=\"evenodd\" fill-opacity=\"1\"/>\n",
       "<polyline clip-path=\"url(#clip120)\" style=\"stroke:#000000; stroke-linecap:round; stroke-linejoin:round; stroke-width:4; stroke-opacity:1; fill:none\" points=\"1952.05,302.168 2280.62,302.168 2280.62,94.8081 1952.05,94.8081 1952.05,302.168 \"/>\n",
       "<polyline clip-path=\"url(#clip120)\" style=\"stroke:#009af9; stroke-linecap:round; stroke-linejoin:round; stroke-width:4; stroke-opacity:1; fill:none\" points=\"1976.09,146.648 2120.37,146.648 \"/>\n",
       "<path clip-path=\"url(#clip120)\" d=\"M2168.45 149.9 L2168.45 151.984 L2148.86 151.984 Q2149.14 156.382 2151.5 158.697 Q2153.89 160.988 2158.12 160.988 Q2160.58 160.988 2162.87 160.386 Q2165.18 159.785 2167.45 158.581 L2167.45 162.609 Q2165.16 163.581 2162.75 164.09 Q2160.34 164.599 2157.87 164.599 Q2151.66 164.599 2148.03 160.988 Q2144.42 157.377 2144.42 151.22 Q2144.42 144.854 2147.84 141.127 Q2151.29 137.377 2157.13 137.377 Q2162.36 137.377 2165.39 140.757 Q2168.45 144.113 2168.45 149.9 M2164.19 148.65 Q2164.14 145.155 2162.22 143.072 Q2160.32 140.988 2157.17 140.988 Q2153.61 140.988 2151.45 143.002 Q2149.33 145.016 2149 148.674 L2164.19 148.65 Z\" fill=\"#000000\" fill-rule=\"nonzero\" fill-opacity=\"1\" /><path clip-path=\"url(#clip120)\" d=\"M2190.46 141.984 Q2189.74 141.567 2188.89 141.382 Q2188.05 141.174 2187.03 141.174 Q2183.42 141.174 2181.48 143.535 Q2179.56 145.873 2179.56 150.271 L2179.56 163.928 L2175.27 163.928 L2175.27 138.002 L2179.56 138.002 L2179.56 142.03 Q2180.9 139.669 2183.05 138.535 Q2185.2 137.377 2188.28 137.377 Q2188.72 137.377 2189.26 137.447 Q2189.79 137.493 2190.44 137.609 L2190.46 141.984 Z\" fill=\"#000000\" fill-rule=\"nonzero\" fill-opacity=\"1\" /><path clip-path=\"url(#clip120)\" d=\"M2209.12 141.984 Q2208.4 141.567 2207.54 141.382 Q2206.71 141.174 2205.69 141.174 Q2202.08 141.174 2200.14 143.535 Q2198.21 145.873 2198.21 150.271 L2198.21 163.928 L2193.93 163.928 L2193.93 138.002 L2198.21 138.002 L2198.21 142.03 Q2199.56 139.669 2201.71 138.535 Q2203.86 137.377 2206.94 137.377 Q2207.38 137.377 2207.91 137.447 Q2208.45 137.493 2209.09 137.609 L2209.12 141.984 Z\" fill=\"#000000\" fill-rule=\"nonzero\" fill-opacity=\"1\" /><path clip-path=\"url(#clip120)\" d=\"M2222.59 140.988 Q2219.16 140.988 2217.17 143.674 Q2215.18 146.336 2215.18 150.988 Q2215.18 155.641 2217.15 158.326 Q2219.14 160.988 2222.59 160.988 Q2225.99 160.988 2227.98 158.303 Q2229.97 155.618 2229.97 150.988 Q2229.97 146.382 2227.98 143.697 Q2225.99 140.988 2222.59 140.988 M2222.59 137.377 Q2228.14 137.377 2231.32 140.988 Q2234.49 144.6 2234.49 150.988 Q2234.49 157.354 2231.32 160.988 Q2228.14 164.599 2222.59 164.599 Q2217.01 164.599 2213.84 160.988 Q2210.69 157.354 2210.69 150.988 Q2210.69 144.6 2213.84 140.988 Q2217.01 137.377 2222.59 137.377 Z\" fill=\"#000000\" fill-rule=\"nonzero\" fill-opacity=\"1\" /><path clip-path=\"url(#clip120)\" d=\"M2256.57 141.984 Q2255.85 141.567 2255 141.382 Q2254.16 141.174 2253.14 141.174 Q2249.53 141.174 2247.59 143.535 Q2245.67 145.873 2245.67 150.271 L2245.67 163.928 L2241.38 163.928 L2241.38 138.002 L2245.67 138.002 L2245.67 142.03 Q2247.01 139.669 2249.16 138.535 Q2251.32 137.377 2254.39 137.377 Q2254.83 137.377 2255.37 137.447 Q2255.9 137.493 2256.55 137.609 L2256.57 141.984 Z\" fill=\"#000000\" fill-rule=\"nonzero\" fill-opacity=\"1\" /><polyline clip-path=\"url(#clip120)\" style=\"stroke:#e26f46; stroke-linecap:round; stroke-linejoin:round; stroke-width:4; stroke-opacity:1; fill:none\" stroke-dasharray=\"16, 10\" points=\"1976.09,198.488 2120.37,198.488 \"/>\n",
       "<path clip-path=\"url(#clip120)\" d=\"M2166.13 200.12 L2166.13 215.768 L2161.87 215.768 L2161.87 200.259 Q2161.87 196.578 2160.44 194.75 Q2159 192.921 2156.13 192.921 Q2152.68 192.921 2150.69 195.12 Q2148.7 197.319 2148.7 201.115 L2148.7 215.768 L2144.42 215.768 L2144.42 189.842 L2148.7 189.842 L2148.7 193.87 Q2150.23 191.532 2152.29 190.375 Q2154.37 189.217 2157.08 189.217 Q2161.55 189.217 2163.84 191.995 Q2166.13 194.75 2166.13 200.12 Z\" fill=\"#000000\" fill-rule=\"nonzero\" fill-opacity=\"1\" /><path clip-path=\"url(#clip120)\" d=\"M2192.29 181.208 L2204.86 194.102 L2200.2 194.102 L2190.02 184.958 L2179.83 194.102 L2175.18 194.102 L2187.75 181.208 L2192.29 181.208 Z\" fill=\"#000000\" fill-rule=\"nonzero\" fill-opacity=\"1\" /><path clip-path=\"url(#clip120)\" d=\"M2212.2 200.884 L2224.67 200.884 L2224.67 204.68 L2212.2 204.68 L2212.2 200.884 Z\" fill=\"#000000\" fill-rule=\"nonzero\" fill-opacity=\"1\" /><path clip-path=\"url(#clip120)\" d=\"M2232.87 211.833 L2240.51 211.833 L2240.51 185.467 L2232.2 187.134 L2232.2 182.875 L2240.46 181.208 L2245.13 181.208 L2245.13 211.833 L2252.77 211.833 L2252.77 215.768 L2232.87 215.768 L2232.87 211.833 Z\" fill=\"#000000\" fill-rule=\"nonzero\" fill-opacity=\"1\" /><polyline clip-path=\"url(#clip120)\" style=\"stroke:#3da44d; stroke-linecap:round; stroke-linejoin:round; stroke-width:4; stroke-opacity:1; fill:none\" stroke-dasharray=\"16, 10\" points=\"1976.09,250.328 2120.37,250.328 \"/>\n",
       "<path clip-path=\"url(#clip120)\" d=\"M2166.13 251.96 L2166.13 267.608 L2161.87 267.608 L2161.87 252.099 Q2161.87 248.418 2160.44 246.59 Q2159 244.761 2156.13 244.761 Q2152.68 244.761 2150.69 246.96 Q2148.7 249.159 2148.7 252.955 L2148.7 267.608 L2144.42 267.608 L2144.42 241.682 L2148.7 241.682 L2148.7 245.71 Q2150.23 243.372 2152.29 242.215 Q2154.37 241.057 2157.08 241.057 Q2161.55 241.057 2163.84 243.835 Q2166.13 246.59 2166.13 251.96 Z\" fill=\"#000000\" fill-rule=\"nonzero\" fill-opacity=\"1\" /><path clip-path=\"url(#clip120)\" d=\"M2192.29 233.048 L2204.86 245.942 L2200.2 245.942 L2190.02 236.798 L2179.83 245.942 L2175.18 245.942 L2187.75 233.048 L2192.29 233.048 Z\" fill=\"#000000\" fill-rule=\"nonzero\" fill-opacity=\"1\" /><path clip-path=\"url(#clip120)\" d=\"M2212.2 252.724 L2224.67 252.724 L2224.67 256.52 L2212.2 256.52 L2212.2 252.724 Z\" fill=\"#000000\" fill-rule=\"nonzero\" fill-opacity=\"1\" /><path clip-path=\"url(#clip120)\" d=\"M2236.08 263.673 L2252.4 263.673 L2252.4 267.608 L2230.46 267.608 L2230.46 263.673 Q2233.12 260.918 2237.7 256.289 Q2242.31 251.636 2243.49 250.293 Q2245.74 247.77 2246.62 246.034 Q2247.52 244.275 2247.52 242.585 Q2247.52 239.83 2245.57 238.094 Q2243.65 236.358 2240.55 236.358 Q2238.35 236.358 2235.9 237.122 Q2233.47 237.886 2230.69 239.437 L2230.69 234.715 Q2233.51 233.581 2235.97 233.002 Q2238.42 232.423 2240.46 232.423 Q2245.83 232.423 2249.02 235.108 Q2252.22 237.793 2252.22 242.284 Q2252.22 244.414 2251.41 246.335 Q2250.62 248.233 2248.51 250.826 Q2247.94 251.497 2244.83 254.715 Q2241.73 257.909 2236.08 263.673 Z\" fill=\"#000000\" fill-rule=\"nonzero\" fill-opacity=\"1\" /></svg>\n"
      ]
     },
     "execution_count": 9,
     "metadata": {},
     "output_type": "execute_result"
    }
   ],
   "source": [
    "function midpointrule(f, n)\n",
    "    # TODO: implement the mid-point rule\n",
    "    h = 1 / n\n",
    "    ret = 0\n",
    "    for i in 1:n\n",
    "        ret += f((i - 1/2) / n)\n",
    "    end\n",
    "    ret / n\n",
    "end\n",
    "\n",
    "@test midpointrule(exp, 5000) ≈ (exp(1)-1)\n",
    "\n",
    "# TODO: Replace 0 below to set λ to what you conjecture that the convergence rate O(n^(-λ)) is.\n",
    "# Include any experiments/comments to justify your conjecture.\n",
    "λ = 2\n",
    "N = 1e1\n",
    "nanabs = x -> (x == 0 ? NaN : abs(x))\n",
    "plot(1:N, nanabs.(midpointrule.(exp, 1:N) .- (exp(1)-1)); xscale=:log10, yscale=:log10, label=\"error\", yticks=10.0 .^ (-10:1)) # yticks specifies the ticks used on the y-axis\n",
    "plot!(1:N, (1:N) .^ (-1); linestyle=:dash, label=\"n^-1\") # exclamation point means add to existing plot\n",
    "plot!(1:N, (1:N) .^ (-2); linestyle=:dash, label=\"n^-2\")"
   ]
  },
  {
   "cell_type": "markdown",
   "metadata": {},
   "source": [
    "**Problem 2 (B)** Derive a third-order divided difference formula by combining a first-order and second-order divided difference, that\n",
    "evaluates at the points $f(x+2h), f(x+h), f(x),$ and $f(x-h)$.\n",
    "Implement this formula in the following function:"
   ]
  },
  {
   "cell_type": "code",
   "execution_count": 10,
   "metadata": {},
   "outputs": [
    {
     "data": {
      "text/plain": [
       "\u001b[32m\u001b[1mTest Passed\u001b[22m\u001b[39m"
      ]
     },
     "execution_count": 10,
     "metadata": {},
     "output_type": "execute_result"
    }
   ],
   "source": [
    "function thirdorderdivideddifference(f, x, h)\n",
    "    # TODO: approximate f'''(x) by deriving a third-order divided difference formula\n",
    "    (f(x + 2h) - 3f(x + h) + 3f(x) - f(x - h)) / h^3\n",
    "end\n",
    "\n",
    "# We test with BigFloat as the round-off errors in third-order divided differences are too large to get accurate digits:\n",
    "@test thirdorderdivideddifference(x -> cos(x^2), big(1.0), big(0.0000001)) ≈ -12cos(1) + 8sin(1) atol=1E-5"
   ]
  },
  {
   "cell_type": "markdown",
   "metadata": {},
   "source": [
    "**Problem 3 (C)** Add support for `tan` and `acos` (which implements $\\arccos(x)$)  with duals. You may use the provided `cos` and `sin`\n",
    "implementations. Hint: recall that $\\arccos'(x) = -1/\\sqrt{1-x^2}$."
   ]
  },
  {
   "cell_type": "code",
   "execution_count": 11,
   "metadata": {},
   "outputs": [
    {
     "data": {
      "text/plain": [
       "\u001b[32m\u001b[1mTest Passed\u001b[22m\u001b[39m"
      ]
     },
     "execution_count": 11,
     "metadata": {},
     "output_type": "execute_result"
    }
   ],
   "source": [
    "struct Dual\n",
    "    a\n",
    "    b\n",
    "end\n",
    "\n",
    "import Base: tan, acos, cos, sin, /\n",
    "\n",
    "\n",
    "cos(x::Dual) = Dual(cos(x.a), -sin(x.a) * x.b)\n",
    "sin(x::Dual) = Dual(sin(x.a), cos(x.a) * x.b)\n",
    "function /(x::Dual, y::Dual)\n",
    "    if iszero(y.a)\n",
    "        error(\"Division for dual numbers is ill-defined when denonimator real part is zero.\")\n",
    "    end\n",
    "    return Dual(x.a / y.a, (y.a * x.b - x.a * y.b) / y.a^2)\n",
    "end\n",
    "\n",
    "function tan(x::Dual)\n",
    "    # TODO: implement tan for dual numbers\n",
    "    Dual(tan(x.a), x.b / cos(x.a)^2)\n",
    "end\n",
    "\n",
    "function acos(x::Dual)\n",
    "    # TODO: implement acos, i.e. arccos, for dual numbers\n",
    "    Dual(acos(x.a), x.b * (-1 / sqrt(1 - x.a^2)))\n",
    "end\n",
    "\n",
    "@test (tan(acos(Dual(0.1,1)))/cos(Dual(0.1,1))).a ≈ tan(acos(0.1))/cos(0.1)\n",
    "@test (tan(acos(Dual(0.1,1)))/cos(Dual(0.1,1))).b ≈ -((sec(0.1)*(1 + 0.1*(0.1^2-1)*tan(0.1)))/(0.1^2*sqrt(1 - 0.1^2)))"
   ]
  },
  {
   "cell_type": "markdown",
   "metadata": {},
   "source": [
    "**Problem 4 (C)** A `Float16` represents a number of the form $2^{q-15} (1.b_1…b_{10})_2$.\n",
    " Create a function that returns the exponent $q$ of a `Float16` as an `UInt8`. Do not use the\n",
    "built-in `exponent` function. Hint: combine `bitstring` and `parse`."
   ]
  },
  {
   "cell_type": "code",
   "execution_count": 17,
   "metadata": {},
   "outputs": [
    {
     "data": {
      "text/plain": [
       "\u001b[32m\u001b[1mTest Passed\u001b[22m\u001b[39m"
      ]
     },
     "execution_count": 17,
     "metadata": {},
     "output_type": "execute_result"
    }
   ],
   "source": [
    "function floatexponent(x::Float16)\n",
    "    # TODO: return the exponent of x\n",
    "    s = bitstring(x)\n",
    "    parse(UInt8, s[2:6]; base=2)\n",
    "end\n",
    "\n",
    "\n",
    "@test floatexponent(Float16(0.0123)) isa UInt8\n",
    "@test floatexponent(Float16(0.0123)) == 8"
   ]
  },
  {
   "cell_type": "markdown",
   "metadata": {},
   "source": [
    "**Problem 5.1 (C)** Complete the implementation of a function `cos_t(x,n)` computing the\n",
    "first `2n` terms of the Taylor series:\n",
    "$$\n",
    "\\cos\\ x ≈ ∑_{k=0}^n {(-1)^k x^{2k} \\over (2k)!}\n",
    "$$"
   ]
  },
  {
   "cell_type": "code",
   "execution_count": 18,
   "metadata": {},
   "outputs": [
    {
     "data": {
      "text/plain": [
       "\u001b[32m\u001b[1mTest Passed\u001b[22m\u001b[39m"
      ]
     },
     "execution_count": 18,
     "metadata": {},
     "output_type": "execute_result"
    }
   ],
   "source": [
    "function cos_t(x, n)\n",
    "    ret = 1\n",
    "    s = 1\n",
    "    # TODO: Compute the first 2n terms of the Taylor series of cos,\n",
    "    # without using the factorial function.\n",
    "    for k in 1:n\n",
    "        s *= -x^2 / (2k - 1) / (2k)\n",
    "        ret += s\n",
    "    end\n",
    "    ret\n",
    "end\n",
    "\n",
    "@test cos_t(1.0, 10) ≈ cos(1)"
   ]
  },
  {
   "cell_type": "markdown",
   "metadata": {},
   "source": [
    "**Problem 5.2 (B)**  Complete the implementation of a function `cos_bound(x,n)` that\n",
    "includes an error bound on the computation. You may assume $0 ≤ x ≤ 1$."
   ]
  },
  {
   "cell_type": "code",
   "execution_count": 30,
   "metadata": {},
   "outputs": [
    {
     "data": {
      "text/plain": [
       "\u001b[32m\u001b[1mTest Passed\u001b[22m\u001b[39m"
      ]
     },
     "execution_count": 30,
     "metadata": {},
     "output_type": "execute_result"
    }
   ],
   "source": [
    "struct Interval # represents the set [a,b]\n",
    "    a # left endpoint\n",
    "    b # right endpoint\n",
    "end\n",
    "\n",
    "Interval(x) = Interval(x,x) # Support Interval(1) to represent [1,1]\n",
    "\n",
    "import Base: *, +, -, ^, /, one, in\n",
    "\n",
    "in(x, X::Interval) = X.a ≤ x ≤ X.b\n",
    "one(X::Interval) = Interval(one(X.a), one(X.b))\n",
    "function +(X::Interval, Y::Interval)\n",
    "    a,b,c,d = promote(X.a, X.b, Y.a, Y.b) # make sure all are the same type\n",
    "    T = typeof(a)\n",
    "    α = setrounding(T, RoundDown) do\n",
    "        a + c\n",
    "    end\n",
    "    β = setrounding(T, RoundUp) do\n",
    "        b + d\n",
    "    end\n",
    "    Interval(α, β)\n",
    "end\n",
    "function -(X::Interval)\n",
    "    a,b = promote(X.a, X.b)\n",
    "    Interval(-b, -a)\n",
    "end\n",
    "function /(X::Interval, n::Int)\n",
    "    a,b = promote(X.a, X.b)\n",
    "    T = eltype(a)\n",
    "    if n == 0\n",
    "        error(\"Dividing by zero not support\")\n",
    "    end\n",
    "    α = setrounding(T, RoundDown) do\n",
    "        n > 0 ? a / n : b / n\n",
    "    end\n",
    "    β = setrounding(T, RoundUp) do\n",
    "        n > 0 ? b / n : a / n\n",
    "    end\n",
    "    Interval(α, β)\n",
    "end\n",
    "function *(X::Interval, Y::Interval)\n",
    "    a,b,c,d = promote(X.a, X.b, Y.a, Y.b)\n",
    "    T = typeof(a)\n",
    "    if !(a ≤ b && c ≤ d)\n",
    "        error(\"Empty intervals not supported.\")\n",
    "    end\n",
    "    α = setrounding(T, RoundDown) do\n",
    "        min(a*c,a*d,b*c,b*d)\n",
    "    end\n",
    "    β = setrounding(T, RoundUp) do\n",
    "        max(a*c,a*d,b*c,b*d)\n",
    "    end\n",
    "    Interval(α, β)\n",
    "end\n",
    "function ^(X::Interval, k::Int)\n",
    "    if k ≤ 0\n",
    "        error(\"not supported\")\n",
    "    elseif k == 1\n",
    "        X\n",
    "    else\n",
    "        X * X^(k-1)\n",
    "    end\n",
    "end\n",
    "\n",
    "\n",
    "function cos_bound(X::Interval, n)\n",
    "    a,b = promote(X.a, X.b)\n",
    "    T = typeof(a)\n",
    "    if !(0 ≤ a ≤ b ≤ 1)\n",
    "        error(\"Interval must be a subset of [0, 1]\")\n",
    "    end\n",
    "    # TODO: complete the implementation of cosine applied to an interval,\n",
    "    # including the error in truncating the Taylor series.\n",
    "    ret = Interval(1)\n",
    "    s = Interval(1)\n",
    "    for k in 1:n\n",
    "        s *= X^2 / (2k - 1) / (2k) * Interval(-1)\n",
    "        ret = ret + s\n",
    "    end\n",
    "    \n",
    "    err = 1\n",
    "    for i in 2:2n+2\n",
    "        err /= i\n",
    "    end\n",
    "    ret + Interval(-err, err)\n",
    "end\n",
    "\n",
    "@test cos(big(1)) in cos_bound(Interval(1.0), 10)\n",
    "@test cos_bound(Interval(1.0), 10).b - cos_bound(Interval(1.0), 10).a ≤ 1E-14"
   ]
  },
  {
   "cell_type": "markdown",
   "metadata": {},
   "source": [
    "**Problem 6 (B)** Complete the implementation of `LowerTridiagonal` which represents an $n × n$ banded matrix with\n",
    "bandwidths $(l,u) = (2,0)$ by storing only its diagonal, sub-diagonal, and second-sub-diagonal as vectors.\n",
    "Overload `setindex!`, as well as `\\` to solve a lower tridiagonal system in $O(n)$ operations. For simplicity you may assume all numbers are `Float64`."
   ]
  },
  {
   "cell_type": "code",
   "execution_count": 32,
   "metadata": {},
   "outputs": [
    {
     "data": {
      "text/plain": [
       "\u001b[32m\u001b[1mTest Passed\u001b[22m\u001b[39m"
      ]
     },
     "execution_count": 32,
     "metadata": {},
     "output_type": "execute_result"
    }
   ],
   "source": [
    "import Base: getindex, setindex!, size, \\\n",
    "\n",
    "struct LowerTridiagonal <: AbstractMatrix{Float64}\n",
    "    d::Vector{Float64}   # diagonal entries of length n\n",
    "    dl::Vector{Float64}  # sub-diagonal entries of length n-1\n",
    "    dl2::Vector{Float64} # second-sub-diagonal entries of length n-2\n",
    "end\n",
    "\n",
    "size(L::LowerTridiagonal) = (length(L.d),length(L.d))\n",
    "\n",
    "# implements L[k,j]\n",
    "function getindex(L::LowerTridiagonal, k::Int, j::Int)\n",
    "    d, dl, dl2 = L.d, L.dl, L.dl2\n",
    "    if k == j\n",
    "        d[k]\n",
    "    elseif k == j+1\n",
    "        dl[j]\n",
    "    elseif k == j+2\n",
    "        dl2[j]\n",
    "    else\n",
    "        0.0\n",
    "    end\n",
    "end\n",
    "\n",
    "# implements L[k,j] = v\n",
    "function setindex!(L::LowerTridiagonal, v, k::Int, j::Int)\n",
    "    d, dl, dl2 = L.d, L.dl, L.dl2\n",
    "    if j > k || j < k-2\n",
    "        error(\"Cannot modify off-band\")\n",
    "    end\n",
    "    # TODO: set L[k,j] to be equal to v\n",
    "    if k == j\n",
    "        d[k] = v\n",
    "    elseif k == j+1\n",
    "        dl[j] = v\n",
    "    elseif k == j+2\n",
    "        dl2[j] = v\n",
    "    end\n",
    "    \n",
    "end\n",
    "\n",
    "function \\(L::LowerTridiagonal, b::AbstractVector)\n",
    "    m,n = size(L) # we know m == n\n",
    "    if n ≠ length(b)\n",
    "        error(\"Dimensions do not match\")\n",
    "    end\n",
    "    if n < 1\n",
    "        error(\"Empty vectors not supported\")\n",
    "    end\n",
    "    x = zeros(n) # Vector to be populated\n",
    "    # TODO: Populate the vector x so that L*x ≈ b, using O(n) operations.\n",
    "    x[1] = b[1] / L[1, 1]\n",
    "    x[2] = (b[2] - x[1] * L[2, 1]) / L[2, 2]\n",
    "    for i in 3:n\n",
    "        x[i] = (b[i] - x[i - 2] * L[i, i - 2] - x[i - 1] * L[i, i - 1]) / L[i, i]\n",
    "    end\n",
    "    x\n",
    "end\n",
    "\n",
    "n = 10\n",
    "d, dl, dl2 = randn(n), randn(n-1), randn(n-2)\n",
    "L = LowerTridiagonal(d, dl, dl2)\n",
    "@test L == diagm(0 => d, -1 => dl, -2 => dl2)\n",
    "\n",
    "L[3,2] = 4\n",
    "@test L[3,2] == 4\n",
    "\n",
    "b = randn(n)\n",
    "@test L\\b ≈ Matrix(L)\\b"
   ]
  },
  {
   "cell_type": "markdown",
   "metadata": {},
   "source": [
    "**Problem 7 (A)**  Consider the second-order initial value problem\n",
    "$$\n",
    "u(0) = 1, u'(0) = 0, u''(x) = x u(x)\n",
    "$$\n",
    "for $x ∈ [0,1]$. Recast this problem as a linear system involving a `LowerTridiagonal` matrix (as defined in Problem 6)\n",
    "using a finite-difference approximation on the evenly grid $x_0,x_1,…,x_n$\n",
    "where $x_k = k/n$ using the right-sided divided difference to approximate\n",
    "$$\n",
    "u'(0) ≈ {u(h) - u(0) \\over h}\n",
    "$$\n",
    "and the second-order divided difference approximation\n",
    "$$\n",
    "u''(x) ≈ {u(x+h) - 2u(x) + u(x-h) \\over h^2}\n",
    "$$\n",
    "imposed at the grid points $x_1,…,x_{n-1}$."
   ]
  },
  {
   "cell_type": "code",
   "execution_count": 43,
   "metadata": {},
   "outputs": [
    {
     "name": "stdout",
     "output_type": "stream",
     "text": [
      "[1.169644219979078, 1.1701729964927454, 1.1707029384987173, 1.171234047695519, 1.1717663257839, 1.1722997744668406]"
     ]
    },
    {
     "data": {
      "text/plain": [
       "\u001b[32m\u001b[1mTest Passed\u001b[22m\u001b[39m"
      ]
     },
     "execution_count": 43,
     "metadata": {},
     "output_type": "execute_result"
    }
   ],
   "source": [
    "function secondorderairysystem(n)\n",
    "    # TODO: return a LowerTridiagonal matrix representing the differential operator u'' - x*u,\n",
    "    # with the first two rows representing the initial conditions u(0) and u'(0)\n",
    "    x = range(0, 1; length = n + 1)\n",
    "    h = 1 / n\n",
    "    \n",
    "    LowerTridiagonal([1; 1/h; fill(1/h^2, n-1)],\n",
    "                    [-1/h; fill(-2/h^2, n-1) - x[2:n]],\n",
    "                    fill(1/h^2, n-1))\n",
    "end\n",
    "\n",
    "function secondorderairyrhs(n)\n",
    "    # TODO: return the right-hand side corresponding to the above system.\n",
    "    [1; fill(0, n)]\n",
    "end\n",
    "\n",
    "n = 1000\n",
    "@test secondorderairysystem(n) isa LowerTridiagonal\n",
    "u = secondorderairysystem(n) \\ secondorderairyrhs(n)\n",
    "print(u[end-5:end])\n",
    "@test u[end] ≈ 1.1722999700579313 atol=1E-5"
   ]
  },
  {
   "cell_type": "markdown",
   "metadata": {},
   "source": [
    "**Problem 8.1 (B)** Implement the following function that given a real vector $𝐱$ will return a 2 × 2 rotation matrix such that\n",
    "$$\n",
    "Q 𝐱 = \\| 𝐱 \\| 𝐞_2.\n",
    "$$\n",
    "You may assume all numbers are `Float64`."
   ]
  },
  {
   "cell_type": "code",
   "execution_count": 50,
   "metadata": {},
   "outputs": [
    {
     "data": {
      "text/plain": [
       "\u001b[32m\u001b[1mTest Passed\u001b[22m\u001b[39m"
      ]
     },
     "execution_count": 50,
     "metadata": {},
     "output_type": "execute_result"
    }
   ],
   "source": [
    "function rotatedown(x)\n",
    "    if length(x) ≠ 2\n",
    "        error(\"Length must be 2\")\n",
    "    end\n",
    "    # TODO: Create a 2 × 2 rotation matrix Q such that Q*x = [0,norm(x)].\n",
    "    angle = atan(x[1], x[2])\n",
    "    [cos(angle) (-sin(angle));\n",
    "     sin(angle) cos(angle)]\n",
    "\n",
    "end\n",
    "\n",
    "x = randn(2)\n",
    "Q = rotatedown(x)\n",
    "@test Q'Q ≈ I\n",
    "@test det(Q) ≈ 1\n",
    "@test Q*x ≈ [0,norm(x)]"
   ]
  },
  {
   "cell_type": "markdown",
   "metadata": {},
   "source": [
    "**Problem 8.2 (A)** Implement a QL factorisation for a tridiagonal matrix, returning an orthogonal matrix `Q`\n",
    "and `L`  represented as a `LowerTridiagonal` matrix, as defined in Problem 6. You may assume all numbers are `Float64`. Hint: unlike the `bandedqr` implemented in the labs, `Q` may be stored as\n",
    "as a dense matrix. Because of this your solution will likely take $O(n^2)$ operations."
   ]
  },
  {
   "cell_type": "code",
   "execution_count": null,
   "metadata": {},
   "outputs": [],
   "source": [
    "function bandedql(A::Tridiagonal)\n",
    "    n = size(A, 1)\n",
    "    Q = Matrix(1.0I, n, n) # create an n × n identity matrix\n",
    "    L = LowerTridiagonal(zeros(n), zeros(n - 1), zeros(n - 2))\n",
    "\n",
    "    # TODO: Populate Q and L so that Q*L ≈ A in at most O(n^2) operations.\n",
    "\n",
    "    # TODO: Populate Q and R by looping through the columns of A.\n",
    "\n",
    "    # SOLUTION\n",
    "    # In what follows we use both A and R simultaneously, where R\n",
    "    # represents the upper-triangular part of the modified A, up to rows j.\n",
    "    # At each stage we apply the rotation Q_j that introduces a zero\n",
    "    # in the (j+1,j) entry of A.\n",
    "\n",
    "    # To begin with we haven't applied Q so R contains just the first row of A.\n",
    "\n",
    "    L[1:2, 1] = A[1:2, 1]\n",
    "\n",
    "    for j = 1:n-1\n",
    "        # We determine the angle of rotation. Note R contains the updated entries\n",
    "        # on or above the diagonal whilst A containss the unmodified entries below the diagonal.\n",
    "        x_1 = [R[j, j], A[j+1, j]]\n",
    "        Q.θ[j] = atan(x_1[2], x_1[1])\n",
    "        Q_1 = Rotation(-Q.θ[j]) # rotate in opposite direction\n",
    "        # Q satisfies Q*[ R[j,j],A[j+1,j]] = [sqrt(R[j,j]^2+A[j+1,j]^2), 0]\n",
    "        # Or we can just write this as:\n",
    "        R[j, j] = (Q_1 * x_1)[1]\n",
    "\n",
    "        # We now apply this to the rest of the columns to update R.\n",
    "        x_2 = [R[j, j+1]; A[j+1, j+1]]\n",
    "        R[j:j+1, j+1] = Q_1 * x_2\n",
    "\n",
    "        if j < n - 1 # need to avoid going beyond the dimension\n",
    "            # We use the fact that A is banded so there is a 0.\n",
    "            x_3 = [0, A[j+1, j+2]]\n",
    "            R[j:j+1, j+2] = Q_1 * x_3\n",
    "        end\n",
    "    end\n",
    "    # END\n",
    "\n",
    "    Q, L\n",
    "end\n",
    "\n",
    "n = 100\n",
    "A = Tridiagonal(randn(n-1), randn(n), randn(n-1))\n",
    "Q,L = bandedql(A)\n",
    "\n",
    "@test Q'*Q ≈ I\n",
    "@test L isa LowerTridiagonal\n",
    "@test Q*L ≈ A"
   ]
  },
  {
   "cell_type": "markdown",
   "metadata": {},
   "source": [
    "---\n",
    "\n",
    "*This notebook was generated using [Literate.jl](https://github.com/fredrikekre/Literate.jl).*"
   ]
  }
 ],
 "metadata": {
  "kernelspec": {
   "display_name": "Julia 1.11.2",
   "language": "julia",
   "name": "julia-1.11"
  },
  "language_info": {
   "file_extension": ".jl",
   "mimetype": "application/julia",
   "name": "julia",
   "version": "1.11.2"
  }
 },
 "nbformat": 4,
 "nbformat_minor": 4
}
